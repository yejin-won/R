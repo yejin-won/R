{
 "cells": [
  {
   "cell_type": "code",
   "execution_count": 1,
   "id": "9c01651a",
   "metadata": {},
   "outputs": [],
   "source": [
    "# Anaconda Navigator에서 e1071설치"
   ]
  },
  {
   "cell_type": "code",
   "execution_count": 2,
   "id": "03a11496",
   "metadata": {},
   "outputs": [],
   "source": [
    "library(e1071)"
   ]
  },
  {
   "cell_type": "code",
   "execution_count": 26,
   "id": "7696af52",
   "metadata": {},
   "outputs": [],
   "source": [
    "# Sampling, 학습용, 검증용 만들기\n",
    "\n",
    "set.seed(1234)\n",
    "library(caret)\n",
    "\n",
    "# 표준화하기\n",
    "\n",
    "iris.sc <- as.data.frame(scale(iris[,1:4]))\n",
    "iris.sc$Species <- iris$Species\n",
    "\n",
    "samp <- createDataPartition(iris.sc$Species,p=0.7,list=F)\n",
    "data.tr <- iris.sc[samp,]\n",
    "data.test <- iris.sc[-samp,]"
   ]
  },
  {
   "cell_type": "code",
   "execution_count": 27,
   "id": "68f24800",
   "metadata": {},
   "outputs": [],
   "source": [
    "# 문제와 정답 만들기\n",
    "\n",
    "x <- subset(data.test,select=-Species)\n",
    "y <- data.test$Species"
   ]
  },
  {
   "cell_type": "code",
   "execution_count": 28,
   "id": "06c7debf",
   "metadata": {},
   "outputs": [],
   "source": [
    "# 학습시키기\n",
    "\n",
    "model.svm = svm(Species ~.,data=data.tr)"
   ]
  },
  {
   "cell_type": "code",
   "execution_count": 29,
   "id": "3dec3fe3",
   "metadata": {},
   "outputs": [],
   "source": [
    "# 검증하기 \n",
    "\n",
    "pred <- predict(model.svm,x)"
   ]
  },
  {
   "cell_type": "code",
   "execution_count": 30,
   "id": "e523603e",
   "metadata": {},
   "outputs": [
    {
     "data": {
      "text/html": [
       "0.933333333333333"
      ],
      "text/latex": [
       "0.933333333333333"
      ],
      "text/markdown": [
       "0.933333333333333"
      ],
      "text/plain": [
       "[1] 0.9333333"
      ]
     },
     "metadata": {},
     "output_type": "display_data"
    },
    {
     "data": {
      "text/plain": [
       "            y\n",
       "pred         setosa versicolor virginica\n",
       "  setosa         15          0         0\n",
       "  versicolor      0         13         1\n",
       "  virginica       0          2        14"
      ]
     },
     "metadata": {},
     "output_type": "display_data"
    }
   ],
   "source": [
    "# 예측률과 오분류표\n",
    "\n",
    "mean(pred==y)\n",
    "table(pred,y)"
   ]
  },
  {
   "cell_type": "code",
   "execution_count": null,
   "id": "6a7c8efa",
   "metadata": {},
   "outputs": [],
   "source": []
  },
  {
   "cell_type": "code",
   "execution_count": null,
   "id": "1c19433a",
   "metadata": {},
   "outputs": [],
   "source": []
  },
  {
   "cell_type": "code",
   "execution_count": null,
   "id": "8dbf40a7",
   "metadata": {},
   "outputs": [],
   "source": []
  },
  {
   "cell_type": "code",
   "execution_count": null,
   "id": "162ce1e6",
   "metadata": {},
   "outputs": [],
   "source": []
  },
  {
   "cell_type": "code",
   "execution_count": null,
   "id": "46063c2d",
   "metadata": {},
   "outputs": [],
   "source": []
  },
  {
   "cell_type": "code",
   "execution_count": null,
   "id": "5c3952a1",
   "metadata": {},
   "outputs": [],
   "source": []
  },
  {
   "cell_type": "code",
   "execution_count": null,
   "id": "0b1ad08a",
   "metadata": {},
   "outputs": [],
   "source": []
  }
 ],
 "metadata": {
  "kernelspec": {
   "display_name": "R",
   "language": "R",
   "name": "ir"
  },
  "language_info": {
   "codemirror_mode": "r",
   "file_extension": ".r",
   "mimetype": "text/x-r-source",
   "name": "R",
   "pygments_lexer": "r",
   "version": "3.6.1"
  }
 },
 "nbformat": 4,
 "nbformat_minor": 5
}
