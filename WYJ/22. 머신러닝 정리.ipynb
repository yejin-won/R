{
 "cells": [
  {
   "cell_type": "code",
   "execution_count": 1,
   "id": "d28f1367",
   "metadata": {},
   "outputs": [],
   "source": [
    "# 표준화 하기\n",
    "\n",
    "iris.sc <- as.data.frame(scale(iris[,1:4]))\n",
    "iris.sc$Species <- iris$Species"
   ]
  },
  {
   "cell_type": "code",
   "execution_count": 2,
   "id": "f6f255ce",
   "metadata": {},
   "outputs": [
    {
     "name": "stderr",
     "output_type": "stream",
     "text": [
      "Loading required package: lattice\n",
      "Loading required package: ggplot2\n",
      "Registered S3 methods overwritten by 'ggplot2':\n",
      "  method         from \n",
      "  [.quosures     rlang\n",
      "  c.quosures     rlang\n",
      "  print.quosures rlang\n"
     ]
    }
   ],
   "source": [
    "# Sampling, 학습용, 검증용 만들기\n",
    "\n",
    "set.seed(1234)\n",
    "library(caret)\n",
    "\n",
    "samp <- createDataPartition(iris.sc$Species,p=0.7,list=F)\n",
    "data.tr <- iris.sc[samp,]\n",
    "data.test <- iris.sc[-samp,]"
   ]
  },
  {
   "cell_type": "code",
   "execution_count": 3,
   "id": "23f54024",
   "metadata": {},
   "outputs": [],
   "source": [
    "# 문제와 정답만들기\n",
    "\n",
    "x <- subset(data.test,select=-Species)\n",
    "y <- data.test$Species"
   ]
  },
  {
   "cell_type": "code",
   "execution_count": 11,
   "id": "bc53bdaa",
   "metadata": {},
   "outputs": [
    {
     "name": "stdout",
     "output_type": "stream",
     "text": [
      "# weights:  27\n",
      "initial  value 119.595604 \n",
      "iter  10 value 2.506220\n",
      "iter  20 value 0.011567\n",
      "final  value 0.000084 \n",
      "converged\n",
      "# weights:  27\n",
      "initial  value 115.876682 \n",
      "iter  10 value 1.284578\n",
      "iter  20 value 0.027020\n",
      "final  value 0.000089 \n",
      "converged\n",
      "# weights:  27\n",
      "initial  value 125.050879 \n",
      "iter  10 value 5.839651\n",
      "iter  20 value 0.070245\n",
      "iter  30 value 0.001244\n",
      "final  value 0.000067 \n",
      "converged\n",
      "# weights:  27\n",
      "initial  value 127.174272 \n",
      "iter  10 value 2.508049\n",
      "iter  20 value 0.024045\n",
      "iter  30 value 0.001462\n",
      "final  value 0.000061 \n",
      "converged\n",
      "# weights:  27\n",
      "initial  value 125.015627 \n",
      "iter  10 value 2.476547\n",
      "iter  20 value 0.011876\n",
      "final  value 0.000056 \n",
      "converged\n",
      "# weights:  18 (10 variable)\n",
      "initial  value 115.354290 \n",
      "iter  10 value 7.556637\n",
      "iter  20 value 0.042347\n",
      "iter  30 value 0.009210\n",
      "iter  40 value 0.006761\n",
      "iter  50 value 0.003904\n",
      "iter  60 value 0.003512\n",
      "iter  70 value 0.003095\n",
      "iter  80 value 0.002826\n",
      "iter  90 value 0.002781\n",
      "iter 100 value 0.002705\n",
      "final  value 0.002705 \n",
      "stopped after 100 iterations\n",
      "# weights:  18 (10 variable)\n",
      "initial  value 115.354290 \n",
      "iter  10 value 7.556637\n",
      "iter  20 value 0.042347\n",
      "iter  30 value 0.009210\n",
      "iter  40 value 0.006761\n",
      "iter  50 value 0.003904\n",
      "iter  60 value 0.003512\n",
      "iter  70 value 0.003095\n",
      "iter  80 value 0.002826\n",
      "iter  90 value 0.002781\n",
      "iter 100 value 0.002705\n",
      "final  value 0.002705 \n",
      "stopped after 100 iterations\n",
      "# weights:  18 (10 variable)\n",
      "initial  value 115.354290 \n",
      "iter  10 value 7.556637\n",
      "iter  20 value 0.042347\n",
      "iter  30 value 0.009210\n",
      "iter  40 value 0.006761\n",
      "iter  50 value 0.003904\n",
      "iter  60 value 0.003512\n",
      "iter  70 value 0.003095\n",
      "iter  80 value 0.002826\n",
      "iter  90 value 0.002781\n",
      "iter 100 value 0.002705\n",
      "final  value 0.002705 \n",
      "stopped after 100 iterations\n",
      "# weights:  18 (10 variable)\n",
      "initial  value 115.354290 \n",
      "iter  10 value 7.556637\n",
      "iter  20 value 0.042347\n",
      "iter  30 value 0.009210\n",
      "iter  40 value 0.006761\n",
      "iter  50 value 0.003904\n",
      "iter  60 value 0.003512\n",
      "iter  70 value 0.003095\n",
      "iter  80 value 0.002826\n",
      "iter  90 value 0.002781\n",
      "iter 100 value 0.002705\n",
      "final  value 0.002705 \n",
      "stopped after 100 iterations\n",
      "# weights:  18 (10 variable)\n",
      "initial  value 115.354290 \n",
      "iter  10 value 7.556637\n",
      "iter  20 value 0.042347\n",
      "iter  30 value 0.009210\n",
      "iter  40 value 0.006761\n",
      "iter  50 value 0.003904\n",
      "iter  60 value 0.003512\n",
      "iter  70 value 0.003095\n",
      "iter  80 value 0.002826\n",
      "iter  90 value 0.002781\n",
      "iter 100 value 0.002705\n",
      "final  value 0.002705 \n",
      "stopped after 100 iterations\n"
     ]
    }
   ],
   "source": [
    "# 모델 만들어 학습시키기\n",
    "\n",
    "# 1) 인공신경망\n",
    "library(nnet)\n",
    "\n",
    "result.nnet = c()\n",
    "for(i in 1:5){\n",
    "    model.nnet <- nnet(Species~.,data=data.tr,size=3)\n",
    "    pred.nnet <- predict(model.nnet,x,type=\"class\")\n",
    "    result.nnet <- append(result.nnet,mean(pred.nnet==y))\n",
    "}\n",
    "mean.nnet <- mean(result.nnet)\n",
    "\n",
    "# 2) 의사결정나무\n",
    "library(party)\n",
    "\n",
    "result.ctree = c()\n",
    "for(i in 1:5){\n",
    "    model.ctree <- ctree(Species~.,data=data.tr)\n",
    "    pred.ctree <- predict(model.ctree,x)\n",
    "    result.ctree <- append(result.ctree,mean(pred.ctree==y))\n",
    "}\n",
    "mean.ctree <- mean(result.ctree)\n",
    "\n",
    "# 3) RandomForest\n",
    "library(randomForest)\n",
    "\n",
    "result.rf = c()\n",
    "for(i in 1:5){\n",
    "    model.rf <- randomForest(Species~.,data=data.tr,ntree=100)\n",
    "    pred.rf <- predict(model.rf,x)\n",
    "    result.rf <- append(result.rf,mean(pred.rf==y))\n",
    "}\n",
    "mean.rf <- mean(result.rf)\n",
    "\n",
    "# 4) SVM\n",
    "library(e1071)\n",
    "\n",
    "result.svm = c()\n",
    "for(i in 1:5){\n",
    "    model.svm <- svm(Species~.,data=data.tr)\n",
    "    pred.svm <- predict(model.svm,x)\n",
    "    result.svm <- append(result.svm,mean(pred.svm==y))\n",
    "}\n",
    "mean.svm <- mean(result.svm)\n",
    "\n",
    "# 5) 로즈스틱회귀분석\n",
    "\n",
    "result.logR = c()\n",
    "for(i in 1:5){\n",
    "    model.logR <- multinom(Species~.,data=data.tr)\n",
    "    pred.logR <- predict(model.logR,x)\n",
    "    result.logR <- append(result.logR,mean(pred.logR==y))\n",
    "}\n",
    "mean.logR <- mean(result.logR)"
   ]
  },
  {
   "cell_type": "code",
   "execution_count": 10,
   "id": "b553c808",
   "metadata": {},
   "outputs": [
    {
     "data": {
      "text/html": [
       "<table>\n",
       "<thead><tr><th></th><th scope=col>예측력</th></tr></thead>\n",
       "<tbody>\n",
       "\t<tr><th scope=row>인공신경망</th><td>0.9377778</td></tr>\n",
       "\t<tr><th scope=row>의사결정나무</th><td>0.8888889</td></tr>\n",
       "\t<tr><th scope=row>RandomForest</th><td>0.9333333</td></tr>\n",
       "\t<tr><th scope=row>SVM</th><td>0.9333333</td></tr>\n",
       "\t<tr><th scope=row>로지스틱회귀분석</th><td>0.9333333</td></tr>\n",
       "</tbody>\n",
       "</table>\n"
      ],
      "text/latex": [
       "\\begin{tabular}{r|l}\n",
       "  & 예측력\\\\\n",
       "\\hline\n",
       "\t인공신경망 & 0.9377778\\\\\n",
       "\t의사결정나무 & 0.8888889\\\\\n",
       "\tRandomForest & 0.9333333\\\\\n",
       "\tSVM & 0.9333333\\\\\n",
       "\t로지스틱회귀분석 & 0.9333333\\\\\n",
       "\\end{tabular}\n"
      ],
      "text/markdown": [
       "\n",
       "| <!--/--> | 예측력 |\n",
       "|---|---|\n",
       "| 인공신경망 | 0.9377778 |\n",
       "| 의사결정나무 | 0.8888889 |\n",
       "| RandomForest | 0.9333333 |\n",
       "| SVM | 0.9333333 |\n",
       "| 로지스틱회귀분석 | 0.9333333 |\n",
       "\n"
      ],
      "text/plain": [
       "                 예측력   \n",
       "인공신경망       0.9377778\n",
       "의사결정나무     0.8888889\n",
       "RandomForest     0.9333333\n",
       "SVM              0.9333333\n",
       "로지스틱회귀분석 0.9333333"
      ]
     },
     "metadata": {},
     "output_type": "display_data"
    }
   ],
   "source": [
    "MR <- t(data.frame(mean.nnet,mean.ctree,mean.rf,mean.svm,mean.logR))\n",
    "rownames(MR) <- c(\"인공신경망\",\"의사결정나무\",\"RandomForest\",\"SVM\",\"로지스틱회귀분석\")\n",
    "colnames(MR) <- c(\"예측력\")\n",
    "MR"
   ]
  },
  {
   "cell_type": "code",
   "execution_count": 1,
   "id": "630ea3bc",
   "metadata": {},
   "outputs": [
    {
     "name": "stdout",
     "output_type": "stream",
     "text": [
      "'data.frame':\t150 obs. of  5 variables:\n",
      " $ Sepal.Length: num  5.1 4.9 4.7 4.6 5 5.4 4.6 5 4.4 4.9 ...\n",
      " $ Sepal.Width : num  3.5 3 3.2 3.1 3.6 3.9 3.4 3.4 2.9 3.1 ...\n",
      " $ Petal.Length: num  1.4 1.4 1.3 1.5 1.4 1.7 1.4 1.5 1.4 1.5 ...\n",
      " $ Petal.Width : num  0.2 0.2 0.2 0.2 0.2 0.4 0.3 0.2 0.2 0.1 ...\n",
      " $ Species     : Factor w/ 3 levels \"setosa\",\"versicolor\",..: 1 1 1 1 1 1 1 1 1 1 ...\n"
     ]
    }
   ],
   "source": [
    "str(iris)"
   ]
  },
  {
   "cell_type": "code",
   "execution_count": null,
   "id": "3bf4c31e",
   "metadata": {},
   "outputs": [],
   "source": []
  },
  {
   "cell_type": "code",
   "execution_count": null,
   "id": "4ffb4c9d",
   "metadata": {},
   "outputs": [],
   "source": []
  },
  {
   "cell_type": "code",
   "execution_count": null,
   "id": "5d91d05f",
   "metadata": {},
   "outputs": [],
   "source": []
  },
  {
   "cell_type": "code",
   "execution_count": null,
   "id": "c872561b",
   "metadata": {},
   "outputs": [],
   "source": []
  }
 ],
 "metadata": {
  "kernelspec": {
   "display_name": "R",
   "language": "R",
   "name": "ir"
  },
  "language_info": {
   "codemirror_mode": "r",
   "file_extension": ".r",
   "mimetype": "text/x-r-source",
   "name": "R",
   "pygments_lexer": "r",
   "version": "3.6.1"
  }
 },
 "nbformat": 4,
 "nbformat_minor": 5
}
