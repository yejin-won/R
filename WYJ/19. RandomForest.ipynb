{
 "cells": [
  {
   "cell_type": "code",
   "execution_count": 1,
   "id": "c26d9a00",
   "metadata": {},
   "outputs": [],
   "source": [
    "# Ensemble : Model들을 같이 엮어서 사용하는 방법 (Ctree 여러개 묶어쓰는 방법)"
   ]
  },
  {
   "cell_type": "code",
   "execution_count": 2,
   "id": "b3121028",
   "metadata": {},
   "outputs": [
    {
     "name": "stderr",
     "output_type": "stream",
     "text": [
      "randomForest 4.6-14\n",
      "Type rfNews() to see new features/changes/bug fixes.\n"
     ]
    }
   ],
   "source": [
    "library(randomForest)"
   ]
  },
  {
   "cell_type": "code",
   "execution_count": 3,
   "id": "196fcd18",
   "metadata": {},
   "outputs": [
    {
     "name": "stderr",
     "output_type": "stream",
     "text": [
      "Loading required package: lattice\n",
      "Loading required package: ggplot2\n",
      "Registered S3 methods overwritten by 'ggplot2':\n",
      "  method         from \n",
      "  [.quosures     rlang\n",
      "  c.quosures     rlang\n",
      "  print.quosures rlang\n",
      "\n",
      "Attaching package: ‘ggplot2’\n",
      "\n",
      "The following object is masked from ‘package:randomForest’:\n",
      "\n",
      "    margin\n",
      "\n"
     ]
    }
   ],
   "source": [
    "set.seed(1234) # 인공신경망, ctree, RandomForest 중 어느 것이 좋은지 판단하기 위해 랜덤값을 동일하기 위해 적음\n",
    "library(caret)"
   ]
  },
  {
   "cell_type": "code",
   "execution_count": 4,
   "id": "a5bfc74d",
   "metadata": {},
   "outputs": [
    {
     "data": {
      "text/html": [
       "<table>\n",
       "<thead><tr><th scope=col>Resample1</th></tr></thead>\n",
       "<tbody>\n",
       "\t<tr><td> 2</td></tr>\n",
       "\t<tr><td> 3</td></tr>\n",
       "\t<tr><td> 4</td></tr>\n",
       "\t<tr><td> 5</td></tr>\n",
       "\t<tr><td> 6</td></tr>\n",
       "\t<tr><td> 8</td></tr>\n",
       "\t<tr><td> 9</td></tr>\n",
       "\t<tr><td>12</td></tr>\n",
       "\t<tr><td>14</td></tr>\n",
       "\t<tr><td>15</td></tr>\n",
       "\t<tr><td>16</td></tr>\n",
       "\t<tr><td>20</td></tr>\n",
       "\t<tr><td>21</td></tr>\n",
       "\t<tr><td>22</td></tr>\n",
       "\t<tr><td>24</td></tr>\n",
       "\t<tr><td>26</td></tr>\n",
       "\t<tr><td>28</td></tr>\n",
       "\t<tr><td>29</td></tr>\n",
       "\t<tr><td>30</td></tr>\n",
       "\t<tr><td>31</td></tr>\n",
       "\t<tr><td>32</td></tr>\n",
       "\t<tr><td>34</td></tr>\n",
       "\t<tr><td>35</td></tr>\n",
       "\t<tr><td>37</td></tr>\n",
       "\t<tr><td>38</td></tr>\n",
       "\t<tr><td>39</td></tr>\n",
       "\t<tr><td>40</td></tr>\n",
       "\t<tr><td>41</td></tr>\n",
       "\t<tr><td>42</td></tr>\n",
       "\t<tr><td>44</td></tr>\n",
       "\t<tr><td>...</td></tr>\n",
       "\t<tr><td>107</td></tr>\n",
       "\t<tr><td>108</td></tr>\n",
       "\t<tr><td>109</td></tr>\n",
       "\t<tr><td>110</td></tr>\n",
       "\t<tr><td>111</td></tr>\n",
       "\t<tr><td>112</td></tr>\n",
       "\t<tr><td>113</td></tr>\n",
       "\t<tr><td>116</td></tr>\n",
       "\t<tr><td>117</td></tr>\n",
       "\t<tr><td>119</td></tr>\n",
       "\t<tr><td>120</td></tr>\n",
       "\t<tr><td>121</td></tr>\n",
       "\t<tr><td>122</td></tr>\n",
       "\t<tr><td>124</td></tr>\n",
       "\t<tr><td>126</td></tr>\n",
       "\t<tr><td>127</td></tr>\n",
       "\t<tr><td>128</td></tr>\n",
       "\t<tr><td>129</td></tr>\n",
       "\t<tr><td>130</td></tr>\n",
       "\t<tr><td>131</td></tr>\n",
       "\t<tr><td>132</td></tr>\n",
       "\t<tr><td>133</td></tr>\n",
       "\t<tr><td>135</td></tr>\n",
       "\t<tr><td>136</td></tr>\n",
       "\t<tr><td>137</td></tr>\n",
       "\t<tr><td>139</td></tr>\n",
       "\t<tr><td>141</td></tr>\n",
       "\t<tr><td>144</td></tr>\n",
       "\t<tr><td>146</td></tr>\n",
       "\t<tr><td>147</td></tr>\n",
       "</tbody>\n",
       "</table>\n"
      ],
      "text/latex": [
       "\\begin{tabular}{l}\n",
       " Resample1\\\\\n",
       "\\hline\n",
       "\t  2\\\\\n",
       "\t  3\\\\\n",
       "\t  4\\\\\n",
       "\t  5\\\\\n",
       "\t  6\\\\\n",
       "\t  8\\\\\n",
       "\t  9\\\\\n",
       "\t 12\\\\\n",
       "\t 14\\\\\n",
       "\t 15\\\\\n",
       "\t 16\\\\\n",
       "\t 20\\\\\n",
       "\t 21\\\\\n",
       "\t 22\\\\\n",
       "\t 24\\\\\n",
       "\t 26\\\\\n",
       "\t 28\\\\\n",
       "\t 29\\\\\n",
       "\t 30\\\\\n",
       "\t 31\\\\\n",
       "\t 32\\\\\n",
       "\t 34\\\\\n",
       "\t 35\\\\\n",
       "\t 37\\\\\n",
       "\t 38\\\\\n",
       "\t 39\\\\\n",
       "\t 40\\\\\n",
       "\t 41\\\\\n",
       "\t 42\\\\\n",
       "\t 44\\\\\n",
       "\t ...\\\\\n",
       "\t 107\\\\\n",
       "\t 108\\\\\n",
       "\t 109\\\\\n",
       "\t 110\\\\\n",
       "\t 111\\\\\n",
       "\t 112\\\\\n",
       "\t 113\\\\\n",
       "\t 116\\\\\n",
       "\t 117\\\\\n",
       "\t 119\\\\\n",
       "\t 120\\\\\n",
       "\t 121\\\\\n",
       "\t 122\\\\\n",
       "\t 124\\\\\n",
       "\t 126\\\\\n",
       "\t 127\\\\\n",
       "\t 128\\\\\n",
       "\t 129\\\\\n",
       "\t 130\\\\\n",
       "\t 131\\\\\n",
       "\t 132\\\\\n",
       "\t 133\\\\\n",
       "\t 135\\\\\n",
       "\t 136\\\\\n",
       "\t 137\\\\\n",
       "\t 139\\\\\n",
       "\t 141\\\\\n",
       "\t 144\\\\\n",
       "\t 146\\\\\n",
       "\t 147\\\\\n",
       "\\end{tabular}\n"
      ],
      "text/markdown": [
       "\n",
       "| Resample1 |\n",
       "|---|\n",
       "|  2 |\n",
       "|  3 |\n",
       "|  4 |\n",
       "|  5 |\n",
       "|  6 |\n",
       "|  8 |\n",
       "|  9 |\n",
       "| 12 |\n",
       "| 14 |\n",
       "| 15 |\n",
       "| 16 |\n",
       "| 20 |\n",
       "| 21 |\n",
       "| 22 |\n",
       "| 24 |\n",
       "| 26 |\n",
       "| 28 |\n",
       "| 29 |\n",
       "| 30 |\n",
       "| 31 |\n",
       "| 32 |\n",
       "| 34 |\n",
       "| 35 |\n",
       "| 37 |\n",
       "| 38 |\n",
       "| 39 |\n",
       "| 40 |\n",
       "| 41 |\n",
       "| 42 |\n",
       "| 44 |\n",
       "| ... |\n",
       "| 107 |\n",
       "| 108 |\n",
       "| 109 |\n",
       "| 110 |\n",
       "| 111 |\n",
       "| 112 |\n",
       "| 113 |\n",
       "| 116 |\n",
       "| 117 |\n",
       "| 119 |\n",
       "| 120 |\n",
       "| 121 |\n",
       "| 122 |\n",
       "| 124 |\n",
       "| 126 |\n",
       "| 127 |\n",
       "| 128 |\n",
       "| 129 |\n",
       "| 130 |\n",
       "| 131 |\n",
       "| 132 |\n",
       "| 133 |\n",
       "| 135 |\n",
       "| 136 |\n",
       "| 137 |\n",
       "| 139 |\n",
       "| 141 |\n",
       "| 144 |\n",
       "| 146 |\n",
       "| 147 |\n",
       "\n"
      ],
      "text/plain": [
       "      Resample1\n",
       " [1,]  2       \n",
       " [2,]  3       \n",
       " [3,]  4       \n",
       " [4,]  5       \n",
       " [5,]  6       \n",
       " [6,]  8       \n",
       " [7,]  9       \n",
       " [8,] 12       \n",
       " [9,] 14       \n",
       "[10,] 15       \n",
       "[11,] 16       \n",
       "[12,] 20       \n",
       "[13,] 21       \n",
       "[14,] 22       \n",
       "[15,] 24       \n",
       "[16,] 26       \n",
       "[17,] 28       \n",
       "[18,] 29       \n",
       "[19,] 30       \n",
       "[20,] 31       \n",
       "[21,] 32       \n",
       "[22,] 34       \n",
       "[23,] 35       \n",
       "[24,] 37       \n",
       "[25,] 38       \n",
       "[26,] 39       \n",
       "[27,] 40       \n",
       "[28,] 41       \n",
       "[29,] 42       \n",
       "[30,] 44       \n",
       "[31,] ...      \n",
       "[32,] 107      \n",
       "[33,] 108      \n",
       "[34,] 109      \n",
       "[35,] 110      \n",
       "[36,] 111      \n",
       "[37,] 112      \n",
       "[38,] 113      \n",
       "[39,] 116      \n",
       "[40,] 117      \n",
       "[41,] 119      \n",
       "[42,] 120      \n",
       "[43,] 121      \n",
       "[44,] 122      \n",
       "[45,] 124      \n",
       "[46,] 126      \n",
       "[47,] 127      \n",
       "[48,] 128      \n",
       "[49,] 129      \n",
       "[50,] 130      \n",
       "[51,] 131      \n",
       "[52,] 132      \n",
       "[53,] 133      \n",
       "[54,] 135      \n",
       "[55,] 136      \n",
       "[56,] 137      \n",
       "[57,] 139      \n",
       "[58,] 141      \n",
       "[59,] 144      \n",
       "[60,] 146      \n",
       "[61,] 147      "
      ]
     },
     "metadata": {},
     "output_type": "display_data"
    },
    {
     "data": {
      "text/html": [
       "<table>\n",
       "<thead><tr><th></th><th scope=col>Sepal.Length</th><th scope=col>Sepal.Width</th><th scope=col>Petal.Length</th><th scope=col>Petal.Width</th><th scope=col>Species</th></tr></thead>\n",
       "<tbody>\n",
       "\t<tr><th scope=row>2</th><td>4.9   </td><td>3.0   </td><td>1.4   </td><td>0.2   </td><td>setosa</td></tr>\n",
       "\t<tr><th scope=row>3</th><td>4.7   </td><td>3.2   </td><td>1.3   </td><td>0.2   </td><td>setosa</td></tr>\n",
       "\t<tr><th scope=row>4</th><td>4.6   </td><td>3.1   </td><td>1.5   </td><td>0.2   </td><td>setosa</td></tr>\n",
       "\t<tr><th scope=row>5</th><td>5.0   </td><td>3.6   </td><td>1.4   </td><td>0.2   </td><td>setosa</td></tr>\n",
       "\t<tr><th scope=row>6</th><td>5.4   </td><td>3.9   </td><td>1.7   </td><td>0.4   </td><td>setosa</td></tr>\n",
       "\t<tr><th scope=row>8</th><td>5.0   </td><td>3.4   </td><td>1.5   </td><td>0.2   </td><td>setosa</td></tr>\n",
       "\t<tr><th scope=row>9</th><td>4.4   </td><td>2.9   </td><td>1.4   </td><td>0.2   </td><td>setosa</td></tr>\n",
       "\t<tr><th scope=row>12</th><td>4.8   </td><td>3.4   </td><td>1.6   </td><td>0.2   </td><td>setosa</td></tr>\n",
       "\t<tr><th scope=row>14</th><td>4.3   </td><td>3.0   </td><td>1.1   </td><td>0.1   </td><td>setosa</td></tr>\n",
       "\t<tr><th scope=row>15</th><td>5.8   </td><td>4.0   </td><td>1.2   </td><td>0.2   </td><td>setosa</td></tr>\n",
       "\t<tr><th scope=row>16</th><td>5.7   </td><td>4.4   </td><td>1.5   </td><td>0.4   </td><td>setosa</td></tr>\n",
       "\t<tr><th scope=row>20</th><td>5.1   </td><td>3.8   </td><td>1.5   </td><td>0.3   </td><td>setosa</td></tr>\n",
       "\t<tr><th scope=row>21</th><td>5.4   </td><td>3.4   </td><td>1.7   </td><td>0.2   </td><td>setosa</td></tr>\n",
       "\t<tr><th scope=row>22</th><td>5.1   </td><td>3.7   </td><td>1.5   </td><td>0.4   </td><td>setosa</td></tr>\n",
       "\t<tr><th scope=row>24</th><td>5.1   </td><td>3.3   </td><td>1.7   </td><td>0.5   </td><td>setosa</td></tr>\n",
       "\t<tr><th scope=row>26</th><td>5.0   </td><td>3.0   </td><td>1.6   </td><td>0.2   </td><td>setosa</td></tr>\n",
       "\t<tr><th scope=row>28</th><td>5.2   </td><td>3.5   </td><td>1.5   </td><td>0.2   </td><td>setosa</td></tr>\n",
       "\t<tr><th scope=row>29</th><td>5.2   </td><td>3.4   </td><td>1.4   </td><td>0.2   </td><td>setosa</td></tr>\n",
       "\t<tr><th scope=row>30</th><td>4.7   </td><td>3.2   </td><td>1.6   </td><td>0.2   </td><td>setosa</td></tr>\n",
       "\t<tr><th scope=row>31</th><td>4.8   </td><td>3.1   </td><td>1.6   </td><td>0.2   </td><td>setosa</td></tr>\n",
       "\t<tr><th scope=row>32</th><td>5.4   </td><td>3.4   </td><td>1.5   </td><td>0.4   </td><td>setosa</td></tr>\n",
       "\t<tr><th scope=row>34</th><td>5.5   </td><td>4.2   </td><td>1.4   </td><td>0.2   </td><td>setosa</td></tr>\n",
       "\t<tr><th scope=row>35</th><td>4.9   </td><td>3.1   </td><td>1.5   </td><td>0.2   </td><td>setosa</td></tr>\n",
       "\t<tr><th scope=row>37</th><td>5.5   </td><td>3.5   </td><td>1.3   </td><td>0.2   </td><td>setosa</td></tr>\n",
       "\t<tr><th scope=row>38</th><td>4.9   </td><td>3.6   </td><td>1.4   </td><td>0.1   </td><td>setosa</td></tr>\n",
       "\t<tr><th scope=row>39</th><td>4.4   </td><td>3.0   </td><td>1.3   </td><td>0.2   </td><td>setosa</td></tr>\n",
       "\t<tr><th scope=row>40</th><td>5.1   </td><td>3.4   </td><td>1.5   </td><td>0.2   </td><td>setosa</td></tr>\n",
       "\t<tr><th scope=row>41</th><td>5.0   </td><td>3.5   </td><td>1.3   </td><td>0.3   </td><td>setosa</td></tr>\n",
       "\t<tr><th scope=row>42</th><td>4.5   </td><td>2.3   </td><td>1.3   </td><td>0.3   </td><td>setosa</td></tr>\n",
       "\t<tr><th scope=row>44</th><td>5.0   </td><td>3.5   </td><td>1.6   </td><td>0.6   </td><td>setosa</td></tr>\n",
       "\t<tr><th scope=row>...</th><td>...</td><td>...</td><td>...</td><td>...</td><td>...</td></tr>\n",
       "\t<tr><th scope=row>107</th><td>4.9      </td><td>2.5      </td><td>4.5      </td><td>1.7      </td><td>virginica</td></tr>\n",
       "\t<tr><th scope=row>108</th><td>7.3      </td><td>2.9      </td><td>6.3      </td><td>1.8      </td><td>virginica</td></tr>\n",
       "\t<tr><th scope=row>109</th><td>6.7      </td><td>2.5      </td><td>5.8      </td><td>1.8      </td><td>virginica</td></tr>\n",
       "\t<tr><th scope=row>110</th><td>7.2      </td><td>3.6      </td><td>6.1      </td><td>2.5      </td><td>virginica</td></tr>\n",
       "\t<tr><th scope=row>111</th><td>6.5      </td><td>3.2      </td><td>5.1      </td><td>2.0      </td><td>virginica</td></tr>\n",
       "\t<tr><th scope=row>112</th><td>6.4      </td><td>2.7      </td><td>5.3      </td><td>1.9      </td><td>virginica</td></tr>\n",
       "\t<tr><th scope=row>113</th><td>6.8      </td><td>3.0      </td><td>5.5      </td><td>2.1      </td><td>virginica</td></tr>\n",
       "\t<tr><th scope=row>116</th><td>6.4      </td><td>3.2      </td><td>5.3      </td><td>2.3      </td><td>virginica</td></tr>\n",
       "\t<tr><th scope=row>117</th><td>6.5      </td><td>3.0      </td><td>5.5      </td><td>1.8      </td><td>virginica</td></tr>\n",
       "\t<tr><th scope=row>119</th><td>7.7      </td><td>2.6      </td><td>6.9      </td><td>2.3      </td><td>virginica</td></tr>\n",
       "\t<tr><th scope=row>120</th><td>6.0      </td><td>2.2      </td><td>5.0      </td><td>1.5      </td><td>virginica</td></tr>\n",
       "\t<tr><th scope=row>121</th><td>6.9      </td><td>3.2      </td><td>5.7      </td><td>2.3      </td><td>virginica</td></tr>\n",
       "\t<tr><th scope=row>122</th><td>5.6      </td><td>2.8      </td><td>4.9      </td><td>2.0      </td><td>virginica</td></tr>\n",
       "\t<tr><th scope=row>124</th><td>6.3      </td><td>2.7      </td><td>4.9      </td><td>1.8      </td><td>virginica</td></tr>\n",
       "\t<tr><th scope=row>126</th><td>7.2      </td><td>3.2      </td><td>6.0      </td><td>1.8      </td><td>virginica</td></tr>\n",
       "\t<tr><th scope=row>127</th><td>6.2      </td><td>2.8      </td><td>4.8      </td><td>1.8      </td><td>virginica</td></tr>\n",
       "\t<tr><th scope=row>128</th><td>6.1      </td><td>3.0      </td><td>4.9      </td><td>1.8      </td><td>virginica</td></tr>\n",
       "\t<tr><th scope=row>129</th><td>6.4      </td><td>2.8      </td><td>5.6      </td><td>2.1      </td><td>virginica</td></tr>\n",
       "\t<tr><th scope=row>130</th><td>7.2      </td><td>3.0      </td><td>5.8      </td><td>1.6      </td><td>virginica</td></tr>\n",
       "\t<tr><th scope=row>131</th><td>7.4      </td><td>2.8      </td><td>6.1      </td><td>1.9      </td><td>virginica</td></tr>\n",
       "\t<tr><th scope=row>132</th><td>7.9      </td><td>3.8      </td><td>6.4      </td><td>2.0      </td><td>virginica</td></tr>\n",
       "\t<tr><th scope=row>133</th><td>6.4      </td><td>2.8      </td><td>5.6      </td><td>2.2      </td><td>virginica</td></tr>\n",
       "\t<tr><th scope=row>135</th><td>6.1      </td><td>2.6      </td><td>5.6      </td><td>1.4      </td><td>virginica</td></tr>\n",
       "\t<tr><th scope=row>136</th><td>7.7      </td><td>3.0      </td><td>6.1      </td><td>2.3      </td><td>virginica</td></tr>\n",
       "\t<tr><th scope=row>137</th><td>6.3      </td><td>3.4      </td><td>5.6      </td><td>2.4      </td><td>virginica</td></tr>\n",
       "\t<tr><th scope=row>139</th><td>6.0      </td><td>3.0      </td><td>4.8      </td><td>1.8      </td><td>virginica</td></tr>\n",
       "\t<tr><th scope=row>141</th><td>6.7      </td><td>3.1      </td><td>5.6      </td><td>2.4      </td><td>virginica</td></tr>\n",
       "\t<tr><th scope=row>144</th><td>6.8      </td><td>3.2      </td><td>5.9      </td><td>2.3      </td><td>virginica</td></tr>\n",
       "\t<tr><th scope=row>146</th><td>6.7      </td><td>3.0      </td><td>5.2      </td><td>2.3      </td><td>virginica</td></tr>\n",
       "\t<tr><th scope=row>147</th><td>6.3      </td><td>2.5      </td><td>5.0      </td><td>1.9      </td><td>virginica</td></tr>\n",
       "</tbody>\n",
       "</table>\n"
      ],
      "text/latex": [
       "\\begin{tabular}{r|lllll}\n",
       "  & Sepal.Length & Sepal.Width & Petal.Length & Petal.Width & Species\\\\\n",
       "\\hline\n",
       "\t2 & 4.9    & 3.0    & 1.4    & 0.2    & setosa\\\\\n",
       "\t3 & 4.7    & 3.2    & 1.3    & 0.2    & setosa\\\\\n",
       "\t4 & 4.6    & 3.1    & 1.5    & 0.2    & setosa\\\\\n",
       "\t5 & 5.0    & 3.6    & 1.4    & 0.2    & setosa\\\\\n",
       "\t6 & 5.4    & 3.9    & 1.7    & 0.4    & setosa\\\\\n",
       "\t8 & 5.0    & 3.4    & 1.5    & 0.2    & setosa\\\\\n",
       "\t9 & 4.4    & 2.9    & 1.4    & 0.2    & setosa\\\\\n",
       "\t12 & 4.8    & 3.4    & 1.6    & 0.2    & setosa\\\\\n",
       "\t14 & 4.3    & 3.0    & 1.1    & 0.1    & setosa\\\\\n",
       "\t15 & 5.8    & 4.0    & 1.2    & 0.2    & setosa\\\\\n",
       "\t16 & 5.7    & 4.4    & 1.5    & 0.4    & setosa\\\\\n",
       "\t20 & 5.1    & 3.8    & 1.5    & 0.3    & setosa\\\\\n",
       "\t21 & 5.4    & 3.4    & 1.7    & 0.2    & setosa\\\\\n",
       "\t22 & 5.1    & 3.7    & 1.5    & 0.4    & setosa\\\\\n",
       "\t24 & 5.1    & 3.3    & 1.7    & 0.5    & setosa\\\\\n",
       "\t26 & 5.0    & 3.0    & 1.6    & 0.2    & setosa\\\\\n",
       "\t28 & 5.2    & 3.5    & 1.5    & 0.2    & setosa\\\\\n",
       "\t29 & 5.2    & 3.4    & 1.4    & 0.2    & setosa\\\\\n",
       "\t30 & 4.7    & 3.2    & 1.6    & 0.2    & setosa\\\\\n",
       "\t31 & 4.8    & 3.1    & 1.6    & 0.2    & setosa\\\\\n",
       "\t32 & 5.4    & 3.4    & 1.5    & 0.4    & setosa\\\\\n",
       "\t34 & 5.5    & 4.2    & 1.4    & 0.2    & setosa\\\\\n",
       "\t35 & 4.9    & 3.1    & 1.5    & 0.2    & setosa\\\\\n",
       "\t37 & 5.5    & 3.5    & 1.3    & 0.2    & setosa\\\\\n",
       "\t38 & 4.9    & 3.6    & 1.4    & 0.1    & setosa\\\\\n",
       "\t39 & 4.4    & 3.0    & 1.3    & 0.2    & setosa\\\\\n",
       "\t40 & 5.1    & 3.4    & 1.5    & 0.2    & setosa\\\\\n",
       "\t41 & 5.0    & 3.5    & 1.3    & 0.3    & setosa\\\\\n",
       "\t42 & 4.5    & 2.3    & 1.3    & 0.3    & setosa\\\\\n",
       "\t44 & 5.0    & 3.5    & 1.6    & 0.6    & setosa\\\\\n",
       "\t... & ... & ... & ... & ... & ...\\\\\n",
       "\t107 & 4.9       & 2.5       & 4.5       & 1.7       & virginica\\\\\n",
       "\t108 & 7.3       & 2.9       & 6.3       & 1.8       & virginica\\\\\n",
       "\t109 & 6.7       & 2.5       & 5.8       & 1.8       & virginica\\\\\n",
       "\t110 & 7.2       & 3.6       & 6.1       & 2.5       & virginica\\\\\n",
       "\t111 & 6.5       & 3.2       & 5.1       & 2.0       & virginica\\\\\n",
       "\t112 & 6.4       & 2.7       & 5.3       & 1.9       & virginica\\\\\n",
       "\t113 & 6.8       & 3.0       & 5.5       & 2.1       & virginica\\\\\n",
       "\t116 & 6.4       & 3.2       & 5.3       & 2.3       & virginica\\\\\n",
       "\t117 & 6.5       & 3.0       & 5.5       & 1.8       & virginica\\\\\n",
       "\t119 & 7.7       & 2.6       & 6.9       & 2.3       & virginica\\\\\n",
       "\t120 & 6.0       & 2.2       & 5.0       & 1.5       & virginica\\\\\n",
       "\t121 & 6.9       & 3.2       & 5.7       & 2.3       & virginica\\\\\n",
       "\t122 & 5.6       & 2.8       & 4.9       & 2.0       & virginica\\\\\n",
       "\t124 & 6.3       & 2.7       & 4.9       & 1.8       & virginica\\\\\n",
       "\t126 & 7.2       & 3.2       & 6.0       & 1.8       & virginica\\\\\n",
       "\t127 & 6.2       & 2.8       & 4.8       & 1.8       & virginica\\\\\n",
       "\t128 & 6.1       & 3.0       & 4.9       & 1.8       & virginica\\\\\n",
       "\t129 & 6.4       & 2.8       & 5.6       & 2.1       & virginica\\\\\n",
       "\t130 & 7.2       & 3.0       & 5.8       & 1.6       & virginica\\\\\n",
       "\t131 & 7.4       & 2.8       & 6.1       & 1.9       & virginica\\\\\n",
       "\t132 & 7.9       & 3.8       & 6.4       & 2.0       & virginica\\\\\n",
       "\t133 & 6.4       & 2.8       & 5.6       & 2.2       & virginica\\\\\n",
       "\t135 & 6.1       & 2.6       & 5.6       & 1.4       & virginica\\\\\n",
       "\t136 & 7.7       & 3.0       & 6.1       & 2.3       & virginica\\\\\n",
       "\t137 & 6.3       & 3.4       & 5.6       & 2.4       & virginica\\\\\n",
       "\t139 & 6.0       & 3.0       & 4.8       & 1.8       & virginica\\\\\n",
       "\t141 & 6.7       & 3.1       & 5.6       & 2.4       & virginica\\\\\n",
       "\t144 & 6.8       & 3.2       & 5.9       & 2.3       & virginica\\\\\n",
       "\t146 & 6.7       & 3.0       & 5.2       & 2.3       & virginica\\\\\n",
       "\t147 & 6.3       & 2.5       & 5.0       & 1.9       & virginica\\\\\n",
       "\\end{tabular}\n"
      ],
      "text/markdown": [
       "\n",
       "| <!--/--> | Sepal.Length | Sepal.Width | Petal.Length | Petal.Width | Species |\n",
       "|---|---|---|---|---|---|\n",
       "| 2 | 4.9    | 3.0    | 1.4    | 0.2    | setosa |\n",
       "| 3 | 4.7    | 3.2    | 1.3    | 0.2    | setosa |\n",
       "| 4 | 4.6    | 3.1    | 1.5    | 0.2    | setosa |\n",
       "| 5 | 5.0    | 3.6    | 1.4    | 0.2    | setosa |\n",
       "| 6 | 5.4    | 3.9    | 1.7    | 0.4    | setosa |\n",
       "| 8 | 5.0    | 3.4    | 1.5    | 0.2    | setosa |\n",
       "| 9 | 4.4    | 2.9    | 1.4    | 0.2    | setosa |\n",
       "| 12 | 4.8    | 3.4    | 1.6    | 0.2    | setosa |\n",
       "| 14 | 4.3    | 3.0    | 1.1    | 0.1    | setosa |\n",
       "| 15 | 5.8    | 4.0    | 1.2    | 0.2    | setosa |\n",
       "| 16 | 5.7    | 4.4    | 1.5    | 0.4    | setosa |\n",
       "| 20 | 5.1    | 3.8    | 1.5    | 0.3    | setosa |\n",
       "| 21 | 5.4    | 3.4    | 1.7    | 0.2    | setosa |\n",
       "| 22 | 5.1    | 3.7    | 1.5    | 0.4    | setosa |\n",
       "| 24 | 5.1    | 3.3    | 1.7    | 0.5    | setosa |\n",
       "| 26 | 5.0    | 3.0    | 1.6    | 0.2    | setosa |\n",
       "| 28 | 5.2    | 3.5    | 1.5    | 0.2    | setosa |\n",
       "| 29 | 5.2    | 3.4    | 1.4    | 0.2    | setosa |\n",
       "| 30 | 4.7    | 3.2    | 1.6    | 0.2    | setosa |\n",
       "| 31 | 4.8    | 3.1    | 1.6    | 0.2    | setosa |\n",
       "| 32 | 5.4    | 3.4    | 1.5    | 0.4    | setosa |\n",
       "| 34 | 5.5    | 4.2    | 1.4    | 0.2    | setosa |\n",
       "| 35 | 4.9    | 3.1    | 1.5    | 0.2    | setosa |\n",
       "| 37 | 5.5    | 3.5    | 1.3    | 0.2    | setosa |\n",
       "| 38 | 4.9    | 3.6    | 1.4    | 0.1    | setosa |\n",
       "| 39 | 4.4    | 3.0    | 1.3    | 0.2    | setosa |\n",
       "| 40 | 5.1    | 3.4    | 1.5    | 0.2    | setosa |\n",
       "| 41 | 5.0    | 3.5    | 1.3    | 0.3    | setosa |\n",
       "| 42 | 4.5    | 2.3    | 1.3    | 0.3    | setosa |\n",
       "| 44 | 5.0    | 3.5    | 1.6    | 0.6    | setosa |\n",
       "| ... | ... | ... | ... | ... | ... |\n",
       "| 107 | 4.9       | 2.5       | 4.5       | 1.7       | virginica |\n",
       "| 108 | 7.3       | 2.9       | 6.3       | 1.8       | virginica |\n",
       "| 109 | 6.7       | 2.5       | 5.8       | 1.8       | virginica |\n",
       "| 110 | 7.2       | 3.6       | 6.1       | 2.5       | virginica |\n",
       "| 111 | 6.5       | 3.2       | 5.1       | 2.0       | virginica |\n",
       "| 112 | 6.4       | 2.7       | 5.3       | 1.9       | virginica |\n",
       "| 113 | 6.8       | 3.0       | 5.5       | 2.1       | virginica |\n",
       "| 116 | 6.4       | 3.2       | 5.3       | 2.3       | virginica |\n",
       "| 117 | 6.5       | 3.0       | 5.5       | 1.8       | virginica |\n",
       "| 119 | 7.7       | 2.6       | 6.9       | 2.3       | virginica |\n",
       "| 120 | 6.0       | 2.2       | 5.0       | 1.5       | virginica |\n",
       "| 121 | 6.9       | 3.2       | 5.7       | 2.3       | virginica |\n",
       "| 122 | 5.6       | 2.8       | 4.9       | 2.0       | virginica |\n",
       "| 124 | 6.3       | 2.7       | 4.9       | 1.8       | virginica |\n",
       "| 126 | 7.2       | 3.2       | 6.0       | 1.8       | virginica |\n",
       "| 127 | 6.2       | 2.8       | 4.8       | 1.8       | virginica |\n",
       "| 128 | 6.1       | 3.0       | 4.9       | 1.8       | virginica |\n",
       "| 129 | 6.4       | 2.8       | 5.6       | 2.1       | virginica |\n",
       "| 130 | 7.2       | 3.0       | 5.8       | 1.6       | virginica |\n",
       "| 131 | 7.4       | 2.8       | 6.1       | 1.9       | virginica |\n",
       "| 132 | 7.9       | 3.8       | 6.4       | 2.0       | virginica |\n",
       "| 133 | 6.4       | 2.8       | 5.6       | 2.2       | virginica |\n",
       "| 135 | 6.1       | 2.6       | 5.6       | 1.4       | virginica |\n",
       "| 136 | 7.7       | 3.0       | 6.1       | 2.3       | virginica |\n",
       "| 137 | 6.3       | 3.4       | 5.6       | 2.4       | virginica |\n",
       "| 139 | 6.0       | 3.0       | 4.8       | 1.8       | virginica |\n",
       "| 141 | 6.7       | 3.1       | 5.6       | 2.4       | virginica |\n",
       "| 144 | 6.8       | 3.2       | 5.9       | 2.3       | virginica |\n",
       "| 146 | 6.7       | 3.0       | 5.2       | 2.3       | virginica |\n",
       "| 147 | 6.3       | 2.5       | 5.0       | 1.9       | virginica |\n",
       "\n"
      ],
      "text/plain": [
       "    Sepal.Length Sepal.Width Petal.Length Petal.Width Species  \n",
       "2   4.9          3.0         1.4          0.2         setosa   \n",
       "3   4.7          3.2         1.3          0.2         setosa   \n",
       "4   4.6          3.1         1.5          0.2         setosa   \n",
       "5   5.0          3.6         1.4          0.2         setosa   \n",
       "6   5.4          3.9         1.7          0.4         setosa   \n",
       "8   5.0          3.4         1.5          0.2         setosa   \n",
       "9   4.4          2.9         1.4          0.2         setosa   \n",
       "12  4.8          3.4         1.6          0.2         setosa   \n",
       "14  4.3          3.0         1.1          0.1         setosa   \n",
       "15  5.8          4.0         1.2          0.2         setosa   \n",
       "16  5.7          4.4         1.5          0.4         setosa   \n",
       "20  5.1          3.8         1.5          0.3         setosa   \n",
       "21  5.4          3.4         1.7          0.2         setosa   \n",
       "22  5.1          3.7         1.5          0.4         setosa   \n",
       "24  5.1          3.3         1.7          0.5         setosa   \n",
       "26  5.0          3.0         1.6          0.2         setosa   \n",
       "28  5.2          3.5         1.5          0.2         setosa   \n",
       "29  5.2          3.4         1.4          0.2         setosa   \n",
       "30  4.7          3.2         1.6          0.2         setosa   \n",
       "31  4.8          3.1         1.6          0.2         setosa   \n",
       "32  5.4          3.4         1.5          0.4         setosa   \n",
       "34  5.5          4.2         1.4          0.2         setosa   \n",
       "35  4.9          3.1         1.5          0.2         setosa   \n",
       "37  5.5          3.5         1.3          0.2         setosa   \n",
       "38  4.9          3.6         1.4          0.1         setosa   \n",
       "39  4.4          3.0         1.3          0.2         setosa   \n",
       "40  5.1          3.4         1.5          0.2         setosa   \n",
       "41  5.0          3.5         1.3          0.3         setosa   \n",
       "42  4.5          2.3         1.3          0.3         setosa   \n",
       "44  5.0          3.5         1.6          0.6         setosa   \n",
       "... ...          ...         ...          ...         ...      \n",
       "107 4.9          2.5         4.5          1.7         virginica\n",
       "108 7.3          2.9         6.3          1.8         virginica\n",
       "109 6.7          2.5         5.8          1.8         virginica\n",
       "110 7.2          3.6         6.1          2.5         virginica\n",
       "111 6.5          3.2         5.1          2.0         virginica\n",
       "112 6.4          2.7         5.3          1.9         virginica\n",
       "113 6.8          3.0         5.5          2.1         virginica\n",
       "116 6.4          3.2         5.3          2.3         virginica\n",
       "117 6.5          3.0         5.5          1.8         virginica\n",
       "119 7.7          2.6         6.9          2.3         virginica\n",
       "120 6.0          2.2         5.0          1.5         virginica\n",
       "121 6.9          3.2         5.7          2.3         virginica\n",
       "122 5.6          2.8         4.9          2.0         virginica\n",
       "124 6.3          2.7         4.9          1.8         virginica\n",
       "126 7.2          3.2         6.0          1.8         virginica\n",
       "127 6.2          2.8         4.8          1.8         virginica\n",
       "128 6.1          3.0         4.9          1.8         virginica\n",
       "129 6.4          2.8         5.6          2.1         virginica\n",
       "130 7.2          3.0         5.8          1.6         virginica\n",
       "131 7.4          2.8         6.1          1.9         virginica\n",
       "132 7.9          3.8         6.4          2.0         virginica\n",
       "133 6.4          2.8         5.6          2.2         virginica\n",
       "135 6.1          2.6         5.6          1.4         virginica\n",
       "136 7.7          3.0         6.1          2.3         virginica\n",
       "137 6.3          3.4         5.6          2.4         virginica\n",
       "139 6.0          3.0         4.8          1.8         virginica\n",
       "141 6.7          3.1         5.6          2.4         virginica\n",
       "144 6.8          3.2         5.9          2.3         virginica\n",
       "146 6.7          3.0         5.2          2.3         virginica\n",
       "147 6.3          2.5         5.0          1.9         virginica"
      ]
     },
     "metadata": {},
     "output_type": "display_data"
    },
    {
     "data": {
      "text/html": [
       "<table>\n",
       "<thead><tr><th></th><th scope=col>Sepal.Length</th><th scope=col>Sepal.Width</th><th scope=col>Petal.Length</th><th scope=col>Petal.Width</th><th scope=col>Species</th></tr></thead>\n",
       "<tbody>\n",
       "\t<tr><th scope=row>1</th><td>5.1       </td><td>3.5       </td><td>1.4       </td><td>0.2       </td><td>setosa    </td></tr>\n",
       "\t<tr><th scope=row>7</th><td>4.6       </td><td>3.4       </td><td>1.4       </td><td>0.3       </td><td>setosa    </td></tr>\n",
       "\t<tr><th scope=row>10</th><td>4.9       </td><td>3.1       </td><td>1.5       </td><td>0.1       </td><td>setosa    </td></tr>\n",
       "\t<tr><th scope=row>11</th><td>5.4       </td><td>3.7       </td><td>1.5       </td><td>0.2       </td><td>setosa    </td></tr>\n",
       "\t<tr><th scope=row>13</th><td>4.8       </td><td>3.0       </td><td>1.4       </td><td>0.1       </td><td>setosa    </td></tr>\n",
       "\t<tr><th scope=row>17</th><td>5.4       </td><td>3.9       </td><td>1.3       </td><td>0.4       </td><td>setosa    </td></tr>\n",
       "\t<tr><th scope=row>18</th><td>5.1       </td><td>3.5       </td><td>1.4       </td><td>0.3       </td><td>setosa    </td></tr>\n",
       "\t<tr><th scope=row>19</th><td>5.7       </td><td>3.8       </td><td>1.7       </td><td>0.3       </td><td>setosa    </td></tr>\n",
       "\t<tr><th scope=row>23</th><td>4.6       </td><td>3.6       </td><td>1.0       </td><td>0.2       </td><td>setosa    </td></tr>\n",
       "\t<tr><th scope=row>25</th><td>4.8       </td><td>3.4       </td><td>1.9       </td><td>0.2       </td><td>setosa    </td></tr>\n",
       "\t<tr><th scope=row>27</th><td>5.0       </td><td>3.4       </td><td>1.6       </td><td>0.4       </td><td>setosa    </td></tr>\n",
       "\t<tr><th scope=row>33</th><td>5.2       </td><td>4.1       </td><td>1.5       </td><td>0.1       </td><td>setosa    </td></tr>\n",
       "\t<tr><th scope=row>36</th><td>5.0       </td><td>3.2       </td><td>1.2       </td><td>0.2       </td><td>setosa    </td></tr>\n",
       "\t<tr><th scope=row>43</th><td>4.4       </td><td>3.2       </td><td>1.3       </td><td>0.2       </td><td>setosa    </td></tr>\n",
       "\t<tr><th scope=row>45</th><td>5.1       </td><td>3.8       </td><td>1.9       </td><td>0.4       </td><td>setosa    </td></tr>\n",
       "\t<tr><th scope=row>51</th><td>7.0       </td><td>3.2       </td><td>4.7       </td><td>1.4       </td><td>versicolor</td></tr>\n",
       "\t<tr><th scope=row>54</th><td>5.5       </td><td>2.3       </td><td>4.0       </td><td>1.3       </td><td>versicolor</td></tr>\n",
       "\t<tr><th scope=row>55</th><td>6.5       </td><td>2.8       </td><td>4.6       </td><td>1.5       </td><td>versicolor</td></tr>\n",
       "\t<tr><th scope=row>57</th><td>6.3       </td><td>3.3       </td><td>4.7       </td><td>1.6       </td><td>versicolor</td></tr>\n",
       "\t<tr><th scope=row>61</th><td>5.0       </td><td>2.0       </td><td>3.5       </td><td>1.0       </td><td>versicolor</td></tr>\n",
       "\t<tr><th scope=row>64</th><td>6.1       </td><td>2.9       </td><td>4.7       </td><td>1.4       </td><td>versicolor</td></tr>\n",
       "\t<tr><th scope=row>70</th><td>5.6       </td><td>2.5       </td><td>3.9       </td><td>1.1       </td><td>versicolor</td></tr>\n",
       "\t<tr><th scope=row>71</th><td>5.9       </td><td>3.2       </td><td>4.8       </td><td>1.8       </td><td>versicolor</td></tr>\n",
       "\t<tr><th scope=row>74</th><td>6.1       </td><td>2.8       </td><td>4.7       </td><td>1.2       </td><td>versicolor</td></tr>\n",
       "\t<tr><th scope=row>77</th><td>6.8       </td><td>2.8       </td><td>4.8       </td><td>1.4       </td><td>versicolor</td></tr>\n",
       "\t<tr><th scope=row>78</th><td>6.7       </td><td>3.0       </td><td>5.0       </td><td>1.7       </td><td>versicolor</td></tr>\n",
       "\t<tr><th scope=row>81</th><td>5.5       </td><td>2.4       </td><td>3.8       </td><td>1.1       </td><td>versicolor</td></tr>\n",
       "\t<tr><th scope=row>83</th><td>5.8       </td><td>2.7       </td><td>3.9       </td><td>1.2       </td><td>versicolor</td></tr>\n",
       "\t<tr><th scope=row>84</th><td>6.0       </td><td>2.7       </td><td>5.1       </td><td>1.6       </td><td>versicolor</td></tr>\n",
       "\t<tr><th scope=row>94</th><td>5.0       </td><td>2.3       </td><td>3.3       </td><td>1.0       </td><td>versicolor</td></tr>\n",
       "\t<tr><th scope=row>105</th><td>6.5       </td><td>3.0       </td><td>5.8       </td><td>2.2       </td><td>virginica </td></tr>\n",
       "\t<tr><th scope=row>114</th><td>5.7       </td><td>2.5       </td><td>5.0       </td><td>2.0       </td><td>virginica </td></tr>\n",
       "\t<tr><th scope=row>115</th><td>5.8       </td><td>2.8       </td><td>5.1       </td><td>2.4       </td><td>virginica </td></tr>\n",
       "\t<tr><th scope=row>118</th><td>7.7       </td><td>3.8       </td><td>6.7       </td><td>2.2       </td><td>virginica </td></tr>\n",
       "\t<tr><th scope=row>123</th><td>7.7       </td><td>2.8       </td><td>6.7       </td><td>2.0       </td><td>virginica </td></tr>\n",
       "\t<tr><th scope=row>125</th><td>6.7       </td><td>3.3       </td><td>5.7       </td><td>2.1       </td><td>virginica </td></tr>\n",
       "\t<tr><th scope=row>134</th><td>6.3       </td><td>2.8       </td><td>5.1       </td><td>1.5       </td><td>virginica </td></tr>\n",
       "\t<tr><th scope=row>138</th><td>6.4       </td><td>3.1       </td><td>5.5       </td><td>1.8       </td><td>virginica </td></tr>\n",
       "\t<tr><th scope=row>140</th><td>6.9       </td><td>3.1       </td><td>5.4       </td><td>2.1       </td><td>virginica </td></tr>\n",
       "\t<tr><th scope=row>142</th><td>6.9       </td><td>3.1       </td><td>5.1       </td><td>2.3       </td><td>virginica </td></tr>\n",
       "\t<tr><th scope=row>143</th><td>5.8       </td><td>2.7       </td><td>5.1       </td><td>1.9       </td><td>virginica </td></tr>\n",
       "\t<tr><th scope=row>145</th><td>6.7       </td><td>3.3       </td><td>5.7       </td><td>2.5       </td><td>virginica </td></tr>\n",
       "\t<tr><th scope=row>148</th><td>6.5       </td><td>3.0       </td><td>5.2       </td><td>2.0       </td><td>virginica </td></tr>\n",
       "\t<tr><th scope=row>149</th><td>6.2       </td><td>3.4       </td><td>5.4       </td><td>2.3       </td><td>virginica </td></tr>\n",
       "\t<tr><th scope=row>150</th><td>5.9       </td><td>3.0       </td><td>5.1       </td><td>1.8       </td><td>virginica </td></tr>\n",
       "</tbody>\n",
       "</table>\n"
      ],
      "text/latex": [
       "\\begin{tabular}{r|lllll}\n",
       "  & Sepal.Length & Sepal.Width & Petal.Length & Petal.Width & Species\\\\\n",
       "\\hline\n",
       "\t1 & 5.1        & 3.5        & 1.4        & 0.2        & setosa    \\\\\n",
       "\t7 & 4.6        & 3.4        & 1.4        & 0.3        & setosa    \\\\\n",
       "\t10 & 4.9        & 3.1        & 1.5        & 0.1        & setosa    \\\\\n",
       "\t11 & 5.4        & 3.7        & 1.5        & 0.2        & setosa    \\\\\n",
       "\t13 & 4.8        & 3.0        & 1.4        & 0.1        & setosa    \\\\\n",
       "\t17 & 5.4        & 3.9        & 1.3        & 0.4        & setosa    \\\\\n",
       "\t18 & 5.1        & 3.5        & 1.4        & 0.3        & setosa    \\\\\n",
       "\t19 & 5.7        & 3.8        & 1.7        & 0.3        & setosa    \\\\\n",
       "\t23 & 4.6        & 3.6        & 1.0        & 0.2        & setosa    \\\\\n",
       "\t25 & 4.8        & 3.4        & 1.9        & 0.2        & setosa    \\\\\n",
       "\t27 & 5.0        & 3.4        & 1.6        & 0.4        & setosa    \\\\\n",
       "\t33 & 5.2        & 4.1        & 1.5        & 0.1        & setosa    \\\\\n",
       "\t36 & 5.0        & 3.2        & 1.2        & 0.2        & setosa    \\\\\n",
       "\t43 & 4.4        & 3.2        & 1.3        & 0.2        & setosa    \\\\\n",
       "\t45 & 5.1        & 3.8        & 1.9        & 0.4        & setosa    \\\\\n",
       "\t51 & 7.0        & 3.2        & 4.7        & 1.4        & versicolor\\\\\n",
       "\t54 & 5.5        & 2.3        & 4.0        & 1.3        & versicolor\\\\\n",
       "\t55 & 6.5        & 2.8        & 4.6        & 1.5        & versicolor\\\\\n",
       "\t57 & 6.3        & 3.3        & 4.7        & 1.6        & versicolor\\\\\n",
       "\t61 & 5.0        & 2.0        & 3.5        & 1.0        & versicolor\\\\\n",
       "\t64 & 6.1        & 2.9        & 4.7        & 1.4        & versicolor\\\\\n",
       "\t70 & 5.6        & 2.5        & 3.9        & 1.1        & versicolor\\\\\n",
       "\t71 & 5.9        & 3.2        & 4.8        & 1.8        & versicolor\\\\\n",
       "\t74 & 6.1        & 2.8        & 4.7        & 1.2        & versicolor\\\\\n",
       "\t77 & 6.8        & 2.8        & 4.8        & 1.4        & versicolor\\\\\n",
       "\t78 & 6.7        & 3.0        & 5.0        & 1.7        & versicolor\\\\\n",
       "\t81 & 5.5        & 2.4        & 3.8        & 1.1        & versicolor\\\\\n",
       "\t83 & 5.8        & 2.7        & 3.9        & 1.2        & versicolor\\\\\n",
       "\t84 & 6.0        & 2.7        & 5.1        & 1.6        & versicolor\\\\\n",
       "\t94 & 5.0        & 2.3        & 3.3        & 1.0        & versicolor\\\\\n",
       "\t105 & 6.5        & 3.0        & 5.8        & 2.2        & virginica \\\\\n",
       "\t114 & 5.7        & 2.5        & 5.0        & 2.0        & virginica \\\\\n",
       "\t115 & 5.8        & 2.8        & 5.1        & 2.4        & virginica \\\\\n",
       "\t118 & 7.7        & 3.8        & 6.7        & 2.2        & virginica \\\\\n",
       "\t123 & 7.7        & 2.8        & 6.7        & 2.0        & virginica \\\\\n",
       "\t125 & 6.7        & 3.3        & 5.7        & 2.1        & virginica \\\\\n",
       "\t134 & 6.3        & 2.8        & 5.1        & 1.5        & virginica \\\\\n",
       "\t138 & 6.4        & 3.1        & 5.5        & 1.8        & virginica \\\\\n",
       "\t140 & 6.9        & 3.1        & 5.4        & 2.1        & virginica \\\\\n",
       "\t142 & 6.9        & 3.1        & 5.1        & 2.3        & virginica \\\\\n",
       "\t143 & 5.8        & 2.7        & 5.1        & 1.9        & virginica \\\\\n",
       "\t145 & 6.7        & 3.3        & 5.7        & 2.5        & virginica \\\\\n",
       "\t148 & 6.5        & 3.0        & 5.2        & 2.0        & virginica \\\\\n",
       "\t149 & 6.2        & 3.4        & 5.4        & 2.3        & virginica \\\\\n",
       "\t150 & 5.9        & 3.0        & 5.1        & 1.8        & virginica \\\\\n",
       "\\end{tabular}\n"
      ],
      "text/markdown": [
       "\n",
       "| <!--/--> | Sepal.Length | Sepal.Width | Petal.Length | Petal.Width | Species |\n",
       "|---|---|---|---|---|---|\n",
       "| 1 | 5.1        | 3.5        | 1.4        | 0.2        | setosa     |\n",
       "| 7 | 4.6        | 3.4        | 1.4        | 0.3        | setosa     |\n",
       "| 10 | 4.9        | 3.1        | 1.5        | 0.1        | setosa     |\n",
       "| 11 | 5.4        | 3.7        | 1.5        | 0.2        | setosa     |\n",
       "| 13 | 4.8        | 3.0        | 1.4        | 0.1        | setosa     |\n",
       "| 17 | 5.4        | 3.9        | 1.3        | 0.4        | setosa     |\n",
       "| 18 | 5.1        | 3.5        | 1.4        | 0.3        | setosa     |\n",
       "| 19 | 5.7        | 3.8        | 1.7        | 0.3        | setosa     |\n",
       "| 23 | 4.6        | 3.6        | 1.0        | 0.2        | setosa     |\n",
       "| 25 | 4.8        | 3.4        | 1.9        | 0.2        | setosa     |\n",
       "| 27 | 5.0        | 3.4        | 1.6        | 0.4        | setosa     |\n",
       "| 33 | 5.2        | 4.1        | 1.5        | 0.1        | setosa     |\n",
       "| 36 | 5.0        | 3.2        | 1.2        | 0.2        | setosa     |\n",
       "| 43 | 4.4        | 3.2        | 1.3        | 0.2        | setosa     |\n",
       "| 45 | 5.1        | 3.8        | 1.9        | 0.4        | setosa     |\n",
       "| 51 | 7.0        | 3.2        | 4.7        | 1.4        | versicolor |\n",
       "| 54 | 5.5        | 2.3        | 4.0        | 1.3        | versicolor |\n",
       "| 55 | 6.5        | 2.8        | 4.6        | 1.5        | versicolor |\n",
       "| 57 | 6.3        | 3.3        | 4.7        | 1.6        | versicolor |\n",
       "| 61 | 5.0        | 2.0        | 3.5        | 1.0        | versicolor |\n",
       "| 64 | 6.1        | 2.9        | 4.7        | 1.4        | versicolor |\n",
       "| 70 | 5.6        | 2.5        | 3.9        | 1.1        | versicolor |\n",
       "| 71 | 5.9        | 3.2        | 4.8        | 1.8        | versicolor |\n",
       "| 74 | 6.1        | 2.8        | 4.7        | 1.2        | versicolor |\n",
       "| 77 | 6.8        | 2.8        | 4.8        | 1.4        | versicolor |\n",
       "| 78 | 6.7        | 3.0        | 5.0        | 1.7        | versicolor |\n",
       "| 81 | 5.5        | 2.4        | 3.8        | 1.1        | versicolor |\n",
       "| 83 | 5.8        | 2.7        | 3.9        | 1.2        | versicolor |\n",
       "| 84 | 6.0        | 2.7        | 5.1        | 1.6        | versicolor |\n",
       "| 94 | 5.0        | 2.3        | 3.3        | 1.0        | versicolor |\n",
       "| 105 | 6.5        | 3.0        | 5.8        | 2.2        | virginica  |\n",
       "| 114 | 5.7        | 2.5        | 5.0        | 2.0        | virginica  |\n",
       "| 115 | 5.8        | 2.8        | 5.1        | 2.4        | virginica  |\n",
       "| 118 | 7.7        | 3.8        | 6.7        | 2.2        | virginica  |\n",
       "| 123 | 7.7        | 2.8        | 6.7        | 2.0        | virginica  |\n",
       "| 125 | 6.7        | 3.3        | 5.7        | 2.1        | virginica  |\n",
       "| 134 | 6.3        | 2.8        | 5.1        | 1.5        | virginica  |\n",
       "| 138 | 6.4        | 3.1        | 5.5        | 1.8        | virginica  |\n",
       "| 140 | 6.9        | 3.1        | 5.4        | 2.1        | virginica  |\n",
       "| 142 | 6.9        | 3.1        | 5.1        | 2.3        | virginica  |\n",
       "| 143 | 5.8        | 2.7        | 5.1        | 1.9        | virginica  |\n",
       "| 145 | 6.7        | 3.3        | 5.7        | 2.5        | virginica  |\n",
       "| 148 | 6.5        | 3.0        | 5.2        | 2.0        | virginica  |\n",
       "| 149 | 6.2        | 3.4        | 5.4        | 2.3        | virginica  |\n",
       "| 150 | 5.9        | 3.0        | 5.1        | 1.8        | virginica  |\n",
       "\n"
      ],
      "text/plain": [
       "    Sepal.Length Sepal.Width Petal.Length Petal.Width Species   \n",
       "1   5.1          3.5         1.4          0.2         setosa    \n",
       "7   4.6          3.4         1.4          0.3         setosa    \n",
       "10  4.9          3.1         1.5          0.1         setosa    \n",
       "11  5.4          3.7         1.5          0.2         setosa    \n",
       "13  4.8          3.0         1.4          0.1         setosa    \n",
       "17  5.4          3.9         1.3          0.4         setosa    \n",
       "18  5.1          3.5         1.4          0.3         setosa    \n",
       "19  5.7          3.8         1.7          0.3         setosa    \n",
       "23  4.6          3.6         1.0          0.2         setosa    \n",
       "25  4.8          3.4         1.9          0.2         setosa    \n",
       "27  5.0          3.4         1.6          0.4         setosa    \n",
       "33  5.2          4.1         1.5          0.1         setosa    \n",
       "36  5.0          3.2         1.2          0.2         setosa    \n",
       "43  4.4          3.2         1.3          0.2         setosa    \n",
       "45  5.1          3.8         1.9          0.4         setosa    \n",
       "51  7.0          3.2         4.7          1.4         versicolor\n",
       "54  5.5          2.3         4.0          1.3         versicolor\n",
       "55  6.5          2.8         4.6          1.5         versicolor\n",
       "57  6.3          3.3         4.7          1.6         versicolor\n",
       "61  5.0          2.0         3.5          1.0         versicolor\n",
       "64  6.1          2.9         4.7          1.4         versicolor\n",
       "70  5.6          2.5         3.9          1.1         versicolor\n",
       "71  5.9          3.2         4.8          1.8         versicolor\n",
       "74  6.1          2.8         4.7          1.2         versicolor\n",
       "77  6.8          2.8         4.8          1.4         versicolor\n",
       "78  6.7          3.0         5.0          1.7         versicolor\n",
       "81  5.5          2.4         3.8          1.1         versicolor\n",
       "83  5.8          2.7         3.9          1.2         versicolor\n",
       "84  6.0          2.7         5.1          1.6         versicolor\n",
       "94  5.0          2.3         3.3          1.0         versicolor\n",
       "105 6.5          3.0         5.8          2.2         virginica \n",
       "114 5.7          2.5         5.0          2.0         virginica \n",
       "115 5.8          2.8         5.1          2.4         virginica \n",
       "118 7.7          3.8         6.7          2.2         virginica \n",
       "123 7.7          2.8         6.7          2.0         virginica \n",
       "125 6.7          3.3         5.7          2.1         virginica \n",
       "134 6.3          2.8         5.1          1.5         virginica \n",
       "138 6.4          3.1         5.5          1.8         virginica \n",
       "140 6.9          3.1         5.4          2.1         virginica \n",
       "142 6.9          3.1         5.1          2.3         virginica \n",
       "143 5.8          2.7         5.1          1.9         virginica \n",
       "145 6.7          3.3         5.7          2.5         virginica \n",
       "148 6.5          3.0         5.2          2.0         virginica \n",
       "149 6.2          3.4         5.4          2.3         virginica \n",
       "150 5.9          3.0         5.1          1.8         virginica "
      ]
     },
     "metadata": {},
     "output_type": "display_data"
    }
   ],
   "source": [
    "# Sampling \n",
    "# 어느 방법이건 해당 단계는 동일\n",
    "samp <- createDataPartition(iris$Species,p=0.7,list=F) # p : percentage(트레이닝 많이 시키는게 좋음\n",
    "                                                       # 보통 0.7~0.8 사용함)\n",
    "samp\n",
    "# 학습용 데이터 만들기\n",
    "\n",
    "data.tr <- iris[samp,]\n",
    "data.tr\n",
    "# 검증용 데이터 만들기\n",
    "\n",
    "data.test <- iris[-samp,]\n",
    "data.test\n",
    "# 문제 및 정답 만들기\n",
    "\n",
    "x <- subset(data.test,select = -Species)\n",
    "y <- data.test$Species"
   ]
  },
  {
   "cell_type": "code",
   "execution_count": 5,
   "id": "f161e350",
   "metadata": {},
   "outputs": [],
   "source": [
    "# 학습시키기\n",
    "\n",
    "model.rf <- randomForest(Species~.,data=data.tr,ntree=100) # factor의 타입(숫자 or Not)에 따라 \n",
    "                                                           # 객/주관식으로 품"
   ]
  },
  {
   "cell_type": "code",
   "execution_count": 6,
   "id": "a90e3b69",
   "metadata": {},
   "outputs": [],
   "source": [
    "# 검증하기\n",
    "\n",
    "pred <- predict(model.rf,x)"
   ]
  },
  {
   "cell_type": "code",
   "execution_count": 7,
   "id": "14182592",
   "metadata": {},
   "outputs": [
    {
     "data": {
      "text/html": [
       "0.933333333333333"
      ],
      "text/latex": [
       "0.933333333333333"
      ],
      "text/markdown": [
       "0.933333333333333"
      ],
      "text/plain": [
       "[1] 0.9333333"
      ]
     },
     "metadata": {},
     "output_type": "display_data"
    },
    {
     "data": {
      "text/plain": [
       "            y\n",
       "pred         setosa versicolor virginica\n",
       "  setosa         15          0         0\n",
       "  versicolor      0         12         0\n",
       "  virginica       0          3        15"
      ]
     },
     "metadata": {},
     "output_type": "display_data"
    }
   ],
   "source": [
    "# 예측력과 오분류표\n",
    "\n",
    "mean(pred == y)\n",
    "table(pred,y)"
   ]
  },
  {
   "cell_type": "markdown",
   "id": "9493a667",
   "metadata": {},
   "source": [
    "---\n",
    "### 교통사고 예측하기(회귀식과 RandomForest 예측 비교)"
   ]
  },
  {
   "cell_type": "code",
   "execution_count": 8,
   "id": "36df781c",
   "metadata": {},
   "outputs": [
    {
     "data": {
      "text/html": [
       "<table>\n",
       "<thead><tr><th scope=col>년도</th><th scope=col>월</th><th scope=col>자치구명</th><th scope=col>발생건수</th><th scope=col>사망자수</th><th scope=col>부상자수</th></tr></thead>\n",
       "<tbody>\n",
       "\t<tr><td>2011  </td><td>1     </td><td>종로구</td><td>115   </td><td>2     </td><td>165   </td></tr>\n",
       "\t<tr><td>2011  </td><td>2     </td><td>종로구</td><td> 99   </td><td>0     </td><td>134   </td></tr>\n",
       "\t<tr><td>2011  </td><td>3     </td><td>종로구</td><td>116   </td><td>0     </td><td>162   </td></tr>\n",
       "\t<tr><td>2011  </td><td>4     </td><td>종로구</td><td>110   </td><td>1     </td><td>153   </td></tr>\n",
       "\t<tr><td>2011  </td><td>5     </td><td>종로구</td><td>122   </td><td>0     </td><td>157   </td></tr>\n",
       "\t<tr><td>2011  </td><td>6     </td><td>종로구</td><td>116   </td><td>3     </td><td>163   </td></tr>\n",
       "</tbody>\n",
       "</table>\n"
      ],
      "text/latex": [
       "\\begin{tabular}{r|llllll}\n",
       " 년도 & 월 & 자치구명 & 발생건수 & 사망자수 & 부상자수\\\\\n",
       "\\hline\n",
       "\t 2011   & 1      & 종로구 & 115    & 2      & 165   \\\\\n",
       "\t 2011   & 2      & 종로구 &  99    & 0      & 134   \\\\\n",
       "\t 2011   & 3      & 종로구 & 116    & 0      & 162   \\\\\n",
       "\t 2011   & 4      & 종로구 & 110    & 1      & 153   \\\\\n",
       "\t 2011   & 5      & 종로구 & 122    & 0      & 157   \\\\\n",
       "\t 2011   & 6      & 종로구 & 116    & 3      & 163   \\\\\n",
       "\\end{tabular}\n"
      ],
      "text/markdown": [
       "\n",
       "| 년도 | 월 | 자치구명 | 발생건수 | 사망자수 | 부상자수 |\n",
       "|---|---|---|---|---|---|\n",
       "| 2011   | 1      | 종로구 | 115    | 2      | 165    |\n",
       "| 2011   | 2      | 종로구 |  99    | 0      | 134    |\n",
       "| 2011   | 3      | 종로구 | 116    | 0      | 162    |\n",
       "| 2011   | 4      | 종로구 | 110    | 1      | 153    |\n",
       "| 2011   | 5      | 종로구 | 122    | 0      | 157    |\n",
       "| 2011   | 6      | 종로구 | 116    | 3      | 163    |\n",
       "\n"
      ],
      "text/plain": [
       "  년도 월 자치구명 발생건수 사망자수 부상자수\n",
       "1 2011 1  종로구   115      2        165     \n",
       "2 2011 2  종로구    99      0        134     \n",
       "3 2011 3  종로구   116      0        162     \n",
       "4 2011 4  종로구   110      1        153     \n",
       "5 2011 5  종로구   122      0        157     \n",
       "6 2011 6  종로구   116      3        163     "
      ]
     },
     "metadata": {},
     "output_type": "display_data"
    }
   ],
   "source": [
    "seoul <- read.csv(\"./Data/newSeoul2019.csv\")\n",
    "head(seoul)"
   ]
  },
  {
   "cell_type": "code",
   "execution_count": 9,
   "id": "b239da88",
   "metadata": {},
   "outputs": [
    {
     "data": {
      "text/html": [
       "108"
      ],
      "text/latex": [
       "108"
      ],
      "text/markdown": [
       "108"
      ],
      "text/plain": [
       "[1] 108"
      ]
     },
     "metadata": {},
     "output_type": "display_data"
    }
   ],
   "source": [
    "# 종로구 데이터셋 만들기\n",
    "\n",
    "JongRo <- subset(seoul,seoul$자치구명==\"종로구\")\n",
    "nrow(JongRo)"
   ]
  },
  {
   "cell_type": "code",
   "execution_count": 10,
   "id": "1b73c2f6",
   "metadata": {},
   "outputs": [
    {
     "data": {
      "text/html": [
       "<table>\n",
       "<thead><tr><th scope=col>년도</th><th scope=col>월</th><th scope=col>자치구명</th><th scope=col>발생건수</th><th scope=col>사망자수</th><th scope=col>부상자수</th></tr></thead>\n",
       "<tbody>\n",
       "\t<tr><td>2011  </td><td>1     </td><td>종로구</td><td>115   </td><td>2     </td><td>165   </td></tr>\n",
       "\t<tr><td>2011  </td><td>2     </td><td>종로구</td><td> 99   </td><td>0     </td><td>134   </td></tr>\n",
       "\t<tr><td>2011  </td><td>3     </td><td>종로구</td><td>116   </td><td>0     </td><td>162   </td></tr>\n",
       "\t<tr><td>2011  </td><td>4     </td><td>종로구</td><td>110   </td><td>1     </td><td>153   </td></tr>\n",
       "\t<tr><td>2011  </td><td>5     </td><td>종로구</td><td>122   </td><td>0     </td><td>157   </td></tr>\n",
       "\t<tr><td>2011  </td><td>6     </td><td>종로구</td><td>116   </td><td>3     </td><td>163   </td></tr>\n",
       "</tbody>\n",
       "</table>\n"
      ],
      "text/latex": [
       "\\begin{tabular}{r|llllll}\n",
       " 년도 & 월 & 자치구명 & 발생건수 & 사망자수 & 부상자수\\\\\n",
       "\\hline\n",
       "\t 2011   & 1      & 종로구 & 115    & 2      & 165   \\\\\n",
       "\t 2011   & 2      & 종로구 &  99    & 0      & 134   \\\\\n",
       "\t 2011   & 3      & 종로구 & 116    & 0      & 162   \\\\\n",
       "\t 2011   & 4      & 종로구 & 110    & 1      & 153   \\\\\n",
       "\t 2011   & 5      & 종로구 & 122    & 0      & 157   \\\\\n",
       "\t 2011   & 6      & 종로구 & 116    & 3      & 163   \\\\\n",
       "\\end{tabular}\n"
      ],
      "text/markdown": [
       "\n",
       "| 년도 | 월 | 자치구명 | 발생건수 | 사망자수 | 부상자수 |\n",
       "|---|---|---|---|---|---|\n",
       "| 2011   | 1      | 종로구 | 115    | 2      | 165    |\n",
       "| 2011   | 2      | 종로구 |  99    | 0      | 134    |\n",
       "| 2011   | 3      | 종로구 | 116    | 0      | 162    |\n",
       "| 2011   | 4      | 종로구 | 110    | 1      | 153    |\n",
       "| 2011   | 5      | 종로구 | 122    | 0      | 157    |\n",
       "| 2011   | 6      | 종로구 | 116    | 3      | 163    |\n",
       "\n"
      ],
      "text/plain": [
       "  년도 월 자치구명 발생건수 사망자수 부상자수\n",
       "1 2011 1  종로구   115      2        165     \n",
       "2 2011 2  종로구    99      0        134     \n",
       "3 2011 3  종로구   116      0        162     \n",
       "4 2011 4  종로구   110      1        153     \n",
       "5 2011 5  종로구   122      0        157     \n",
       "6 2011 6  종로구   116      3        163     "
      ]
     },
     "metadata": {},
     "output_type": "display_data"
    },
    {
     "data": {
      "text/html": [
       "<table>\n",
       "<thead><tr><th></th><th scope=col>년도</th><th scope=col>월</th><th scope=col>자치구명</th><th scope=col>발생건수</th><th scope=col>사망자수</th><th scope=col>부상자수</th></tr></thead>\n",
       "<tbody>\n",
       "\t<tr><th scope=row>2407</th><td>2019  </td><td> 7    </td><td>종로구</td><td> 83   </td><td>0     </td><td>109   </td></tr>\n",
       "\t<tr><th scope=row>2408</th><td>2019  </td><td> 8    </td><td>종로구</td><td>115   </td><td>0     </td><td>164   </td></tr>\n",
       "\t<tr><th scope=row>2409</th><td>2019  </td><td> 9    </td><td>종로구</td><td> 99   </td><td>0     </td><td>143   </td></tr>\n",
       "\t<tr><th scope=row>2410</th><td>2019  </td><td>10    </td><td>종로구</td><td>104   </td><td>0     </td><td>139   </td></tr>\n",
       "\t<tr><th scope=row>2411</th><td>2019  </td><td>11    </td><td>종로구</td><td>100   </td><td>0     </td><td>126   </td></tr>\n",
       "\t<tr><th scope=row>2412</th><td>2019  </td><td>12    </td><td>종로구</td><td>100   </td><td>0     </td><td>142   </td></tr>\n",
       "</tbody>\n",
       "</table>\n"
      ],
      "text/latex": [
       "\\begin{tabular}{r|llllll}\n",
       "  & 년도 & 월 & 자치구명 & 발생건수 & 사망자수 & 부상자수\\\\\n",
       "\\hline\n",
       "\t2407 & 2019   &  7     & 종로구 &  83    & 0      & 109   \\\\\n",
       "\t2408 & 2019   &  8     & 종로구 & 115    & 0      & 164   \\\\\n",
       "\t2409 & 2019   &  9     & 종로구 &  99    & 0      & 143   \\\\\n",
       "\t2410 & 2019   & 10     & 종로구 & 104    & 0      & 139   \\\\\n",
       "\t2411 & 2019   & 11     & 종로구 & 100    & 0      & 126   \\\\\n",
       "\t2412 & 2019   & 12     & 종로구 & 100    & 0      & 142   \\\\\n",
       "\\end{tabular}\n"
      ],
      "text/markdown": [
       "\n",
       "| <!--/--> | 년도 | 월 | 자치구명 | 발생건수 | 사망자수 | 부상자수 |\n",
       "|---|---|---|---|---|---|---|\n",
       "| 2407 | 2019   |  7     | 종로구 |  83    | 0      | 109    |\n",
       "| 2408 | 2019   |  8     | 종로구 | 115    | 0      | 164    |\n",
       "| 2409 | 2019   |  9     | 종로구 |  99    | 0      | 143    |\n",
       "| 2410 | 2019   | 10     | 종로구 | 104    | 0      | 139    |\n",
       "| 2411 | 2019   | 11     | 종로구 | 100    | 0      | 126    |\n",
       "| 2412 | 2019   | 12     | 종로구 | 100    | 0      | 142    |\n",
       "\n"
      ],
      "text/plain": [
       "     년도 월 자치구명 발생건수 사망자수 부상자수\n",
       "2407 2019  7 종로구    83      0        109     \n",
       "2408 2019  8 종로구   115      0        164     \n",
       "2409 2019  9 종로구    99      0        143     \n",
       "2410 2019 10 종로구   104      0        139     \n",
       "2411 2019 11 종로구   100      0        126     \n",
       "2412 2019 12 종로구   100      0        142     "
      ]
     },
     "metadata": {},
     "output_type": "display_data"
    }
   ],
   "source": [
    "head(JongRo)\n",
    "tail(JongRo)"
   ]
  },
  {
   "cell_type": "code",
   "execution_count": 11,
   "id": "faa23c6f",
   "metadata": {},
   "outputs": [
    {
     "data": {
      "text/html": [
       "<table>\n",
       "<thead><tr><th></th><th scope=col>년도</th><th scope=col>월</th><th scope=col>자치구명</th><th scope=col>발생건수</th><th scope=col>사망자수</th><th scope=col>부상자수</th></tr></thead>\n",
       "<tbody>\n",
       "\t<tr><th scope=row>103</th><td>2019  </td><td> 7    </td><td>종로구</td><td> 83   </td><td>0     </td><td>109   </td></tr>\n",
       "\t<tr><th scope=row>104</th><td>2019  </td><td> 8    </td><td>종로구</td><td>115   </td><td>0     </td><td>164   </td></tr>\n",
       "\t<tr><th scope=row>105</th><td>2019  </td><td> 9    </td><td>종로구</td><td> 99   </td><td>0     </td><td>143   </td></tr>\n",
       "\t<tr><th scope=row>106</th><td>2019  </td><td>10    </td><td>종로구</td><td>104   </td><td>0     </td><td>139   </td></tr>\n",
       "\t<tr><th scope=row>107</th><td>2019  </td><td>11    </td><td>종로구</td><td>100   </td><td>0     </td><td>126   </td></tr>\n",
       "\t<tr><th scope=row>108</th><td>2019  </td><td>12    </td><td>종로구</td><td>100   </td><td>0     </td><td>142   </td></tr>\n",
       "</tbody>\n",
       "</table>\n"
      ],
      "text/latex": [
       "\\begin{tabular}{r|llllll}\n",
       "  & 년도 & 월 & 자치구명 & 발생건수 & 사망자수 & 부상자수\\\\\n",
       "\\hline\n",
       "\t103 & 2019   &  7     & 종로구 &  83    & 0      & 109   \\\\\n",
       "\t104 & 2019   &  8     & 종로구 & 115    & 0      & 164   \\\\\n",
       "\t105 & 2019   &  9     & 종로구 &  99    & 0      & 143   \\\\\n",
       "\t106 & 2019   & 10     & 종로구 & 104    & 0      & 139   \\\\\n",
       "\t107 & 2019   & 11     & 종로구 & 100    & 0      & 126   \\\\\n",
       "\t108 & 2019   & 12     & 종로구 & 100    & 0      & 142   \\\\\n",
       "\\end{tabular}\n"
      ],
      "text/markdown": [
       "\n",
       "| <!--/--> | 년도 | 월 | 자치구명 | 발생건수 | 사망자수 | 부상자수 |\n",
       "|---|---|---|---|---|---|---|\n",
       "| 103 | 2019   |  7     | 종로구 |  83    | 0      | 109    |\n",
       "| 104 | 2019   |  8     | 종로구 | 115    | 0      | 164    |\n",
       "| 105 | 2019   |  9     | 종로구 |  99    | 0      | 143    |\n",
       "| 106 | 2019   | 10     | 종로구 | 104    | 0      | 139    |\n",
       "| 107 | 2019   | 11     | 종로구 | 100    | 0      | 126    |\n",
       "| 108 | 2019   | 12     | 종로구 | 100    | 0      | 142    |\n",
       "\n"
      ],
      "text/plain": [
       "    년도 월 자치구명 발생건수 사망자수 부상자수\n",
       "103 2019  7 종로구    83      0        109     \n",
       "104 2019  8 종로구   115      0        164     \n",
       "105 2019  9 종로구    99      0        143     \n",
       "106 2019 10 종로구   104      0        139     \n",
       "107 2019 11 종로구   100      0        126     \n",
       "108 2019 12 종로구   100      0        142     "
      ]
     },
     "metadata": {},
     "output_type": "display_data"
    }
   ],
   "source": [
    "# row names 정리하기\n",
    "\n",
    "rownames(JongRo) <- c()\n",
    "tail(JongRo)"
   ]
  },
  {
   "cell_type": "code",
   "execution_count": 12,
   "id": "690ff2e9",
   "metadata": {},
   "outputs": [
    {
     "name": "stdout",
     "output_type": "stream",
     "text": [
      "'data.frame':\t108 obs. of  6 variables:\n",
      " $ 년도    : int  2011 2011 2011 2011 2011 2011 2011 2011 2011 2011 ...\n",
      " $ 월      : int  1 2 3 4 5 6 7 8 9 10 ...\n",
      " $ 자치구명: Factor w/ 25 levels \"강남구\",\"강동구\",..: 23 23 23 23 23 23 23 23 23 23 ...\n",
      " $ 발생건수: int  115 99 116 110 122 116 103 122 121 135 ...\n",
      " $ 사망자수: int  2 0 0 1 0 3 1 1 2 2 ...\n",
      " $ 부상자수: int  165 134 162 153 157 163 154 171 166 193 ...\n"
     ]
    }
   ],
   "source": [
    "str(JongRo)"
   ]
  },
  {
   "cell_type": "code",
   "execution_count": 13,
   "id": "f71d917b",
   "metadata": {},
   "outputs": [
    {
     "name": "stdout",
     "output_type": "stream",
     "text": [
      "'data.frame':\t108 obs. of  6 variables:\n",
      " $ 년도    : int  2011 2011 2011 2011 2011 2011 2011 2011 2011 2011 ...\n",
      " $ 월      : int  1 2 3 4 5 6 7 8 9 10 ...\n",
      " $ 자치구명: Factor w/ 1 level \"종로구\": 1 1 1 1 1 1 1 1 1 1 ...\n",
      " $ 발생건수: int  115 99 116 110 122 116 103 122 121 135 ...\n",
      " $ 사망자수: int  2 0 0 1 0 3 1 1 2 2 ...\n",
      " $ 부상자수: int  165 134 162 153 157 163 154 171 166 193 ...\n"
     ]
    }
   ],
   "source": [
    "# factor 정리하기\n",
    "\n",
    "JongRo$자치구명 <- factor(JongRo$자치구명)\n",
    "str(JongRo)"
   ]
  },
  {
   "cell_type": "code",
   "execution_count": 14,
   "id": "1c9d74cf",
   "metadata": {},
   "outputs": [
    {
     "data": {
      "text/html": [
       "0.920891438840356"
      ],
      "text/latex": [
       "0.920891438840356"
      ],
      "text/markdown": [
       "0.920891438840356"
      ],
      "text/plain": [
       "[1] 0.9208914"
      ]
     },
     "metadata": {},
     "output_type": "display_data"
    }
   ],
   "source": [
    "# 종로의 발생건수와 부상자수 상관계수\n",
    "\n",
    "cor(JongRo$발생건수,JongRo$부상자수)"
   ]
  },
  {
   "cell_type": "code",
   "execution_count": null,
   "id": "d8de6f20",
   "metadata": {},
   "outputs": [],
   "source": []
  },
  {
   "cell_type": "code",
   "execution_count": 15,
   "id": "82d522b8",
   "metadata": {},
   "outputs": [
    {
     "data": {
      "image/png": "[encoded data removed]",
      "text/plain": [
       "Plot with title “종로구의 발생건수와 부상자수의 산포도”"
      ]
     },
     "metadata": {},
     "output_type": "display_data"
    }
   ],
   "source": [
    "# 종로구의 발생건수와 부상자수의 산포도\n",
    "options(warn=-1)\n",
    "par(family = \"AppleGothic\")\n",
    "plot(JongRo$발생건수,JongRo$부상자수,\n",
    "     xlab = \"발생건수\",\n",
    "     ylab = \"부상자수\",\n",
    "     main = \"종로구의 발생건수와 부상자수의 산포도\"\n",
    "    )\n",
    "r <- lm(JongRo$부상자수~JongRo$발생건수)\n",
    "abline(r,col=\"red\")"
   ]
  },
  {
   "cell_type": "code",
   "execution_count": 16,
   "id": "c393a802",
   "metadata": {},
   "outputs": [
    {
     "data": {
      "text/plain": [
       "\n",
       "Call:\n",
       "lm(formula = JongRo$부상자수 ~ JongRo$발생건수)\n",
       "\n",
       "Residuals:\n",
       "    Min      1Q  Median      3Q     Max \n",
       "-21.637  -5.949  -0.019   5.301  33.961 \n",
       "\n",
       "Coefficients:\n",
       "                Estimate Std. Error t value Pr(>|t|)    \n",
       "(Intercept)      2.88612    6.05535   0.477    0.635    \n",
       "JongRo$발생건수  1.35993    0.05591  24.322   <2e-16 ***\n",
       "---\n",
       "Signif. codes:  0 ‘***’ 0.001 ‘**’ 0.01 ‘*’ 0.05 ‘.’ 0.1 ‘ ’ 1\n",
       "\n",
       "Residual standard error: 9.816 on 106 degrees of freedom\n",
       "Multiple R-squared:  0.848,\tAdjusted R-squared:  0.8466 \n",
       "F-statistic: 591.6 on 1 and 106 DF,  p-value: < 2.2e-16\n"
      ]
     },
     "metadata": {},
     "output_type": "display_data"
    }
   ],
   "source": [
    "# 예측력\n",
    "\n",
    "summary(r)"
   ]
  },
  {
   "cell_type": "markdown",
   "id": "72bcf353",
   "metadata": {},
   "source": [
    "> Adjusted R-squared:  0.8466"
   ]
  },
  {
   "cell_type": "code",
   "execution_count": 17,
   "id": "9df55658",
   "metadata": {},
   "outputs": [
    {
     "data": {
      "text/plain": [
       "\n",
       "Call:\n",
       "lm(formula = JongRo$부상자수 ~ JongRo$발생건수)\n",
       "\n",
       "Coefficients:\n",
       "    (Intercept)  JongRo$발생건수  \n",
       "          2.886            1.360  \n"
      ]
     },
     "metadata": {},
     "output_type": "display_data"
    }
   ],
   "source": [
    "r"
   ]
  },
  {
   "cell_type": "code",
   "execution_count": 18,
   "id": "cc09f3da",
   "metadata": {},
   "outputs": [
    {
     "data": {
      "text/html": [
       "138.886"
      ],
      "text/latex": [
       "138.886"
      ],
      "text/markdown": [
       "138.886"
      ],
      "text/plain": [
       "[1] 138.886"
      ]
     },
     "metadata": {},
     "output_type": "display_data"
    }
   ],
   "source": [
    "# 회귀식\n",
    "# -발생건수가 100건일 경우의 부상자수 예측\n",
    " 1.360 * 100 + 2.886"
   ]
  },
  {
   "cell_type": "code",
   "execution_count": 19,
   "id": "6adf6290",
   "metadata": {},
   "outputs": [
    {
     "data": {
      "text/html": [
       "<dl class=dl-horizontal>\n",
       "\t<dt>1</dt>\n",
       "\t\t<dd>139.571928571429</dd>\n",
       "\t<dt>1</dt>\n",
       "\t\t<dd>140.319662698413</dd>\n",
       "\t<dt>1</dt>\n",
       "\t\t<dd>139.733238095238</dd>\n",
       "\t<dt>1</dt>\n",
       "\t\t<dd>139.726702380952</dd>\n",
       "\t<dt>1</dt>\n",
       "\t\t<dd>138.62869047619</dd>\n",
       "</dl>\n"
      ],
      "text/latex": [
       "\\begin{description*}\n",
       "\\item[1] 139.571928571429\n",
       "\\item[1] 140.319662698413\n",
       "\\item[1] 139.733238095238\n",
       "\\item[1] 139.726702380952\n",
       "\\item[1] 138.62869047619\n",
       "\\end{description*}\n"
      ],
      "text/markdown": [
       "1\n",
       ":   139.5719285714291\n",
       ":   140.3196626984131\n",
       ":   139.7332380952381\n",
       ":   139.7267023809521\n",
       ":   138.62869047619\n",
       "\n"
      ],
      "text/plain": [
       "       1        1        1        1        1 \n",
       "139.5719 140.3197 139.7332 139.7267 138.6287 "
      ]
     },
     "metadata": {},
     "output_type": "display_data"
    },
    {
     "data": {
      "text/html": [
       "139.596044444444"
      ],
      "text/latex": [
       "139.596044444444"
      ],
      "text/markdown": [
       "139.596044444444"
      ],
      "text/plain": [
       "[1] 139.596"
      ]
     },
     "metadata": {},
     "output_type": "display_data"
    }
   ],
   "source": [
    "# 랜덤포레스트로 예측\n",
    "# -발생건수가 100건일 경우의 부상자수 예측\n",
    "\n",
    "result = c()\n",
    "for(i in 1:5){\n",
    "    model.rf <- randomForest(부상자수~발생건수,data=JongRo,ntree=100)\n",
    "    pred <- predict(model.rf,data.frame(발생건수=100))\n",
    "    result <- append(result,pred)\n",
    "}\n",
    "result\n",
    "mean(result)"
   ]
  },
  {
   "cell_type": "code",
   "execution_count": 20,
   "id": "fe5cb61c",
   "metadata": {},
   "outputs": [
    {
     "data": {
      "text/html": [
       "200.086"
      ],
      "text/latex": [
       "200.086"
      ],
      "text/markdown": [
       "200.086"
      ],
      "text/plain": [
       "[1] 200.086"
      ]
     },
     "metadata": {},
     "output_type": "display_data"
    }
   ],
   "source": [
    "# 회귀식\n",
    "# -발생건수가 145건일 경우의 부상자수 예측\n",
    " \n",
    "1.360 * 145 + 2.886"
   ]
  },
  {
   "cell_type": "code",
   "execution_count": 21,
   "id": "bbf3e9b8",
   "metadata": {},
   "outputs": [
    {
     "data": {
      "text/html": [
       "184.5207"
      ],
      "text/latex": [
       "184.5207"
      ],
      "text/markdown": [
       "184.5207"
      ],
      "text/plain": [
       "[1] 184.5207"
      ]
     },
     "metadata": {},
     "output_type": "display_data"
    }
   ],
   "source": [
    "# 랜덤포레스트로 예측\n",
    "# -발생건수가 145건일 경우의 부상자수 예측\n",
    "\n",
    "result = c()\n",
    "for(i in 1:5){\n",
    "    model.rf <- randomForest(부상자수~발생건수,data=JongRo,ntree=100)\n",
    "    pred <- predict(model.rf,data.frame(발생건수=145))\n",
    "    result <- append(result,pred)\n",
    "}\n",
    "mean(result)"
   ]
  },
  {
   "cell_type": "code",
   "execution_count": 22,
   "id": "9aabbfa4",
   "metadata": {},
   "outputs": [
    {
     "data": {
      "text/html": [
       "206.886"
      ],
      "text/latex": [
       "206.886"
      ],
      "text/markdown": [
       "206.886"
      ],
      "text/plain": [
       "[1] 206.886"
      ]
     },
     "metadata": {},
     "output_type": "display_data"
    }
   ],
   "source": [
    "# 회귀식\n",
    "# -발생건수가 150건일 경우의 부상자수 예측\n",
    " \n",
    "1.360 * 150 + 2.886"
   ]
  },
  {
   "cell_type": "code",
   "execution_count": 23,
   "id": "d30d60fc",
   "metadata": {},
   "outputs": [
    {
     "data": {
      "text/html": [
       "185.180133333333"
      ],
      "text/latex": [
       "185.180133333333"
      ],
      "text/markdown": [
       "185.180133333333"
      ],
      "text/plain": [
       "[1] 185.1801"
      ]
     },
     "metadata": {},
     "output_type": "display_data"
    }
   ],
   "source": [
    "# 랜덤포레스트로 예측\n",
    "# -발생건수가 150건일 경우의 부상자수 예측\n",
    "\n",
    "result = c()\n",
    "for(i in 1:5){\n",
    "    model.rf <- randomForest(부상자수~발생건수,data=JongRo,ntree=100)\n",
    "    pred <- predict(model.rf,data.frame(발생건수=150))\n",
    "    result <- append(result,pred)\n",
    "}\n",
    "mean(result)"
   ]
  },
  {
   "cell_type": "code",
   "execution_count": 24,
   "id": "4e84842e",
   "metadata": {},
   "outputs": [
    {
     "data": {
      "text/html": [
       "118.486"
      ],
      "text/latex": [
       "118.486"
      ],
      "text/markdown": [
       "118.486"
      ],
      "text/plain": [
       "[1] 118.486"
      ]
     },
     "metadata": {},
     "output_type": "display_data"
    }
   ],
   "source": [
    "# 회귀식\n",
    "# -발생건수가 85건일 경우의 부상자수 예측\n",
    " \n",
    "1.360 * 85 + 2.886"
   ]
  },
  {
   "cell_type": "code",
   "execution_count": 25,
   "id": "021368c7",
   "metadata": {},
   "outputs": [
    {
     "data": {
      "text/html": [
       "123.938242857143"
      ],
      "text/latex": [
       "123.938242857143"
      ],
      "text/markdown": [
       "123.938242857143"
      ],
      "text/plain": [
       "[1] 123.9382"
      ]
     },
     "metadata": {},
     "output_type": "display_data"
    }
   ],
   "source": [
    "# 랜덤포레스트로 예측\n",
    "# -발생건수가 85건일 경우의 부상자수 예측\n",
    "\n",
    "result = c() # 데이터를 담을 수 있는 result라는 틀을 만듬 \n",
    "for(i in 1:5){ # 반복횟수는 임의로 한 것임\n",
    "    model.rf <- randomForest(부상자수~발생건수,data=JongRo,ntree=100)\n",
    "    pred <- predict(model.rf,data.frame(발생건수=85)) # predict(모델명, 데이터프레임타입)\n",
    "    result <- append(result,pred)\n",
    "}\n",
    "mean(result)"
   ]
  },
  {
   "cell_type": "code",
   "execution_count": 26,
   "id": "e634cbe3",
   "metadata": {},
   "outputs": [
    {
     "data": {
      "text/html": [
       "274.886"
      ],
      "text/latex": [
       "274.886"
      ],
      "text/markdown": [
       "274.886"
      ],
      "text/plain": [
       "[1] 274.886"
      ]
     },
     "metadata": {},
     "output_type": "display_data"
    }
   ],
   "source": [
    "# 회귀식\n",
    "# -발생건수가 200건일 경우의 부상자수 예측\n",
    " \n",
    "1.360 * 200 + 2.886"
   ]
  },
  {
   "cell_type": "code",
   "execution_count": 27,
   "id": "9ef43754",
   "metadata": {},
   "outputs": [
    {
     "data": {
      "text/html": [
       "185.039533333333"
      ],
      "text/latex": [
       "185.039533333333"
      ],
      "text/markdown": [
       "185.039533333333"
      ],
      "text/plain": [
       "[1] 185.0395"
      ]
     },
     "metadata": {},
     "output_type": "display_data"
    }
   ],
   "source": [
    "# 랜덤포레스트로 예측\n",
    "# -발생건수가 200건일 경우의 부상자수 예측\n",
    "\n",
    "result = c()\n",
    "for(i in 1:5){\n",
    "    model.rf <- randomForest(부상자수~발생건수,data=JongRo,ntree=100)\n",
    "    pred <- predict(model.rf,data.frame(발생건수=200))\n",
    "    result <- append(result,pred)\n",
    "}\n",
    "mean(result)"
   ]
  },
  {
   "cell_type": "code",
   "execution_count": 28,
   "id": "07d6a2bb",
   "metadata": {},
   "outputs": [],
   "source": [
    "# plot을 보면 85,145,150,200일 때의 데이터가 별로 없어 회귀식을 통한 예측결과와 랜덤포레스트를 통한 예측결과의 차이가\n",
    "# 다른 수 일때보다 차이가 많이 난다."
   ]
  },
  {
   "cell_type": "code",
   "execution_count": null,
   "id": "2b6e4cae",
   "metadata": {},
   "outputs": [],
   "source": []
  },
  {
   "cell_type": "code",
   "execution_count": null,
   "id": "aa1eb10b",
   "metadata": {},
   "outputs": [],
   "source": []
  },
  {
   "cell_type": "code",
   "execution_count": null,
   "id": "6b96c297",
   "metadata": {},
   "outputs": [],
   "source": []
  },
  {
   "cell_type": "code",
   "execution_count": null,
   "id": "b74857f3",
   "metadata": {},
   "outputs": [],
   "source": []
  }
 ],
 "metadata": {
  "kernelspec": {
   "display_name": "R",
   "language": "R",
   "name": "ir"
  },
  "language_info": {
   "codemirror_mode": "r",
   "file_extension": ".r",
   "mimetype": "text/x-r-source",
   "name": "R",
   "pygments_lexer": "r",
   "version": "3.6.1"
  }
 },
 "nbformat": 4,
 "nbformat_minor": 5
}
