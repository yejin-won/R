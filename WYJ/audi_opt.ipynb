{
 "cells": [
  {
   "cell_type": "code",
   "execution_count": 1,
   "id": "aac91467",
   "metadata": {},
   "outputs": [
    {
     "data": {
      "text/html": [
       "<table>\n",
       "<thead><tr><th scope=col>price</th><th scope=col>mileage</th><th scope=col>fuelType</th><th scope=col>mpg</th><th scope=col>engineSize</th><th scope=col>age</th><th scope=col>Automatic</th><th scope=col>Manual</th><th scope=col>Semi_Auto</th></tr></thead>\n",
       "<tbody>\n",
       "\t<tr><td>1490  </td><td>101000</td><td>0     </td><td>44.5  </td><td>1.9   </td><td>17    </td><td>1     </td><td>0     </td><td>0     </td></tr>\n",
       "\t<tr><td>1975  </td><td>104000</td><td>1     </td><td>38.1  </td><td>2.0   </td><td>15    </td><td>0     </td><td>1     </td><td>0     </td></tr>\n",
       "\t<tr><td>2490  </td><td>152034</td><td>0     </td><td>55.4  </td><td>1.9   </td><td>11    </td><td>0     </td><td>1     </td><td>0     </td></tr>\n",
       "\t<tr><td>2795  </td><td>104000</td><td>0     </td><td>53.3  </td><td>1.9   </td><td>13    </td><td>0     </td><td>1     </td><td>0     </td></tr>\n",
       "\t<tr><td>2895  </td><td>106790</td><td>1     </td><td>35.3  </td><td>1.6   </td><td>15    </td><td>0     </td><td>1     </td><td>0     </td></tr>\n",
       "\t<tr><td>2995  </td><td>117000</td><td>0     </td><td>48.7  </td><td>2.0   </td><td>12    </td><td>0     </td><td>1     </td><td>0     </td></tr>\n",
       "</tbody>\n",
       "</table>\n"
      ],
      "text/latex": [
       "\\begin{tabular}{r|lllllllll}\n",
       " price & mileage & fuelType & mpg & engineSize & age & Automatic & Manual & Semi\\_Auto\\\\\n",
       "\\hline\n",
       "\t 1490   & 101000 & 0      & 44.5   & 1.9    & 17     & 1      & 0      & 0     \\\\\n",
       "\t 1975   & 104000 & 1      & 38.1   & 2.0    & 15     & 0      & 1      & 0     \\\\\n",
       "\t 2490   & 152034 & 0      & 55.4   & 1.9    & 11     & 0      & 1      & 0     \\\\\n",
       "\t 2795   & 104000 & 0      & 53.3   & 1.9    & 13     & 0      & 1      & 0     \\\\\n",
       "\t 2895   & 106790 & 1      & 35.3   & 1.6    & 15     & 0      & 1      & 0     \\\\\n",
       "\t 2995   & 117000 & 0      & 48.7   & 2.0    & 12     & 0      & 1      & 0     \\\\\n",
       "\\end{tabular}\n"
      ],
      "text/markdown": [
       "\n",
       "| price | mileage | fuelType | mpg | engineSize | age | Automatic | Manual | Semi_Auto |\n",
       "|---|---|---|---|---|---|---|---|---|\n",
       "| 1490   | 101000 | 0      | 44.5   | 1.9    | 17     | 1      | 0      | 0      |\n",
       "| 1975   | 104000 | 1      | 38.1   | 2.0    | 15     | 0      | 1      | 0      |\n",
       "| 2490   | 152034 | 0      | 55.4   | 1.9    | 11     | 0      | 1      | 0      |\n",
       "| 2795   | 104000 | 0      | 53.3   | 1.9    | 13     | 0      | 1      | 0      |\n",
       "| 2895   | 106790 | 1      | 35.3   | 1.6    | 15     | 0      | 1      | 0      |\n",
       "| 2995   | 117000 | 0      | 48.7   | 2.0    | 12     | 0      | 1      | 0      |\n",
       "\n"
      ],
      "text/plain": [
       "  price mileage fuelType mpg  engineSize age Automatic Manual Semi_Auto\n",
       "1 1490  101000  0        44.5 1.9        17  1         0      0        \n",
       "2 1975  104000  1        38.1 2.0        15  0         1      0        \n",
       "3 2490  152034  0        55.4 1.9        11  0         1      0        \n",
       "4 2795  104000  0        53.3 1.9        13  0         1      0        \n",
       "5 2895  106790  1        35.3 1.6        15  0         1      0        \n",
       "6 2995  117000  0        48.7 2.0        12  0         1      0        "
      ]
     },
     "metadata": {},
     "output_type": "display_data"
    },
    {
     "data": {
      "text/html": [
       "<table>\n",
       "<thead><tr><th></th><th scope=col>price</th><th scope=col>mileage</th><th scope=col>fuelType</th><th scope=col>mpg</th><th scope=col>engineSize</th><th scope=col>age</th><th scope=col>Automatic</th><th scope=col>Manual</th><th scope=col>Semi_Auto</th></tr></thead>\n",
       "<tbody>\n",
       "\t<tr><th scope=row>1854</th><td>33950</td><td>6763 </td><td>1    </td><td>34.5 </td><td>2    </td><td>1    </td><td>0    </td><td>0    </td><td>1    </td></tr>\n",
       "\t<tr><th scope=row>1855</th><td>33990</td><td> 262 </td><td>1    </td><td>33.2 </td><td>2    </td><td>1    </td><td>0    </td><td>0    </td><td>1    </td></tr>\n",
       "\t<tr><th scope=row>1856</th><td>33990</td><td>4290 </td><td>1    </td><td>34.9 </td><td>2    </td><td>1    </td><td>0    </td><td>0    </td><td>1    </td></tr>\n",
       "\t<tr><th scope=row>1857</th><td>33990</td><td>6000 </td><td>1    </td><td>33.2 </td><td>2    </td><td>1    </td><td>1    </td><td>0    </td><td>0    </td></tr>\n",
       "\t<tr><th scope=row>1858</th><td>33995</td><td>3243 </td><td>1    </td><td>34.5 </td><td>2    </td><td>1    </td><td>0    </td><td>0    </td><td>1    </td></tr>\n",
       "\t<tr><th scope=row>1859</th><td>34000</td><td>2000 </td><td>1    </td><td>33.2 </td><td>2    </td><td>1    </td><td>0    </td><td>0    </td><td>1    </td></tr>\n",
       "</tbody>\n",
       "</table>\n"
      ],
      "text/latex": [
       "\\begin{tabular}{r|lllllllll}\n",
       "  & price & mileage & fuelType & mpg & engineSize & age & Automatic & Manual & Semi\\_Auto\\\\\n",
       "\\hline\n",
       "\t1854 & 33950 & 6763  & 1     & 34.5  & 2     & 1     & 0     & 0     & 1    \\\\\n",
       "\t1855 & 33990 &  262  & 1     & 33.2  & 2     & 1     & 0     & 0     & 1    \\\\\n",
       "\t1856 & 33990 & 4290  & 1     & 34.9  & 2     & 1     & 0     & 0     & 1    \\\\\n",
       "\t1857 & 33990 & 6000  & 1     & 33.2  & 2     & 1     & 1     & 0     & 0    \\\\\n",
       "\t1858 & 33995 & 3243  & 1     & 34.5  & 2     & 1     & 0     & 0     & 1    \\\\\n",
       "\t1859 & 34000 & 2000  & 1     & 33.2  & 2     & 1     & 0     & 0     & 1    \\\\\n",
       "\\end{tabular}\n"
      ],
      "text/markdown": [
       "\n",
       "| <!--/--> | price | mileage | fuelType | mpg | engineSize | age | Automatic | Manual | Semi_Auto |\n",
       "|---|---|---|---|---|---|---|---|---|---|\n",
       "| 1854 | 33950 | 6763  | 1     | 34.5  | 2     | 1     | 0     | 0     | 1     |\n",
       "| 1855 | 33990 |  262  | 1     | 33.2  | 2     | 1     | 0     | 0     | 1     |\n",
       "| 1856 | 33990 | 4290  | 1     | 34.9  | 2     | 1     | 0     | 0     | 1     |\n",
       "| 1857 | 33990 | 6000  | 1     | 33.2  | 2     | 1     | 1     | 0     | 0     |\n",
       "| 1858 | 33995 | 3243  | 1     | 34.5  | 2     | 1     | 0     | 0     | 1     |\n",
       "| 1859 | 34000 | 2000  | 1     | 33.2  | 2     | 1     | 0     | 0     | 1     |\n",
       "\n"
      ],
      "text/plain": [
       "     price mileage fuelType mpg  engineSize age Automatic Manual Semi_Auto\n",
       "1854 33950 6763    1        34.5 2          1   0         0      1        \n",
       "1855 33990  262    1        33.2 2          1   0         0      1        \n",
       "1856 33990 4290    1        34.9 2          1   0         0      1        \n",
       "1857 33990 6000    1        33.2 2          1   1         0      0        \n",
       "1858 33995 3243    1        34.5 2          1   0         0      1        \n",
       "1859 34000 2000    1        33.2 2          1   0         0      1        "
      ]
     },
     "metadata": {},
     "output_type": "display_data"
    },
    {
     "data": {
      "text/html": [
       "'data.frame'"
      ],
      "text/latex": [
       "'data.frame'"
      ],
      "text/markdown": [
       "'data.frame'"
      ],
      "text/plain": [
       "[1] \"data.frame\""
      ]
     },
     "metadata": {},
     "output_type": "display_data"
    }
   ],
   "source": [
    "A3 <- read.csv(\"./Data/A3_opt.csv\")\n",
    "head(A3)\n",
    "tail(A3)\n",
    "class(A3)"
   ]
  },
  {
   "cell_type": "code",
   "execution_count": 2,
   "id": "adb300d1",
   "metadata": {},
   "outputs": [],
   "source": [
    "A3$fuelType <- ifelse(A3$fuelType==1,replace(A3$fuelType,A3$fuelType==1,\"Diesel\"),replace(A3$fuelType,A3$fuelType==0,\"Petrol\"))"
   ]
  },
  {
   "cell_type": "code",
   "execution_count": 3,
   "id": "290e95da",
   "metadata": {},
   "outputs": [],
   "source": [
    "A3$model <- rep(\"A3\",nrow(A3))"
   ]
  },
  {
   "cell_type": "code",
   "execution_count": 4,
   "id": "d46da577",
   "metadata": {},
   "outputs": [
    {
     "name": "stderr",
     "output_type": "stream",
     "text": [
      "\n",
      "Attaching package: ‘dplyr’\n",
      "\n",
      "The following objects are masked from ‘package:stats’:\n",
      "\n",
      "    filter, lag\n",
      "\n",
      "The following objects are masked from ‘package:base’:\n",
      "\n",
      "    intersect, setdiff, setequal, union\n",
      "\n"
     ]
    }
   ],
   "source": [
    "library(dplyr)"
   ]
  },
  {
   "cell_type": "code",
   "execution_count": 5,
   "id": "b393b780",
   "metadata": {},
   "outputs": [],
   "source": [
    "A3$transmission <- ifelse(A3$Automatic==1,\"Automatic\",ifelse(A3$Manual==1,\"Manual\",\"Semi_Auto\"))"
   ]
  },
  {
   "cell_type": "code",
   "execution_count": 6,
   "id": "07dc8496",
   "metadata": {},
   "outputs": [],
   "source": [
    "A3 <- A3[,-c(7,8,9)]"
   ]
  },
  {
   "cell_type": "code",
   "execution_count": 7,
   "id": "e1d574f3",
   "metadata": {},
   "outputs": [],
   "source": [
    "A3 <- A3[,c(7,1,8,2,3,6)]"
   ]
  },
  {
   "cell_type": "code",
   "execution_count": 8,
   "id": "a2cbfdaa",
   "metadata": {},
   "outputs": [
    {
     "data": {
      "text/html": [
       "<table>\n",
       "<thead><tr><th scope=col>model</th><th scope=col>price</th><th scope=col>transmission</th><th scope=col>mileage</th><th scope=col>fuelType</th><th scope=col>age</th></tr></thead>\n",
       "<tbody>\n",
       "</tbody>\n",
       "</table>\n"
      ],
      "text/latex": [
       "\\begin{tabular}{r|llllll}\n",
       " model & price & transmission & mileage & fuelType & age\\\\\n",
       "\\hline\n",
       "\\end{tabular}\n"
      ],
      "text/markdown": [
       "\n",
       "| model | price | transmission | mileage | fuelType | age |\n",
       "|---|---|---|---|---|---|\n",
       "\n"
      ],
      "text/plain": [
       "     model price transmission mileage fuelType age"
      ]
     },
     "metadata": {},
     "output_type": "display_data"
    }
   ],
   "source": [
    "subset(A3,age==0)"
   ]
  },
  {
   "cell_type": "code",
   "execution_count": 9,
   "id": "5d50275b",
   "metadata": {
    "scrolled": true
   },
   "outputs": [
    {
     "data": {
      "text/html": [
       "<table>\n",
       "<thead><tr><th scope=col>model</th><th scope=col>price</th><th scope=col>transmission</th><th scope=col>mileage</th><th scope=col>fuelType</th><th scope=col>age</th></tr></thead>\n",
       "<tbody>\n",
       "\t<tr><td>A3       </td><td>1490     </td><td>Automatic</td><td>101000   </td><td>Petrol   </td><td>17       </td></tr>\n",
       "\t<tr><td>A3       </td><td>1975     </td><td>Manual   </td><td>104000   </td><td>Diesel   </td><td>15       </td></tr>\n",
       "\t<tr><td>A3       </td><td>2490     </td><td>Manual   </td><td>152034   </td><td>Petrol   </td><td>11       </td></tr>\n",
       "\t<tr><td>A3       </td><td>2795     </td><td>Manual   </td><td>104000   </td><td>Petrol   </td><td>13       </td></tr>\n",
       "\t<tr><td>A3       </td><td>2895     </td><td>Manual   </td><td>106790   </td><td>Diesel   </td><td>15       </td></tr>\n",
       "\t<tr><td>A3       </td><td>2995     </td><td>Manual   </td><td>117000   </td><td>Petrol   </td><td>12       </td></tr>\n",
       "</tbody>\n",
       "</table>\n"
      ],
      "text/latex": [
       "\\begin{tabular}{r|llllll}\n",
       " model & price & transmission & mileage & fuelType & age\\\\\n",
       "\\hline\n",
       "\t A3        & 1490      & Automatic & 101000    & Petrol    & 17       \\\\\n",
       "\t A3        & 1975      & Manual    & 104000    & Diesel    & 15       \\\\\n",
       "\t A3        & 2490      & Manual    & 152034    & Petrol    & 11       \\\\\n",
       "\t A3        & 2795      & Manual    & 104000    & Petrol    & 13       \\\\\n",
       "\t A3        & 2895      & Manual    & 106790    & Diesel    & 15       \\\\\n",
       "\t A3        & 2995      & Manual    & 117000    & Petrol    & 12       \\\\\n",
       "\\end{tabular}\n"
      ],
      "text/markdown": [
       "\n",
       "| model | price | transmission | mileage | fuelType | age |\n",
       "|---|---|---|---|---|---|\n",
       "| A3        | 1490      | Automatic | 101000    | Petrol    | 17        |\n",
       "| A3        | 1975      | Manual    | 104000    | Diesel    | 15        |\n",
       "| A3        | 2490      | Manual    | 152034    | Petrol    | 11        |\n",
       "| A3        | 2795      | Manual    | 104000    | Petrol    | 13        |\n",
       "| A3        | 2895      | Manual    | 106790    | Diesel    | 15        |\n",
       "| A3        | 2995      | Manual    | 117000    | Petrol    | 12        |\n",
       "\n"
      ],
      "text/plain": [
       "  model price transmission mileage fuelType age\n",
       "1 A3    1490  Automatic    101000  Petrol   17 \n",
       "2 A3    1975  Manual       104000  Diesel   15 \n",
       "3 A3    2490  Manual       152034  Petrol   11 \n",
       "4 A3    2795  Manual       104000  Petrol   13 \n",
       "5 A3    2895  Manual       106790  Diesel   15 \n",
       "6 A3    2995  Manual       117000  Petrol   12 "
      ]
     },
     "metadata": {},
     "output_type": "display_data"
    }
   ],
   "source": [
    "head(A3)"
   ]
  },
  {
   "cell_type": "code",
   "execution_count": 10,
   "id": "a4ae7a00",
   "metadata": {},
   "outputs": [],
   "source": [
    "Q3 <- read.csv(\"./Data/Q3_opt.csv\")"
   ]
  },
  {
   "cell_type": "code",
   "execution_count": 11,
   "id": "2e4b3a7a",
   "metadata": {},
   "outputs": [
    {
     "data": {
      "text/html": [
       "<table>\n",
       "<thead><tr><th scope=col>price</th><th scope=col>mileage</th><th scope=col>fuelType</th><th scope=col>mpg</th><th scope=col>engineSize</th><th scope=col>age</th><th scope=col>Automatic</th><th scope=col>Manual</th><th scope=col>Semi_Auto</th></tr></thead>\n",
       "<tbody>\n",
       "\t<tr><td>8750  </td><td> 67727</td><td>0     </td><td>54.3  </td><td>2     </td><td>7     </td><td>0     </td><td>1     </td><td>0     </td></tr>\n",
       "\t<tr><td>8900  </td><td> 90020</td><td>0     </td><td>49.6  </td><td>2     </td><td>7     </td><td>0     </td><td>1     </td><td>0     </td></tr>\n",
       "\t<tr><td>8975  </td><td> 77120</td><td>0     </td><td>54.3  </td><td>2     </td><td>7     </td><td>0     </td><td>1     </td><td>0     </td></tr>\n",
       "\t<tr><td>8995  </td><td> 73441</td><td>0     </td><td>54.3  </td><td>2     </td><td>7     </td><td>0     </td><td>1     </td><td>0     </td></tr>\n",
       "\t<tr><td>9000  </td><td>108220</td><td>0     </td><td>54.3  </td><td>2     </td><td>7     </td><td>0     </td><td>1     </td><td>0     </td></tr>\n",
       "\t<tr><td>9250  </td><td> 88445</td><td>0     </td><td>49.6  </td><td>2     </td><td>7     </td><td>0     </td><td>1     </td><td>0     </td></tr>\n",
       "</tbody>\n",
       "</table>\n"
      ],
      "text/latex": [
       "\\begin{tabular}{r|lllllllll}\n",
       " price & mileage & fuelType & mpg & engineSize & age & Automatic & Manual & Semi\\_Auto\\\\\n",
       "\\hline\n",
       "\t 8750   &  67727 & 0      & 54.3   & 2      & 7      & 0      & 1      & 0     \\\\\n",
       "\t 8900   &  90020 & 0      & 49.6   & 2      & 7      & 0      & 1      & 0     \\\\\n",
       "\t 8975   &  77120 & 0      & 54.3   & 2      & 7      & 0      & 1      & 0     \\\\\n",
       "\t 8995   &  73441 & 0      & 54.3   & 2      & 7      & 0      & 1      & 0     \\\\\n",
       "\t 9000   & 108220 & 0      & 54.3   & 2      & 7      & 0      & 1      & 0     \\\\\n",
       "\t 9250   &  88445 & 0      & 49.6   & 2      & 7      & 0      & 1      & 0     \\\\\n",
       "\\end{tabular}\n"
      ],
      "text/markdown": [
       "\n",
       "| price | mileage | fuelType | mpg | engineSize | age | Automatic | Manual | Semi_Auto |\n",
       "|---|---|---|---|---|---|---|---|---|\n",
       "| 8750   |  67727 | 0      | 54.3   | 2      | 7      | 0      | 1      | 0      |\n",
       "| 8900   |  90020 | 0      | 49.6   | 2      | 7      | 0      | 1      | 0      |\n",
       "| 8975   |  77120 | 0      | 54.3   | 2      | 7      | 0      | 1      | 0      |\n",
       "| 8995   |  73441 | 0      | 54.3   | 2      | 7      | 0      | 1      | 0      |\n",
       "| 9000   | 108220 | 0      | 54.3   | 2      | 7      | 0      | 1      | 0      |\n",
       "| 9250   |  88445 | 0      | 49.6   | 2      | 7      | 0      | 1      | 0      |\n",
       "\n"
      ],
      "text/plain": [
       "  price mileage fuelType mpg  engineSize age Automatic Manual Semi_Auto\n",
       "1 8750   67727  0        54.3 2          7   0         1      0        \n",
       "2 8900   90020  0        49.6 2          7   0         1      0        \n",
       "3 8975   77120  0        54.3 2          7   0         1      0        \n",
       "4 8995   73441  0        54.3 2          7   0         1      0        \n",
       "5 9000  108220  0        54.3 2          7   0         1      0        \n",
       "6 9250   88445  0        49.6 2          7   0         1      0        "
      ]
     },
     "metadata": {},
     "output_type": "display_data"
    },
    {
     "data": {
      "text/html": [
       "<table>\n",
       "<thead><tr><th></th><th scope=col>price</th><th scope=col>mileage</th><th scope=col>fuelType</th><th scope=col>mpg</th><th scope=col>engineSize</th><th scope=col>age</th><th scope=col>Automatic</th><th scope=col>Manual</th><th scope=col>Semi_Auto</th></tr></thead>\n",
       "<tbody>\n",
       "\t<tr><th scope=row>1404</th><td>39888</td><td>1765 </td><td>1    </td><td>31.0 </td><td>2    </td><td>0    </td><td>0    </td><td>0    </td><td>1    </td></tr>\n",
       "\t<tr><th scope=row>1405</th><td>39945</td><td>1000 </td><td>1    </td><td>31.4 </td><td>2    </td><td>1    </td><td>1    </td><td>0    </td><td>0    </td></tr>\n",
       "\t<tr><th scope=row>1406</th><td>39990</td><td>3009 </td><td>1    </td><td>31.0 </td><td>2    </td><td>1    </td><td>0    </td><td>0    </td><td>1    </td></tr>\n",
       "\t<tr><th scope=row>1407</th><td>39990</td><td>7120 </td><td>1    </td><td>31.4 </td><td>2    </td><td>1    </td><td>0    </td><td>0    </td><td>1    </td></tr>\n",
       "\t<tr><th scope=row>1408</th><td>39990</td><td>7561 </td><td>1    </td><td>30.7 </td><td>2    </td><td>1    </td><td>0    </td><td>0    </td><td>1    </td></tr>\n",
       "\t<tr><th scope=row>1409</th><td>39995</td><td>3000 </td><td>1    </td><td>30.7 </td><td>2    </td><td>0    </td><td>0    </td><td>0    </td><td>1    </td></tr>\n",
       "</tbody>\n",
       "</table>\n"
      ],
      "text/latex": [
       "\\begin{tabular}{r|lllllllll}\n",
       "  & price & mileage & fuelType & mpg & engineSize & age & Automatic & Manual & Semi\\_Auto\\\\\n",
       "\\hline\n",
       "\t1404 & 39888 & 1765  & 1     & 31.0  & 2     & 0     & 0     & 0     & 1    \\\\\n",
       "\t1405 & 39945 & 1000  & 1     & 31.4  & 2     & 1     & 1     & 0     & 0    \\\\\n",
       "\t1406 & 39990 & 3009  & 1     & 31.0  & 2     & 1     & 0     & 0     & 1    \\\\\n",
       "\t1407 & 39990 & 7120  & 1     & 31.4  & 2     & 1     & 0     & 0     & 1    \\\\\n",
       "\t1408 & 39990 & 7561  & 1     & 30.7  & 2     & 1     & 0     & 0     & 1    \\\\\n",
       "\t1409 & 39995 & 3000  & 1     & 30.7  & 2     & 0     & 0     & 0     & 1    \\\\\n",
       "\\end{tabular}\n"
      ],
      "text/markdown": [
       "\n",
       "| <!--/--> | price | mileage | fuelType | mpg | engineSize | age | Automatic | Manual | Semi_Auto |\n",
       "|---|---|---|---|---|---|---|---|---|---|\n",
       "| 1404 | 39888 | 1765  | 1     | 31.0  | 2     | 0     | 0     | 0     | 1     |\n",
       "| 1405 | 39945 | 1000  | 1     | 31.4  | 2     | 1     | 1     | 0     | 0     |\n",
       "| 1406 | 39990 | 3009  | 1     | 31.0  | 2     | 1     | 0     | 0     | 1     |\n",
       "| 1407 | 39990 | 7120  | 1     | 31.4  | 2     | 1     | 0     | 0     | 1     |\n",
       "| 1408 | 39990 | 7561  | 1     | 30.7  | 2     | 1     | 0     | 0     | 1     |\n",
       "| 1409 | 39995 | 3000  | 1     | 30.7  | 2     | 0     | 0     | 0     | 1     |\n",
       "\n"
      ],
      "text/plain": [
       "     price mileage fuelType mpg  engineSize age Automatic Manual Semi_Auto\n",
       "1404 39888 1765    1        31.0 2          0   0         0      1        \n",
       "1405 39945 1000    1        31.4 2          1   1         0      0        \n",
       "1406 39990 3009    1        31.0 2          1   0         0      1        \n",
       "1407 39990 7120    1        31.4 2          1   0         0      1        \n",
       "1408 39990 7561    1        30.7 2          1   0         0      1        \n",
       "1409 39995 3000    1        30.7 2          0   0         0      1        "
      ]
     },
     "metadata": {},
     "output_type": "display_data"
    }
   ],
   "source": [
    "head(Q3)\n",
    "tail(Q3)"
   ]
  },
  {
   "cell_type": "code",
   "execution_count": 12,
   "id": "2643583c",
   "metadata": {},
   "outputs": [],
   "source": [
    "Q3$fuelType <- ifelse(Q3$fuelType==1,replace(Q3$fuelType,Q3$fuelType==1,\"Diesel\"),replace(Q3$fuelType,Q3$fuelType==0,\"Petrol\"))"
   ]
  },
  {
   "cell_type": "code",
   "execution_count": 13,
   "id": "f844237b",
   "metadata": {},
   "outputs": [],
   "source": [
    "Q3$model <- rep(\"Q3\",nrow(Q3))"
   ]
  },
  {
   "cell_type": "code",
   "execution_count": 14,
   "id": "36473c25",
   "metadata": {},
   "outputs": [],
   "source": [
    "Q3$transmission <- ifelse(Q3$Automatic==1,\"Automatic\",ifelse(Q3$Manual==1,\"Manual\",\"Semi_Auto\"))"
   ]
  },
  {
   "cell_type": "code",
   "execution_count": 15,
   "id": "7310c279",
   "metadata": {},
   "outputs": [],
   "source": [
    "Q3 <- Q3[,-c(7,8,9)]"
   ]
  },
  {
   "cell_type": "code",
   "execution_count": 16,
   "id": "39c047bf",
   "metadata": {},
   "outputs": [],
   "source": [
    "Q3 <- Q3[,c(7,1,8,2,3,6)]"
   ]
  },
  {
   "cell_type": "code",
   "execution_count": 17,
   "id": "d2d7e1d3",
   "metadata": {},
   "outputs": [],
   "source": [
    "Q3 <- subset(Q3,!age==0)"
   ]
  },
  {
   "cell_type": "code",
   "execution_count": 18,
   "id": "a3c6750c",
   "metadata": {},
   "outputs": [
    {
     "data": {
      "text/html": [
       "<table>\n",
       "<thead><tr><th scope=col>model</th><th scope=col>price</th><th scope=col>transmission</th><th scope=col>mileage</th><th scope=col>fuelType</th><th scope=col>age</th></tr></thead>\n",
       "<tbody>\n",
       "\t<tr><td>Q3    </td><td>8750  </td><td>Manual</td><td> 67727</td><td>Petrol</td><td>7     </td></tr>\n",
       "\t<tr><td>Q3    </td><td>8900  </td><td>Manual</td><td> 90020</td><td>Petrol</td><td>7     </td></tr>\n",
       "\t<tr><td>Q3    </td><td>8975  </td><td>Manual</td><td> 77120</td><td>Petrol</td><td>7     </td></tr>\n",
       "\t<tr><td>Q3    </td><td>8995  </td><td>Manual</td><td> 73441</td><td>Petrol</td><td>7     </td></tr>\n",
       "\t<tr><td>Q3    </td><td>9000  </td><td>Manual</td><td>108220</td><td>Petrol</td><td>7     </td></tr>\n",
       "\t<tr><td>Q3    </td><td>9250  </td><td>Manual</td><td> 88445</td><td>Petrol</td><td>7     </td></tr>\n",
       "</tbody>\n",
       "</table>\n"
      ],
      "text/latex": [
       "\\begin{tabular}{r|llllll}\n",
       " model & price & transmission & mileage & fuelType & age\\\\\n",
       "\\hline\n",
       "\t Q3     & 8750   & Manual &  67727 & Petrol & 7     \\\\\n",
       "\t Q3     & 8900   & Manual &  90020 & Petrol & 7     \\\\\n",
       "\t Q3     & 8975   & Manual &  77120 & Petrol & 7     \\\\\n",
       "\t Q3     & 8995   & Manual &  73441 & Petrol & 7     \\\\\n",
       "\t Q3     & 9000   & Manual & 108220 & Petrol & 7     \\\\\n",
       "\t Q3     & 9250   & Manual &  88445 & Petrol & 7     \\\\\n",
       "\\end{tabular}\n"
      ],
      "text/markdown": [
       "\n",
       "| model | price | transmission | mileage | fuelType | age |\n",
       "|---|---|---|---|---|---|\n",
       "| Q3     | 8750   | Manual |  67727 | Petrol | 7      |\n",
       "| Q3     | 8900   | Manual |  90020 | Petrol | 7      |\n",
       "| Q3     | 8975   | Manual |  77120 | Petrol | 7      |\n",
       "| Q3     | 8995   | Manual |  73441 | Petrol | 7      |\n",
       "| Q3     | 9000   | Manual | 108220 | Petrol | 7      |\n",
       "| Q3     | 9250   | Manual |  88445 | Petrol | 7      |\n",
       "\n"
      ],
      "text/plain": [
       "  model price transmission mileage fuelType age\n",
       "1 Q3    8750  Manual        67727  Petrol   7  \n",
       "2 Q3    8900  Manual        90020  Petrol   7  \n",
       "3 Q3    8975  Manual        77120  Petrol   7  \n",
       "4 Q3    8995  Manual        73441  Petrol   7  \n",
       "5 Q3    9000  Manual       108220  Petrol   7  \n",
       "6 Q3    9250  Manual        88445  Petrol   7  "
      ]
     },
     "metadata": {},
     "output_type": "display_data"
    },
    {
     "data": {
      "text/html": [
       "<table>\n",
       "<thead><tr><th></th><th scope=col>model</th><th scope=col>price</th><th scope=col>transmission</th><th scope=col>mileage</th><th scope=col>fuelType</th><th scope=col>age</th></tr></thead>\n",
       "<tbody>\n",
       "\t<tr><th scope=row>1400</th><td>Q3       </td><td>38995    </td><td>Semi_Auto</td><td>5454     </td><td>Diesel   </td><td>1        </td></tr>\n",
       "\t<tr><th scope=row>1402</th><td>Q3       </td><td>39490    </td><td>Automatic</td><td>5000     </td><td>Diesel   </td><td>1        </td></tr>\n",
       "\t<tr><th scope=row>1405</th><td>Q3       </td><td>39945    </td><td>Automatic</td><td>1000     </td><td>Diesel   </td><td>1        </td></tr>\n",
       "\t<tr><th scope=row>1406</th><td>Q3       </td><td>39990    </td><td>Semi_Auto</td><td>3009     </td><td>Diesel   </td><td>1        </td></tr>\n",
       "\t<tr><th scope=row>1407</th><td>Q3       </td><td>39990    </td><td>Semi_Auto</td><td>7120     </td><td>Diesel   </td><td>1        </td></tr>\n",
       "\t<tr><th scope=row>1408</th><td>Q3       </td><td>39990    </td><td>Semi_Auto</td><td>7561     </td><td>Diesel   </td><td>1        </td></tr>\n",
       "</tbody>\n",
       "</table>\n"
      ],
      "text/latex": [
       "\\begin{tabular}{r|llllll}\n",
       "  & model & price & transmission & mileage & fuelType & age\\\\\n",
       "\\hline\n",
       "\t1400 & Q3          & 38995       & Semi\\_Auto & 5454        & Diesel      & 1          \\\\\n",
       "\t1402 & Q3        & 39490     & Automatic & 5000      & Diesel    & 1        \\\\\n",
       "\t1405 & Q3        & 39945     & Automatic & 1000      & Diesel    & 1        \\\\\n",
       "\t1406 & Q3          & 39990       & Semi\\_Auto & 3009        & Diesel      & 1          \\\\\n",
       "\t1407 & Q3          & 39990       & Semi\\_Auto & 7120        & Diesel      & 1          \\\\\n",
       "\t1408 & Q3          & 39990       & Semi\\_Auto & 7561        & Diesel      & 1          \\\\\n",
       "\\end{tabular}\n"
      ],
      "text/markdown": [
       "\n",
       "| <!--/--> | model | price | transmission | mileage | fuelType | age |\n",
       "|---|---|---|---|---|---|---|\n",
       "| 1400 | Q3        | 38995     | Semi_Auto | 5454      | Diesel    | 1         |\n",
       "| 1402 | Q3        | 39490     | Automatic | 5000      | Diesel    | 1         |\n",
       "| 1405 | Q3        | 39945     | Automatic | 1000      | Diesel    | 1         |\n",
       "| 1406 | Q3        | 39990     | Semi_Auto | 3009      | Diesel    | 1         |\n",
       "| 1407 | Q3        | 39990     | Semi_Auto | 7120      | Diesel    | 1         |\n",
       "| 1408 | Q3        | 39990     | Semi_Auto | 7561      | Diesel    | 1         |\n",
       "\n"
      ],
      "text/plain": [
       "     model price transmission mileage fuelType age\n",
       "1400 Q3    38995 Semi_Auto    5454    Diesel   1  \n",
       "1402 Q3    39490 Automatic    5000    Diesel   1  \n",
       "1405 Q3    39945 Automatic    1000    Diesel   1  \n",
       "1406 Q3    39990 Semi_Auto    3009    Diesel   1  \n",
       "1407 Q3    39990 Semi_Auto    7120    Diesel   1  \n",
       "1408 Q3    39990 Semi_Auto    7561    Diesel   1  "
      ]
     },
     "metadata": {},
     "output_type": "display_data"
    }
   ],
   "source": [
    "head(Q3)\n",
    "tail(Q3)"
   ]
  },
  {
   "cell_type": "code",
   "execution_count": 19,
   "id": "90381f19",
   "metadata": {},
   "outputs": [],
   "source": [
    "A4 <- read.csv(\"./Data/A4_opt.csv\")"
   ]
  },
  {
   "cell_type": "code",
   "execution_count": 20,
   "id": "9265f5ad",
   "metadata": {},
   "outputs": [
    {
     "data": {
      "text/html": [
       "<table>\n",
       "<thead><tr><th scope=col>price</th><th scope=col>mileage</th><th scope=col>fuelType</th><th scope=col>mpg</th><th scope=col>engineSize</th><th scope=col>age</th><th scope=col>Automatic</th><th scope=col>Manual</th><th scope=col>Semi_Auto</th></tr></thead>\n",
       "<tbody>\n",
       "\t<tr><td>2675  </td><td>125000</td><td>1     </td><td>34.9  </td><td>2.0   </td><td>13    </td><td>0     </td><td>1     </td><td>0     </td></tr>\n",
       "\t<tr><td>2990  </td><td> 95000</td><td>1     </td><td>34.9  </td><td>2.0   </td><td>15    </td><td>0     </td><td>1     </td><td>0     </td></tr>\n",
       "\t<tr><td>2995  </td><td>114000</td><td>0     </td><td>48.7  </td><td>2.0   </td><td>14    </td><td>0     </td><td>1     </td><td>0     </td></tr>\n",
       "\t<tr><td>3195  </td><td>123000</td><td>1     </td><td>33.6  </td><td>1.8   </td><td>15    </td><td>0     </td><td>1     </td><td>0     </td></tr>\n",
       "\t<tr><td>3495  </td><td>138649</td><td>0     </td><td>33.2  </td><td>2.0   </td><td>13    </td><td>0     </td><td>1     </td><td>0     </td></tr>\n",
       "\t<tr><td>3495  </td><td>105000</td><td>1     </td><td>34.0  </td><td>2.0   </td><td>14    </td><td>1     </td><td>0     </td><td>0     </td></tr>\n",
       "</tbody>\n",
       "</table>\n"
      ],
      "text/latex": [
       "\\begin{tabular}{r|lllllllll}\n",
       " price & mileage & fuelType & mpg & engineSize & age & Automatic & Manual & Semi\\_Auto\\\\\n",
       "\\hline\n",
       "\t 2675   & 125000 & 1      & 34.9   & 2.0    & 13     & 0      & 1      & 0     \\\\\n",
       "\t 2990   &  95000 & 1      & 34.9   & 2.0    & 15     & 0      & 1      & 0     \\\\\n",
       "\t 2995   & 114000 & 0      & 48.7   & 2.0    & 14     & 0      & 1      & 0     \\\\\n",
       "\t 3195   & 123000 & 1      & 33.6   & 1.8    & 15     & 0      & 1      & 0     \\\\\n",
       "\t 3495   & 138649 & 0      & 33.2   & 2.0    & 13     & 0      & 1      & 0     \\\\\n",
       "\t 3495   & 105000 & 1      & 34.0   & 2.0    & 14     & 1      & 0      & 0     \\\\\n",
       "\\end{tabular}\n"
      ],
      "text/markdown": [
       "\n",
       "| price | mileage | fuelType | mpg | engineSize | age | Automatic | Manual | Semi_Auto |\n",
       "|---|---|---|---|---|---|---|---|---|\n",
       "| 2675   | 125000 | 1      | 34.9   | 2.0    | 13     | 0      | 1      | 0      |\n",
       "| 2990   |  95000 | 1      | 34.9   | 2.0    | 15     | 0      | 1      | 0      |\n",
       "| 2995   | 114000 | 0      | 48.7   | 2.0    | 14     | 0      | 1      | 0      |\n",
       "| 3195   | 123000 | 1      | 33.6   | 1.8    | 15     | 0      | 1      | 0      |\n",
       "| 3495   | 138649 | 0      | 33.2   | 2.0    | 13     | 0      | 1      | 0      |\n",
       "| 3495   | 105000 | 1      | 34.0   | 2.0    | 14     | 1      | 0      | 0      |\n",
       "\n"
      ],
      "text/plain": [
       "  price mileage fuelType mpg  engineSize age Automatic Manual Semi_Auto\n",
       "1 2675  125000  1        34.9 2.0        13  0         1      0        \n",
       "2 2990   95000  1        34.9 2.0        15  0         1      0        \n",
       "3 2995  114000  0        48.7 2.0        14  0         1      0        \n",
       "4 3195  123000  1        33.6 1.8        15  0         1      0        \n",
       "5 3495  138649  0        33.2 2.0        13  0         1      0        \n",
       "6 3495  105000  1        34.0 2.0        14  1         0      0        "
      ]
     },
     "metadata": {},
     "output_type": "display_data"
    },
    {
     "data": {
      "text/html": [
       "<table>\n",
       "<thead><tr><th></th><th scope=col>price</th><th scope=col>mileage</th><th scope=col>fuelType</th><th scope=col>mpg</th><th scope=col>engineSize</th><th scope=col>age</th><th scope=col>Automatic</th><th scope=col>Manual</th><th scope=col>Semi_Auto</th></tr></thead>\n",
       "<tbody>\n",
       "\t<tr><th scope=row>1374</th><td>46888</td><td>3988 </td><td>0    </td><td>39.2 </td><td>3    </td><td>1    </td><td>1    </td><td>0    </td><td>0    </td></tr>\n",
       "\t<tr><th scope=row>1375</th><td>47000</td><td>6760 </td><td>0    </td><td>39.2 </td><td>3    </td><td>0    </td><td>1    </td><td>0    </td><td>0    </td></tr>\n",
       "\t<tr><th scope=row>1376</th><td>47950</td><td>3558 </td><td>0    </td><td>39.2 </td><td>3    </td><td>0    </td><td>1    </td><td>0    </td><td>0    </td></tr>\n",
       "\t<tr><th scope=row>1377</th><td>47990</td><td>5000 </td><td>0    </td><td>39.2 </td><td>3    </td><td>0    </td><td>0    </td><td>0    </td><td>1    </td></tr>\n",
       "\t<tr><th scope=row>1378</th><td>47990</td><td>5500 </td><td>1    </td><td>35.3 </td><td>2    </td><td>0    </td><td>1    </td><td>0    </td><td>0    </td></tr>\n",
       "\t<tr><th scope=row>1379</th><td>49000</td><td>  38 </td><td>0    </td><td>39.2 </td><td>3    </td><td>0    </td><td>1    </td><td>0    </td><td>0    </td></tr>\n",
       "</tbody>\n",
       "</table>\n"
      ],
      "text/latex": [
       "\\begin{tabular}{r|lllllllll}\n",
       "  & price & mileage & fuelType & mpg & engineSize & age & Automatic & Manual & Semi\\_Auto\\\\\n",
       "\\hline\n",
       "\t1374 & 46888 & 3988  & 0     & 39.2  & 3     & 1     & 1     & 0     & 0    \\\\\n",
       "\t1375 & 47000 & 6760  & 0     & 39.2  & 3     & 0     & 1     & 0     & 0    \\\\\n",
       "\t1376 & 47950 & 3558  & 0     & 39.2  & 3     & 0     & 1     & 0     & 0    \\\\\n",
       "\t1377 & 47990 & 5000  & 0     & 39.2  & 3     & 0     & 0     & 0     & 1    \\\\\n",
       "\t1378 & 47990 & 5500  & 1     & 35.3  & 2     & 0     & 1     & 0     & 0    \\\\\n",
       "\t1379 & 49000 &   38  & 0     & 39.2  & 3     & 0     & 1     & 0     & 0    \\\\\n",
       "\\end{tabular}\n"
      ],
      "text/markdown": [
       "\n",
       "| <!--/--> | price | mileage | fuelType | mpg | engineSize | age | Automatic | Manual | Semi_Auto |\n",
       "|---|---|---|---|---|---|---|---|---|---|\n",
       "| 1374 | 46888 | 3988  | 0     | 39.2  | 3     | 1     | 1     | 0     | 0     |\n",
       "| 1375 | 47000 | 6760  | 0     | 39.2  | 3     | 0     | 1     | 0     | 0     |\n",
       "| 1376 | 47950 | 3558  | 0     | 39.2  | 3     | 0     | 1     | 0     | 0     |\n",
       "| 1377 | 47990 | 5000  | 0     | 39.2  | 3     | 0     | 0     | 0     | 1     |\n",
       "| 1378 | 47990 | 5500  | 1     | 35.3  | 2     | 0     | 1     | 0     | 0     |\n",
       "| 1379 | 49000 |   38  | 0     | 39.2  | 3     | 0     | 1     | 0     | 0     |\n",
       "\n"
      ],
      "text/plain": [
       "     price mileage fuelType mpg  engineSize age Automatic Manual Semi_Auto\n",
       "1374 46888 3988    0        39.2 3          1   1         0      0        \n",
       "1375 47000 6760    0        39.2 3          0   1         0      0        \n",
       "1376 47950 3558    0        39.2 3          0   1         0      0        \n",
       "1377 47990 5000    0        39.2 3          0   0         0      1        \n",
       "1378 47990 5500    1        35.3 2          0   1         0      0        \n",
       "1379 49000   38    0        39.2 3          0   1         0      0        "
      ]
     },
     "metadata": {},
     "output_type": "display_data"
    }
   ],
   "source": [
    "head(A4)\n",
    "tail(A4)"
   ]
  },
  {
   "cell_type": "code",
   "execution_count": 21,
   "id": "ef393e78",
   "metadata": {},
   "outputs": [],
   "source": [
    "A4$fuelType <- ifelse(A4$fuelType==1,replace(A4$fuelType,A4$fuelType==1,\"Diesel\"),replace(A4$fuelType,A4$fuelType==0,\"Petrol\"))"
   ]
  },
  {
   "cell_type": "code",
   "execution_count": 22,
   "id": "27f9c84f",
   "metadata": {},
   "outputs": [],
   "source": [
    "A4$model <- rep(\"A4\",nrow(A4))"
   ]
  },
  {
   "cell_type": "code",
   "execution_count": 23,
   "id": "33189478",
   "metadata": {},
   "outputs": [],
   "source": [
    "A4$transmission <- ifelse(A4$Automatic==1,\"Automatic\",ifelse(A4$Manual==1,\"Manual\",\"Semi_Auto\"))"
   ]
  },
  {
   "cell_type": "code",
   "execution_count": 24,
   "id": "dd631a45",
   "metadata": {},
   "outputs": [],
   "source": [
    "A4 <- A4[,-c(7,8,9)]"
   ]
  },
  {
   "cell_type": "code",
   "execution_count": 25,
   "id": "03a995fa",
   "metadata": {},
   "outputs": [],
   "source": [
    "A4 <- A4[,c(7,1,8,2,3,6)]"
   ]
  },
  {
   "cell_type": "code",
   "execution_count": 26,
   "id": "878d6630",
   "metadata": {},
   "outputs": [],
   "source": [
    "A4 <- subset(A4,!age==0)"
   ]
  },
  {
   "cell_type": "code",
   "execution_count": 27,
   "id": "1f459c6a",
   "metadata": {},
   "outputs": [
    {
     "data": {
      "text/html": [
       "<table>\n",
       "<thead><tr><th scope=col>model</th><th scope=col>price</th><th scope=col>transmission</th><th scope=col>mileage</th><th scope=col>fuelType</th><th scope=col>age</th></tr></thead>\n",
       "<tbody>\n",
       "\t<tr><td>A4       </td><td>2675     </td><td>Manual   </td><td>125000   </td><td>Diesel   </td><td>13       </td></tr>\n",
       "\t<tr><td>A4       </td><td>2990     </td><td>Manual   </td><td> 95000   </td><td>Diesel   </td><td>15       </td></tr>\n",
       "\t<tr><td>A4       </td><td>2995     </td><td>Manual   </td><td>114000   </td><td>Petrol   </td><td>14       </td></tr>\n",
       "\t<tr><td>A4       </td><td>3195     </td><td>Manual   </td><td>123000   </td><td>Diesel   </td><td>15       </td></tr>\n",
       "\t<tr><td>A4       </td><td>3495     </td><td>Manual   </td><td>138649   </td><td>Petrol   </td><td>13       </td></tr>\n",
       "\t<tr><td>A4       </td><td>3495     </td><td>Automatic</td><td>105000   </td><td>Diesel   </td><td>14       </td></tr>\n",
       "</tbody>\n",
       "</table>\n"
      ],
      "text/latex": [
       "\\begin{tabular}{r|llllll}\n",
       " model & price & transmission & mileage & fuelType & age\\\\\n",
       "\\hline\n",
       "\t A4        & 2675      & Manual    & 125000    & Diesel    & 13       \\\\\n",
       "\t A4        & 2990      & Manual    &  95000    & Diesel    & 15       \\\\\n",
       "\t A4        & 2995      & Manual    & 114000    & Petrol    & 14       \\\\\n",
       "\t A4        & 3195      & Manual    & 123000    & Diesel    & 15       \\\\\n",
       "\t A4        & 3495      & Manual    & 138649    & Petrol    & 13       \\\\\n",
       "\t A4        & 3495      & Automatic & 105000    & Diesel    & 14       \\\\\n",
       "\\end{tabular}\n"
      ],
      "text/markdown": [
       "\n",
       "| model | price | transmission | mileage | fuelType | age |\n",
       "|---|---|---|---|---|---|\n",
       "| A4        | 2675      | Manual    | 125000    | Diesel    | 13        |\n",
       "| A4        | 2990      | Manual    |  95000    | Diesel    | 15        |\n",
       "| A4        | 2995      | Manual    | 114000    | Petrol    | 14        |\n",
       "| A4        | 3195      | Manual    | 123000    | Diesel    | 15        |\n",
       "| A4        | 3495      | Manual    | 138649    | Petrol    | 13        |\n",
       "| A4        | 3495      | Automatic | 105000    | Diesel    | 14        |\n",
       "\n"
      ],
      "text/plain": [
       "  model price transmission mileage fuelType age\n",
       "1 A4    2675  Manual       125000  Diesel   13 \n",
       "2 A4    2990  Manual        95000  Diesel   15 \n",
       "3 A4    2995  Manual       114000  Petrol   14 \n",
       "4 A4    3195  Manual       123000  Diesel   15 \n",
       "5 A4    3495  Manual       138649  Petrol   13 \n",
       "6 A4    3495  Automatic    105000  Diesel   14 "
      ]
     },
     "metadata": {},
     "output_type": "display_data"
    },
    {
     "data": {
      "text/html": [
       "<table>\n",
       "<thead><tr><th></th><th scope=col>model</th><th scope=col>price</th><th scope=col>transmission</th><th scope=col>mileage</th><th scope=col>fuelType</th><th scope=col>age</th></tr></thead>\n",
       "<tbody>\n",
       "\t<tr><th scope=row>1366</th><td>A4       </td><td>45490    </td><td>Automatic</td><td>5500     </td><td>Petrol   </td><td>1        </td></tr>\n",
       "\t<tr><th scope=row>1368</th><td>A4       </td><td>45950    </td><td>Semi_Auto</td><td>3500     </td><td>Petrol   </td><td>1        </td></tr>\n",
       "\t<tr><th scope=row>1370</th><td>A4       </td><td>45990    </td><td>Automatic</td><td>5000     </td><td>Petrol   </td><td>1        </td></tr>\n",
       "\t<tr><th scope=row>1371</th><td>A4       </td><td>46450    </td><td>Automatic</td><td>2000     </td><td>Petrol   </td><td>1        </td></tr>\n",
       "\t<tr><th scope=row>1372</th><td>A4       </td><td>46490    </td><td>Automatic</td><td>5000     </td><td>Petrol   </td><td>1        </td></tr>\n",
       "\t<tr><th scope=row>1374</th><td>A4       </td><td>46888    </td><td>Automatic</td><td>3988     </td><td>Petrol   </td><td>1        </td></tr>\n",
       "</tbody>\n",
       "</table>\n"
      ],
      "text/latex": [
       "\\begin{tabular}{r|llllll}\n",
       "  & model & price & transmission & mileage & fuelType & age\\\\\n",
       "\\hline\n",
       "\t1366 & A4        & 45490     & Automatic & 5500      & Petrol    & 1        \\\\\n",
       "\t1368 & A4          & 45950       & Semi\\_Auto & 3500        & Petrol      & 1          \\\\\n",
       "\t1370 & A4        & 45990     & Automatic & 5000      & Petrol    & 1        \\\\\n",
       "\t1371 & A4        & 46450     & Automatic & 2000      & Petrol    & 1        \\\\\n",
       "\t1372 & A4        & 46490     & Automatic & 5000      & Petrol    & 1        \\\\\n",
       "\t1374 & A4        & 46888     & Automatic & 3988      & Petrol    & 1        \\\\\n",
       "\\end{tabular}\n"
      ],
      "text/markdown": [
       "\n",
       "| <!--/--> | model | price | transmission | mileage | fuelType | age |\n",
       "|---|---|---|---|---|---|---|\n",
       "| 1366 | A4        | 45490     | Automatic | 5500      | Petrol    | 1         |\n",
       "| 1368 | A4        | 45950     | Semi_Auto | 3500      | Petrol    | 1         |\n",
       "| 1370 | A4        | 45990     | Automatic | 5000      | Petrol    | 1         |\n",
       "| 1371 | A4        | 46450     | Automatic | 2000      | Petrol    | 1         |\n",
       "| 1372 | A4        | 46490     | Automatic | 5000      | Petrol    | 1         |\n",
       "| 1374 | A4        | 46888     | Automatic | 3988      | Petrol    | 1         |\n",
       "\n"
      ],
      "text/plain": [
       "     model price transmission mileage fuelType age\n",
       "1366 A4    45490 Automatic    5500    Petrol   1  \n",
       "1368 A4    45950 Semi_Auto    3500    Petrol   1  \n",
       "1370 A4    45990 Automatic    5000    Petrol   1  \n",
       "1371 A4    46450 Automatic    2000    Petrol   1  \n",
       "1372 A4    46490 Automatic    5000    Petrol   1  \n",
       "1374 A4    46888 Automatic    3988    Petrol   1  "
      ]
     },
     "metadata": {},
     "output_type": "display_data"
    }
   ],
   "source": [
    "head(A4)\n",
    "tail(A4)"
   ]
  },
  {
   "cell_type": "code",
   "execution_count": 29,
   "id": "5a54f124",
   "metadata": {},
   "outputs": [],
   "source": [
    "audi_opt <- rbind(A3,Q3,A4)"
   ]
  },
  {
   "cell_type": "code",
   "execution_count": 33,
   "id": "393dd584",
   "metadata": {},
   "outputs": [],
   "source": [
    "rownames(audi_opt) <- c()"
   ]
  },
  {
   "cell_type": "code",
   "execution_count": 36,
   "id": "7713de50",
   "metadata": {},
   "outputs": [
    {
     "data": {
      "text/html": [
       "<table>\n",
       "<thead><tr><th scope=col>model</th><th scope=col>price</th><th scope=col>transmission</th><th scope=col>mileage</th><th scope=col>fuelType</th><th scope=col>age</th></tr></thead>\n",
       "<tbody>\n",
       "\t<tr><td>A3       </td><td>1490     </td><td>Automatic</td><td>101000   </td><td>Petrol   </td><td>17       </td></tr>\n",
       "\t<tr><td>A3       </td><td>1975     </td><td>Manual   </td><td>104000   </td><td>Diesel   </td><td>15       </td></tr>\n",
       "\t<tr><td>A3       </td><td>2490     </td><td>Manual   </td><td>152034   </td><td>Petrol   </td><td>11       </td></tr>\n",
       "\t<tr><td>A3       </td><td>2795     </td><td>Manual   </td><td>104000   </td><td>Petrol   </td><td>13       </td></tr>\n",
       "\t<tr><td>A3       </td><td>2895     </td><td>Manual   </td><td>106790   </td><td>Diesel   </td><td>15       </td></tr>\n",
       "\t<tr><td>A3       </td><td>2995     </td><td>Manual   </td><td>117000   </td><td>Petrol   </td><td>12       </td></tr>\n",
       "</tbody>\n",
       "</table>\n"
      ],
      "text/latex": [
       "\\begin{tabular}{r|llllll}\n",
       " model & price & transmission & mileage & fuelType & age\\\\\n",
       "\\hline\n",
       "\t A3        & 1490      & Automatic & 101000    & Petrol    & 17       \\\\\n",
       "\t A3        & 1975      & Manual    & 104000    & Diesel    & 15       \\\\\n",
       "\t A3        & 2490      & Manual    & 152034    & Petrol    & 11       \\\\\n",
       "\t A3        & 2795      & Manual    & 104000    & Petrol    & 13       \\\\\n",
       "\t A3        & 2895      & Manual    & 106790    & Diesel    & 15       \\\\\n",
       "\t A3        & 2995      & Manual    & 117000    & Petrol    & 12       \\\\\n",
       "\\end{tabular}\n"
      ],
      "text/markdown": [
       "\n",
       "| model | price | transmission | mileage | fuelType | age |\n",
       "|---|---|---|---|---|---|\n",
       "| A3        | 1490      | Automatic | 101000    | Petrol    | 17        |\n",
       "| A3        | 1975      | Manual    | 104000    | Diesel    | 15        |\n",
       "| A3        | 2490      | Manual    | 152034    | Petrol    | 11        |\n",
       "| A3        | 2795      | Manual    | 104000    | Petrol    | 13        |\n",
       "| A3        | 2895      | Manual    | 106790    | Diesel    | 15        |\n",
       "| A3        | 2995      | Manual    | 117000    | Petrol    | 12        |\n",
       "\n"
      ],
      "text/plain": [
       "  model price transmission mileage fuelType age\n",
       "1 A3    1490  Automatic    101000  Petrol   17 \n",
       "2 A3    1975  Manual       104000  Diesel   15 \n",
       "3 A3    2490  Manual       152034  Petrol   11 \n",
       "4 A3    2795  Manual       104000  Petrol   13 \n",
       "5 A3    2895  Manual       106790  Diesel   15 \n",
       "6 A3    2995  Manual       117000  Petrol   12 "
      ]
     },
     "metadata": {},
     "output_type": "display_data"
    },
    {
     "data": {
      "text/html": [
       "<table>\n",
       "<thead><tr><th></th><th scope=col>model</th><th scope=col>price</th><th scope=col>transmission</th><th scope=col>mileage</th><th scope=col>fuelType</th><th scope=col>age</th></tr></thead>\n",
       "<tbody>\n",
       "\t<tr><th scope=row>4417</th><td>A4       </td><td>45490    </td><td>Automatic</td><td>5500     </td><td>Petrol   </td><td>1        </td></tr>\n",
       "\t<tr><th scope=row>4418</th><td>A4       </td><td>45950    </td><td>Semi_Auto</td><td>3500     </td><td>Petrol   </td><td>1        </td></tr>\n",
       "\t<tr><th scope=row>4419</th><td>A4       </td><td>45990    </td><td>Automatic</td><td>5000     </td><td>Petrol   </td><td>1        </td></tr>\n",
       "\t<tr><th scope=row>4420</th><td>A4       </td><td>46450    </td><td>Automatic</td><td>2000     </td><td>Petrol   </td><td>1        </td></tr>\n",
       "\t<tr><th scope=row>4421</th><td>A4       </td><td>46490    </td><td>Automatic</td><td>5000     </td><td>Petrol   </td><td>1        </td></tr>\n",
       "\t<tr><th scope=row>4422</th><td>A4       </td><td>46888    </td><td>Automatic</td><td>3988     </td><td>Petrol   </td><td>1        </td></tr>\n",
       "</tbody>\n",
       "</table>\n"
      ],
      "text/latex": [
       "\\begin{tabular}{r|llllll}\n",
       "  & model & price & transmission & mileage & fuelType & age\\\\\n",
       "\\hline\n",
       "\t4417 & A4        & 45490     & Automatic & 5500      & Petrol    & 1        \\\\\n",
       "\t4418 & A4          & 45950       & Semi\\_Auto & 3500        & Petrol      & 1          \\\\\n",
       "\t4419 & A4        & 45990     & Automatic & 5000      & Petrol    & 1        \\\\\n",
       "\t4420 & A4        & 46450     & Automatic & 2000      & Petrol    & 1        \\\\\n",
       "\t4421 & A4        & 46490     & Automatic & 5000      & Petrol    & 1        \\\\\n",
       "\t4422 & A4        & 46888     & Automatic & 3988      & Petrol    & 1        \\\\\n",
       "\\end{tabular}\n"
      ],
      "text/markdown": [
       "\n",
       "| <!--/--> | model | price | transmission | mileage | fuelType | age |\n",
       "|---|---|---|---|---|---|---|\n",
       "| 4417 | A4        | 45490     | Automatic | 5500      | Petrol    | 1         |\n",
       "| 4418 | A4        | 45950     | Semi_Auto | 3500      | Petrol    | 1         |\n",
       "| 4419 | A4        | 45990     | Automatic | 5000      | Petrol    | 1         |\n",
       "| 4420 | A4        | 46450     | Automatic | 2000      | Petrol    | 1         |\n",
       "| 4421 | A4        | 46490     | Automatic | 5000      | Petrol    | 1         |\n",
       "| 4422 | A4        | 46888     | Automatic | 3988      | Petrol    | 1         |\n",
       "\n"
      ],
      "text/plain": [
       "     model price transmission mileage fuelType age\n",
       "4417 A4    45490 Automatic    5500    Petrol   1  \n",
       "4418 A4    45950 Semi_Auto    3500    Petrol   1  \n",
       "4419 A4    45990 Automatic    5000    Petrol   1  \n",
       "4420 A4    46450 Automatic    2000    Petrol   1  \n",
       "4421 A4    46490 Automatic    5000    Petrol   1  \n",
       "4422 A4    46888 Automatic    3988    Petrol   1  "
      ]
     },
     "metadata": {},
     "output_type": "display_data"
    },
    {
     "data": {
      "text/html": [
       "4422"
      ],
      "text/latex": [
       "4422"
      ],
      "text/markdown": [
       "4422"
      ],
      "text/plain": [
       "[1] 4422"
      ]
     },
     "metadata": {},
     "output_type": "display_data"
    }
   ],
   "source": [
    "head(audi_opt)\n",
    "tail(audi_opt)\n",
    "nrow(audi_opt)"
   ]
  },
  {
   "cell_type": "code",
   "execution_count": 38,
   "id": "cee25880",
   "metadata": {},
   "outputs": [],
   "source": [
    "write.csv(audi_opt,\"./Data/audi_opt.csv\",row.names=F)"
   ]
  },
  {
   "cell_type": "code",
   "execution_count": null,
   "id": "037c571b",
   "metadata": {},
   "outputs": [],
   "source": []
  }
 ],
 "metadata": {
  "kernelspec": {
   "display_name": "R",
   "language": "R",
   "name": "ir"
  },
  "language_info": {
   "codemirror_mode": "r",
   "file_extension": ".r",
   "mimetype": "text/x-r-source",
   "name": "R",
   "pygments_lexer": "r",
   "version": "3.6.1"
  }
 },
 "nbformat": 4,
 "nbformat_minor": 5
}
