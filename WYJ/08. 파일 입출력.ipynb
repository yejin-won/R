{
 "cells": [
  {
   "cell_type": "code",
   "execution_count": 1,
   "id": "61016e42",
   "metadata": {},
   "outputs": [],
   "source": [
    "no <- 1:4\n",
    "name <- c(\"Apple\",\"Banana\",\"peach\",\"Berry\")\n",
    "price <- c(500,200,200,50)\n",
    "qty <- c(5,4,3,2)"
   ]
  },
  {
   "cell_type": "code",
   "execution_count": 2,
   "id": "424800c4",
   "metadata": {},
   "outputs": [
    {
     "data": {
      "text/html": [
       "<table>\n",
       "<thead><tr><th scope=col>번호</th><th scope=col>제품</th><th scope=col>금액</th><th scope=col>수량</th></tr></thead>\n",
       "<tbody>\n",
       "\t<tr><td>1     </td><td>Apple </td><td>500   </td><td>5     </td></tr>\n",
       "\t<tr><td>2     </td><td>Banana</td><td>200   </td><td>4     </td></tr>\n",
       "\t<tr><td>3     </td><td>peach </td><td>200   </td><td>3     </td></tr>\n",
       "\t<tr><td>4     </td><td>Berry </td><td> 50   </td><td>2     </td></tr>\n",
       "</tbody>\n",
       "</table>\n"
      ],
      "text/latex": [
       "\\begin{tabular}{r|llll}\n",
       " 번호 & 제품 & 금액 & 수량\\\\\n",
       "\\hline\n",
       "\t 1      & Apple  & 500    & 5     \\\\\n",
       "\t 2      & Banana & 200    & 4     \\\\\n",
       "\t 3      & peach  & 200    & 3     \\\\\n",
       "\t 4      & Berry  &  50    & 2     \\\\\n",
       "\\end{tabular}\n"
      ],
      "text/markdown": [
       "\n",
       "| 번호 | 제품 | 금액 | 수량 |\n",
       "|---|---|---|---|\n",
       "| 1      | Apple  | 500    | 5      |\n",
       "| 2      | Banana | 200    | 4      |\n",
       "| 3      | peach  | 200    | 3      |\n",
       "| 4      | Berry  |  50    | 2      |\n",
       "\n"
      ],
      "text/plain": [
       "  번호 제품   금액 수량\n",
       "1 1    Apple  500  5   \n",
       "2 2    Banana 200  4   \n",
       "3 3    peach  200  3   \n",
       "4 4    Berry   50  2   "
      ]
     },
     "metadata": {},
     "output_type": "display_data"
    }
   ],
   "source": [
    "# 벡터를 이용하여 데이프레임 만들기\n",
    "\n",
    "fruit <- data.frame(번호=no,제품=name,금액=price,수량=qty)\n",
    "fruit"
   ]
  },
  {
   "cell_type": "code",
   "execution_count": 3,
   "id": "3d45bcd8",
   "metadata": {},
   "outputs": [
    {
     "data": {
      "text/html": [
       "<ol class=list-inline>\n",
       "\t<li>'fruit'</li>\n",
       "\t<li>'name'</li>\n",
       "\t<li>'no'</li>\n",
       "\t<li>'price'</li>\n",
       "\t<li>'qty'</li>\n",
       "</ol>\n"
      ],
      "text/latex": [
       "\\begin{enumerate*}\n",
       "\\item 'fruit'\n",
       "\\item 'name'\n",
       "\\item 'no'\n",
       "\\item 'price'\n",
       "\\item 'qty'\n",
       "\\end{enumerate*}\n"
      ],
      "text/markdown": [
       "1. 'fruit'\n",
       "2. 'name'\n",
       "3. 'no'\n",
       "4. 'price'\n",
       "5. 'qty'\n",
       "\n",
       "\n"
      ],
      "text/plain": [
       "[1] \"fruit\" \"name\"  \"no\"    \"price\" \"qty\"  "
      ]
     },
     "metadata": {},
     "output_type": "display_data"
    }
   ],
   "source": [
    "# 현재 메모리에 있는 변수 보기\n",
    "\n",
    "ls()\n"
   ]
  },
  {
   "cell_type": "code",
   "execution_count": 4,
   "id": "0018c3f5",
   "metadata": {},
   "outputs": [],
   "source": [
    "# 메모리 형태로 파일 보관\n",
    "\n",
    "save(no,fruit,name,file = \"./Data/testFruit.txt\")"
   ]
  },
  {
   "cell_type": "code",
   "execution_count": 5,
   "id": "e447905b",
   "metadata": {},
   "outputs": [],
   "source": [
    "rm(no,fruit,name)"
   ]
  },
  {
   "cell_type": "code",
   "execution_count": 6,
   "id": "f5a269ab",
   "metadata": {},
   "outputs": [
    {
     "data": {
      "text/html": [
       "<ol class=list-inline>\n",
       "\t<li>'price'</li>\n",
       "\t<li>'qty'</li>\n",
       "</ol>\n"
      ],
      "text/latex": [
       "\\begin{enumerate*}\n",
       "\\item 'price'\n",
       "\\item 'qty'\n",
       "\\end{enumerate*}\n"
      ],
      "text/markdown": [
       "1. 'price'\n",
       "2. 'qty'\n",
       "\n",
       "\n"
      ],
      "text/plain": [
       "[1] \"price\" \"qty\"  "
      ]
     },
     "metadata": {},
     "output_type": "display_data"
    }
   ],
   "source": [
    "ls()"
   ]
  },
  {
   "cell_type": "code",
   "execution_count": 7,
   "id": "c3e9954e",
   "metadata": {},
   "outputs": [],
   "source": [
    "# fruit"
   ]
  },
  {
   "cell_type": "code",
   "execution_count": 8,
   "id": "103e165d",
   "metadata": {},
   "outputs": [],
   "source": [
    "# 메모리로 불러오기\n",
    "\n",
    "load(\"./Data/testFruit.txt\")"
   ]
  },
  {
   "cell_type": "code",
   "execution_count": 9,
   "id": "8a2b89af",
   "metadata": {},
   "outputs": [],
   "source": [
    "# fruit를 csv로 저장하기\n",
    "\n",
    "write.csv(fruit,\"./Data/fruit.csv\")"
   ]
  },
  {
   "cell_type": "code",
   "execution_count": 10,
   "id": "a58678aa",
   "metadata": {},
   "outputs": [],
   "source": [
    "fruit2 <- read.csv(\"./Data/fruit.csv\")"
   ]
  },
  {
   "cell_type": "code",
   "execution_count": 11,
   "id": "e96ded81",
   "metadata": {},
   "outputs": [],
   "source": [
    "write.csv(fruit2,\"./Data/fruit2.csv\")"
   ]
  },
  {
   "cell_type": "code",
   "execution_count": 12,
   "id": "001d0b24",
   "metadata": {},
   "outputs": [
    {
     "data": {
      "text/html": [
       "<table>\n",
       "<thead><tr><th scope=col>X.1</th><th scope=col>X</th><th scope=col>번호</th><th scope=col>제품</th><th scope=col>금액</th><th scope=col>수량</th></tr></thead>\n",
       "<tbody>\n",
       "\t<tr><td>1     </td><td>1     </td><td>1     </td><td>Apple </td><td>500   </td><td>5     </td></tr>\n",
       "\t<tr><td>2     </td><td>2     </td><td>2     </td><td>Banana</td><td>200   </td><td>4     </td></tr>\n",
       "\t<tr><td>3     </td><td>3     </td><td>3     </td><td>peach </td><td>200   </td><td>3     </td></tr>\n",
       "\t<tr><td>4     </td><td>4     </td><td>4     </td><td>Berry </td><td> 50   </td><td>2     </td></tr>\n",
       "</tbody>\n",
       "</table>\n"
      ],
      "text/latex": [
       "\\begin{tabular}{r|llllll}\n",
       " X.1 & X & 번호 & 제품 & 금액 & 수량\\\\\n",
       "\\hline\n",
       "\t 1      & 1      & 1      & Apple  & 500    & 5     \\\\\n",
       "\t 2      & 2      & 2      & Banana & 200    & 4     \\\\\n",
       "\t 3      & 3      & 3      & peach  & 200    & 3     \\\\\n",
       "\t 4      & 4      & 4      & Berry  &  50    & 2     \\\\\n",
       "\\end{tabular}\n"
      ],
      "text/markdown": [
       "\n",
       "| X.1 | X | 번호 | 제품 | 금액 | 수량 |\n",
       "|---|---|---|---|---|---|\n",
       "| 1      | 1      | 1      | Apple  | 500    | 5      |\n",
       "| 2      | 2      | 2      | Banana | 200    | 4      |\n",
       "| 3      | 3      | 3      | peach  | 200    | 3      |\n",
       "| 4      | 4      | 4      | Berry  |  50    | 2      |\n",
       "\n"
      ],
      "text/plain": [
       "  X.1 X 번호 제품   금액 수량\n",
       "1 1   1 1    Apple  500  5   \n",
       "2 2   2 2    Banana 200  4   \n",
       "3 3   3 3    peach  200  3   \n",
       "4 4   4 4    Berry   50  2   "
      ]
     },
     "metadata": {},
     "output_type": "display_data"
    }
   ],
   "source": [
    "read.csv(\"./Data/fruit2.csv\")"
   ]
  },
  {
   "cell_type": "code",
   "execution_count": 13,
   "id": "c1998bef",
   "metadata": {},
   "outputs": [],
   "source": [
    "# 저장시 주의 사항 : row names가 필요치 않으면 저장하지 말아야한다.\n",
    "\n",
    "write.csv(fruit,\"./Data/fruit.csv\",row.names=F)"
   ]
  },
  {
   "cell_type": "code",
   "execution_count": 14,
   "id": "0ec77599",
   "metadata": {},
   "outputs": [
    {
     "data": {
      "text/html": [
       "<table>\n",
       "<thead><tr><th scope=col>번호</th><th scope=col>제품</th><th scope=col>금액</th><th scope=col>수량</th></tr></thead>\n",
       "<tbody>\n",
       "\t<tr><td>1     </td><td>Apple </td><td>500   </td><td>5     </td></tr>\n",
       "\t<tr><td>2     </td><td>Banana</td><td>200   </td><td>4     </td></tr>\n",
       "\t<tr><td>3     </td><td>peach </td><td>200   </td><td>3     </td></tr>\n",
       "\t<tr><td>4     </td><td>Berry </td><td> 50   </td><td>2     </td></tr>\n",
       "</tbody>\n",
       "</table>\n"
      ],
      "text/latex": [
       "\\begin{tabular}{r|llll}\n",
       " 번호 & 제품 & 금액 & 수량\\\\\n",
       "\\hline\n",
       "\t 1      & Apple  & 500    & 5     \\\\\n",
       "\t 2      & Banana & 200    & 4     \\\\\n",
       "\t 3      & peach  & 200    & 3     \\\\\n",
       "\t 4      & Berry  &  50    & 2     \\\\\n",
       "\\end{tabular}\n"
      ],
      "text/markdown": [
       "\n",
       "| 번호 | 제품 | 금액 | 수량 |\n",
       "|---|---|---|---|\n",
       "| 1      | Apple  | 500    | 5      |\n",
       "| 2      | Banana | 200    | 4      |\n",
       "| 3      | peach  | 200    | 3      |\n",
       "| 4      | Berry  |  50    | 2      |\n",
       "\n"
      ],
      "text/plain": [
       "  번호 제품   금액 수량\n",
       "1 1    Apple  500  5   \n",
       "2 2    Banana 200  4   \n",
       "3 3    peach  200  3   \n",
       "4 4    Berry   50  2   "
      ]
     },
     "metadata": {},
     "output_type": "display_data"
    }
   ],
   "source": [
    "read.csv(\"./Data/fruit.csv\")"
   ]
  },
  {
   "cell_type": "markdown",
   "id": "104c03ae",
   "metadata": {},
   "source": [
    "---\n",
    "# 세계 GDP 순위 데이터 정제 및 차트 만들기"
   ]
  },
  {
   "cell_type": "code",
   "execution_count": 15,
   "id": "ec4a5a8f",
   "metadata": {},
   "outputs": [
    {
     "data": {
      "text/html": [
       "<table>\n",
       "<thead><tr><th scope=col>X</th><th scope=col>Gross.domestic.product.2018</th><th scope=col>X.1</th><th scope=col>X.2</th><th scope=col>X.3</th><th scope=col>X.4</th></tr></thead>\n",
       "<tbody>\n",
       "\t<tr><td>              </td><td>              </td><td>NA            </td><td>              </td><td>              </td><td>              </td></tr>\n",
       "\t<tr><td>              </td><td>              </td><td>NA            </td><td>              </td><td>(millions of  </td><td>              </td></tr>\n",
       "\t<tr><td>              </td><td>Ranking       </td><td>NA            </td><td>Economy       </td><td>US dollars)   </td><td>              </td></tr>\n",
       "\t<tr><td>              </td><td>              </td><td>NA            </td><td>              </td><td>              </td><td>              </td></tr>\n",
       "\t<tr><td>USA           </td><td>1             </td><td>NA            </td><td>United States </td><td> 20,494,100   </td><td>              </td></tr>\n",
       "\t<tr><td>CHN           </td><td>2             </td><td>NA            </td><td>China         </td><td> 13,608,152   </td><td>              </td></tr>\n",
       "\t<tr><td>JPN           </td><td>3             </td><td>NA            </td><td>Japan         </td><td> 4,970,916    </td><td>              </td></tr>\n",
       "\t<tr><td>DEU           </td><td>4             </td><td>NA            </td><td>Germany       </td><td> 3,996,759    </td><td>              </td></tr>\n",
       "\t<tr><td>GBR           </td><td>5             </td><td>NA            </td><td>United Kingdom</td><td> 2,825,208    </td><td>              </td></tr>\n",
       "\t<tr><td>FRA           </td><td>6             </td><td>NA            </td><td>France        </td><td> 2,777,535    </td><td>              </td></tr>\n",
       "</tbody>\n",
       "</table>\n"
      ],
      "text/latex": [
       "\\begin{tabular}{r|llllll}\n",
       " X & Gross.domestic.product.2018 & X.1 & X.2 & X.3 & X.4\\\\\n",
       "\\hline\n",
       "\t                &                & NA             &                &                &               \\\\\n",
       "\t                &                & NA             &                & (millions of   &               \\\\\n",
       "\t                & Ranking        & NA             & Economy        & US dollars)    &               \\\\\n",
       "\t                &                & NA             &                &                &               \\\\\n",
       "\t USA            & 1              & NA             & United States  &  20,494,100    &               \\\\\n",
       "\t CHN            & 2              & NA             & China          &  13,608,152    &               \\\\\n",
       "\t JPN            & 3              & NA             & Japan          &  4,970,916     &               \\\\\n",
       "\t DEU            & 4              & NA             & Germany        &  3,996,759     &               \\\\\n",
       "\t GBR            & 5              & NA             & United Kingdom &  2,825,208     &               \\\\\n",
       "\t FRA            & 6              & NA             & France         &  2,777,535     &               \\\\\n",
       "\\end{tabular}\n"
      ],
      "text/markdown": [
       "\n",
       "| X | Gross.domestic.product.2018 | X.1 | X.2 | X.3 | X.4 |\n",
       "|---|---|---|---|---|---|\n",
       "|                |                | NA             |                |                |                |\n",
       "|                |                | NA             |                | (millions of   |                |\n",
       "|                | Ranking        | NA             | Economy        | US dollars)    |                |\n",
       "|                |                | NA             |                |                |                |\n",
       "| USA            | 1              | NA             | United States  |  20,494,100    |                |\n",
       "| CHN            | 2              | NA             | China          |  13,608,152    |                |\n",
       "| JPN            | 3              | NA             | Japan          |  4,970,916     |                |\n",
       "| DEU            | 4              | NA             | Germany        |  3,996,759     |                |\n",
       "| GBR            | 5              | NA             | United Kingdom |  2,825,208     |                |\n",
       "| FRA            | 6              | NA             | France         |  2,777,535     |                |\n",
       "\n"
      ],
      "text/plain": [
       "   X   Gross.domestic.product.2018 X.1 X.2            X.3          X.4\n",
       "1                                  NA                                 \n",
       "2                                  NA                 (millions of    \n",
       "3      Ranking                     NA  Economy        US dollars)     \n",
       "4                                  NA                                 \n",
       "5  USA 1                           NA  United States   20,494,100     \n",
       "6  CHN 2                           NA  China           13,608,152     \n",
       "7  JPN 3                           NA  Japan           4,970,916      \n",
       "8  DEU 4                           NA  Germany         3,996,759      \n",
       "9  GBR 5                           NA  United Kingdom  2,825,208      \n",
       "10 FRA 6                           NA  France          2,777,535      "
      ]
     },
     "metadata": {},
     "output_type": "display_data"
    }
   ],
   "source": [
    "# Data Set 불러오기\n",
    "\n",
    "GDP_ranking <- read.csv(\"./Data/GDP.csv\")\n",
    "head(GDP_ranking,10)"
   ]
  },
  {
   "cell_type": "code",
   "execution_count": 16,
   "id": "77e98f10",
   "metadata": {},
   "outputs": [
    {
     "data": {
      "text/html": [
       "<table>\n",
       "<thead><tr><th></th><th scope=col>X</th><th scope=col>Gross.domestic.product.2018</th><th scope=col>X.2</th><th scope=col>X.3</th></tr></thead>\n",
       "<tbody>\n",
       "\t<tr><th scope=row>5</th><td>USA           </td><td>1             </td><td>United States </td><td> 20,494,100   </td></tr>\n",
       "\t<tr><th scope=row>6</th><td>CHN           </td><td>2             </td><td>China         </td><td> 13,608,152   </td></tr>\n",
       "\t<tr><th scope=row>7</th><td>JPN           </td><td>3             </td><td>Japan         </td><td> 4,970,916    </td></tr>\n",
       "\t<tr><th scope=row>8</th><td>DEU           </td><td>4             </td><td>Germany       </td><td> 3,996,759    </td></tr>\n",
       "\t<tr><th scope=row>9</th><td>GBR           </td><td>5             </td><td>United Kingdom</td><td> 2,825,208    </td></tr>\n",
       "\t<tr><th scope=row>10</th><td>FRA           </td><td>6             </td><td>France        </td><td> 2,777,535    </td></tr>\n",
       "</tbody>\n",
       "</table>\n"
      ],
      "text/latex": [
       "\\begin{tabular}{r|llll}\n",
       "  & X & Gross.domestic.product.2018 & X.2 & X.3\\\\\n",
       "\\hline\n",
       "\t5 & USA            & 1              & United States  &  20,494,100   \\\\\n",
       "\t6 & CHN            & 2              & China          &  13,608,152   \\\\\n",
       "\t7 & JPN            & 3              & Japan          &  4,970,916    \\\\\n",
       "\t8 & DEU            & 4              & Germany        &  3,996,759    \\\\\n",
       "\t9 & GBR            & 5              & United Kingdom &  2,825,208    \\\\\n",
       "\t10 & FRA            & 6              & France         &  2,777,535    \\\\\n",
       "\\end{tabular}\n"
      ],
      "text/markdown": [
       "\n",
       "| <!--/--> | X | Gross.domestic.product.2018 | X.2 | X.3 |\n",
       "|---|---|---|---|---|\n",
       "| 5 | USA            | 1              | United States  |  20,494,100    |\n",
       "| 6 | CHN            | 2              | China          |  13,608,152    |\n",
       "| 7 | JPN            | 3              | Japan          |  4,970,916     |\n",
       "| 8 | DEU            | 4              | Germany        |  3,996,759     |\n",
       "| 9 | GBR            | 5              | United Kingdom |  2,825,208     |\n",
       "| 10 | FRA            | 6              | France         |  2,777,535     |\n",
       "\n"
      ],
      "text/plain": [
       "   X   Gross.domestic.product.2018 X.2            X.3         \n",
       "5  USA 1                           United States   20,494,100 \n",
       "6  CHN 2                           China           13,608,152 \n",
       "7  JPN 3                           Japan           4,970,916  \n",
       "8  DEU 4                           Germany         3,996,759  \n",
       "9  GBR 5                           United Kingdom  2,825,208  \n",
       "10 FRA 6                           France          2,777,535  "
      ]
     },
     "metadata": {},
     "output_type": "display_data"
    }
   ],
   "source": [
    "# 정제한 데이터 GDP_ranking로 저장하기 (1~4번 행 , 3,6 열 삭제)\n",
    "\n",
    "GDP_ranking2 <- GDP_ranking[-c(1:4),-c(3,6)]\n",
    "head(GDP_ranking2)"
   ]
  },
  {
   "cell_type": "code",
   "execution_count": 17,
   "id": "7a9253ce",
   "metadata": {},
   "outputs": [
    {
     "data": {
      "text/html": [
       "<table>\n",
       "<thead><tr><th></th><th scope=col>X</th><th scope=col>Gross.domestic.product.2018</th><th scope=col>X.2</th><th scope=col>X.3</th></tr></thead>\n",
       "<tbody>\n",
       "\t<tr><th scope=row>5</th><td>USA               </td><td>1                 </td><td>United States     </td><td> 20,494,100       </td></tr>\n",
       "\t<tr><th scope=row>6</th><td>CHN               </td><td>2                 </td><td>China             </td><td> 13,608,152       </td></tr>\n",
       "\t<tr><th scope=row>7</th><td>JPN               </td><td>3                 </td><td>Japan             </td><td> 4,970,916        </td></tr>\n",
       "\t<tr><th scope=row>8</th><td>DEU               </td><td>4                 </td><td>Germany           </td><td> 3,996,759        </td></tr>\n",
       "\t<tr><th scope=row>9</th><td>GBR               </td><td>5                 </td><td>United Kingdom    </td><td> 2,825,208        </td></tr>\n",
       "\t<tr><th scope=row>10</th><td>FRA               </td><td>6                 </td><td>France            </td><td> 2,777,535        </td></tr>\n",
       "\t<tr><th scope=row>11</th><td>IND               </td><td>7                 </td><td>India             </td><td> 2,726,323        </td></tr>\n",
       "\t<tr><th scope=row>12</th><td>ITA               </td><td>8                 </td><td>Italy             </td><td> 2,073,902        </td></tr>\n",
       "\t<tr><th scope=row>13</th><td>BRA               </td><td>9                 </td><td>Brazil            </td><td> 1,868,626        </td></tr>\n",
       "\t<tr><th scope=row>14</th><td>CAN               </td><td>10                </td><td>Canada            </td><td> 1,712,510        </td></tr>\n",
       "\t<tr><th scope=row>15</th><td>RUS               </td><td>11                </td><td>Russian Federation</td><td> 1,657,554        </td></tr>\n",
       "\t<tr><th scope=row>16</th><td>KOR               </td><td>12                </td><td>Korea, Rep.       </td><td> 1,619,424        </td></tr>\n",
       "\t<tr><th scope=row>17</th><td>AUS               </td><td>13                </td><td>Australia         </td><td> 1,432,195        </td></tr>\n",
       "\t<tr><th scope=row>18</th><td>ESP               </td><td>14                </td><td>Spain             </td><td> 1,426,189        </td></tr>\n",
       "\t<tr><th scope=row>19</th><td>MEX               </td><td>15                </td><td>Mexico            </td><td> 1,223,809        </td></tr>\n",
       "</tbody>\n",
       "</table>\n"
      ],
      "text/latex": [
       "\\begin{tabular}{r|llll}\n",
       "  & X & Gross.domestic.product.2018 & X.2 & X.3\\\\\n",
       "\\hline\n",
       "\t5 & USA                & 1                  & United States      &  20,494,100       \\\\\n",
       "\t6 & CHN                & 2                  & China              &  13,608,152       \\\\\n",
       "\t7 & JPN                & 3                  & Japan              &  4,970,916        \\\\\n",
       "\t8 & DEU                & 4                  & Germany            &  3,996,759        \\\\\n",
       "\t9 & GBR                & 5                  & United Kingdom     &  2,825,208        \\\\\n",
       "\t10 & FRA                & 6                  & France             &  2,777,535        \\\\\n",
       "\t11 & IND                & 7                  & India              &  2,726,323        \\\\\n",
       "\t12 & ITA                & 8                  & Italy              &  2,073,902        \\\\\n",
       "\t13 & BRA                & 9                  & Brazil             &  1,868,626        \\\\\n",
       "\t14 & CAN                & 10                 & Canada             &  1,712,510        \\\\\n",
       "\t15 & RUS                & 11                 & Russian Federation &  1,657,554        \\\\\n",
       "\t16 & KOR                & 12                 & Korea, Rep.        &  1,619,424        \\\\\n",
       "\t17 & AUS                & 13                 & Australia          &  1,432,195        \\\\\n",
       "\t18 & ESP                & 14                 & Spain              &  1,426,189        \\\\\n",
       "\t19 & MEX                & 15                 & Mexico             &  1,223,809        \\\\\n",
       "\\end{tabular}\n"
      ],
      "text/markdown": [
       "\n",
       "| <!--/--> | X | Gross.domestic.product.2018 | X.2 | X.3 |\n",
       "|---|---|---|---|---|\n",
       "| 5 | USA                | 1                  | United States      |  20,494,100        |\n",
       "| 6 | CHN                | 2                  | China              |  13,608,152        |\n",
       "| 7 | JPN                | 3                  | Japan              |  4,970,916         |\n",
       "| 8 | DEU                | 4                  | Germany            |  3,996,759         |\n",
       "| 9 | GBR                | 5                  | United Kingdom     |  2,825,208         |\n",
       "| 10 | FRA                | 6                  | France             |  2,777,535         |\n",
       "| 11 | IND                | 7                  | India              |  2,726,323         |\n",
       "| 12 | ITA                | 8                  | Italy              |  2,073,902         |\n",
       "| 13 | BRA                | 9                  | Brazil             |  1,868,626         |\n",
       "| 14 | CAN                | 10                 | Canada             |  1,712,510         |\n",
       "| 15 | RUS                | 11                 | Russian Federation |  1,657,554         |\n",
       "| 16 | KOR                | 12                 | Korea, Rep.        |  1,619,424         |\n",
       "| 17 | AUS                | 13                 | Australia          |  1,432,195         |\n",
       "| 18 | ESP                | 14                 | Spain              |  1,426,189         |\n",
       "| 19 | MEX                | 15                 | Mexico             |  1,223,809         |\n",
       "\n"
      ],
      "text/plain": [
       "   X   Gross.domestic.product.2018 X.2                X.3         \n",
       "5  USA 1                           United States       20,494,100 \n",
       "6  CHN 2                           China               13,608,152 \n",
       "7  JPN 3                           Japan               4,970,916  \n",
       "8  DEU 4                           Germany             3,996,759  \n",
       "9  GBR 5                           United Kingdom      2,825,208  \n",
       "10 FRA 6                           France              2,777,535  \n",
       "11 IND 7                           India               2,726,323  \n",
       "12 ITA 8                           Italy               2,073,902  \n",
       "13 BRA 9                           Brazil              1,868,626  \n",
       "14 CAN 10                          Canada              1,712,510  \n",
       "15 RUS 11                          Russian Federation  1,657,554  \n",
       "16 KOR 12                          Korea, Rep.         1,619,424  \n",
       "17 AUS 13                          Australia           1,432,195  \n",
       "18 ESP 14                          Spain               1,426,189  \n",
       "19 MEX 15                          Mexico              1,223,809  "
      ]
     },
     "metadata": {},
     "output_type": "display_data"
    }
   ],
   "source": [
    "# 상위 15개만 선별한다.\n",
    "\n",
    "GDP_ranking15 <- head(GDP_ranking2,15)\n",
    "GDP_ranking15"
   ]
  },
  {
   "cell_type": "code",
   "execution_count": 18,
   "id": "565d27cc",
   "metadata": {},
   "outputs": [
    {
     "data": {
      "text/html": [
       "<table>\n",
       "<thead><tr><th></th><th scope=col>Code</th><th scope=col>Ranking</th><th scope=col>Nation</th><th scope=col>GDP</th></tr></thead>\n",
       "<tbody>\n",
       "\t<tr><th scope=row>5</th><td>USA               </td><td>1                 </td><td>United States     </td><td> 20,494,100       </td></tr>\n",
       "\t<tr><th scope=row>6</th><td>CHN               </td><td>2                 </td><td>China             </td><td> 13,608,152       </td></tr>\n",
       "\t<tr><th scope=row>7</th><td>JPN               </td><td>3                 </td><td>Japan             </td><td> 4,970,916        </td></tr>\n",
       "\t<tr><th scope=row>8</th><td>DEU               </td><td>4                 </td><td>Germany           </td><td> 3,996,759        </td></tr>\n",
       "\t<tr><th scope=row>9</th><td>GBR               </td><td>5                 </td><td>United Kingdom    </td><td> 2,825,208        </td></tr>\n",
       "\t<tr><th scope=row>10</th><td>FRA               </td><td>6                 </td><td>France            </td><td> 2,777,535        </td></tr>\n",
       "\t<tr><th scope=row>11</th><td>IND               </td><td>7                 </td><td>India             </td><td> 2,726,323        </td></tr>\n",
       "\t<tr><th scope=row>12</th><td>ITA               </td><td>8                 </td><td>Italy             </td><td> 2,073,902        </td></tr>\n",
       "\t<tr><th scope=row>13</th><td>BRA               </td><td>9                 </td><td>Brazil            </td><td> 1,868,626        </td></tr>\n",
       "\t<tr><th scope=row>14</th><td>CAN               </td><td>10                </td><td>Canada            </td><td> 1,712,510        </td></tr>\n",
       "\t<tr><th scope=row>15</th><td>RUS               </td><td>11                </td><td>Russian Federation</td><td> 1,657,554        </td></tr>\n",
       "\t<tr><th scope=row>16</th><td>KOR               </td><td>12                </td><td>Korea, Rep.       </td><td> 1,619,424        </td></tr>\n",
       "\t<tr><th scope=row>17</th><td>AUS               </td><td>13                </td><td>Australia         </td><td> 1,432,195        </td></tr>\n",
       "\t<tr><th scope=row>18</th><td>ESP               </td><td>14                </td><td>Spain             </td><td> 1,426,189        </td></tr>\n",
       "\t<tr><th scope=row>19</th><td>MEX               </td><td>15                </td><td>Mexico            </td><td> 1,223,809        </td></tr>\n",
       "</tbody>\n",
       "</table>\n"
      ],
      "text/latex": [
       "\\begin{tabular}{r|llll}\n",
       "  & Code & Ranking & Nation & GDP\\\\\n",
       "\\hline\n",
       "\t5 & USA                & 1                  & United States      &  20,494,100       \\\\\n",
       "\t6 & CHN                & 2                  & China              &  13,608,152       \\\\\n",
       "\t7 & JPN                & 3                  & Japan              &  4,970,916        \\\\\n",
       "\t8 & DEU                & 4                  & Germany            &  3,996,759        \\\\\n",
       "\t9 & GBR                & 5                  & United Kingdom     &  2,825,208        \\\\\n",
       "\t10 & FRA                & 6                  & France             &  2,777,535        \\\\\n",
       "\t11 & IND                & 7                  & India              &  2,726,323        \\\\\n",
       "\t12 & ITA                & 8                  & Italy              &  2,073,902        \\\\\n",
       "\t13 & BRA                & 9                  & Brazil             &  1,868,626        \\\\\n",
       "\t14 & CAN                & 10                 & Canada             &  1,712,510        \\\\\n",
       "\t15 & RUS                & 11                 & Russian Federation &  1,657,554        \\\\\n",
       "\t16 & KOR                & 12                 & Korea, Rep.        &  1,619,424        \\\\\n",
       "\t17 & AUS                & 13                 & Australia          &  1,432,195        \\\\\n",
       "\t18 & ESP                & 14                 & Spain              &  1,426,189        \\\\\n",
       "\t19 & MEX                & 15                 & Mexico             &  1,223,809        \\\\\n",
       "\\end{tabular}\n"
      ],
      "text/markdown": [
       "\n",
       "| <!--/--> | Code | Ranking | Nation | GDP |\n",
       "|---|---|---|---|---|\n",
       "| 5 | USA                | 1                  | United States      |  20,494,100        |\n",
       "| 6 | CHN                | 2                  | China              |  13,608,152        |\n",
       "| 7 | JPN                | 3                  | Japan              |  4,970,916         |\n",
       "| 8 | DEU                | 4                  | Germany            |  3,996,759         |\n",
       "| 9 | GBR                | 5                  | United Kingdom     |  2,825,208         |\n",
       "| 10 | FRA                | 6                  | France             |  2,777,535         |\n",
       "| 11 | IND                | 7                  | India              |  2,726,323         |\n",
       "| 12 | ITA                | 8                  | Italy              |  2,073,902         |\n",
       "| 13 | BRA                | 9                  | Brazil             |  1,868,626         |\n",
       "| 14 | CAN                | 10                 | Canada             |  1,712,510         |\n",
       "| 15 | RUS                | 11                 | Russian Federation |  1,657,554         |\n",
       "| 16 | KOR                | 12                 | Korea, Rep.        |  1,619,424         |\n",
       "| 17 | AUS                | 13                 | Australia          |  1,432,195         |\n",
       "| 18 | ESP                | 14                 | Spain              |  1,426,189         |\n",
       "| 19 | MEX                | 15                 | Mexico             |  1,223,809         |\n",
       "\n"
      ],
      "text/plain": [
       "   Code Ranking Nation             GDP         \n",
       "5  USA  1       United States       20,494,100 \n",
       "6  CHN  2       China               13,608,152 \n",
       "7  JPN  3       Japan               4,970,916  \n",
       "8  DEU  4       Germany             3,996,759  \n",
       "9  GBR  5       United Kingdom      2,825,208  \n",
       "10 FRA  6       France              2,777,535  \n",
       "11 IND  7       India               2,726,323  \n",
       "12 ITA  8       Italy               2,073,902  \n",
       "13 BRA  9       Brazil              1,868,626  \n",
       "14 CAN  10      Canada              1,712,510  \n",
       "15 RUS  11      Russian Federation  1,657,554  \n",
       "16 KOR  12      Korea, Rep.         1,619,424  \n",
       "17 AUS  13      Australia           1,432,195  \n",
       "18 ESP  14      Spain               1,426,189  \n",
       "19 MEX  15      Mexico              1,223,809  "
      ]
     },
     "metadata": {},
     "output_type": "display_data"
    }
   ],
   "source": [
    "# 컬럼 이름 정의 : Code, Ranking, Nation, GDP\n",
    "\n",
    "colnames(GDP_ranking15) <- c('Code','Ranking','Nation','GDP')\n",
    "GDP_ranking15"
   ]
  },
  {
   "cell_type": "code",
   "execution_count": 19,
   "id": "eae9e119",
   "metadata": {},
   "outputs": [
    {
     "name": "stdout",
     "output_type": "stream",
     "text": [
      "   Code Ranking             Nation          GDP\n",
      "1   USA       1      United States  20,494,100 \n",
      "2   CHN       2              China  13,608,152 \n",
      "3   JPN       3              Japan   4,970,916 \n",
      "4   DEU       4            Germany   3,996,759 \n",
      "5   GBR       5     United Kingdom   2,825,208 \n",
      "6   FRA       6             France   2,777,535 \n",
      "7   IND       7              India   2,726,323 \n",
      "8   ITA       8              Italy   2,073,902 \n",
      "9   BRA       9             Brazil   1,868,626 \n",
      "10  CAN      10             Canada   1,712,510 \n",
      "11  RUS      11 Russian Federation   1,657,554 \n",
      "12  KOR      12        Korea, Rep.   1,619,424 \n",
      "13  AUS      13          Australia   1,432,195 \n",
      "14  ESP      14              Spain   1,426,189 \n",
      "15  MEX      15             Mexico   1,223,809 \n"
     ]
    }
   ],
   "source": [
    "# row names 새로 구성하기\n",
    "\n",
    "rownames(GDP_ranking15) <- c()\n",
    "print(GDP_ranking15)"
   ]
  },
  {
   "cell_type": "code",
   "execution_count": 20,
   "id": "f94b6113",
   "metadata": {},
   "outputs": [
    {
     "name": "stdout",
     "output_type": "stream",
     "text": [
      "'data.frame':\t15 obs. of  4 variables:\n",
      " $ Code   : Factor w/ 230 levels \"\",\"ABW\",\"AFG\",..: 216 38 103 52 72 68 94 100 28 34 ...\n",
      " $ Ranking: Factor w/ 212 levels \"\",\".. Not available.  \",..: 3 114 131 142 153 164 175 186 197 4 ...\n",
      " $ Nation : Factor w/ 231 levels \"\",\"Afghanistan\",..: 219 43 104 78 218 73 95 102 28 37 ...\n",
      " $ GDP    : Factor w/ 220 levels \"\",\" .. \",\" 1,022 \",..: 78 44 137 113 77 75 74 67 20 19 ...\n"
     ]
    }
   ],
   "source": [
    "# 구조 확인하기\n",
    "\n",
    "str(GDP_ranking15) "
   ]
  },
  {
   "cell_type": "code",
   "execution_count": 21,
   "id": "cef9127f",
   "metadata": {},
   "outputs": [],
   "source": [
    "# Factor의 개수가 15개가 정상일텐데 이상하다 -> 재구성\n",
    "\n",
    "GDP_ranking15$Code <- factor(GDP_ranking15$Code)"
   ]
  },
  {
   "cell_type": "code",
   "execution_count": 22,
   "id": "e0a06c8f",
   "metadata": {},
   "outputs": [
    {
     "name": "stdout",
     "output_type": "stream",
     "text": [
      "'data.frame':\t15 obs. of  4 variables:\n",
      " $ Code   : Factor w/ 15 levels \"AUS\",\"BRA\",\"CAN\",..: 15 4 11 5 8 7 9 10 2 3 ...\n",
      " $ Ranking: Factor w/ 15 levels \"1\",\"10\",\"11\",..: 1 8 9 10 11 12 13 14 15 2 ...\n",
      " $ Nation : Factor w/ 15 levels \"Australia\",\"Brazil\",..: 15 4 9 6 14 5 7 8 2 3 ...\n",
      " $ GDP    : Factor w/ 15 levels \" 1,223,809 \",..: 13 8 15 14 12 11 10 9 7 6 ...\n"
     ]
    }
   ],
   "source": [
    "# for문을 이용한 factor 조정\n",
    "\n",
    "for(i in 1:ncol(GDP_ranking15)){\n",
    "    GDP_ranking15[,i] = factor(GDP_ranking15[,i])\n",
    "}\n",
    "str(GDP_ranking15)"
   ]
  },
  {
   "cell_type": "code",
   "execution_count": 23,
   "id": "fd946327",
   "metadata": {},
   "outputs": [
    {
     "name": "stdout",
     "output_type": "stream",
     "text": [
      "   Code Ranking             Nation          GDP\n",
      "1   USA       1      United States  20,494,100 \n",
      "2   CHN       2              China  13,608,152 \n",
      "3   JPN       3              Japan   4,970,916 \n",
      "4   DEU       4            Germany   3,996,759 \n",
      "5   GBR       5     United Kingdom   2,825,208 \n",
      "6   FRA       6             France   2,777,535 \n",
      "7   IND       7              India   2,726,323 \n",
      "8   ITA       8              Italy   2,073,902 \n",
      "9   BRA       9             Brazil   1,868,626 \n",
      "10  CAN      10             Canada   1,712,510 \n",
      "11  RUS      11 Russian Federation   1,657,554 \n",
      "12  KOR      12        Korea, Rep.   1,619,424 \n",
      "13  AUS      13          Australia   1,432,195 \n",
      "14  ESP      14              Spain   1,426,189 \n",
      "15  MEX      15             Mexico   1,223,809 \n"
     ]
    }
   ],
   "source": [
    "print(GDP_ranking15)"
   ]
  },
  {
   "cell_type": "code",
   "execution_count": 24,
   "id": "7b6bad3e",
   "metadata": {},
   "outputs": [
    {
     "name": "stderr",
     "output_type": "stream",
     "text": [
      "\n",
      "Attaching package: ‘stringr’\n",
      "\n",
      "The following object is masked _by_ ‘.GlobalEnv’:\n",
      "\n",
      "    fruit\n",
      "\n"
     ]
    }
   ],
   "source": [
    "library(stringr)"
   ]
  },
  {
   "cell_type": "code",
   "execution_count": 25,
   "id": "4e883898",
   "metadata": {},
   "outputs": [
    {
     "name": "stdout",
     "output_type": "stream",
     "text": [
      "'data.frame':\t15 obs. of  4 variables:\n",
      " $ Code   : Factor w/ 15 levels \"AUS\",\"BRA\",\"CAN\",..: 15 4 11 5 8 7 9 10 2 3 ...\n",
      " $ Ranking: Factor w/ 15 levels \"1\",\"10\",\"11\",..: 1 8 9 10 11 12 13 14 15 2 ...\n",
      " $ Nation : Factor w/ 15 levels \"Australia\",\"Brazil\",..: 15 4 9 6 14 5 7 8 2 3 ...\n",
      " $ GDP    : num  20494100 13608152 4970916 3996759 2825208 ...\n"
     ]
    }
   ],
   "source": [
    "GDP_ranking15$GDP <- as.numeric(str_remove_all(GDP_ranking15$GDP,\",\"))\n",
    "str(GDP_ranking15)"
   ]
  },
  {
   "cell_type": "code",
   "execution_count": 26,
   "id": "477a43f0",
   "metadata": {},
   "outputs": [
    {
     "data": {
      "image/png": "[encoded data removed]",
      "text/plain": [
       "Plot with title “2018년 GDP 세계 15위 국가”"
      ]
     },
     "metadata": {},
     "output_type": "display_data"
    }
   ],
   "source": [
    "# 막대 그래프 그리기\n",
    "options(scipen = 100)\n",
    "options(warn = -1)\n",
    "par(family = \"AppleGothic\")\n",
    "barplot((GDP_ranking15$GDP)/1000, # GDP상위 15개국 Data\n",
    "       main = \"2018년 GDP 세계 15위 국가\",\n",
    "       xlab = \"국가(nation)\",\n",
    "       ylab = \"단위(천달러)\",\n",
    "       names = GDP_ranking15$Code,\n",
    "       cex.name = 0.5,\n",
    "       # col = c('red','blue','green')\n",
    "       # col = rainbow(nrow(GDP_ranking15))\n",
    "       col = c(rep('red',2),rep('blue',9),'red',rep('blue',3)),\n",
    "       ylim=c(0,25000)\n",
    "       )"
   ]
  },
  {
   "cell_type": "code",
   "execution_count": 27,
   "id": "745941cb",
   "metadata": {},
   "outputs": [
    {
     "data": {
      "image/png": "[encoded data removed]",
      "text/plain": [
       "Plot with title “2018년 GDP 세계 15위 국가”"
      ]
     },
     "metadata": {},
     "output_type": "display_data"
    }
   ],
   "source": [
    "# GDP가 3000이상인 국가만 빨간색으로 표시하기\n",
    "options(scipen = 100)\n",
    "options(warn = -1)\n",
    "par(family = \"AppleGothic\")\n",
    "barplot((GDP_ranking15$GDP)/1000, # GDP상위 15개국 Data\n",
    "       main = \"2018년 GDP 세계 15위 국가\",\n",
    "       xlab = \"국가(nation)\",\n",
    "       ylab = \"단위(천달러)\",\n",
    "       names = GDP_ranking15$Code,\n",
    "       cex.name = 0.5,\n",
    "       # col = c('red','blue','green')\n",
    "       # col = rainbow(nrow(GDP_ranking15))\n",
    "       col= ifelse(as.numeric(GDP_ranking15$GDP/1000)>=3000,\"red\",\"blue\"),\n",
    "       ylim=c(0,25000)\n",
    "       )"
   ]
  },
  {
   "cell_type": "code",
   "execution_count": 28,
   "id": "628b9df8",
   "metadata": {},
   "outputs": [],
   "source": [
    "# 조건에 의해 색깔 달리하기\n",
    "# ifelse(as.numeric(GDP_ranking15$GDP/1000)>=3000,\"red\",\"blue\") "
   ]
  },
  {
   "cell_type": "markdown",
   "id": "8afbaf02",
   "metadata": {},
   "source": [
    "---\n",
    "# 데이터 처리"
   ]
  },
  {
   "cell_type": "code",
   "execution_count": 29,
   "id": "f2764053",
   "metadata": {},
   "outputs": [
    {
     "name": "stderr",
     "output_type": "stream",
     "text": [
      "\n",
      "Attaching package: ‘dplyr’\n",
      "\n",
      "The following objects are masked from ‘package:stats’:\n",
      "\n",
      "    filter, lag\n",
      "\n",
      "The following objects are masked from ‘package:base’:\n",
      "\n",
      "    intersect, setdiff, setequal, union\n",
      "\n"
     ]
    }
   ],
   "source": [
    "# 데이터 정렬 [중요함]\n",
    "\n",
    "library(dplyr)"
   ]
  },
  {
   "cell_type": "code",
   "execution_count": 30,
   "id": "8088fd42",
   "metadata": {},
   "outputs": [
    {
     "data": {
      "text/html": [
       "<table>\n",
       "<thead><tr><th scope=col>Sepal.Length</th><th scope=col>Sepal.Width</th><th scope=col>Petal.Length</th><th scope=col>Petal.Width</th><th scope=col>Species</th></tr></thead>\n",
       "<tbody>\n",
       "\t<tr><td>4.3   </td><td>3.0   </td><td>1.1   </td><td>0.1   </td><td>setosa</td></tr>\n",
       "\t<tr><td>4.4   </td><td>2.9   </td><td>1.4   </td><td>0.2   </td><td>setosa</td></tr>\n",
       "\t<tr><td>4.4   </td><td>3.0   </td><td>1.3   </td><td>0.2   </td><td>setosa</td></tr>\n",
       "\t<tr><td>4.4   </td><td>3.2   </td><td>1.3   </td><td>0.2   </td><td>setosa</td></tr>\n",
       "\t<tr><td>4.5   </td><td>2.3   </td><td>1.3   </td><td>0.3   </td><td>setosa</td></tr>\n",
       "\t<tr><td>4.6   </td><td>3.1   </td><td>1.5   </td><td>0.2   </td><td>setosa</td></tr>\n",
       "</tbody>\n",
       "</table>\n"
      ],
      "text/latex": [
       "\\begin{tabular}{r|lllll}\n",
       " Sepal.Length & Sepal.Width & Petal.Length & Petal.Width & Species\\\\\n",
       "\\hline\n",
       "\t 4.3    & 3.0    & 1.1    & 0.1    & setosa\\\\\n",
       "\t 4.4    & 2.9    & 1.4    & 0.2    & setosa\\\\\n",
       "\t 4.4    & 3.0    & 1.3    & 0.2    & setosa\\\\\n",
       "\t 4.4    & 3.2    & 1.3    & 0.2    & setosa\\\\\n",
       "\t 4.5    & 2.3    & 1.3    & 0.3    & setosa\\\\\n",
       "\t 4.6    & 3.1    & 1.5    & 0.2    & setosa\\\\\n",
       "\\end{tabular}\n"
      ],
      "text/markdown": [
       "\n",
       "| Sepal.Length | Sepal.Width | Petal.Length | Petal.Width | Species |\n",
       "|---|---|---|---|---|\n",
       "| 4.3    | 3.0    | 1.1    | 0.1    | setosa |\n",
       "| 4.4    | 2.9    | 1.4    | 0.2    | setosa |\n",
       "| 4.4    | 3.0    | 1.3    | 0.2    | setosa |\n",
       "| 4.4    | 3.2    | 1.3    | 0.2    | setosa |\n",
       "| 4.5    | 2.3    | 1.3    | 0.3    | setosa |\n",
       "| 4.6    | 3.1    | 1.5    | 0.2    | setosa |\n",
       "\n"
      ],
      "text/plain": [
       "  Sepal.Length Sepal.Width Petal.Length Petal.Width Species\n",
       "1 4.3          3.0         1.1          0.1         setosa \n",
       "2 4.4          2.9         1.4          0.2         setosa \n",
       "3 4.4          3.0         1.3          0.2         setosa \n",
       "4 4.4          3.2         1.3          0.2         setosa \n",
       "5 4.5          2.3         1.3          0.3         setosa \n",
       "6 4.6          3.1         1.5          0.2         setosa "
      ]
     },
     "metadata": {},
     "output_type": "display_data"
    }
   ],
   "source": [
    "# Sepal.Length 기준으로 오름차순 정렬하기\n",
    "\n",
    "head(arrange(iris,Sepal.Length))"
   ]
  },
  {
   "cell_type": "code",
   "execution_count": 31,
   "id": "4c7b8af9",
   "metadata": {},
   "outputs": [
    {
     "data": {
      "text/html": [
       "<table>\n",
       "<thead><tr><th scope=col>Sepal.Length</th><th scope=col>Sepal.Width</th><th scope=col>Petal.Length</th><th scope=col>Petal.Width</th><th scope=col>Species</th></tr></thead>\n",
       "<tbody>\n",
       "\t<tr><td>4.3   </td><td>3.0   </td><td>1.1   </td><td>0.1   </td><td>setosa</td></tr>\n",
       "\t<tr><td>4.4   </td><td>3.0   </td><td>1.3   </td><td>0.2   </td><td>setosa</td></tr>\n",
       "\t<tr><td>4.4   </td><td>3.2   </td><td>1.3   </td><td>0.2   </td><td>setosa</td></tr>\n",
       "\t<tr><td>4.4   </td><td>2.9   </td><td>1.4   </td><td>0.2   </td><td>setosa</td></tr>\n",
       "\t<tr><td>4.5   </td><td>2.3   </td><td>1.3   </td><td>0.3   </td><td>setosa</td></tr>\n",
       "\t<tr><td>4.6   </td><td>3.6   </td><td>1.0   </td><td>0.2   </td><td>setosa</td></tr>\n",
       "</tbody>\n",
       "</table>\n"
      ],
      "text/latex": [
       "\\begin{tabular}{r|lllll}\n",
       " Sepal.Length & Sepal.Width & Petal.Length & Petal.Width & Species\\\\\n",
       "\\hline\n",
       "\t 4.3    & 3.0    & 1.1    & 0.1    & setosa\\\\\n",
       "\t 4.4    & 3.0    & 1.3    & 0.2    & setosa\\\\\n",
       "\t 4.4    & 3.2    & 1.3    & 0.2    & setosa\\\\\n",
       "\t 4.4    & 2.9    & 1.4    & 0.2    & setosa\\\\\n",
       "\t 4.5    & 2.3    & 1.3    & 0.3    & setosa\\\\\n",
       "\t 4.6    & 3.6    & 1.0    & 0.2    & setosa\\\\\n",
       "\\end{tabular}\n"
      ],
      "text/markdown": [
       "\n",
       "| Sepal.Length | Sepal.Width | Petal.Length | Petal.Width | Species |\n",
       "|---|---|---|---|---|\n",
       "| 4.3    | 3.0    | 1.1    | 0.1    | setosa |\n",
       "| 4.4    | 3.0    | 1.3    | 0.2    | setosa |\n",
       "| 4.4    | 3.2    | 1.3    | 0.2    | setosa |\n",
       "| 4.4    | 2.9    | 1.4    | 0.2    | setosa |\n",
       "| 4.5    | 2.3    | 1.3    | 0.3    | setosa |\n",
       "| 4.6    | 3.6    | 1.0    | 0.2    | setosa |\n",
       "\n"
      ],
      "text/plain": [
       "  Sepal.Length Sepal.Width Petal.Length Petal.Width Species\n",
       "1 4.3          3.0         1.1          0.1         setosa \n",
       "2 4.4          3.0         1.3          0.2         setosa \n",
       "3 4.4          3.2         1.3          0.2         setosa \n",
       "4 4.4          2.9         1.4          0.2         setosa \n",
       "5 4.5          2.3         1.3          0.3         setosa \n",
       "6 4.6          3.6         1.0          0.2         setosa "
      ]
     },
     "metadata": {},
     "output_type": "display_data"
    }
   ],
   "source": [
    "# Sepal.Length기준으로 정렬 후 동일한 크기를 가진 데이터 발생시 Petal.Length기준으로 오름차순으로 정렬\n",
    "\n",
    "head(arrange(iris,Sepal.Length,Petal.Length))"
   ]
  },
  {
   "cell_type": "code",
   "execution_count": 32,
   "id": "402af183",
   "metadata": {},
   "outputs": [
    {
     "data": {
      "text/html": [
       "<table>\n",
       "<thead><tr><th scope=col>Sepal.Length</th><th scope=col>Sepal.Width</th><th scope=col>Petal.Length</th><th scope=col>Petal.Width</th><th scope=col>Species</th></tr></thead>\n",
       "<tbody>\n",
       "\t<tr><td>7.9      </td><td>3.8      </td><td>6.4      </td><td>2.0      </td><td>virginica</td></tr>\n",
       "\t<tr><td>7.7      </td><td>3.8      </td><td>6.7      </td><td>2.2      </td><td>virginica</td></tr>\n",
       "\t<tr><td>7.7      </td><td>2.6      </td><td>6.9      </td><td>2.3      </td><td>virginica</td></tr>\n",
       "\t<tr><td>7.7      </td><td>2.8      </td><td>6.7      </td><td>2.0      </td><td>virginica</td></tr>\n",
       "\t<tr><td>7.7      </td><td>3.0      </td><td>6.1      </td><td>2.3      </td><td>virginica</td></tr>\n",
       "\t<tr><td>7.6      </td><td>3.0      </td><td>6.6      </td><td>2.1      </td><td>virginica</td></tr>\n",
       "</tbody>\n",
       "</table>\n"
      ],
      "text/latex": [
       "\\begin{tabular}{r|lllll}\n",
       " Sepal.Length & Sepal.Width & Petal.Length & Petal.Width & Species\\\\\n",
       "\\hline\n",
       "\t 7.9       & 3.8       & 6.4       & 2.0       & virginica\\\\\n",
       "\t 7.7       & 3.8       & 6.7       & 2.2       & virginica\\\\\n",
       "\t 7.7       & 2.6       & 6.9       & 2.3       & virginica\\\\\n",
       "\t 7.7       & 2.8       & 6.7       & 2.0       & virginica\\\\\n",
       "\t 7.7       & 3.0       & 6.1       & 2.3       & virginica\\\\\n",
       "\t 7.6       & 3.0       & 6.6       & 2.1       & virginica\\\\\n",
       "\\end{tabular}\n"
      ],
      "text/markdown": [
       "\n",
       "| Sepal.Length | Sepal.Width | Petal.Length | Petal.Width | Species |\n",
       "|---|---|---|---|---|\n",
       "| 7.9       | 3.8       | 6.4       | 2.0       | virginica |\n",
       "| 7.7       | 3.8       | 6.7       | 2.2       | virginica |\n",
       "| 7.7       | 2.6       | 6.9       | 2.3       | virginica |\n",
       "| 7.7       | 2.8       | 6.7       | 2.0       | virginica |\n",
       "| 7.7       | 3.0       | 6.1       | 2.3       | virginica |\n",
       "| 7.6       | 3.0       | 6.6       | 2.1       | virginica |\n",
       "\n"
      ],
      "text/plain": [
       "  Sepal.Length Sepal.Width Petal.Length Petal.Width Species  \n",
       "1 7.9          3.8         6.4          2.0         virginica\n",
       "2 7.7          3.8         6.7          2.2         virginica\n",
       "3 7.7          2.6         6.9          2.3         virginica\n",
       "4 7.7          2.8         6.7          2.0         virginica\n",
       "5 7.7          3.0         6.1          2.3         virginica\n",
       "6 7.6          3.0         6.6          2.1         virginica"
      ]
     },
     "metadata": {},
     "output_type": "display_data"
    }
   ],
   "source": [
    "# Sepal.Length 기준으로 내림차순 정렬\n",
    "\n",
    "head(arrange(iris,desc(Sepal.Length)))"
   ]
  },
  {
   "cell_type": "code",
   "execution_count": 33,
   "id": "dc2931db",
   "metadata": {},
   "outputs": [
    {
     "data": {
      "text/html": [
       "<table>\n",
       "<thead><tr><th scope=col>Sepal.Length</th><th scope=col>Sepal.Width</th></tr></thead>\n",
       "<tbody>\n",
       "\t<tr><td>7.9</td><td>3.8</td></tr>\n",
       "\t<tr><td>7.7</td><td>3.8</td></tr>\n",
       "\t<tr><td>7.7</td><td>2.6</td></tr>\n",
       "\t<tr><td>7.7</td><td>2.8</td></tr>\n",
       "\t<tr><td>7.7</td><td>3.0</td></tr>\n",
       "\t<tr><td>7.6</td><td>3.0</td></tr>\n",
       "</tbody>\n",
       "</table>\n"
      ],
      "text/latex": [
       "\\begin{tabular}{r|ll}\n",
       " Sepal.Length & Sepal.Width\\\\\n",
       "\\hline\n",
       "\t 7.9 & 3.8\\\\\n",
       "\t 7.7 & 3.8\\\\\n",
       "\t 7.7 & 2.6\\\\\n",
       "\t 7.7 & 2.8\\\\\n",
       "\t 7.7 & 3.0\\\\\n",
       "\t 7.6 & 3.0\\\\\n",
       "\\end{tabular}\n"
      ],
      "text/markdown": [
       "\n",
       "| Sepal.Length | Sepal.Width |\n",
       "|---|---|\n",
       "| 7.9 | 3.8 |\n",
       "| 7.7 | 3.8 |\n",
       "| 7.7 | 2.6 |\n",
       "| 7.7 | 2.8 |\n",
       "| 7.7 | 3.0 |\n",
       "| 7.6 | 3.0 |\n",
       "\n"
      ],
      "text/plain": [
       "  Sepal.Length Sepal.Width\n",
       "1 7.9          3.8        \n",
       "2 7.7          3.8        \n",
       "3 7.7          2.6        \n",
       "4 7.7          2.8        \n",
       "5 7.7          3.0        \n",
       "6 7.6          3.0        "
      ]
     },
     "metadata": {},
     "output_type": "display_data"
    }
   ],
   "source": [
    "# Sepal.Length 기준으로 내림차순 정렬 후 Sepal.Length와 Sepal.Width만 보기\n",
    "\n",
    "head(arrange(iris[,1:2],desc(Sepal.Length)))"
   ]
  },
  {
   "cell_type": "markdown",
   "id": "2dec665b",
   "metadata": {},
   "source": [
    "---\n",
    "# 샘플링(Sampling)"
   ]
  },
  {
   "cell_type": "code",
   "execution_count": 34,
   "id": "576efe40",
   "metadata": {},
   "outputs": [
    {
     "data": {
      "text/html": [
       "<ol class=list-inline>\n",
       "\t<li>25</li>\n",
       "\t<li>36</li>\n",
       "\t<li>39</li>\n",
       "\t<li>1</li>\n",
       "\t<li>4</li>\n",
       "\t<li>20</li>\n",
       "</ol>\n"
      ],
      "text/latex": [
       "\\begin{enumerate*}\n",
       "\\item 25\n",
       "\\item 36\n",
       "\\item 39\n",
       "\\item 1\n",
       "\\item 4\n",
       "\\item 20\n",
       "\\end{enumerate*}\n"
      ],
      "text/markdown": [
       "1. 25\n",
       "2. 36\n",
       "3. 39\n",
       "4. 1\n",
       "5. 4\n",
       "6. 20\n",
       "\n",
       "\n"
      ],
      "text/plain": [
       "[1] 25 36 39  1  4 20"
      ]
     },
     "metadata": {},
     "output_type": "display_data"
    }
   ],
   "source": [
    "# 랜덤 샘플링(중복값을 허용하지 않음)\n",
    "\n",
    "sample(1:45,6)"
   ]
  },
  {
   "cell_type": "code",
   "execution_count": 35,
   "id": "2dec0f5e",
   "metadata": {},
   "outputs": [
    {
     "data": {
      "text/html": [
       "150"
      ],
      "text/latex": [
       "150"
      ],
      "text/markdown": [
       "150"
      ],
      "text/plain": [
       "[1] 150"
      ]
     },
     "metadata": {},
     "output_type": "display_data"
    },
    {
     "data": {
      "text/html": [
       "5"
      ],
      "text/latex": [
       "5"
      ],
      "text/markdown": [
       "5"
      ],
      "text/plain": [
       "[1] 5"
      ]
     },
     "metadata": {},
     "output_type": "display_data"
    }
   ],
   "source": [
    "nrow(iris)\n",
    "ncol(iris)"
   ]
  },
  {
   "cell_type": "code",
   "execution_count": 36,
   "id": "16acc26b",
   "metadata": {},
   "outputs": [
    {
     "data": {
      "text/html": [
       "<ol class=list-inline>\n",
       "\t<li>121</li>\n",
       "\t<li>44</li>\n",
       "\t<li>5</li>\n",
       "\t<li>1</li>\n",
       "\t<li>106</li>\n",
       "\t<li>68</li>\n",
       "\t<li>57</li>\n",
       "\t<li>46</li>\n",
       "\t<li>35</li>\n",
       "\t<li>58</li>\n",
       "\t<li>98</li>\n",
       "\t<li>101</li>\n",
       "\t<li>63</li>\n",
       "\t<li>97</li>\n",
       "\t<li>48</li>\n",
       "\t<li>14</li>\n",
       "\t<li>91</li>\n",
       "\t<li>72</li>\n",
       "\t<li>146</li>\n",
       "\t<li>50</li>\n",
       "\t<li>88</li>\n",
       "\t<li>7</li>\n",
       "\t<li>94</li>\n",
       "\t<li>117</li>\n",
       "\t<li>39</li>\n",
       "\t<li>71</li>\n",
       "\t<li>147</li>\n",
       "\t<li>49</li>\n",
       "\t<li>32</li>\n",
       "\t<li>34</li>\n",
       "\t<li>112</li>\n",
       "\t<li>109</li>\n",
       "\t<li>25</li>\n",
       "\t<li>126</li>\n",
       "\t<li>130</li>\n",
       "\t<li>28</li>\n",
       "\t<li>9</li>\n",
       "\t<li>125</li>\n",
       "\t<li>82</li>\n",
       "\t<li>11</li>\n",
       "\t<li>137</li>\n",
       "\t<li>149</li>\n",
       "\t<li>45</li>\n",
       "\t<li>56</li>\n",
       "\t<li>134</li>\n",
       "\t<li>3</li>\n",
       "\t<li>135</li>\n",
       "\t<li>142</li>\n",
       "\t<li>148</li>\n",
       "\t<li>74</li>\n",
       "\t<li>64</li>\n",
       "\t<li>76</li>\n",
       "\t<li>103</li>\n",
       "\t<li>22</li>\n",
       "\t<li>52</li>\n",
       "\t<li>2</li>\n",
       "\t<li>139</li>\n",
       "\t<li>114</li>\n",
       "\t<li>104</li>\n",
       "\t<li>93</li>\n",
       "\t<li>69</li>\n",
       "\t<li>95</li>\n",
       "\t<li>124</li>\n",
       "\t<li>6</li>\n",
       "\t<li>136</li>\n",
       "\t<li>150</li>\n",
       "\t<li>15</li>\n",
       "\t<li>141</li>\n",
       "\t<li>81</li>\n",
       "\t<li>67</li>\n",
       "\t<li>132</li>\n",
       "\t<li>127</li>\n",
       "\t<li>33</li>\n",
       "\t<li>75</li>\n",
       "\t<li>24</li>\n",
       "\t<li>27</li>\n",
       "\t<li>140</li>\n",
       "\t<li>42</li>\n",
       "\t<li>21</li>\n",
       "\t<li>118</li>\n",
       "\t<li>66</li>\n",
       "\t<li>113</li>\n",
       "\t<li>16</li>\n",
       "\t<li>77</li>\n",
       "\t<li>120</li>\n",
       "\t<li>8</li>\n",
       "\t<li>59</li>\n",
       "\t<li>108</li>\n",
       "\t<li>138</li>\n",
       "\t<li>73</li>\n",
       "\t<li>79</li>\n",
       "\t<li>87</li>\n",
       "\t<li>90</li>\n",
       "\t<li>62</li>\n",
       "\t<li>99</li>\n",
       "\t<li>102</li>\n",
       "\t<li>17</li>\n",
       "\t<li>85</li>\n",
       "\t<li>31</li>\n",
       "\t<li>128</li>\n",
       "\t<li>92</li>\n",
       "\t<li>29</li>\n",
       "\t<li>23</li>\n",
       "\t<li>30</li>\n",
       "\t<li>105</li>\n",
       "</ol>\n"
      ],
      "text/latex": [
       "\\begin{enumerate*}\n",
       "\\item 121\n",
       "\\item 44\n",
       "\\item 5\n",
       "\\item 1\n",
       "\\item 106\n",
       "\\item 68\n",
       "\\item 57\n",
       "\\item 46\n",
       "\\item 35\n",
       "\\item 58\n",
       "\\item 98\n",
       "\\item 101\n",
       "\\item 63\n",
       "\\item 97\n",
       "\\item 48\n",
       "\\item 14\n",
       "\\item 91\n",
       "\\item 72\n",
       "\\item 146\n",
       "\\item 50\n",
       "\\item 88\n",
       "\\item 7\n",
       "\\item 94\n",
       "\\item 117\n",
       "\\item 39\n",
       "\\item 71\n",
       "\\item 147\n",
       "\\item 49\n",
       "\\item 32\n",
       "\\item 34\n",
       "\\item 112\n",
       "\\item 109\n",
       "\\item 25\n",
       "\\item 126\n",
       "\\item 130\n",
       "\\item 28\n",
       "\\item 9\n",
       "\\item 125\n",
       "\\item 82\n",
       "\\item 11\n",
       "\\item 137\n",
       "\\item 149\n",
       "\\item 45\n",
       "\\item 56\n",
       "\\item 134\n",
       "\\item 3\n",
       "\\item 135\n",
       "\\item 142\n",
       "\\item 148\n",
       "\\item 74\n",
       "\\item 64\n",
       "\\item 76\n",
       "\\item 103\n",
       "\\item 22\n",
       "\\item 52\n",
       "\\item 2\n",
       "\\item 139\n",
       "\\item 114\n",
       "\\item 104\n",
       "\\item 93\n",
       "\\item 69\n",
       "\\item 95\n",
       "\\item 124\n",
       "\\item 6\n",
       "\\item 136\n",
       "\\item 150\n",
       "\\item 15\n",
       "\\item 141\n",
       "\\item 81\n",
       "\\item 67\n",
       "\\item 132\n",
       "\\item 127\n",
       "\\item 33\n",
       "\\item 75\n",
       "\\item 24\n",
       "\\item 27\n",
       "\\item 140\n",
       "\\item 42\n",
       "\\item 21\n",
       "\\item 118\n",
       "\\item 66\n",
       "\\item 113\n",
       "\\item 16\n",
       "\\item 77\n",
       "\\item 120\n",
       "\\item 8\n",
       "\\item 59\n",
       "\\item 108\n",
       "\\item 138\n",
       "\\item 73\n",
       "\\item 79\n",
       "\\item 87\n",
       "\\item 90\n",
       "\\item 62\n",
       "\\item 99\n",
       "\\item 102\n",
       "\\item 17\n",
       "\\item 85\n",
       "\\item 31\n",
       "\\item 128\n",
       "\\item 92\n",
       "\\item 29\n",
       "\\item 23\n",
       "\\item 30\n",
       "\\item 105\n",
       "\\end{enumerate*}\n"
      ],
      "text/markdown": [
       "1. 121\n",
       "2. 44\n",
       "3. 5\n",
       "4. 1\n",
       "5. 106\n",
       "6. 68\n",
       "7. 57\n",
       "8. 46\n",
       "9. 35\n",
       "10. 58\n",
       "11. 98\n",
       "12. 101\n",
       "13. 63\n",
       "14. 97\n",
       "15. 48\n",
       "16. 14\n",
       "17. 91\n",
       "18. 72\n",
       "19. 146\n",
       "20. 50\n",
       "21. 88\n",
       "22. 7\n",
       "23. 94\n",
       "24. 117\n",
       "25. 39\n",
       "26. 71\n",
       "27. 147\n",
       "28. 49\n",
       "29. 32\n",
       "30. 34\n",
       "31. 112\n",
       "32. 109\n",
       "33. 25\n",
       "34. 126\n",
       "35. 130\n",
       "36. 28\n",
       "37. 9\n",
       "38. 125\n",
       "39. 82\n",
       "40. 11\n",
       "41. 137\n",
       "42. 149\n",
       "43. 45\n",
       "44. 56\n",
       "45. 134\n",
       "46. 3\n",
       "47. 135\n",
       "48. 142\n",
       "49. 148\n",
       "50. 74\n",
       "51. 64\n",
       "52. 76\n",
       "53. 103\n",
       "54. 22\n",
       "55. 52\n",
       "56. 2\n",
       "57. 139\n",
       "58. 114\n",
       "59. 104\n",
       "60. 93\n",
       "61. 69\n",
       "62. 95\n",
       "63. 124\n",
       "64. 6\n",
       "65. 136\n",
       "66. 150\n",
       "67. 15\n",
       "68. 141\n",
       "69. 81\n",
       "70. 67\n",
       "71. 132\n",
       "72. 127\n",
       "73. 33\n",
       "74. 75\n",
       "75. 24\n",
       "76. 27\n",
       "77. 140\n",
       "78. 42\n",
       "79. 21\n",
       "80. 118\n",
       "81. 66\n",
       "82. 113\n",
       "83. 16\n",
       "84. 77\n",
       "85. 120\n",
       "86. 8\n",
       "87. 59\n",
       "88. 108\n",
       "89. 138\n",
       "90. 73\n",
       "91. 79\n",
       "92. 87\n",
       "93. 90\n",
       "94. 62\n",
       "95. 99\n",
       "96. 102\n",
       "97. 17\n",
       "98. 85\n",
       "99. 31\n",
       "100. 128\n",
       "101. 92\n",
       "102. 29\n",
       "103. 23\n",
       "104. 30\n",
       "105. 105\n",
       "\n",
       "\n"
      ],
      "text/plain": [
       "  [1] 121  44   5   1 106  68  57  46  35  58  98 101  63  97  48  14  91  72\n",
       " [19] 146  50  88   7  94 117  39  71 147  49  32  34 112 109  25 126 130  28\n",
       " [37]   9 125  82  11 137 149  45  56 134   3 135 142 148  74  64  76 103  22\n",
       " [55]  52   2 139 114 104  93  69  95 124   6 136 150  15 141  81  67 132 127\n",
       " [73]  33  75  24  27 140  42  21 118  66 113  16  77 120   8  59 108 138  73\n",
       " [91]  79  87  90  62  99 102  17  85  31 128  92  29  23  30 105"
      ]
     },
     "metadata": {},
     "output_type": "display_data"
    }
   ],
   "source": [
    "samp <- sample(1:nrow(iris),nrow(iris)*0.7)\n",
    "samp"
   ]
  },
  {
   "cell_type": "code",
   "execution_count": 37,
   "id": "b0cb5dcf",
   "metadata": {},
   "outputs": [
    {
     "data": {
      "text/html": [
       "<table>\n",
       "<thead><tr><th></th><th scope=col>Sepal.Length</th><th scope=col>Sepal.Width</th><th scope=col>Petal.Length</th><th scope=col>Petal.Width</th><th scope=col>Species</th></tr></thead>\n",
       "<tbody>\n",
       "\t<tr><th scope=row>121</th><td>6.9       </td><td>3.2       </td><td>5.7       </td><td>2.3       </td><td>virginica </td></tr>\n",
       "\t<tr><th scope=row>44</th><td>5.0       </td><td>3.5       </td><td>1.6       </td><td>0.6       </td><td>setosa    </td></tr>\n",
       "\t<tr><th scope=row>5</th><td>5.0       </td><td>3.6       </td><td>1.4       </td><td>0.2       </td><td>setosa    </td></tr>\n",
       "\t<tr><th scope=row>1</th><td>5.1       </td><td>3.5       </td><td>1.4       </td><td>0.2       </td><td>setosa    </td></tr>\n",
       "\t<tr><th scope=row>106</th><td>7.6       </td><td>3.0       </td><td>6.6       </td><td>2.1       </td><td>virginica </td></tr>\n",
       "\t<tr><th scope=row>68</th><td>5.8       </td><td>2.7       </td><td>4.1       </td><td>1.0       </td><td>versicolor</td></tr>\n",
       "</tbody>\n",
       "</table>\n"
      ],
      "text/latex": [
       "\\begin{tabular}{r|lllll}\n",
       "  & Sepal.Length & Sepal.Width & Petal.Length & Petal.Width & Species\\\\\n",
       "\\hline\n",
       "\t121 & 6.9        & 3.2        & 5.7        & 2.3        & virginica \\\\\n",
       "\t44 & 5.0        & 3.5        & 1.6        & 0.6        & setosa    \\\\\n",
       "\t5 & 5.0        & 3.6        & 1.4        & 0.2        & setosa    \\\\\n",
       "\t1 & 5.1        & 3.5        & 1.4        & 0.2        & setosa    \\\\\n",
       "\t106 & 7.6        & 3.0        & 6.6        & 2.1        & virginica \\\\\n",
       "\t68 & 5.8        & 2.7        & 4.1        & 1.0        & versicolor\\\\\n",
       "\\end{tabular}\n"
      ],
      "text/markdown": [
       "\n",
       "| <!--/--> | Sepal.Length | Sepal.Width | Petal.Length | Petal.Width | Species |\n",
       "|---|---|---|---|---|---|\n",
       "| 121 | 6.9        | 3.2        | 5.7        | 2.3        | virginica  |\n",
       "| 44 | 5.0        | 3.5        | 1.6        | 0.6        | setosa     |\n",
       "| 5 | 5.0        | 3.6        | 1.4        | 0.2        | setosa     |\n",
       "| 1 | 5.1        | 3.5        | 1.4        | 0.2        | setosa     |\n",
       "| 106 | 7.6        | 3.0        | 6.6        | 2.1        | virginica  |\n",
       "| 68 | 5.8        | 2.7        | 4.1        | 1.0        | versicolor |\n",
       "\n"
      ],
      "text/plain": [
       "    Sepal.Length Sepal.Width Petal.Length Petal.Width Species   \n",
       "121 6.9          3.2         5.7          2.3         virginica \n",
       "44  5.0          3.5         1.6          0.6         setosa    \n",
       "5   5.0          3.6         1.4          0.2         setosa    \n",
       "1   5.1          3.5         1.4          0.2         setosa    \n",
       "106 7.6          3.0         6.6          2.1         virginica \n",
       "68  5.8          2.7         4.1          1.0         versicolor"
      ]
     },
     "metadata": {},
     "output_type": "display_data"
    }
   ],
   "source": [
    "irisSamp <- iris[samp,]\n",
    "head(irisSamp)"
   ]
  },
  {
   "cell_type": "code",
   "execution_count": 38,
   "id": "a60a8e57",
   "metadata": {},
   "outputs": [
    {
     "data": {
      "text/plain": [
       "  Sepal.Length    Sepal.Width     Petal.Length   Petal.Width          Species  \n",
       " Min.   :4.300   Min.   :2.200   Min.   :1.00   Min.   :0.100   setosa    :35  \n",
       " 1st Qu.:5.200   1st Qu.:2.800   1st Qu.:1.60   1st Qu.:0.400   versicolor:34  \n",
       " Median :5.900   Median :3.000   Median :4.40   Median :1.300   virginica :36  \n",
       " Mean   :5.864   Mean   :3.066   Mean   :3.77   Mean   :1.193                  \n",
       " 3rd Qu.:6.400   3rd Qu.:3.300   3rd Qu.:5.10   3rd Qu.:1.800                  \n",
       " Max.   :7.900   Max.   :4.400   Max.   :6.70   Max.   :2.500                  "
      ]
     },
     "metadata": {},
     "output_type": "display_data"
    }
   ],
   "source": [
    "summary(irisSamp)"
   ]
  },
  {
   "cell_type": "code",
   "execution_count": 39,
   "id": "f63fd8dd",
   "metadata": {},
   "outputs": [
    {
     "data": {
      "text/plain": [
       "  Sepal.Length    Sepal.Width     Petal.Length    Petal.Width   \n",
       " Min.   :4.300   Min.   :2.000   Min.   :1.000   Min.   :0.100  \n",
       " 1st Qu.:5.100   1st Qu.:2.800   1st Qu.:1.600   1st Qu.:0.300  \n",
       " Median :5.800   Median :3.000   Median :4.350   Median :1.300  \n",
       " Mean   :5.843   Mean   :3.057   Mean   :3.758   Mean   :1.199  \n",
       " 3rd Qu.:6.400   3rd Qu.:3.300   3rd Qu.:5.100   3rd Qu.:1.800  \n",
       " Max.   :7.900   Max.   :4.400   Max.   :6.900   Max.   :2.500  \n",
       "       Species  \n",
       " setosa    :50  \n",
       " versicolor:50  \n",
       " virginica :50  \n",
       "                \n",
       "                \n",
       "                "
      ]
     },
     "metadata": {},
     "output_type": "display_data"
    }
   ],
   "source": [
    "summary(iris)"
   ]
  },
  {
   "cell_type": "code",
   "execution_count": 40,
   "id": "aced04d6",
   "metadata": {},
   "outputs": [
    {
     "data": {
      "text/plain": [
       "\n",
       "    setosa versicolor  virginica \n",
       "        35         34         36 "
      ]
     },
     "metadata": {},
     "output_type": "display_data"
    }
   ],
   "source": [
    "table(irisSamp$Species)"
   ]
  },
  {
   "cell_type": "code",
   "execution_count": 41,
   "id": "53cd115e",
   "metadata": {},
   "outputs": [],
   "source": [
    "# iris Sampling시 Species 별로 Sampling\n",
    "\n",
    "samp <- c(sample(1:50,35),sample(51:100,35),sample(101:150,35))"
   ]
  },
  {
   "cell_type": "code",
   "execution_count": 42,
   "id": "16a76e6e",
   "metadata": {},
   "outputs": [
    {
     "data": {
      "text/plain": [
       "\n",
       "    setosa versicolor  virginica \n",
       "        35         35         35 "
      ]
     },
     "metadata": {},
     "output_type": "display_data"
    }
   ],
   "source": [
    "irisSamp <- iris[samp,]\n",
    "table(irisSamp$Species)"
   ]
  },
  {
   "cell_type": "code",
   "execution_count": 43,
   "id": "b40ccbaf",
   "metadata": {},
   "outputs": [],
   "source": [
    "# Training Data와 Test Data 분리하기\n",
    "\n",
    "iris.train <- iris[samp,]\n",
    "iris.test <- iris[-samp,]"
   ]
  },
  {
   "cell_type": "code",
   "execution_count": 44,
   "id": "a4a671ef",
   "metadata": {},
   "outputs": [
    {
     "data": {
      "text/plain": [
       "  Sepal.Length    Sepal.Width     Petal.Length    Petal.Width        Species  \n",
       " Min.   :4.400   Min.   :2.000   Min.   :1.000   Min.   :0.1   setosa    :35  \n",
       " 1st Qu.:5.100   1st Qu.:2.800   1st Qu.:1.600   1st Qu.:0.3   versicolor:35  \n",
       " Median :5.800   Median :3.000   Median :4.300   Median :1.3   virginica :35  \n",
       " Mean   :5.855   Mean   :3.044   Mean   :3.755   Mean   :1.2                  \n",
       " 3rd Qu.:6.400   3rd Qu.:3.300   3rd Qu.:5.100   3rd Qu.:1.8                  \n",
       " Max.   :7.700   Max.   :4.400   Max.   :6.900   Max.   :2.5                  "
      ]
     },
     "metadata": {},
     "output_type": "display_data"
    }
   ],
   "source": [
    "summary(iris.train)"
   ]
  },
  {
   "cell_type": "code",
   "execution_count": 45,
   "id": "784407e1",
   "metadata": {},
   "outputs": [
    {
     "data": {
      "text/plain": [
       "  Sepal.Length    Sepal.Width     Petal.Length    Petal.Width   \n",
       " Min.   :4.300   Min.   :2.300   Min.   :1.100   Min.   :0.100  \n",
       " 1st Qu.:5.200   1st Qu.:2.800   1st Qu.:1.600   1st Qu.:0.200  \n",
       " Median :5.700   Median :3.100   Median :4.400   Median :1.400  \n",
       " Mean   :5.816   Mean   :3.089   Mean   :3.764   Mean   :1.198  \n",
       " 3rd Qu.:6.400   3rd Qu.:3.400   3rd Qu.:5.100   3rd Qu.:1.800  \n",
       " Max.   :7.900   Max.   :4.200   Max.   :6.700   Max.   :2.500  \n",
       "       Species  \n",
       " setosa    :15  \n",
       " versicolor:15  \n",
       " virginica :15  \n",
       "                \n",
       "                \n",
       "                "
      ]
     },
     "metadata": {},
     "output_type": "display_data"
    }
   ],
   "source": [
    "summary(iris.test)"
   ]
  },
  {
   "cell_type": "markdown",
   "id": "da89ec8b",
   "metadata": {},
   "source": [
    "---\n",
    "# 부분집합"
   ]
  },
  {
   "cell_type": "code",
   "execution_count": 46,
   "id": "deb887ab",
   "metadata": {},
   "outputs": [
    {
     "data": {
      "text/html": [
       "<table>\n",
       "<thead><tr><th></th><th scope=col>Sepal.Length</th><th scope=col>Sepal.Width</th><th scope=col>Petal.Length</th><th scope=col>Petal.Width</th><th scope=col>Species</th></tr></thead>\n",
       "<tbody>\n",
       "\t<tr><th scope=row>45</th><td>5.1   </td><td>3.8   </td><td>1.9   </td><td>0.4   </td><td>setosa</td></tr>\n",
       "\t<tr><th scope=row>46</th><td>4.8   </td><td>3.0   </td><td>1.4   </td><td>0.3   </td><td>setosa</td></tr>\n",
       "\t<tr><th scope=row>47</th><td>5.1   </td><td>3.8   </td><td>1.6   </td><td>0.2   </td><td>setosa</td></tr>\n",
       "\t<tr><th scope=row>48</th><td>4.6   </td><td>3.2   </td><td>1.4   </td><td>0.2   </td><td>setosa</td></tr>\n",
       "\t<tr><th scope=row>49</th><td>5.3   </td><td>3.7   </td><td>1.5   </td><td>0.2   </td><td>setosa</td></tr>\n",
       "\t<tr><th scope=row>50</th><td>5.0   </td><td>3.3   </td><td>1.4   </td><td>0.2   </td><td>setosa</td></tr>\n",
       "</tbody>\n",
       "</table>\n"
      ],
      "text/latex": [
       "\\begin{tabular}{r|lllll}\n",
       "  & Sepal.Length & Sepal.Width & Petal.Length & Petal.Width & Species\\\\\n",
       "\\hline\n",
       "\t45 & 5.1    & 3.8    & 1.9    & 0.4    & setosa\\\\\n",
       "\t46 & 4.8    & 3.0    & 1.4    & 0.3    & setosa\\\\\n",
       "\t47 & 5.1    & 3.8    & 1.6    & 0.2    & setosa\\\\\n",
       "\t48 & 4.6    & 3.2    & 1.4    & 0.2    & setosa\\\\\n",
       "\t49 & 5.3    & 3.7    & 1.5    & 0.2    & setosa\\\\\n",
       "\t50 & 5.0    & 3.3    & 1.4    & 0.2    & setosa\\\\\n",
       "\\end{tabular}\n"
      ],
      "text/markdown": [
       "\n",
       "| <!--/--> | Sepal.Length | Sepal.Width | Petal.Length | Petal.Width | Species |\n",
       "|---|---|---|---|---|---|\n",
       "| 45 | 5.1    | 3.8    | 1.9    | 0.4    | setosa |\n",
       "| 46 | 4.8    | 3.0    | 1.4    | 0.3    | setosa |\n",
       "| 47 | 5.1    | 3.8    | 1.6    | 0.2    | setosa |\n",
       "| 48 | 4.6    | 3.2    | 1.4    | 0.2    | setosa |\n",
       "| 49 | 5.3    | 3.7    | 1.5    | 0.2    | setosa |\n",
       "| 50 | 5.0    | 3.3    | 1.4    | 0.2    | setosa |\n",
       "\n"
      ],
      "text/plain": [
       "   Sepal.Length Sepal.Width Petal.Length Petal.Width Species\n",
       "45 5.1          3.8         1.9          0.4         setosa \n",
       "46 4.8          3.0         1.4          0.3         setosa \n",
       "47 5.1          3.8         1.6          0.2         setosa \n",
       "48 4.6          3.2         1.4          0.2         setosa \n",
       "49 5.3          3.7         1.5          0.2         setosa \n",
       "50 5.0          3.3         1.4          0.2         setosa "
      ]
     },
     "metadata": {},
     "output_type": "display_data"
    }
   ],
   "source": [
    "# iris에서 Sepecies가 setosa인것만 추출하여 iris_setosa라는 데이터프레임 만들기\n",
    "\n",
    "iris_setosa <- subset(iris,Species == 'setosa')\n",
    "tail(iris_setosa)"
   ]
  },
  {
   "cell_type": "code",
   "execution_count": 47,
   "id": "1bb1a80d",
   "metadata": {},
   "outputs": [
    {
     "data": {
      "text/plain": [
       "  Sepal.Length    Sepal.Width     Petal.Length    Petal.Width   \n",
       " Min.   :4.300   Min.   :2.300   Min.   :1.000   Min.   :0.100  \n",
       " 1st Qu.:4.800   1st Qu.:3.200   1st Qu.:1.400   1st Qu.:0.200  \n",
       " Median :5.000   Median :3.400   Median :1.500   Median :0.200  \n",
       " Mean   :5.006   Mean   :3.428   Mean   :1.462   Mean   :0.246  \n",
       " 3rd Qu.:5.200   3rd Qu.:3.675   3rd Qu.:1.575   3rd Qu.:0.300  \n",
       " Max.   :5.800   Max.   :4.400   Max.   :1.900   Max.   :0.600  \n",
       "       Species  \n",
       " setosa    :50  \n",
       " versicolor: 0  \n",
       " virginica : 0  \n",
       "                \n",
       "                \n",
       "                "
      ]
     },
     "metadata": {},
     "output_type": "display_data"
    }
   ],
   "source": [
    "summary(iris_setosa)"
   ]
  },
  {
   "cell_type": "code",
   "execution_count": 48,
   "id": "a6a489c5",
   "metadata": {},
   "outputs": [
    {
     "name": "stdout",
     "output_type": "stream",
     "text": [
      "'data.frame':\t50 obs. of  5 variables:\n",
      " $ Sepal.Length: num  5.1 4.9 4.7 4.6 5 5.4 4.6 5 4.4 4.9 ...\n",
      " $ Sepal.Width : num  3.5 3 3.2 3.1 3.6 3.9 3.4 3.4 2.9 3.1 ...\n",
      " $ Petal.Length: num  1.4 1.4 1.3 1.5 1.4 1.7 1.4 1.5 1.4 1.5 ...\n",
      " $ Petal.Width : num  0.2 0.2 0.2 0.2 0.2 0.4 0.3 0.2 0.2 0.1 ...\n",
      " $ Species     : Factor w/ 3 levels \"setosa\",\"versicolor\",..: 1 1 1 1 1 1 1 1 1 1 ...\n"
     ]
    }
   ],
   "source": [
    "str(iris_setosa)"
   ]
  },
  {
   "cell_type": "code",
   "execution_count": 49,
   "id": "4c092475",
   "metadata": {
    "scrolled": true
   },
   "outputs": [
    {
     "name": "stdout",
     "output_type": "stream",
     "text": [
      "'data.frame':\t50 obs. of  5 variables:\n",
      " $ Sepal.Length: num  5.1 4.9 4.7 4.6 5 5.4 4.6 5 4.4 4.9 ...\n",
      " $ Sepal.Width : num  3.5 3 3.2 3.1 3.6 3.9 3.4 3.4 2.9 3.1 ...\n",
      " $ Petal.Length: num  1.4 1.4 1.3 1.5 1.4 1.7 1.4 1.5 1.4 1.5 ...\n",
      " $ Petal.Width : num  0.2 0.2 0.2 0.2 0.2 0.4 0.3 0.2 0.2 0.1 ...\n",
      " $ Species     : Factor w/ 1 level \"setosa\": 1 1 1 1 1 1 1 1 1 1 ...\n"
     ]
    }
   ],
   "source": [
    "iris_setosa$Species <- factor(iris_setosa$Species)\n",
    "str(iris_setosa)"
   ]
  },
  {
   "cell_type": "code",
   "execution_count": 50,
   "id": "5155cc82",
   "metadata": {},
   "outputs": [
    {
     "data": {
      "text/html": [
       "<table>\n",
       "<thead><tr><th></th><th scope=col>Sepal.Length</th><th scope=col>Sepal.Width</th><th scope=col>Petal.Length</th><th scope=col>Petal.Width</th><th scope=col>Species</th></tr></thead>\n",
       "<tbody>\n",
       "\t<tr><th scope=row>51</th><td>7.0       </td><td>3.2       </td><td>4.7       </td><td>1.4       </td><td>versicolor</td></tr>\n",
       "\t<tr><th scope=row>52</th><td>6.4       </td><td>3.2       </td><td>4.5       </td><td>1.5       </td><td>versicolor</td></tr>\n",
       "\t<tr><th scope=row>53</th><td>6.9       </td><td>3.1       </td><td>4.9       </td><td>1.5       </td><td>versicolor</td></tr>\n",
       "\t<tr><th scope=row>54</th><td>5.5       </td><td>2.3       </td><td>4.0       </td><td>1.3       </td><td>versicolor</td></tr>\n",
       "\t<tr><th scope=row>55</th><td>6.5       </td><td>2.8       </td><td>4.6       </td><td>1.5       </td><td>versicolor</td></tr>\n",
       "\t<tr><th scope=row>56</th><td>5.7       </td><td>2.8       </td><td>4.5       </td><td>1.3       </td><td>versicolor</td></tr>\n",
       "</tbody>\n",
       "</table>\n"
      ],
      "text/latex": [
       "\\begin{tabular}{r|lllll}\n",
       "  & Sepal.Length & Sepal.Width & Petal.Length & Petal.Width & Species\\\\\n",
       "\\hline\n",
       "\t51 & 7.0        & 3.2        & 4.7        & 1.4        & versicolor\\\\\n",
       "\t52 & 6.4        & 3.2        & 4.5        & 1.5        & versicolor\\\\\n",
       "\t53 & 6.9        & 3.1        & 4.9        & 1.5        & versicolor\\\\\n",
       "\t54 & 5.5        & 2.3        & 4.0        & 1.3        & versicolor\\\\\n",
       "\t55 & 6.5        & 2.8        & 4.6        & 1.5        & versicolor\\\\\n",
       "\t56 & 5.7        & 2.8        & 4.5        & 1.3        & versicolor\\\\\n",
       "\\end{tabular}\n"
      ],
      "text/markdown": [
       "\n",
       "| <!--/--> | Sepal.Length | Sepal.Width | Petal.Length | Petal.Width | Species |\n",
       "|---|---|---|---|---|---|\n",
       "| 51 | 7.0        | 3.2        | 4.7        | 1.4        | versicolor |\n",
       "| 52 | 6.4        | 3.2        | 4.5        | 1.5        | versicolor |\n",
       "| 53 | 6.9        | 3.1        | 4.9        | 1.5        | versicolor |\n",
       "| 54 | 5.5        | 2.3        | 4.0        | 1.3        | versicolor |\n",
       "| 55 | 6.5        | 2.8        | 4.6        | 1.5        | versicolor |\n",
       "| 56 | 5.7        | 2.8        | 4.5        | 1.3        | versicolor |\n",
       "\n"
      ],
      "text/plain": [
       "   Sepal.Length Sepal.Width Petal.Length Petal.Width Species   \n",
       "51 7.0          3.2         4.7          1.4         versicolor\n",
       "52 6.4          3.2         4.5          1.5         versicolor\n",
       "53 6.9          3.1         4.9          1.5         versicolor\n",
       "54 5.5          2.3         4.0          1.3         versicolor\n",
       "55 6.5          2.8         4.6          1.5         versicolor\n",
       "56 5.7          2.8         4.5          1.3         versicolor"
      ]
     },
     "metadata": {},
     "output_type": "display_data"
    }
   ],
   "source": [
    "# iris에서 Species가 versicolor인것만 추출하여 iris_versicolor라는 데이터 프레임 만들기\n",
    "\n",
    "iris_versicolor <- subset(iris,Species == 'versicolor')\n",
    "head(iris_versicolor)"
   ]
  },
  {
   "cell_type": "code",
   "execution_count": 51,
   "id": "e2fe4bbb",
   "metadata": {},
   "outputs": [
    {
     "name": "stdout",
     "output_type": "stream",
     "text": [
      "  Sepal.Length Sepal.Width Petal.Length Petal.Width    Species\n",
      "1          7.0         3.2          4.7         1.4 versicolor\n",
      "2          6.4         3.2          4.5         1.5 versicolor\n",
      "3          6.9         3.1          4.9         1.5 versicolor\n",
      "4          5.5         2.3          4.0         1.3 versicolor\n",
      "5          6.5         2.8          4.6         1.5 versicolor\n",
      "6          5.7         2.8          4.5         1.3 versicolor\n"
     ]
    }
   ],
   "source": [
    "rownames(iris_versicolor) <- c()\n",
    "print(head(iris_versicolor))"
   ]
  },
  {
   "cell_type": "code",
   "execution_count": 52,
   "id": "5eba922f",
   "metadata": {},
   "outputs": [
    {
     "data": {
      "text/plain": [
       "  Sepal.Length    Sepal.Width     Petal.Length   Petal.Width          Species  \n",
       " Min.   :4.900   Min.   :2.000   Min.   :3.00   Min.   :1.000   setosa    : 0  \n",
       " 1st Qu.:5.600   1st Qu.:2.525   1st Qu.:4.00   1st Qu.:1.200   versicolor:50  \n",
       " Median :5.900   Median :2.800   Median :4.35   Median :1.300   virginica : 0  \n",
       " Mean   :5.936   Mean   :2.770   Mean   :4.26   Mean   :1.326                  \n",
       " 3rd Qu.:6.300   3rd Qu.:3.000   3rd Qu.:4.60   3rd Qu.:1.500                  \n",
       " Max.   :7.000   Max.   :3.400   Max.   :5.10   Max.   :1.800                  "
      ]
     },
     "metadata": {},
     "output_type": "display_data"
    }
   ],
   "source": [
    "summary(iris_versicolor)"
   ]
  },
  {
   "cell_type": "code",
   "execution_count": 53,
   "id": "c2375bef",
   "metadata": {},
   "outputs": [
    {
     "name": "stdout",
     "output_type": "stream",
     "text": [
      "'data.frame':\t50 obs. of  5 variables:\n",
      " $ Sepal.Length: num  7 6.4 6.9 5.5 6.5 5.7 6.3 4.9 6.6 5.2 ...\n",
      " $ Sepal.Width : num  3.2 3.2 3.1 2.3 2.8 2.8 3.3 2.4 2.9 2.7 ...\n",
      " $ Petal.Length: num  4.7 4.5 4.9 4 4.6 4.5 4.7 3.3 4.6 3.9 ...\n",
      " $ Petal.Width : num  1.4 1.5 1.5 1.3 1.5 1.3 1.6 1 1.3 1.4 ...\n",
      " $ Species     : Factor w/ 3 levels \"setosa\",\"versicolor\",..: 2 2 2 2 2 2 2 2 2 2 ...\n"
     ]
    }
   ],
   "source": [
    "str(iris_versicolor)"
   ]
  },
  {
   "cell_type": "code",
   "execution_count": 54,
   "id": "3fb2c8df",
   "metadata": {},
   "outputs": [
    {
     "name": "stdout",
     "output_type": "stream",
     "text": [
      "'data.frame':\t50 obs. of  5 variables:\n",
      " $ Sepal.Length: num  7 6.4 6.9 5.5 6.5 5.7 6.3 4.9 6.6 5.2 ...\n",
      " $ Sepal.Width : num  3.2 3.2 3.1 2.3 2.8 2.8 3.3 2.4 2.9 2.7 ...\n",
      " $ Petal.Length: num  4.7 4.5 4.9 4 4.6 4.5 4.7 3.3 4.6 3.9 ...\n",
      " $ Petal.Width : num  1.4 1.5 1.5 1.3 1.5 1.3 1.6 1 1.3 1.4 ...\n",
      " $ Species     : Factor w/ 1 level \"versicolor\": 1 1 1 1 1 1 1 1 1 1 ...\n"
     ]
    }
   ],
   "source": [
    "iris_versicolor$Species <- factor(iris_versicolor$Species)\n",
    "str(iris_versicolor)"
   ]
  },
  {
   "cell_type": "code",
   "execution_count": 55,
   "id": "45469e2f",
   "metadata": {},
   "outputs": [
    {
     "data": {
      "text/html": [
       "22"
      ],
      "text/latex": [
       "22"
      ],
      "text/markdown": [
       "22"
      ],
      "text/plain": [
       "[1] 22"
      ]
     },
     "metadata": {},
     "output_type": "display_data"
    }
   ],
   "source": [
    "# iris에서 Species가 setosa이고 Sepal.Length가 5보다 큰 Sample(Data)의 갯수는?\n",
    "\n",
    "nrow(subset(iris,Species=='setosa'& Sepal.Length >5))"
   ]
  },
  {
   "cell_type": "code",
   "execution_count": 56,
   "id": "3fcda09d",
   "metadata": {},
   "outputs": [
    {
     "data": {
      "text/html": [
       "<table>\n",
       "<thead><tr><th scope=col>Sepal.Length</th><th scope=col>Sepal.Width</th><th scope=col>Petal.Length</th><th scope=col>Petal.Width</th></tr></thead>\n",
       "<tbody>\n",
       "\t<tr><td>5.1</td><td>3.5</td><td>1.4</td><td>0.2</td></tr>\n",
       "\t<tr><td>4.9</td><td>3.0</td><td>1.4</td><td>0.2</td></tr>\n",
       "\t<tr><td>4.7</td><td>3.2</td><td>1.3</td><td>0.2</td></tr>\n",
       "\t<tr><td>4.6</td><td>3.1</td><td>1.5</td><td>0.2</td></tr>\n",
       "\t<tr><td>5.0</td><td>3.6</td><td>1.4</td><td>0.2</td></tr>\n",
       "\t<tr><td>5.4</td><td>3.9</td><td>1.7</td><td>0.4</td></tr>\n",
       "\t<tr><td>4.6</td><td>3.4</td><td>1.4</td><td>0.3</td></tr>\n",
       "\t<tr><td>5.0</td><td>3.4</td><td>1.5</td><td>0.2</td></tr>\n",
       "\t<tr><td>4.4</td><td>2.9</td><td>1.4</td><td>0.2</td></tr>\n",
       "\t<tr><td>4.9</td><td>3.1</td><td>1.5</td><td>0.1</td></tr>\n",
       "\t<tr><td>5.4</td><td>3.7</td><td>1.5</td><td>0.2</td></tr>\n",
       "\t<tr><td>4.8</td><td>3.4</td><td>1.6</td><td>0.2</td></tr>\n",
       "\t<tr><td>4.8</td><td>3.0</td><td>1.4</td><td>0.1</td></tr>\n",
       "\t<tr><td>4.3</td><td>3.0</td><td>1.1</td><td>0.1</td></tr>\n",
       "\t<tr><td>5.8</td><td>4.0</td><td>1.2</td><td>0.2</td></tr>\n",
       "\t<tr><td>5.7</td><td>4.4</td><td>1.5</td><td>0.4</td></tr>\n",
       "\t<tr><td>5.4</td><td>3.9</td><td>1.3</td><td>0.4</td></tr>\n",
       "\t<tr><td>5.1</td><td>3.5</td><td>1.4</td><td>0.3</td></tr>\n",
       "\t<tr><td>5.7</td><td>3.8</td><td>1.7</td><td>0.3</td></tr>\n",
       "\t<tr><td>5.1</td><td>3.8</td><td>1.5</td><td>0.3</td></tr>\n",
       "\t<tr><td>5.4</td><td>3.4</td><td>1.7</td><td>0.2</td></tr>\n",
       "\t<tr><td>5.1</td><td>3.7</td><td>1.5</td><td>0.4</td></tr>\n",
       "\t<tr><td>4.6</td><td>3.6</td><td>1.0</td><td>0.2</td></tr>\n",
       "\t<tr><td>5.1</td><td>3.3</td><td>1.7</td><td>0.5</td></tr>\n",
       "\t<tr><td>4.8</td><td>3.4</td><td>1.9</td><td>0.2</td></tr>\n",
       "\t<tr><td>5.0</td><td>3.0</td><td>1.6</td><td>0.2</td></tr>\n",
       "\t<tr><td>5.0</td><td>3.4</td><td>1.6</td><td>0.4</td></tr>\n",
       "\t<tr><td>5.2</td><td>3.5</td><td>1.5</td><td>0.2</td></tr>\n",
       "\t<tr><td>5.2</td><td>3.4</td><td>1.4</td><td>0.2</td></tr>\n",
       "\t<tr><td>4.7</td><td>3.2</td><td>1.6</td><td>0.2</td></tr>\n",
       "\t<tr><td>...</td><td>...</td><td>...</td><td>...</td></tr>\n",
       "\t<tr><td>6.9</td><td>3.2</td><td>5.7</td><td>2.3</td></tr>\n",
       "\t<tr><td>5.6</td><td>2.8</td><td>4.9</td><td>2.0</td></tr>\n",
       "\t<tr><td>7.7</td><td>2.8</td><td>6.7</td><td>2.0</td></tr>\n",
       "\t<tr><td>6.3</td><td>2.7</td><td>4.9</td><td>1.8</td></tr>\n",
       "\t<tr><td>6.7</td><td>3.3</td><td>5.7</td><td>2.1</td></tr>\n",
       "\t<tr><td>7.2</td><td>3.2</td><td>6.0</td><td>1.8</td></tr>\n",
       "\t<tr><td>6.2</td><td>2.8</td><td>4.8</td><td>1.8</td></tr>\n",
       "\t<tr><td>6.1</td><td>3.0</td><td>4.9</td><td>1.8</td></tr>\n",
       "\t<tr><td>6.4</td><td>2.8</td><td>5.6</td><td>2.1</td></tr>\n",
       "\t<tr><td>7.2</td><td>3.0</td><td>5.8</td><td>1.6</td></tr>\n",
       "\t<tr><td>7.4</td><td>2.8</td><td>6.1</td><td>1.9</td></tr>\n",
       "\t<tr><td>7.9</td><td>3.8</td><td>6.4</td><td>2.0</td></tr>\n",
       "\t<tr><td>6.4</td><td>2.8</td><td>5.6</td><td>2.2</td></tr>\n",
       "\t<tr><td>6.3</td><td>2.8</td><td>5.1</td><td>1.5</td></tr>\n",
       "\t<tr><td>6.1</td><td>2.6</td><td>5.6</td><td>1.4</td></tr>\n",
       "\t<tr><td>7.7</td><td>3.0</td><td>6.1</td><td>2.3</td></tr>\n",
       "\t<tr><td>6.3</td><td>3.4</td><td>5.6</td><td>2.4</td></tr>\n",
       "\t<tr><td>6.4</td><td>3.1</td><td>5.5</td><td>1.8</td></tr>\n",
       "\t<tr><td>6.0</td><td>3.0</td><td>4.8</td><td>1.8</td></tr>\n",
       "\t<tr><td>6.9</td><td>3.1</td><td>5.4</td><td>2.1</td></tr>\n",
       "\t<tr><td>6.7</td><td>3.1</td><td>5.6</td><td>2.4</td></tr>\n",
       "\t<tr><td>6.9</td><td>3.1</td><td>5.1</td><td>2.3</td></tr>\n",
       "\t<tr><td>5.8</td><td>2.7</td><td>5.1</td><td>1.9</td></tr>\n",
       "\t<tr><td>6.8</td><td>3.2</td><td>5.9</td><td>2.3</td></tr>\n",
       "\t<tr><td>6.7</td><td>3.3</td><td>5.7</td><td>2.5</td></tr>\n",
       "\t<tr><td>6.7</td><td>3.0</td><td>5.2</td><td>2.3</td></tr>\n",
       "\t<tr><td>6.3</td><td>2.5</td><td>5.0</td><td>1.9</td></tr>\n",
       "\t<tr><td>6.5</td><td>3.0</td><td>5.2</td><td>2.0</td></tr>\n",
       "\t<tr><td>6.2</td><td>3.4</td><td>5.4</td><td>2.3</td></tr>\n",
       "\t<tr><td>5.9</td><td>3.0</td><td>5.1</td><td>1.8</td></tr>\n",
       "</tbody>\n",
       "</table>\n"
      ],
      "text/latex": [
       "\\begin{tabular}{r|llll}\n",
       " Sepal.Length & Sepal.Width & Petal.Length & Petal.Width\\\\\n",
       "\\hline\n",
       "\t 5.1 & 3.5 & 1.4 & 0.2\\\\\n",
       "\t 4.9 & 3.0 & 1.4 & 0.2\\\\\n",
       "\t 4.7 & 3.2 & 1.3 & 0.2\\\\\n",
       "\t 4.6 & 3.1 & 1.5 & 0.2\\\\\n",
       "\t 5.0 & 3.6 & 1.4 & 0.2\\\\\n",
       "\t 5.4 & 3.9 & 1.7 & 0.4\\\\\n",
       "\t 4.6 & 3.4 & 1.4 & 0.3\\\\\n",
       "\t 5.0 & 3.4 & 1.5 & 0.2\\\\\n",
       "\t 4.4 & 2.9 & 1.4 & 0.2\\\\\n",
       "\t 4.9 & 3.1 & 1.5 & 0.1\\\\\n",
       "\t 5.4 & 3.7 & 1.5 & 0.2\\\\\n",
       "\t 4.8 & 3.4 & 1.6 & 0.2\\\\\n",
       "\t 4.8 & 3.0 & 1.4 & 0.1\\\\\n",
       "\t 4.3 & 3.0 & 1.1 & 0.1\\\\\n",
       "\t 5.8 & 4.0 & 1.2 & 0.2\\\\\n",
       "\t 5.7 & 4.4 & 1.5 & 0.4\\\\\n",
       "\t 5.4 & 3.9 & 1.3 & 0.4\\\\\n",
       "\t 5.1 & 3.5 & 1.4 & 0.3\\\\\n",
       "\t 5.7 & 3.8 & 1.7 & 0.3\\\\\n",
       "\t 5.1 & 3.8 & 1.5 & 0.3\\\\\n",
       "\t 5.4 & 3.4 & 1.7 & 0.2\\\\\n",
       "\t 5.1 & 3.7 & 1.5 & 0.4\\\\\n",
       "\t 4.6 & 3.6 & 1.0 & 0.2\\\\\n",
       "\t 5.1 & 3.3 & 1.7 & 0.5\\\\\n",
       "\t 4.8 & 3.4 & 1.9 & 0.2\\\\\n",
       "\t 5.0 & 3.0 & 1.6 & 0.2\\\\\n",
       "\t 5.0 & 3.4 & 1.6 & 0.4\\\\\n",
       "\t 5.2 & 3.5 & 1.5 & 0.2\\\\\n",
       "\t 5.2 & 3.4 & 1.4 & 0.2\\\\\n",
       "\t 4.7 & 3.2 & 1.6 & 0.2\\\\\n",
       "\t ... & ... & ... & ...\\\\\n",
       "\t 6.9 & 3.2 & 5.7 & 2.3\\\\\n",
       "\t 5.6 & 2.8 & 4.9 & 2.0\\\\\n",
       "\t 7.7 & 2.8 & 6.7 & 2.0\\\\\n",
       "\t 6.3 & 2.7 & 4.9 & 1.8\\\\\n",
       "\t 6.7 & 3.3 & 5.7 & 2.1\\\\\n",
       "\t 7.2 & 3.2 & 6.0 & 1.8\\\\\n",
       "\t 6.2 & 2.8 & 4.8 & 1.8\\\\\n",
       "\t 6.1 & 3.0 & 4.9 & 1.8\\\\\n",
       "\t 6.4 & 2.8 & 5.6 & 2.1\\\\\n",
       "\t 7.2 & 3.0 & 5.8 & 1.6\\\\\n",
       "\t 7.4 & 2.8 & 6.1 & 1.9\\\\\n",
       "\t 7.9 & 3.8 & 6.4 & 2.0\\\\\n",
       "\t 6.4 & 2.8 & 5.6 & 2.2\\\\\n",
       "\t 6.3 & 2.8 & 5.1 & 1.5\\\\\n",
       "\t 6.1 & 2.6 & 5.6 & 1.4\\\\\n",
       "\t 7.7 & 3.0 & 6.1 & 2.3\\\\\n",
       "\t 6.3 & 3.4 & 5.6 & 2.4\\\\\n",
       "\t 6.4 & 3.1 & 5.5 & 1.8\\\\\n",
       "\t 6.0 & 3.0 & 4.8 & 1.8\\\\\n",
       "\t 6.9 & 3.1 & 5.4 & 2.1\\\\\n",
       "\t 6.7 & 3.1 & 5.6 & 2.4\\\\\n",
       "\t 6.9 & 3.1 & 5.1 & 2.3\\\\\n",
       "\t 5.8 & 2.7 & 5.1 & 1.9\\\\\n",
       "\t 6.8 & 3.2 & 5.9 & 2.3\\\\\n",
       "\t 6.7 & 3.3 & 5.7 & 2.5\\\\\n",
       "\t 6.7 & 3.0 & 5.2 & 2.3\\\\\n",
       "\t 6.3 & 2.5 & 5.0 & 1.9\\\\\n",
       "\t 6.5 & 3.0 & 5.2 & 2.0\\\\\n",
       "\t 6.2 & 3.4 & 5.4 & 2.3\\\\\n",
       "\t 5.9 & 3.0 & 5.1 & 1.8\\\\\n",
       "\\end{tabular}\n"
      ],
      "text/markdown": [
       "\n",
       "| Sepal.Length | Sepal.Width | Petal.Length | Petal.Width |\n",
       "|---|---|---|---|\n",
       "| 5.1 | 3.5 | 1.4 | 0.2 |\n",
       "| 4.9 | 3.0 | 1.4 | 0.2 |\n",
       "| 4.7 | 3.2 | 1.3 | 0.2 |\n",
       "| 4.6 | 3.1 | 1.5 | 0.2 |\n",
       "| 5.0 | 3.6 | 1.4 | 0.2 |\n",
       "| 5.4 | 3.9 | 1.7 | 0.4 |\n",
       "| 4.6 | 3.4 | 1.4 | 0.3 |\n",
       "| 5.0 | 3.4 | 1.5 | 0.2 |\n",
       "| 4.4 | 2.9 | 1.4 | 0.2 |\n",
       "| 4.9 | 3.1 | 1.5 | 0.1 |\n",
       "| 5.4 | 3.7 | 1.5 | 0.2 |\n",
       "| 4.8 | 3.4 | 1.6 | 0.2 |\n",
       "| 4.8 | 3.0 | 1.4 | 0.1 |\n",
       "| 4.3 | 3.0 | 1.1 | 0.1 |\n",
       "| 5.8 | 4.0 | 1.2 | 0.2 |\n",
       "| 5.7 | 4.4 | 1.5 | 0.4 |\n",
       "| 5.4 | 3.9 | 1.3 | 0.4 |\n",
       "| 5.1 | 3.5 | 1.4 | 0.3 |\n",
       "| 5.7 | 3.8 | 1.7 | 0.3 |\n",
       "| 5.1 | 3.8 | 1.5 | 0.3 |\n",
       "| 5.4 | 3.4 | 1.7 | 0.2 |\n",
       "| 5.1 | 3.7 | 1.5 | 0.4 |\n",
       "| 4.6 | 3.6 | 1.0 | 0.2 |\n",
       "| 5.1 | 3.3 | 1.7 | 0.5 |\n",
       "| 4.8 | 3.4 | 1.9 | 0.2 |\n",
       "| 5.0 | 3.0 | 1.6 | 0.2 |\n",
       "| 5.0 | 3.4 | 1.6 | 0.4 |\n",
       "| 5.2 | 3.5 | 1.5 | 0.2 |\n",
       "| 5.2 | 3.4 | 1.4 | 0.2 |\n",
       "| 4.7 | 3.2 | 1.6 | 0.2 |\n",
       "| ... | ... | ... | ... |\n",
       "| 6.9 | 3.2 | 5.7 | 2.3 |\n",
       "| 5.6 | 2.8 | 4.9 | 2.0 |\n",
       "| 7.7 | 2.8 | 6.7 | 2.0 |\n",
       "| 6.3 | 2.7 | 4.9 | 1.8 |\n",
       "| 6.7 | 3.3 | 5.7 | 2.1 |\n",
       "| 7.2 | 3.2 | 6.0 | 1.8 |\n",
       "| 6.2 | 2.8 | 4.8 | 1.8 |\n",
       "| 6.1 | 3.0 | 4.9 | 1.8 |\n",
       "| 6.4 | 2.8 | 5.6 | 2.1 |\n",
       "| 7.2 | 3.0 | 5.8 | 1.6 |\n",
       "| 7.4 | 2.8 | 6.1 | 1.9 |\n",
       "| 7.9 | 3.8 | 6.4 | 2.0 |\n",
       "| 6.4 | 2.8 | 5.6 | 2.2 |\n",
       "| 6.3 | 2.8 | 5.1 | 1.5 |\n",
       "| 6.1 | 2.6 | 5.6 | 1.4 |\n",
       "| 7.7 | 3.0 | 6.1 | 2.3 |\n",
       "| 6.3 | 3.4 | 5.6 | 2.4 |\n",
       "| 6.4 | 3.1 | 5.5 | 1.8 |\n",
       "| 6.0 | 3.0 | 4.8 | 1.8 |\n",
       "| 6.9 | 3.1 | 5.4 | 2.1 |\n",
       "| 6.7 | 3.1 | 5.6 | 2.4 |\n",
       "| 6.9 | 3.1 | 5.1 | 2.3 |\n",
       "| 5.8 | 2.7 | 5.1 | 1.9 |\n",
       "| 6.8 | 3.2 | 5.9 | 2.3 |\n",
       "| 6.7 | 3.3 | 5.7 | 2.5 |\n",
       "| 6.7 | 3.0 | 5.2 | 2.3 |\n",
       "| 6.3 | 2.5 | 5.0 | 1.9 |\n",
       "| 6.5 | 3.0 | 5.2 | 2.0 |\n",
       "| 6.2 | 3.4 | 5.4 | 2.3 |\n",
       "| 5.9 | 3.0 | 5.1 | 1.8 |\n",
       "\n"
      ],
      "text/plain": [
       "    Sepal.Length Sepal.Width Petal.Length Petal.Width\n",
       "1   5.1          3.5         1.4          0.2        \n",
       "2   4.9          3.0         1.4          0.2        \n",
       "3   4.7          3.2         1.3          0.2        \n",
       "4   4.6          3.1         1.5          0.2        \n",
       "5   5.0          3.6         1.4          0.2        \n",
       "6   5.4          3.9         1.7          0.4        \n",
       "7   4.6          3.4         1.4          0.3        \n",
       "8   5.0          3.4         1.5          0.2        \n",
       "9   4.4          2.9         1.4          0.2        \n",
       "10  4.9          3.1         1.5          0.1        \n",
       "11  5.4          3.7         1.5          0.2        \n",
       "12  4.8          3.4         1.6          0.2        \n",
       "13  4.8          3.0         1.4          0.1        \n",
       "14  4.3          3.0         1.1          0.1        \n",
       "15  5.8          4.0         1.2          0.2        \n",
       "16  5.7          4.4         1.5          0.4        \n",
       "17  5.4          3.9         1.3          0.4        \n",
       "18  5.1          3.5         1.4          0.3        \n",
       "19  5.7          3.8         1.7          0.3        \n",
       "20  5.1          3.8         1.5          0.3        \n",
       "21  5.4          3.4         1.7          0.2        \n",
       "22  5.1          3.7         1.5          0.4        \n",
       "23  4.6          3.6         1.0          0.2        \n",
       "24  5.1          3.3         1.7          0.5        \n",
       "25  4.8          3.4         1.9          0.2        \n",
       "26  5.0          3.0         1.6          0.2        \n",
       "27  5.0          3.4         1.6          0.4        \n",
       "28  5.2          3.5         1.5          0.2        \n",
       "29  5.2          3.4         1.4          0.2        \n",
       "30  4.7          3.2         1.6          0.2        \n",
       "... ...          ...         ...          ...        \n",
       "121 6.9          3.2         5.7          2.3        \n",
       "122 5.6          2.8         4.9          2.0        \n",
       "123 7.7          2.8         6.7          2.0        \n",
       "124 6.3          2.7         4.9          1.8        \n",
       "125 6.7          3.3         5.7          2.1        \n",
       "126 7.2          3.2         6.0          1.8        \n",
       "127 6.2          2.8         4.8          1.8        \n",
       "128 6.1          3.0         4.9          1.8        \n",
       "129 6.4          2.8         5.6          2.1        \n",
       "130 7.2          3.0         5.8          1.6        \n",
       "131 7.4          2.8         6.1          1.9        \n",
       "132 7.9          3.8         6.4          2.0        \n",
       "133 6.4          2.8         5.6          2.2        \n",
       "134 6.3          2.8         5.1          1.5        \n",
       "135 6.1          2.6         5.6          1.4        \n",
       "136 7.7          3.0         6.1          2.3        \n",
       "137 6.3          3.4         5.6          2.4        \n",
       "138 6.4          3.1         5.5          1.8        \n",
       "139 6.0          3.0         4.8          1.8        \n",
       "140 6.9          3.1         5.4          2.1        \n",
       "141 6.7          3.1         5.6          2.4        \n",
       "142 6.9          3.1         5.1          2.3        \n",
       "143 5.8          2.7         5.1          1.9        \n",
       "144 6.8          3.2         5.9          2.3        \n",
       "145 6.7          3.3         5.7          2.5        \n",
       "146 6.7          3.0         5.2          2.3        \n",
       "147 6.3          2.5         5.0          1.9        \n",
       "148 6.5          3.0         5.2          2.0        \n",
       "149 6.2          3.4         5.4          2.3        \n",
       "150 5.9          3.0         5.1          1.8        "
      ]
     },
     "metadata": {},
     "output_type": "display_data"
    }
   ],
   "source": [
    "# subset으로 컬럼 지우기\n",
    "subset(iris,select = -Species)"
   ]
  },
  {
   "cell_type": "markdown",
   "id": "39b6245b",
   "metadata": {},
   "source": [
    "---\n",
    "# 그룹연산 함수"
   ]
  },
  {
   "cell_type": "code",
   "execution_count": 57,
   "id": "e6a99621",
   "metadata": {},
   "outputs": [
    {
     "data": {
      "text/html": [
       "<table>\n",
       "<thead><tr><th scope=col>Species</th><th scope=col>Sepal.Width</th></tr></thead>\n",
       "<tbody>\n",
       "\t<tr><td>setosa    </td><td>3.428     </td></tr>\n",
       "\t<tr><td>versicolor</td><td>2.770     </td></tr>\n",
       "\t<tr><td>virginica </td><td>2.974     </td></tr>\n",
       "</tbody>\n",
       "</table>\n"
      ],
      "text/latex": [
       "\\begin{tabular}{r|ll}\n",
       " Species & Sepal.Width\\\\\n",
       "\\hline\n",
       "\t setosa     & 3.428     \\\\\n",
       "\t versicolor & 2.770     \\\\\n",
       "\t virginica  & 2.974     \\\\\n",
       "\\end{tabular}\n"
      ],
      "text/markdown": [
       "\n",
       "| Species | Sepal.Width |\n",
       "|---|---|\n",
       "| setosa     | 3.428      |\n",
       "| versicolor | 2.770      |\n",
       "| virginica  | 2.974      |\n",
       "\n"
      ],
      "text/plain": [
       "  Species    Sepal.Width\n",
       "1 setosa     3.428      \n",
       "2 versicolor 2.770      \n",
       "3 virginica  2.974      "
      ]
     },
     "metadata": {},
     "output_type": "display_data"
    }
   ],
   "source": [
    "# y~x : y=ax=b\n",
    "# iris에서 Species 기준으로 Sepal.Width의 평균 구하기\n",
    "\n",
    "aggregate(Sepal.Width~ Species,iris,mean )"
   ]
  },
  {
   "cell_type": "markdown",
   "id": "cb25aea0",
   "metadata": {},
   "source": [
    "---\n",
    "# 서울시 교통사고 조사 데이터셋"
   ]
  },
  {
   "cell_type": "code",
   "execution_count": 58,
   "id": "cd892465",
   "metadata": {},
   "outputs": [
    {
     "name": "stdout",
     "output_type": "stream",
     "text": [
      "  년도 월 자치구명 발생건수 사망자수 부상자수\n",
      "1 2011  1   종로구      115        2      165\n",
      "2 2011  2   종로구       99        0      134\n",
      "3 2011  3   종로구      116        0      162\n",
      "4 2011  4   종로구      110        1      153\n",
      "5 2011  5   종로구      122        0      157\n",
      "6 2011  6   종로구      116        3      163\n"
     ]
    }
   ],
   "source": [
    "# 데이터셋을 불러와서 seoul이라는 변수에 넣기\n",
    "\n",
    "seoul <- read.csv(\"./Data/newSeoul2019.csv\")\n",
    "print(head(seoul))"
   ]
  },
  {
   "cell_type": "code",
   "execution_count": 59,
   "id": "72b69458",
   "metadata": {},
   "outputs": [
    {
     "data": {
      "text/html": [
       "<table>\n",
       "<thead><tr><th></th><th scope=col>년도</th><th scope=col>월</th><th scope=col>자치구명</th><th scope=col>발생건수</th><th scope=col>사망자수</th><th scope=col>부상자수</th></tr></thead>\n",
       "<tbody>\n",
       "\t<tr><th scope=row>2695</th><td>2019  </td><td> 7    </td><td>강동구</td><td>146   </td><td>2     </td><td>189   </td></tr>\n",
       "\t<tr><th scope=row>2696</th><td>2019  </td><td> 8    </td><td>강동구</td><td>127   </td><td>2     </td><td>175   </td></tr>\n",
       "\t<tr><th scope=row>2697</th><td>2019  </td><td> 9    </td><td>강동구</td><td> 98   </td><td>2     </td><td>137   </td></tr>\n",
       "\t<tr><th scope=row>2698</th><td>2019  </td><td>10    </td><td>강동구</td><td>108   </td><td>1     </td><td>144   </td></tr>\n",
       "\t<tr><th scope=row>2699</th><td>2019  </td><td>11    </td><td>강동구</td><td>146   </td><td>0     </td><td>199   </td></tr>\n",
       "\t<tr><th scope=row>2700</th><td>2019  </td><td>12    </td><td>강동구</td><td>108   </td><td>1     </td><td>131   </td></tr>\n",
       "</tbody>\n",
       "</table>\n"
      ],
      "text/latex": [
       "\\begin{tabular}{r|llllll}\n",
       "  & 년도 & 월 & 자치구명 & 발생건수 & 사망자수 & 부상자수\\\\\n",
       "\\hline\n",
       "\t2695 & 2019   &  7     & 강동구 & 146    & 2      & 189   \\\\\n",
       "\t2696 & 2019   &  8     & 강동구 & 127    & 2      & 175   \\\\\n",
       "\t2697 & 2019   &  9     & 강동구 &  98    & 2      & 137   \\\\\n",
       "\t2698 & 2019   & 10     & 강동구 & 108    & 1      & 144   \\\\\n",
       "\t2699 & 2019   & 11     & 강동구 & 146    & 0      & 199   \\\\\n",
       "\t2700 & 2019   & 12     & 강동구 & 108    & 1      & 131   \\\\\n",
       "\\end{tabular}\n"
      ],
      "text/markdown": [
       "\n",
       "| <!--/--> | 년도 | 월 | 자치구명 | 발생건수 | 사망자수 | 부상자수 |\n",
       "|---|---|---|---|---|---|---|\n",
       "| 2695 | 2019   |  7     | 강동구 | 146    | 2      | 189    |\n",
       "| 2696 | 2019   |  8     | 강동구 | 127    | 2      | 175    |\n",
       "| 2697 | 2019   |  9     | 강동구 |  98    | 2      | 137    |\n",
       "| 2698 | 2019   | 10     | 강동구 | 108    | 1      | 144    |\n",
       "| 2699 | 2019   | 11     | 강동구 | 146    | 0      | 199    |\n",
       "| 2700 | 2019   | 12     | 강동구 | 108    | 1      | 131    |\n",
       "\n"
      ],
      "text/plain": [
       "     년도 월 자치구명 발생건수 사망자수 부상자수\n",
       "2695 2019  7 강동구   146      2        189     \n",
       "2696 2019  8 강동구   127      2        175     \n",
       "2697 2019  9 강동구    98      2        137     \n",
       "2698 2019 10 강동구   108      1        144     \n",
       "2699 2019 11 강동구   146      0        199     \n",
       "2700 2019 12 강동구   108      1        131     "
      ]
     },
     "metadata": {},
     "output_type": "display_data"
    }
   ],
   "source": [
    "tail(seoul)"
   ]
  },
  {
   "cell_type": "code",
   "execution_count": 60,
   "id": "1e1b6476",
   "metadata": {},
   "outputs": [
    {
     "data": {
      "text/plain": [
       "      년도            월           자치구명       발생건수        사망자수     \n",
       " Min.   :2011   Min.   : 1.00   강남구 : 108   Min.   : 45.0   Min.   : 0.000  \n",
       " 1st Qu.:2013   1st Qu.: 3.75   강동구 : 108   1st Qu.:100.0   1st Qu.: 0.000  \n",
       " Median :2015   Median : 6.50   강북구 : 108   Median :122.0   Median : 1.000  \n",
       " Mean   :2015   Mean   : 6.50   강서구 : 108   Mean   :133.3   Mean   : 1.207  \n",
       " 3rd Qu.:2017   3rd Qu.: 9.25   관악구 : 108   3rd Qu.:149.0   3rd Qu.: 2.000  \n",
       " Max.   :2019   Max.   :12.00   광진구 : 108   Max.   :383.0   Max.   :10.000  \n",
       "                                (Other):2052                                   \n",
       "    부상자수    \n",
       " Min.   : 55.0  \n",
       " 1st Qu.:138.0  \n",
       " Median :168.0  \n",
       " Mean   :187.4  \n",
       " 3rd Qu.:208.0  \n",
       " Max.   :552.0  \n",
       "                "
      ]
     },
     "metadata": {},
     "output_type": "display_data"
    }
   ],
   "source": [
    "summary(seoul) # 발생건수, 사망건수, 부상자수를 보면 평균이 중앙값보다 커 오른쪽으로 치우쳐진 정규분포 형태"
   ]
  },
  {
   "cell_type": "code",
   "execution_count": 61,
   "id": "63670ce2",
   "metadata": {},
   "outputs": [
    {
     "name": "stdout",
     "output_type": "stream",
     "text": [
      "'data.frame':\t2700 obs. of  6 variables:\n",
      " $ 년도    : int  2011 2011 2011 2011 2011 2011 2011 2011 2011 2011 ...\n",
      " $ 월      : int  1 2 3 4 5 6 7 8 9 10 ...\n",
      " $ 자치구명: Factor w/ 25 levels \"강남구\",\"강동구\",..: 23 23 23 23 23 23 23 23 23 23 ...\n",
      " $ 발생건수: int  115 99 116 110 122 116 103 122 121 135 ...\n",
      " $ 사망자수: int  2 0 0 1 0 3 1 1 2 2 ...\n",
      " $ 부상자수: int  165 134 162 153 157 163 154 171 166 193 ...\n"
     ]
    }
   ],
   "source": [
    "str(seoul)"
   ]
  },
  {
   "cell_type": "code",
   "execution_count": 62,
   "id": "3e6a0aa0",
   "metadata": {},
   "outputs": [
    {
     "name": "stdout",
     "output_type": "stream",
     "text": [
      "년도 : 0 \n",
      "월 : 0 \n",
      "자치구명 : 0 \n",
      "발생건수 : 0 \n",
      "사망자수 : 0 \n",
      "부상자수 : 0 \n"
     ]
    }
   ],
   "source": [
    "# NA 확인 (컬럼별)\n",
    "\n",
    "for (i in 1:ncol(seoul)){\n",
    "    cat(colnames(seoul)[i],\":\",sum(is.na(seoul[,i])),\"\\n\")\n",
    "}"
   ]
  },
  {
   "cell_type": "markdown",
   "id": "176f5a44",
   "metadata": {},
   "source": [
    "---\n",
    "### 컬럼별 데이터 확인"
   ]
  },
  {
   "cell_type": "code",
   "execution_count": 63,
   "id": "cb96410c",
   "metadata": {},
   "outputs": [
    {
     "data": {
      "text/plain": [
       "\n",
       "2011 2012 2013 2014 2015 2016 2017 2018 2019 \n",
       " 300  300  300  300  300  300  300  300  300 "
      ]
     },
     "metadata": {},
     "output_type": "display_data"
    }
   ],
   "source": [
    "# 연도\n",
    "\n",
    "table(seoul$년도)"
   ]
  },
  {
   "cell_type": "code",
   "execution_count": 64,
   "id": "20197185",
   "metadata": {},
   "outputs": [
    {
     "data": {
      "text/plain": [
       "\n",
       "  1   2   3   4   5   6   7   8   9  10  11  12 \n",
       "225 225 225 225 225 225 225 225 225 225 225 225 "
      ]
     },
     "metadata": {},
     "output_type": "display_data"
    }
   ],
   "source": [
    "# 월\n",
    "\n",
    "table(seoul$월)"
   ]
  },
  {
   "cell_type": "code",
   "execution_count": 65,
   "id": "b0518179",
   "metadata": {},
   "outputs": [
    {
     "data": {
      "text/plain": [
       "\n",
       "  강남구   강동구   강북구   강서구   관악구   광진구   구로구   금천구 \n",
       "     108      108      108      108      108      108      108      108 \n",
       "  노원구   도봉구 동대문구   동작구   마포구 서대문구   서초구   성동구 \n",
       "     108      108      108      108      108      108      108      108 \n",
       "  성북구   송파구   양천구 영등포구   용산구   은평구   종로구     중구 \n",
       "     108      108      108      108      108      108      108      108 \n",
       "  중랑구 \n",
       "     108 "
      ]
     },
     "metadata": {},
     "output_type": "display_data"
    }
   ],
   "source": [
    "# 자치구별\n",
    "\n",
    "table(seoul$자치구명)"
   ]
  },
  {
   "cell_type": "code",
   "execution_count": 66,
   "id": "92fff01c",
   "metadata": {},
   "outputs": [
    {
     "data": {
      "text/html": [
       "<table>\n",
       "<thead><tr><th scope=col>자치구명</th><th scope=col>발생건수</th></tr></thead>\n",
       "<tbody>\n",
       "\t<tr><td>강남구  </td><td>306.3611</td></tr>\n",
       "\t<tr><td>강동구  </td><td>118.5370</td></tr>\n",
       "\t<tr><td>강북구  </td><td>101.7870</td></tr>\n",
       "\t<tr><td>강서구  </td><td>145.4722</td></tr>\n",
       "\t<tr><td>관악구  </td><td>128.3889</td></tr>\n",
       "\t<tr><td>광진구  </td><td>103.0741</td></tr>\n",
       "</tbody>\n",
       "</table>\n"
      ],
      "text/latex": [
       "\\begin{tabular}{r|ll}\n",
       " 자치구명 & 발생건수\\\\\n",
       "\\hline\n",
       "\t 강남구   & 306.3611\\\\\n",
       "\t 강동구   & 118.5370\\\\\n",
       "\t 강북구   & 101.7870\\\\\n",
       "\t 강서구   & 145.4722\\\\\n",
       "\t 관악구   & 128.3889\\\\\n",
       "\t 광진구   & 103.0741\\\\\n",
       "\\end{tabular}\n"
      ],
      "text/markdown": [
       "\n",
       "| 자치구명 | 발생건수 |\n",
       "|---|---|\n",
       "| 강남구   | 306.3611 |\n",
       "| 강동구   | 118.5370 |\n",
       "| 강북구   | 101.7870 |\n",
       "| 강서구   | 145.4722 |\n",
       "| 관악구   | 128.3889 |\n",
       "| 광진구   | 103.0741 |\n",
       "\n"
      ],
      "text/plain": [
       "  자치구명 발생건수\n",
       "1 강남구   306.3611\n",
       "2 강동구   118.5370\n",
       "3 강북구   101.7870\n",
       "4 강서구   145.4722\n",
       "5 관악구   128.3889\n",
       "6 광진구   103.0741"
      ]
     },
     "metadata": {},
     "output_type": "display_data"
    }
   ],
   "source": [
    "# 자치구별 발생건수의 평균 구하기\n",
    "\n",
    "regionAcc.mean <- aggregate(발생건수~자치구명,seoul,mean)\n",
    "head(regionAcc.mean)"
   ]
  },
  {
   "cell_type": "code",
   "execution_count": 67,
   "id": "a192006f",
   "metadata": {},
   "outputs": [
    {
     "data": {
      "text/html": [
       "<table>\n",
       "<thead><tr><th scope=col>자치구명</th><th scope=col>발생건수</th></tr></thead>\n",
       "<tbody>\n",
       "\t<tr><td>강남구  </td><td>306.3611</td></tr>\n",
       "\t<tr><td>송파구  </td><td>224.7593</td></tr>\n",
       "\t<tr><td>영등포구</td><td>194.6481</td></tr>\n",
       "\t<tr><td>서초구  </td><td>186.4815</td></tr>\n",
       "\t<tr><td>동대문구</td><td>153.6481</td></tr>\n",
       "\t<tr><td>강서구  </td><td>145.4722</td></tr>\n",
       "</tbody>\n",
       "</table>\n"
      ],
      "text/latex": [
       "\\begin{tabular}{r|ll}\n",
       " 자치구명 & 발생건수\\\\\n",
       "\\hline\n",
       "\t 강남구   & 306.3611\\\\\n",
       "\t 송파구   & 224.7593\\\\\n",
       "\t 영등포구 & 194.6481\\\\\n",
       "\t 서초구   & 186.4815\\\\\n",
       "\t 동대문구 & 153.6481\\\\\n",
       "\t 강서구   & 145.4722\\\\\n",
       "\\end{tabular}\n"
      ],
      "text/markdown": [
       "\n",
       "| 자치구명 | 발생건수 |\n",
       "|---|---|\n",
       "| 강남구   | 306.3611 |\n",
       "| 송파구   | 224.7593 |\n",
       "| 영등포구 | 194.6481 |\n",
       "| 서초구   | 186.4815 |\n",
       "| 동대문구 | 153.6481 |\n",
       "| 강서구   | 145.4722 |\n",
       "\n"
      ],
      "text/plain": [
       "  자치구명 발생건수\n",
       "1 강남구   306.3611\n",
       "2 송파구   224.7593\n",
       "3 영등포구 194.6481\n",
       "4 서초구   186.4815\n",
       "5 동대문구 153.6481\n",
       "6 강서구   145.4722"
      ]
     },
     "metadata": {},
     "output_type": "display_data"
    }
   ],
   "source": [
    "# regionAcc.mean을 발생건수 기준으로 내림차순 정렬하기\n",
    "\n",
    "head(arrange(regionAcc.mean,desc(발생건수)))"
   ]
  },
  {
   "cell_type": "code",
   "execution_count": 70,
   "id": "25b4006c",
   "metadata": {},
   "outputs": [
    {
     "data": {
      "text/html": [
       "<table>\n",
       "<thead><tr><th scope=col>자치구명</th><th scope=col>발생건수</th></tr></thead>\n",
       "<tbody>\n",
       "\t<tr><td>강남구  </td><td>32.92968</td></tr>\n",
       "\t<tr><td>강동구  </td><td>15.24836</td></tr>\n",
       "\t<tr><td>강북구  </td><td>14.80784</td></tr>\n",
       "\t<tr><td>강서구  </td><td>19.66659</td></tr>\n",
       "\t<tr><td>관악구  </td><td>22.62611</td></tr>\n",
       "\t<tr><td>광진구  </td><td>21.85582</td></tr>\n",
       "</tbody>\n",
       "</table>\n"
      ],
      "text/latex": [
       "\\begin{tabular}{r|ll}\n",
       " 자치구명 & 발생건수\\\\\n",
       "\\hline\n",
       "\t 강남구   & 32.92968\\\\\n",
       "\t 강동구   & 15.24836\\\\\n",
       "\t 강북구   & 14.80784\\\\\n",
       "\t 강서구   & 19.66659\\\\\n",
       "\t 관악구   & 22.62611\\\\\n",
       "\t 광진구   & 21.85582\\\\\n",
       "\\end{tabular}\n"
      ],
      "text/markdown": [
       "\n",
       "| 자치구명 | 발생건수 |\n",
       "|---|---|\n",
       "| 강남구   | 32.92968 |\n",
       "| 강동구   | 15.24836 |\n",
       "| 강북구   | 14.80784 |\n",
       "| 강서구   | 19.66659 |\n",
       "| 관악구   | 22.62611 |\n",
       "| 광진구   | 21.85582 |\n",
       "\n"
      ],
      "text/plain": [
       "  자치구명 발생건수\n",
       "1 강남구   32.92968\n",
       "2 강동구   15.24836\n",
       "3 강북구   14.80784\n",
       "4 강서구   19.66659\n",
       "5 관악구   22.62611\n",
       "6 광진구   21.85582"
      ]
     },
     "metadata": {},
     "output_type": "display_data"
    }
   ],
   "source": [
    "# 자치구별 발생건수의 표준편차 구하기\n",
    "\n",
    "regionAcc.sd <- aggregate(발생건수~자치구명,seoul,sd)\n",
    "head(regionAcc.sd)"
   ]
  },
  {
   "cell_type": "code",
   "execution_count": 85,
   "id": "b4ccdc89",
   "metadata": {},
   "outputs": [
    {
     "data": {
      "text/html": [
       "<ol class=list-inline>\n",
       "\t<li>0.107486482513602</li>\n",
       "\t<li>0.128637979714391</li>\n",
       "\t<li>0.145478594491982</li>\n",
       "\t<li>0.135191404686044</li>\n",
       "\t<li>0.176231052614568</li>\n",
       "\t<li>0.212039899114969</li>\n",
       "\t<li>0.124749016022975</li>\n",
       "\t<li>0.17928452073239</li>\n",
       "\t<li>0.126995840433658</li>\n",
       "\t<li>0.157419730514435</li>\n",
       "\t<li>0.147834704654914</li>\n",
       "\t<li>0.142874348737122</li>\n",
       "\t<li>0.127987255262908</li>\n",
       "\t<li>0.13321233953876</li>\n",
       "\t<li>0.126787757202217</li>\n",
       "\t<li>0.149968744010714</li>\n",
       "\t<li>0.140177159138654</li>\n",
       "\t<li>0.134134103472243</li>\n",
       "\t<li>0.141131538089865</li>\n",
       "\t<li>0.11770976181152</li>\n",
       "\t<li>0.150124463527667</li>\n",
       "\t<li>0.184994008930331</li>\n",
       "\t<li>0.15866237808939</li>\n",
       "\t<li>0.158113260829509</li>\n",
       "\t<li>0.128571242262573</li>\n",
       "</ol>\n"
      ],
      "text/latex": [
       "\\begin{enumerate*}\n",
       "\\item 0.107486482513602\n",
       "\\item 0.128637979714391\n",
       "\\item 0.145478594491982\n",
       "\\item 0.135191404686044\n",
       "\\item 0.176231052614568\n",
       "\\item 0.212039899114969\n",
       "\\item 0.124749016022975\n",
       "\\item 0.17928452073239\n",
       "\\item 0.126995840433658\n",
       "\\item 0.157419730514435\n",
       "\\item 0.147834704654914\n",
       "\\item 0.142874348737122\n",
       "\\item 0.127987255262908\n",
       "\\item 0.13321233953876\n",
       "\\item 0.126787757202217\n",
       "\\item 0.149968744010714\n",
       "\\item 0.140177159138654\n",
       "\\item 0.134134103472243\n",
       "\\item 0.141131538089865\n",
       "\\item 0.11770976181152\n",
       "\\item 0.150124463527667\n",
       "\\item 0.184994008930331\n",
       "\\item 0.15866237808939\n",
       "\\item 0.158113260829509\n",
       "\\item 0.128571242262573\n",
       "\\end{enumerate*}\n"
      ],
      "text/markdown": [
       "1. 0.107486482513602\n",
       "2. 0.128637979714391\n",
       "3. 0.145478594491982\n",
       "4. 0.135191404686044\n",
       "5. 0.176231052614568\n",
       "6. 0.212039899114969\n",
       "7. 0.124749016022975\n",
       "8. 0.17928452073239\n",
       "9. 0.126995840433658\n",
       "10. 0.157419730514435\n",
       "11. 0.147834704654914\n",
       "12. 0.142874348737122\n",
       "13. 0.127987255262908\n",
       "14. 0.13321233953876\n",
       "15. 0.126787757202217\n",
       "16. 0.149968744010714\n",
       "17. 0.140177159138654\n",
       "18. 0.134134103472243\n",
       "19. 0.141131538089865\n",
       "20. 0.11770976181152\n",
       "21. 0.150124463527667\n",
       "22. 0.184994008930331\n",
       "23. 0.15866237808939\n",
       "24. 0.158113260829509\n",
       "25. 0.128571242262573\n",
       "\n",
       "\n"
      ],
      "text/plain": [
       " [1] 0.1074865 0.1286380 0.1454786 0.1351914 0.1762311 0.2120399 0.1247490\n",
       " [8] 0.1792845 0.1269958 0.1574197 0.1478347 0.1428743 0.1279873 0.1332123\n",
       "[15] 0.1267878 0.1499687 0.1401772 0.1341341 0.1411315 0.1177098 0.1501245\n",
       "[22] 0.1849940 0.1586624 0.1581133 0.1285712"
      ]
     },
     "metadata": {},
     "output_type": "display_data"
    }
   ],
   "source": [
    "# 자치구별 발생건수의 변동계수\n",
    "# 변동계수 = 표준편차 / 평균\n",
    "\n",
    "regionAcc.cv <- regionAcc.sd$발생건수 / regionAcc.mean$발생건수\n",
    "regionAcc.cv"
   ]
  },
  {
   "cell_type": "code",
   "execution_count": 88,
   "id": "470412f2",
   "metadata": {},
   "outputs": [
    {
     "data": {
      "text/html": [
       "<table>\n",
       "<thead><tr><th scope=col>자치구명</th><th scope=col>변동계수</th></tr></thead>\n",
       "<tbody>\n",
       "\t<tr><td>강남구   </td><td>0.1074865</td></tr>\n",
       "\t<tr><td>강동구   </td><td>0.1286380</td></tr>\n",
       "\t<tr><td>강북구   </td><td>0.1454786</td></tr>\n",
       "\t<tr><td>강서구   </td><td>0.1351914</td></tr>\n",
       "\t<tr><td>관악구   </td><td>0.1762311</td></tr>\n",
       "\t<tr><td>광진구   </td><td>0.2120399</td></tr>\n",
       "</tbody>\n",
       "</table>\n"
      ],
      "text/latex": [
       "\\begin{tabular}{r|ll}\n",
       " 자치구명 & 변동계수\\\\\n",
       "\\hline\n",
       "\t 강남구    & 0.1074865\\\\\n",
       "\t 강동구    & 0.1286380\\\\\n",
       "\t 강북구    & 0.1454786\\\\\n",
       "\t 강서구    & 0.1351914\\\\\n",
       "\t 관악구    & 0.1762311\\\\\n",
       "\t 광진구    & 0.2120399\\\\\n",
       "\\end{tabular}\n"
      ],
      "text/markdown": [
       "\n",
       "| 자치구명 | 변동계수 |\n",
       "|---|---|\n",
       "| 강남구    | 0.1074865 |\n",
       "| 강동구    | 0.1286380 |\n",
       "| 강북구    | 0.1454786 |\n",
       "| 강서구    | 0.1351914 |\n",
       "| 관악구    | 0.1762311 |\n",
       "| 광진구    | 0.2120399 |\n",
       "\n"
      ],
      "text/plain": [
       "  자치구명 변동계수 \n",
       "1 강남구   0.1074865\n",
       "2 강동구   0.1286380\n",
       "3 강북구   0.1454786\n",
       "4 강서구   0.1351914\n",
       "5 관악구   0.1762311\n",
       "6 광진구   0.2120399"
      ]
     },
     "metadata": {},
     "output_type": "display_data"
    },
    {
     "data": {
      "text/html": [
       "<table>\n",
       "<thead><tr><th scope=col>자치구명</th><th scope=col>변동계수</th></tr></thead>\n",
       "<tbody>\n",
       "\t<tr><td>강남구   </td><td>0.1074865</td></tr>\n",
       "\t<tr><td>영등포구 </td><td>0.1177098</td></tr>\n",
       "\t<tr><td>구로구   </td><td>0.1247490</td></tr>\n",
       "\t<tr><td>서초구   </td><td>0.1267878</td></tr>\n",
       "\t<tr><td>노원구   </td><td>0.1269958</td></tr>\n",
       "\t<tr><td>마포구   </td><td>0.1279873</td></tr>\n",
       "\t<tr><td>중랑구   </td><td>0.1285712</td></tr>\n",
       "\t<tr><td>강동구   </td><td>0.1286380</td></tr>\n",
       "\t<tr><td>서대문구 </td><td>0.1332123</td></tr>\n",
       "\t<tr><td>송파구   </td><td>0.1341341</td></tr>\n",
       "\t<tr><td>강서구   </td><td>0.1351914</td></tr>\n",
       "\t<tr><td>성북구   </td><td>0.1401772</td></tr>\n",
       "\t<tr><td>양천구   </td><td>0.1411315</td></tr>\n",
       "\t<tr><td>동작구   </td><td>0.1428743</td></tr>\n",
       "\t<tr><td>강북구   </td><td>0.1454786</td></tr>\n",
       "\t<tr><td>동대문구 </td><td>0.1478347</td></tr>\n",
       "\t<tr><td>성동구   </td><td>0.1499687</td></tr>\n",
       "\t<tr><td>용산구   </td><td>0.1501245</td></tr>\n",
       "\t<tr><td>도봉구   </td><td>0.1574197</td></tr>\n",
       "\t<tr><td>중구     </td><td>0.1581133</td></tr>\n",
       "\t<tr><td>종로구   </td><td>0.1586624</td></tr>\n",
       "\t<tr><td>관악구   </td><td>0.1762311</td></tr>\n",
       "\t<tr><td>금천구   </td><td>0.1792845</td></tr>\n",
       "\t<tr><td>은평구   </td><td>0.1849940</td></tr>\n",
       "\t<tr><td>광진구   </td><td>0.2120399</td></tr>\n",
       "</tbody>\n",
       "</table>\n"
      ],
      "text/latex": [
       "\\begin{tabular}{r|ll}\n",
       " 자치구명 & 변동계수\\\\\n",
       "\\hline\n",
       "\t 강남구    & 0.1074865\\\\\n",
       "\t 영등포구  & 0.1177098\\\\\n",
       "\t 구로구    & 0.1247490\\\\\n",
       "\t 서초구    & 0.1267878\\\\\n",
       "\t 노원구    & 0.1269958\\\\\n",
       "\t 마포구    & 0.1279873\\\\\n",
       "\t 중랑구    & 0.1285712\\\\\n",
       "\t 강동구    & 0.1286380\\\\\n",
       "\t 서대문구  & 0.1332123\\\\\n",
       "\t 송파구    & 0.1341341\\\\\n",
       "\t 강서구    & 0.1351914\\\\\n",
       "\t 성북구    & 0.1401772\\\\\n",
       "\t 양천구    & 0.1411315\\\\\n",
       "\t 동작구    & 0.1428743\\\\\n",
       "\t 강북구    & 0.1454786\\\\\n",
       "\t 동대문구  & 0.1478347\\\\\n",
       "\t 성동구    & 0.1499687\\\\\n",
       "\t 용산구    & 0.1501245\\\\\n",
       "\t 도봉구    & 0.1574197\\\\\n",
       "\t 중구      & 0.1581133\\\\\n",
       "\t 종로구    & 0.1586624\\\\\n",
       "\t 관악구    & 0.1762311\\\\\n",
       "\t 금천구    & 0.1792845\\\\\n",
       "\t 은평구    & 0.1849940\\\\\n",
       "\t 광진구    & 0.2120399\\\\\n",
       "\\end{tabular}\n"
      ],
      "text/markdown": [
       "\n",
       "| 자치구명 | 변동계수 |\n",
       "|---|---|\n",
       "| 강남구    | 0.1074865 |\n",
       "| 영등포구  | 0.1177098 |\n",
       "| 구로구    | 0.1247490 |\n",
       "| 서초구    | 0.1267878 |\n",
       "| 노원구    | 0.1269958 |\n",
       "| 마포구    | 0.1279873 |\n",
       "| 중랑구    | 0.1285712 |\n",
       "| 강동구    | 0.1286380 |\n",
       "| 서대문구  | 0.1332123 |\n",
       "| 송파구    | 0.1341341 |\n",
       "| 강서구    | 0.1351914 |\n",
       "| 성북구    | 0.1401772 |\n",
       "| 양천구    | 0.1411315 |\n",
       "| 동작구    | 0.1428743 |\n",
       "| 강북구    | 0.1454786 |\n",
       "| 동대문구  | 0.1478347 |\n",
       "| 성동구    | 0.1499687 |\n",
       "| 용산구    | 0.1501245 |\n",
       "| 도봉구    | 0.1574197 |\n",
       "| 중구      | 0.1581133 |\n",
       "| 종로구    | 0.1586624 |\n",
       "| 관악구    | 0.1762311 |\n",
       "| 금천구    | 0.1792845 |\n",
       "| 은평구    | 0.1849940 |\n",
       "| 광진구    | 0.2120399 |\n",
       "\n"
      ],
      "text/plain": [
       "   자치구명 변동계수 \n",
       "1  강남구   0.1074865\n",
       "2  영등포구 0.1177098\n",
       "3  구로구   0.1247490\n",
       "4  서초구   0.1267878\n",
       "5  노원구   0.1269958\n",
       "6  마포구   0.1279873\n",
       "7  중랑구   0.1285712\n",
       "8  강동구   0.1286380\n",
       "9  서대문구 0.1332123\n",
       "10 송파구   0.1341341\n",
       "11 강서구   0.1351914\n",
       "12 성북구   0.1401772\n",
       "13 양천구   0.1411315\n",
       "14 동작구   0.1428743\n",
       "15 강북구   0.1454786\n",
       "16 동대문구 0.1478347\n",
       "17 성동구   0.1499687\n",
       "18 용산구   0.1501245\n",
       "19 도봉구   0.1574197\n",
       "20 중구     0.1581133\n",
       "21 종로구   0.1586624\n",
       "22 관악구   0.1762311\n",
       "23 금천구   0.1792845\n",
       "24 은평구   0.1849940\n",
       "25 광진구   0.2120399"
      ]
     },
     "metadata": {},
     "output_type": "display_data"
    }
   ],
   "source": [
    "# 자치구명과 변동계수를 가진 DataFrame 만들기\n",
    "\n",
    "regionAcc <- data.frame(자치구명=regionAcc.mean$자치구명,변동계수=regionAcc.cv) \n",
    "head(regionAcc)\n",
    "\n",
    "# 정렬\n",
    "arrange(regionAcc,변동계수) # 변동계수 작을수록 발생사고빈번함 => 약 2* 강남구의 변동계수 = 광진구의 변동계수  "
   ]
  },
  {
   "cell_type": "code",
   "execution_count": 97,
   "id": "0ecea097",
   "metadata": {},
   "outputs": [
    {
     "data": {
      "text/html": [
       "<table>\n",
       "<thead><tr><th scope=col>자치구명</th><th scope=col>변동계수</th></tr></thead>\n",
       "<tbody>\n",
       "\t<tr><td>강남구   </td><td>0.1125485</td></tr>\n",
       "\t<tr><td>영등포구 </td><td>0.1258837</td></tr>\n",
       "\t<tr><td>노원구   </td><td>0.1283799</td></tr>\n",
       "\t<tr><td>송파구   </td><td>0.1297795</td></tr>\n",
       "\t<tr><td>서초구   </td><td>0.1352681</td></tr>\n",
       "\t<tr><td>강북구   </td><td>0.1356240</td></tr>\n",
       "\t<tr><td>중랑구   </td><td>0.1405188</td></tr>\n",
       "\t<tr><td>구로구   </td><td>0.1408256</td></tr>\n",
       "\t<tr><td>강동구   </td><td>0.1427554</td></tr>\n",
       "\t<tr><td>성북구   </td><td>0.1486599</td></tr>\n",
       "\t<tr><td>강서구   </td><td>0.1565859</td></tr>\n",
       "\t<tr><td>동작구   </td><td>0.1577050</td></tr>\n",
       "\t<tr><td>성동구   </td><td>0.1577153</td></tr>\n",
       "\t<tr><td>동대문구 </td><td>0.1593313</td></tr>\n",
       "\t<tr><td>양천구   </td><td>0.1599635</td></tr>\n",
       "\t<tr><td>중구     </td><td>0.1609844</td></tr>\n",
       "\t<tr><td>용산구   </td><td>0.1612301</td></tr>\n",
       "\t<tr><td>마포구   </td><td>0.1622381</td></tr>\n",
       "\t<tr><td>종로구   </td><td>0.1689405</td></tr>\n",
       "\t<tr><td>도봉구   </td><td>0.1777896</td></tr>\n",
       "\t<tr><td>서대문구 </td><td>0.1791661</td></tr>\n",
       "\t<tr><td>관악구   </td><td>0.1903978</td></tr>\n",
       "\t<tr><td>은평구   </td><td>0.2052181</td></tr>\n",
       "\t<tr><td>금천구   </td><td>0.2206970</td></tr>\n",
       "\t<tr><td>광진구   </td><td>0.2353976</td></tr>\n",
       "</tbody>\n",
       "</table>\n"
      ],
      "text/latex": [
       "\\begin{tabular}{r|ll}\n",
       " 자치구명 & 변동계수\\\\\n",
       "\\hline\n",
       "\t 강남구    & 0.1125485\\\\\n",
       "\t 영등포구  & 0.1258837\\\\\n",
       "\t 노원구    & 0.1283799\\\\\n",
       "\t 송파구    & 0.1297795\\\\\n",
       "\t 서초구    & 0.1352681\\\\\n",
       "\t 강북구    & 0.1356240\\\\\n",
       "\t 중랑구    & 0.1405188\\\\\n",
       "\t 구로구    & 0.1408256\\\\\n",
       "\t 강동구    & 0.1427554\\\\\n",
       "\t 성북구    & 0.1486599\\\\\n",
       "\t 강서구    & 0.1565859\\\\\n",
       "\t 동작구    & 0.1577050\\\\\n",
       "\t 성동구    & 0.1577153\\\\\n",
       "\t 동대문구  & 0.1593313\\\\\n",
       "\t 양천구    & 0.1599635\\\\\n",
       "\t 중구      & 0.1609844\\\\\n",
       "\t 용산구    & 0.1612301\\\\\n",
       "\t 마포구    & 0.1622381\\\\\n",
       "\t 종로구    & 0.1689405\\\\\n",
       "\t 도봉구    & 0.1777896\\\\\n",
       "\t 서대문구  & 0.1791661\\\\\n",
       "\t 관악구    & 0.1903978\\\\\n",
       "\t 은평구    & 0.2052181\\\\\n",
       "\t 금천구    & 0.2206970\\\\\n",
       "\t 광진구    & 0.2353976\\\\\n",
       "\\end{tabular}\n"
      ],
      "text/markdown": [
       "\n",
       "| 자치구명 | 변동계수 |\n",
       "|---|---|\n",
       "| 강남구    | 0.1125485 |\n",
       "| 영등포구  | 0.1258837 |\n",
       "| 노원구    | 0.1283799 |\n",
       "| 송파구    | 0.1297795 |\n",
       "| 서초구    | 0.1352681 |\n",
       "| 강북구    | 0.1356240 |\n",
       "| 중랑구    | 0.1405188 |\n",
       "| 구로구    | 0.1408256 |\n",
       "| 강동구    | 0.1427554 |\n",
       "| 성북구    | 0.1486599 |\n",
       "| 강서구    | 0.1565859 |\n",
       "| 동작구    | 0.1577050 |\n",
       "| 성동구    | 0.1577153 |\n",
       "| 동대문구  | 0.1593313 |\n",
       "| 양천구    | 0.1599635 |\n",
       "| 중구      | 0.1609844 |\n",
       "| 용산구    | 0.1612301 |\n",
       "| 마포구    | 0.1622381 |\n",
       "| 종로구    | 0.1689405 |\n",
       "| 도봉구    | 0.1777896 |\n",
       "| 서대문구  | 0.1791661 |\n",
       "| 관악구    | 0.1903978 |\n",
       "| 은평구    | 0.2052181 |\n",
       "| 금천구    | 0.2206970 |\n",
       "| 광진구    | 0.2353976 |\n",
       "\n"
      ],
      "text/plain": [
       "   자치구명 변동계수 \n",
       "1  강남구   0.1125485\n",
       "2  영등포구 0.1258837\n",
       "3  노원구   0.1283799\n",
       "4  송파구   0.1297795\n",
       "5  서초구   0.1352681\n",
       "6  강북구   0.1356240\n",
       "7  중랑구   0.1405188\n",
       "8  구로구   0.1408256\n",
       "9  강동구   0.1427554\n",
       "10 성북구   0.1486599\n",
       "11 강서구   0.1565859\n",
       "12 동작구   0.1577050\n",
       "13 성동구   0.1577153\n",
       "14 동대문구 0.1593313\n",
       "15 양천구   0.1599635\n",
       "16 중구     0.1609844\n",
       "17 용산구   0.1612301\n",
       "18 마포구   0.1622381\n",
       "19 종로구   0.1689405\n",
       "20 도봉구   0.1777896\n",
       "21 서대문구 0.1791661\n",
       "22 관악구   0.1903978\n",
       "23 은평구   0.2052181\n",
       "24 금천구   0.2206970\n",
       "25 광진구   0.2353976"
      ]
     },
     "metadata": {},
     "output_type": "display_data"
    }
   ],
   "source": [
    "# 서울시 교통사고 부상자수에 대한 변동계수 구하기\n",
    "\n",
    "\n",
    "\n",
    "regionInjure <- data.frame(자치구명 = regionAcc.mean$자치구명\n",
    "    ,변동계수 = (aggregate(부상자수~자치구명,seoul,sd)$부상자수 \n",
    "             / aggregate(부상자수~자치구명,seoul,mean)$부상자수))\n",
    "arrange(regionInjure,변동계수)"
   ]
  },
  {
   "cell_type": "code",
   "execution_count": 98,
   "id": "a86ccfc3",
   "metadata": {},
   "outputs": [
    {
     "data": {
      "text/html": [
       "<table>\n",
       "<thead><tr><th scope=col>자치구명</th><th scope=col>변동계수</th></tr></thead>\n",
       "<tbody>\n",
       "\t<tr><td>영등포구 </td><td>0.6293361</td></tr>\n",
       "\t<tr><td>강동구   </td><td>0.7663838</td></tr>\n",
       "\t<tr><td>강남구   </td><td>0.7864080</td></tr>\n",
       "\t<tr><td>송파구   </td><td>0.8062102</td></tr>\n",
       "\t<tr><td>서초구   </td><td>0.8277334</td></tr>\n",
       "\t<tr><td>노원구   </td><td>0.8443981</td></tr>\n",
       "\t<tr><td>은평구   </td><td>0.8527234</td></tr>\n",
       "\t<tr><td>강서구   </td><td>0.8635127</td></tr>\n",
       "\t<tr><td>관악구   </td><td>0.9202590</td></tr>\n",
       "\t<tr><td>종로구   </td><td>0.9332813</td></tr>\n",
       "\t<tr><td>동대문구 </td><td>0.9432929</td></tr>\n",
       "\t<tr><td>구로구   </td><td>0.9565578</td></tr>\n",
       "\t<tr><td>용산구   </td><td>0.9609775</td></tr>\n",
       "\t<tr><td>서대문구 </td><td>0.9634543</td></tr>\n",
       "\t<tr><td>강북구   </td><td>0.9826626</td></tr>\n",
       "\t<tr><td>성북구   </td><td>0.9886017</td></tr>\n",
       "\t<tr><td>광진구   </td><td>1.0026785</td></tr>\n",
       "\t<tr><td>성동구   </td><td>1.0422291</td></tr>\n",
       "\t<tr><td>양천구   </td><td>1.0473578</td></tr>\n",
       "\t<tr><td>마포구   </td><td>1.0556714</td></tr>\n",
       "\t<tr><td>동작구   </td><td>1.0596641</td></tr>\n",
       "\t<tr><td>중랑구   </td><td>1.1019842</td></tr>\n",
       "\t<tr><td>도봉구   </td><td>1.1260506</td></tr>\n",
       "\t<tr><td>금천구   </td><td>1.1968557</td></tr>\n",
       "\t<tr><td>중구     </td><td>1.3235261</td></tr>\n",
       "</tbody>\n",
       "</table>\n"
      ],
      "text/latex": [
       "\\begin{tabular}{r|ll}\n",
       " 자치구명 & 변동계수\\\\\n",
       "\\hline\n",
       "\t 영등포구  & 0.6293361\\\\\n",
       "\t 강동구    & 0.7663838\\\\\n",
       "\t 강남구    & 0.7864080\\\\\n",
       "\t 송파구    & 0.8062102\\\\\n",
       "\t 서초구    & 0.8277334\\\\\n",
       "\t 노원구    & 0.8443981\\\\\n",
       "\t 은평구    & 0.8527234\\\\\n",
       "\t 강서구    & 0.8635127\\\\\n",
       "\t 관악구    & 0.9202590\\\\\n",
       "\t 종로구    & 0.9332813\\\\\n",
       "\t 동대문구  & 0.9432929\\\\\n",
       "\t 구로구    & 0.9565578\\\\\n",
       "\t 용산구    & 0.9609775\\\\\n",
       "\t 서대문구  & 0.9634543\\\\\n",
       "\t 강북구    & 0.9826626\\\\\n",
       "\t 성북구    & 0.9886017\\\\\n",
       "\t 광진구    & 1.0026785\\\\\n",
       "\t 성동구    & 1.0422291\\\\\n",
       "\t 양천구    & 1.0473578\\\\\n",
       "\t 마포구    & 1.0556714\\\\\n",
       "\t 동작구    & 1.0596641\\\\\n",
       "\t 중랑구    & 1.1019842\\\\\n",
       "\t 도봉구    & 1.1260506\\\\\n",
       "\t 금천구    & 1.1968557\\\\\n",
       "\t 중구      & 1.3235261\\\\\n",
       "\\end{tabular}\n"
      ],
      "text/markdown": [
       "\n",
       "| 자치구명 | 변동계수 |\n",
       "|---|---|\n",
       "| 영등포구  | 0.6293361 |\n",
       "| 강동구    | 0.7663838 |\n",
       "| 강남구    | 0.7864080 |\n",
       "| 송파구    | 0.8062102 |\n",
       "| 서초구    | 0.8277334 |\n",
       "| 노원구    | 0.8443981 |\n",
       "| 은평구    | 0.8527234 |\n",
       "| 강서구    | 0.8635127 |\n",
       "| 관악구    | 0.9202590 |\n",
       "| 종로구    | 0.9332813 |\n",
       "| 동대문구  | 0.9432929 |\n",
       "| 구로구    | 0.9565578 |\n",
       "| 용산구    | 0.9609775 |\n",
       "| 서대문구  | 0.9634543 |\n",
       "| 강북구    | 0.9826626 |\n",
       "| 성북구    | 0.9886017 |\n",
       "| 광진구    | 1.0026785 |\n",
       "| 성동구    | 1.0422291 |\n",
       "| 양천구    | 1.0473578 |\n",
       "| 마포구    | 1.0556714 |\n",
       "| 동작구    | 1.0596641 |\n",
       "| 중랑구    | 1.1019842 |\n",
       "| 도봉구    | 1.1260506 |\n",
       "| 금천구    | 1.1968557 |\n",
       "| 중구      | 1.3235261 |\n",
       "\n"
      ],
      "text/plain": [
       "   자치구명 변동계수 \n",
       "1  영등포구 0.6293361\n",
       "2  강동구   0.7663838\n",
       "3  강남구   0.7864080\n",
       "4  송파구   0.8062102\n",
       "5  서초구   0.8277334\n",
       "6  노원구   0.8443981\n",
       "7  은평구   0.8527234\n",
       "8  강서구   0.8635127\n",
       "9  관악구   0.9202590\n",
       "10 종로구   0.9332813\n",
       "11 동대문구 0.9432929\n",
       "12 구로구   0.9565578\n",
       "13 용산구   0.9609775\n",
       "14 서대문구 0.9634543\n",
       "15 강북구   0.9826626\n",
       "16 성북구   0.9886017\n",
       "17 광진구   1.0026785\n",
       "18 성동구   1.0422291\n",
       "19 양천구   1.0473578\n",
       "20 마포구   1.0556714\n",
       "21 동작구   1.0596641\n",
       "22 중랑구   1.1019842\n",
       "23 도봉구   1.1260506\n",
       "24 금천구   1.1968557\n",
       "25 중구     1.3235261"
      ]
     },
     "metadata": {},
     "output_type": "display_data"
    }
   ],
   "source": [
    "# 서울시 교통사고 사망자수에 대한 변동계수 구하기\n",
    "\n",
    "regionDeath <- data.frame(자치구명 = regionAcc.mean$자치구명\n",
    "    ,변동계수 = (aggregate(사망자수~자치구명,seoul,sd)$사망자수 \n",
    "             / aggregate(사망자수~자치구명,seoul,mean)$사망자수))\n",
    "arrange(regionDeath,변동계수)"
   ]
  },
  {
   "cell_type": "code",
   "execution_count": 100,
   "id": "eb0ccafc",
   "metadata": {},
   "outputs": [
    {
     "data": {
      "text/html": [
       "0.98089324110604"
      ],
      "text/latex": [
       "0.98089324110604"
      ],
      "text/markdown": [
       "0.98089324110604"
      ],
      "text/plain": [
       "[1] 0.9808932"
      ]
     },
     "metadata": {},
     "output_type": "display_data"
    }
   ],
   "source": [
    "# 교통사고 발생건수와 부상자수의 관계 : 상관계수 cor() (=co-relationship)\n",
    "\n",
    "cor(seoul$발생건수,seoul$부상자수) # 98%관계가 있다고 나옴  = > 발생건수가 증가하면 부상자수도 증가한다\n",
    "                               # 발생건수랑만 본것이므로 지역과는 상관없음. "
   ]
  },
  {
   "cell_type": "markdown",
   "id": "58756379",
   "metadata": {},
   "source": [
    "0 ~ 0.3 : 상관없음   \n",
    "0.3 ~ 0.5 : 약한 관계    \n",
    "0.5 ~ 0.7 : 관계 있음   \n",
    "0.7 ~ : 강한 관계    "
   ]
  },
  {
   "cell_type": "code",
   "execution_count": 103,
   "id": "54f250f2",
   "metadata": {},
   "outputs": [
    {
     "data": {
      "image/png": "[encoded data removed]",
      "text/plain": [
       "plot without title"
      ]
     },
     "metadata": {},
     "output_type": "display_data"
    }
   ],
   "source": [
    "par(family = \"AppleGothic\")\n",
    "plot(seoul$발생건수,seoul$부상자수)"
   ]
  },
  {
   "cell_type": "code",
   "execution_count": 101,
   "id": "cbeace8c",
   "metadata": {},
   "outputs": [
    {
     "data": {
      "text/html": [
       "0.238714776834864"
      ],
      "text/latex": [
       "0.238714776834864"
      ],
      "text/markdown": [
       "0.238714776834864"
      ],
      "text/plain": [
       "[1] 0.2387148"
      ]
     },
     "metadata": {},
     "output_type": "display_data"
    }
   ],
   "source": [
    "# 교통사고 발생건수와 사망자수의 관계 \n",
    "\n",
    "cor(seoul$발생건수,seoul$사망자수) # 사망자수와 발생건수는 상관이 없음"
   ]
  },
  {
   "cell_type": "code",
   "execution_count": 104,
   "id": "dfcb6973",
   "metadata": {},
   "outputs": [
    {
     "data": {
      "image/png": "[encoded data removed]",
      "text/plain": [
       "plot without title"
      ]
     },
     "metadata": {},
     "output_type": "display_data"
    }
   ],
   "source": [
    "par(family = \"AppleGothic\")\n",
    "plot(seoul$발생건수,seoul$사망자수) # 일직선 형태가 아니므로 분석불가 => \"의미없는 데이터\""
   ]
  },
  {
   "cell_type": "code",
   "execution_count": 102,
   "id": "fc25ff7c",
   "metadata": {},
   "outputs": [
    {
     "data": {
      "text/html": [
       "0.237301918677241"
      ],
      "text/latex": [
       "0.237301918677241"
      ],
      "text/markdown": [
       "0.237301918677241"
      ],
      "text/plain": [
       "[1] 0.2373019"
      ]
     },
     "metadata": {},
     "output_type": "display_data"
    }
   ],
   "source": [
    "# 교통사고 부상자수와 사망자수의 관계 \n",
    "\n",
    "cor(seoul$부상자수,seoul$사망자수) # 발생건수와 사망자수는 상관이 없음"
   ]
  },
  {
   "cell_type": "code",
   "execution_count": 105,
   "id": "71469108",
   "metadata": {},
   "outputs": [
    {
     "data": {
      "image/png": "[encoded data removed]",
      "text/plain": [
       "plot without title"
      ]
     },
     "metadata": {},
     "output_type": "display_data"
    }
   ],
   "source": [
    "par(family = \"AppleGothic\")\n",
    "plot(seoul$부상자수,seoul$사망자수) # 일직선 형태가 아니므로 분석불가 => \"의미없는 데이터\""
   ]
  },
  {
   "cell_type": "code",
   "execution_count": 106,
   "id": "1ed518e0",
   "metadata": {},
   "outputs": [
    {
     "data": {
      "text/plain": [
       "      년도            월           자치구명       발생건수        사망자수     \n",
       " Min.   :2011   Min.   : 1.00   강남구 : 108   Min.   : 45.0   Min.   : 0.000  \n",
       " 1st Qu.:2013   1st Qu.: 3.75   강동구 : 108   1st Qu.:100.0   1st Qu.: 0.000  \n",
       " Median :2015   Median : 6.50   강북구 : 108   Median :122.0   Median : 1.000  \n",
       " Mean   :2015   Mean   : 6.50   강서구 : 108   Mean   :133.3   Mean   : 1.207  \n",
       " 3rd Qu.:2017   3rd Qu.: 9.25   관악구 : 108   3rd Qu.:149.0   3rd Qu.: 2.000  \n",
       " Max.   :2019   Max.   :12.00   광진구 : 108   Max.   :383.0   Max.   :10.000  \n",
       "                                (Other):2052                                   \n",
       "    부상자수    \n",
       " Min.   : 55.0  \n",
       " 1st Qu.:138.0  \n",
       " Median :168.0  \n",
       " Mean   :187.4  \n",
       " 3rd Qu.:208.0  \n",
       " Max.   :552.0  \n",
       "                "
      ]
     },
     "metadata": {},
     "output_type": "display_data"
    }
   ],
   "source": [
    "# 년도별 교통사고 발생,부상,사망자수에 대한 분석\n",
    "\n",
    "summary(seoul)"
   ]
  },
  {
   "cell_type": "code",
   "execution_count": null,
   "id": "abc8cfd2",
   "metadata": {},
   "outputs": [],
   "source": [
    "# 각 월별 교통사고 발생,부상,사망자수에 대한 분석 "
   ]
  },
  {
   "cell_type": "code",
   "execution_count": null,
   "id": "6917634a",
   "metadata": {},
   "outputs": [],
   "source": [
    "# 계절별 교통사고 발생,부상,사망자수에 대한 분석"
   ]
  },
  {
   "cell_type": "code",
   "execution_count": null,
   "id": "f3eb4557",
   "metadata": {},
   "outputs": [],
   "source": [
    "# 한강기준으로 강북과 강남에 대한 분석 "
   ]
  }
 ],
 "metadata": {
  "kernelspec": {
   "display_name": "R",
   "language": "R",
   "name": "ir"
  },
  "language_info": {
   "codemirror_mode": "r",
   "file_extension": ".r",
   "mimetype": "text/x-r-source",
   "name": "R",
   "pygments_lexer": "r",
   "version": "3.6.1"
  }
 },
 "nbformat": 4,
 "nbformat_minor": 5
}
