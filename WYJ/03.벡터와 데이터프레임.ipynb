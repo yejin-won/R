{
 "cells": [
  {
   "cell_type": "code",
   "execution_count": 5,
   "metadata": {
    "vscode": {
     "languageId": "r"
    }
   },
   "outputs": [
    {
     "name": "stdout",
     "output_type": "stream",
     "text": [
      " [1] \"red\"  \"blue\" \"red\"  \"blue\" \"red\"  \"blue\" \"red\"  \"blue\" \"red\"  \"blue\"\n",
      "[11] \"red\"  \"blue\" \"red\"  \"blue\" \"red\"  \"blue\" \"red\"  \"blue\" \"red\"  \"blue\"\n",
      "[21] \"red\"  \"blue\" \"red\"  \"blue\" \"red\"  \"blue\" \"red\"  \"blue\" \"red\"  \"blue\"\n",
      "[31] \"red\"  \"blue\" \"red\"  \"blue\" \"red\"  \"blue\" \"red\"  \"blue\" \"red\"  \"blue\"\n"
     ]
    }
   ],
   "source": [
    "# red라는 글자와 blue라는 글자를 20개 만들기\n",
    "# red, blue, red, blue, ....\n",
    "\n",
    "print(rep(c(\"red\",\"blue\"),20))"
   ]
  },
  {
   "cell_type": "code",
   "execution_count": 9,
   "metadata": {
    "vscode": {
     "languageId": "r"
    }
   },
   "outputs": [
    {
     "name": "stdout",
     "output_type": "stream",
     "text": [
      " [1]  1  3  5  1  2  3  4  5  6  7  8  9 10  1  3  5  7  9  1  2  3  1  2  3\n",
      " [1]  1  3  5  1  2  3  4  5  6  7  8  9 10  1  3  5  7  9  1  2  3  1  2  3\n"
     ]
    }
   ],
   "source": [
    "# 1 3 5 1 2 3 4 5 6 7 8 9 10 1 3 5 7 9 1 2 3 1 2 3 출력하기\n",
    "\n",
    "print(c(seq(1,5,2),1:10,seq(1,10,2),rep(c(1,2,3),2)))\n",
    "print(c(1,3,5,1:10,seq(1,10,2),rep(c(1,2,3),2))) # 1,3,5 3개밖에 안되니 그냥 써도 됨 "
   ]
  },
  {
   "cell_type": "code",
   "execution_count": 5,
   "metadata": {
    "vscode": {
     "languageId": "r"
    }
   },
   "outputs": [
    {
     "data": {
      "text/html": [
       "<table>\n",
       "<thead><tr><th scope=col>Sepal.Length</th><th scope=col>Sepal.Width</th><th scope=col>Petal.Length</th><th scope=col>Petal.Width</th><th scope=col>Species</th></tr></thead>\n",
       "<tbody>\n",
       "\t<tr><td>5.1   </td><td>3.5   </td><td>1.4   </td><td>0.2   </td><td>setosa</td></tr>\n",
       "\t<tr><td>4.9   </td><td>3.0   </td><td>1.4   </td><td>0.2   </td><td>setosa</td></tr>\n",
       "\t<tr><td>4.7   </td><td>3.2   </td><td>1.3   </td><td>0.2   </td><td>setosa</td></tr>\n",
       "\t<tr><td>4.6   </td><td>3.1   </td><td>1.5   </td><td>0.2   </td><td>setosa</td></tr>\n",
       "\t<tr><td>5.0   </td><td>3.6   </td><td>1.4   </td><td>0.2   </td><td>setosa</td></tr>\n",
       "</tbody>\n",
       "</table>\n"
      ],
      "text/latex": [
       "\\begin{tabular}{r|lllll}\n",
       " Sepal.Length & Sepal.Width & Petal.Length & Petal.Width & Species\\\\\n",
       "\\hline\n",
       "\t 5.1    & 3.5    & 1.4    & 0.2    & setosa\\\\\n",
       "\t 4.9    & 3.0    & 1.4    & 0.2    & setosa\\\\\n",
       "\t 4.7    & 3.2    & 1.3    & 0.2    & setosa\\\\\n",
       "\t 4.6    & 3.1    & 1.5    & 0.2    & setosa\\\\\n",
       "\t 5.0    & 3.6    & 1.4    & 0.2    & setosa\\\\\n",
       "\\end{tabular}\n"
      ],
      "text/markdown": [
       "\n",
       "| Sepal.Length | Sepal.Width | Petal.Length | Petal.Width | Species |\n",
       "|---|---|---|---|---|\n",
       "| 5.1    | 3.5    | 1.4    | 0.2    | setosa |\n",
       "| 4.9    | 3.0    | 1.4    | 0.2    | setosa |\n",
       "| 4.7    | 3.2    | 1.3    | 0.2    | setosa |\n",
       "| 4.6    | 3.1    | 1.5    | 0.2    | setosa |\n",
       "| 5.0    | 3.6    | 1.4    | 0.2    | setosa |\n",
       "\n"
      ],
      "text/plain": [
       "  Sepal.Length Sepal.Width Petal.Length Petal.Width Species\n",
       "1 5.1          3.5         1.4          0.2         setosa \n",
       "2 4.9          3.0         1.4          0.2         setosa \n",
       "3 4.7          3.2         1.3          0.2         setosa \n",
       "4 4.6          3.1         1.5          0.2         setosa \n",
       "5 5.0          3.6         1.4          0.2         setosa "
      ]
     },
     "metadata": {},
     "output_type": "display_data"
    }
   ],
   "source": [
    "# iris의 1~5번째 줄의 데이터만 추출해서 변수(데이터프레임) 만들기\n",
    "head(iris,5) \n",
    "# iris[행(row),열(column)]\n",
    "irishead <- iris[1:5,]"
   ]
  },
  {
   "cell_type": "code",
   "execution_count": 8,
   "metadata": {
    "vscode": {
     "languageId": "r"
    }
   },
   "outputs": [
    {
     "data": {
      "text/html": [
       "<table>\n",
       "<thead><tr><th></th><th scope=col>1</th><th scope=col>2</th><th scope=col>3</th><th scope=col>4</th><th scope=col>5</th></tr></thead>\n",
       "<tbody>\n",
       "\t<tr><th scope=row>Sepal.Length</th><td>5.1   </td><td>4.9   </td><td>4.7   </td><td>4.6   </td><td>5.0   </td></tr>\n",
       "\t<tr><th scope=row>Sepal.Width</th><td>3.5   </td><td>3.0   </td><td>3.2   </td><td>3.1   </td><td>3.6   </td></tr>\n",
       "\t<tr><th scope=row>Petal.Length</th><td>1.4   </td><td>1.4   </td><td>1.3   </td><td>1.5   </td><td>1.4   </td></tr>\n",
       "\t<tr><th scope=row>Petal.Width</th><td>0.2   </td><td>0.2   </td><td>0.2   </td><td>0.2   </td><td>0.2   </td></tr>\n",
       "\t<tr><th scope=row>Species</th><td>setosa</td><td>setosa</td><td>setosa</td><td>setosa</td><td>setosa</td></tr>\n",
       "</tbody>\n",
       "</table>\n"
      ],
      "text/latex": [
       "\\begin{tabular}{r|lllll}\n",
       "  & 1 & 2 & 3 & 4 & 5\\\\\n",
       "\\hline\n",
       "\tSepal.Length & 5.1    & 4.9    & 4.7    & 4.6    & 5.0   \\\\\n",
       "\tSepal.Width & 3.5    & 3.0    & 3.2    & 3.1    & 3.6   \\\\\n",
       "\tPetal.Length & 1.4    & 1.4    & 1.3    & 1.5    & 1.4   \\\\\n",
       "\tPetal.Width & 0.2    & 0.2    & 0.2    & 0.2    & 0.2   \\\\\n",
       "\tSpecies & setosa & setosa & setosa & setosa & setosa\\\\\n",
       "\\end{tabular}\n"
      ],
      "text/markdown": [
       "\n",
       "| <!--/--> | 1 | 2 | 3 | 4 | 5 |\n",
       "|---|---|---|---|---|---|\n",
       "| Sepal.Length | 5.1    | 4.9    | 4.7    | 4.6    | 5.0    |\n",
       "| Sepal.Width | 3.5    | 3.0    | 3.2    | 3.1    | 3.6    |\n",
       "| Petal.Length | 1.4    | 1.4    | 1.3    | 1.5    | 1.4    |\n",
       "| Petal.Width | 0.2    | 0.2    | 0.2    | 0.2    | 0.2    |\n",
       "| Species | setosa | setosa | setosa | setosa | setosa |\n",
       "\n"
      ],
      "text/plain": [
       "             1      2      3      4      5     \n",
       "Sepal.Length 5.1    4.9    4.7    4.6    5.0   \n",
       "Sepal.Width  3.5    3.0    3.2    3.1    3.6   \n",
       "Petal.Length 1.4    1.4    1.3    1.5    1.4   \n",
       "Petal.Width  0.2    0.2    0.2    0.2    0.2   \n",
       "Species      setosa setosa setosa setosa setosa"
      ]
     },
     "metadata": {},
     "output_type": "display_data"
    }
   ],
   "source": [
    "#  행과 열을 뒤집는다.\n",
    "\n",
    "t(irishead)"
   ]
  },
  {
   "cell_type": "code",
   "execution_count": null,
   "metadata": {
    "vscode": {
     "languageId": "r"
    }
   },
   "outputs": [],
   "source": []
  }
 ],
 "metadata": {
  "kernelspec": {
   "display_name": "R",
   "language": "R",
   "name": "ir"
  },
  "language_info": {
   "codemirror_mode": "r",
   "file_extension": ".r",
   "mimetype": "text/x-r-source",
   "name": "R",
   "pygments_lexer": "r",
   "version": "3.6.1"
  },
  "orig_nbformat": 4
 },
 "nbformat": 4,
 "nbformat_minor": 2
}
