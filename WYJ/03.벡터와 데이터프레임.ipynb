{
 "cells": [
  {
   "cell_type": "code",
   "execution_count": 5,
   "metadata": {
    "vscode": {
     "languageId": "r"
    }
   },
   "outputs": [
    {
     "name": "stdout",
     "output_type": "stream",
     "text": [
      " [1] \"red\"  \"blue\" \"red\"  \"blue\" \"red\"  \"blue\" \"red\"  \"blue\" \"red\"  \"blue\"\n",
      "[11] \"red\"  \"blue\" \"red\"  \"blue\" \"red\"  \"blue\" \"red\"  \"blue\" \"red\"  \"blue\"\n",
      "[21] \"red\"  \"blue\" \"red\"  \"blue\" \"red\"  \"blue\" \"red\"  \"blue\" \"red\"  \"blue\"\n",
      "[31] \"red\"  \"blue\" \"red\"  \"blue\" \"red\"  \"blue\" \"red\"  \"blue\" \"red\"  \"blue\"\n"
     ]
    }
   ],
   "source": [
    "# red라는 글자와 blue라는 글자를 20개 만들기\n",
    "# red, blue, red, blue, ....\n",
    "\n",
    "print(rep(c(\"red\",\"blue\"),20))"
   ]
  },
  {
   "cell_type": "code",
   "execution_count": 9,
   "metadata": {
    "vscode": {
     "languageId": "r"
    }
   },
   "outputs": [
    {
     "name": "stdout",
     "output_type": "stream",
     "text": [
      " [1]  1  3  5  1  2  3  4  5  6  7  8  9 10  1  3  5  7  9  1  2  3  1  2  3\n",
      " [1]  1  3  5  1  2  3  4  5  6  7  8  9 10  1  3  5  7  9  1  2  3  1  2  3\n"
     ]
    }
   ],
   "source": [
    "# 1 3 5 1 2 3 4 5 6 7 8 9 10 1 3 5 7 9 1 2 3 1 2 3 출력하기\n",
    "\n",
    "print(c(seq(1,5,2),1:10,seq(1,10,2),rep(c(1,2,3),2)))\n",
    "print(c(1,3,5,1:10,seq(1,10,2),rep(c(1,2,3),2))) # 1,3,5 3개밖에 안되니 그냥 써도 됨 "
   ]
  },
  {
   "cell_type": "code",
   "execution_count": 5,
   "metadata": {
    "vscode": {
     "languageId": "r"
    }
   },
   "outputs": [
    {
     "data": {
      "text/html": [
       "<table>\n",
       "<thead><tr><th scope=col>Sepal.Length</th><th scope=col>Sepal.Width</th><th scope=col>Petal.Length</th><th scope=col>Petal.Width</th><th scope=col>Species</th></tr></thead>\n",
       "<tbody>\n",
       "\t<tr><td>5.1   </td><td>3.5   </td><td>1.4   </td><td>0.2   </td><td>setosa</td></tr>\n",
       "\t<tr><td>4.9   </td><td>3.0   </td><td>1.4   </td><td>0.2   </td><td>setosa</td></tr>\n",
       "\t<tr><td>4.7   </td><td>3.2   </td><td>1.3   </td><td>0.2   </td><td>setosa</td></tr>\n",
       "\t<tr><td>4.6   </td><td>3.1   </td><td>1.5   </td><td>0.2   </td><td>setosa</td></tr>\n",
       "\t<tr><td>5.0   </td><td>3.6   </td><td>1.4   </td><td>0.2   </td><td>setosa</td></tr>\n",
       "</tbody>\n",
       "</table>\n"
      ],
      "text/latex": [
       "\\begin{tabular}{r|lllll}\n",
       " Sepal.Length & Sepal.Width & Petal.Length & Petal.Width & Species\\\\\n",
       "\\hline\n",
       "\t 5.1    & 3.5    & 1.4    & 0.2    & setosa\\\\\n",
       "\t 4.9    & 3.0    & 1.4    & 0.2    & setosa\\\\\n",
       "\t 4.7    & 3.2    & 1.3    & 0.2    & setosa\\\\\n",
       "\t 4.6    & 3.1    & 1.5    & 0.2    & setosa\\\\\n",
       "\t 5.0    & 3.6    & 1.4    & 0.2    & setosa\\\\\n",
       "\\end{tabular}\n"
      ],
      "text/markdown": [
       "\n",
       "| Sepal.Length | Sepal.Width | Petal.Length | Petal.Width | Species |\n",
       "|---|---|---|---|---|\n",
       "| 5.1    | 3.5    | 1.4    | 0.2    | setosa |\n",
       "| 4.9    | 3.0    | 1.4    | 0.2    | setosa |\n",
       "| 4.7    | 3.2    | 1.3    | 0.2    | setosa |\n",
       "| 4.6    | 3.1    | 1.5    | 0.2    | setosa |\n",
       "| 5.0    | 3.6    | 1.4    | 0.2    | setosa |\n",
       "\n"
      ],
      "text/plain": [
       "  Sepal.Length Sepal.Width Petal.Length Petal.Width Species\n",
       "1 5.1          3.5         1.4          0.2         setosa \n",
       "2 4.9          3.0         1.4          0.2         setosa \n",
       "3 4.7          3.2         1.3          0.2         setosa \n",
       "4 4.6          3.1         1.5          0.2         setosa \n",
       "5 5.0          3.6         1.4          0.2         setosa "
      ]
     },
     "metadata": {},
     "output_type": "display_data"
    }
   ],
   "source": [
    "# iris의 1~5번째 줄의 데이터만 추출해서 변수(데이터프레임) 만들기\n",
    "head(iris,5) \n",
    "# iris[행(row),열(column)]\n",
    "irishead <- iris[1:5,]"
   ]
  },
  {
   "cell_type": "code",
   "execution_count": 10,
   "metadata": {
    "vscode": {
     "languageId": "r"
    }
   },
   "outputs": [
    {
     "data": {
      "text/html": [
       "<table>\n",
       "<thead><tr><th></th><th scope=col>1</th><th scope=col>2</th><th scope=col>3</th><th scope=col>4</th><th scope=col>5</th></tr></thead>\n",
       "<tbody>\n",
       "\t<tr><th scope=row>Sepal.Length</th><td>5.1   </td><td>4.9   </td><td>4.7   </td><td>4.6   </td><td>5.0   </td></tr>\n",
       "\t<tr><th scope=row>Sepal.Width</th><td>3.5   </td><td>3.0   </td><td>3.2   </td><td>3.1   </td><td>3.6   </td></tr>\n",
       "\t<tr><th scope=row>Petal.Length</th><td>1.4   </td><td>1.4   </td><td>1.3   </td><td>1.5   </td><td>1.4   </td></tr>\n",
       "\t<tr><th scope=row>Petal.Width</th><td>0.2   </td><td>0.2   </td><td>0.2   </td><td>0.2   </td><td>0.2   </td></tr>\n",
       "\t<tr><th scope=row>Species</th><td>setosa</td><td>setosa</td><td>setosa</td><td>setosa</td><td>setosa</td></tr>\n",
       "</tbody>\n",
       "</table>\n"
      ],
      "text/latex": [
       "\\begin{tabular}{r|lllll}\n",
       "  & 1 & 2 & 3 & 4 & 5\\\\\n",
       "\\hline\n",
       "\tSepal.Length & 5.1    & 4.9    & 4.7    & 4.6    & 5.0   \\\\\n",
       "\tSepal.Width & 3.5    & 3.0    & 3.2    & 3.1    & 3.6   \\\\\n",
       "\tPetal.Length & 1.4    & 1.4    & 1.3    & 1.5    & 1.4   \\\\\n",
       "\tPetal.Width & 0.2    & 0.2    & 0.2    & 0.2    & 0.2   \\\\\n",
       "\tSpecies & setosa & setosa & setosa & setosa & setosa\\\\\n",
       "\\end{tabular}\n"
      ],
      "text/markdown": [
       "\n",
       "| <!--/--> | 1 | 2 | 3 | 4 | 5 |\n",
       "|---|---|---|---|---|---|\n",
       "| Sepal.Length | 5.1    | 4.9    | 4.7    | 4.6    | 5.0    |\n",
       "| Sepal.Width | 3.5    | 3.0    | 3.2    | 3.1    | 3.6    |\n",
       "| Petal.Length | 1.4    | 1.4    | 1.3    | 1.5    | 1.4    |\n",
       "| Petal.Width | 0.2    | 0.2    | 0.2    | 0.2    | 0.2    |\n",
       "| Species | setosa | setosa | setosa | setosa | setosa |\n",
       "\n"
      ],
      "text/plain": [
       "             1      2      3      4      5     \n",
       "Sepal.Length 5.1    4.9    4.7    4.6    5.0   \n",
       "Sepal.Width  3.5    3.0    3.2    3.1    3.6   \n",
       "Petal.Length 1.4    1.4    1.3    1.5    1.4   \n",
       "Petal.Width  0.2    0.2    0.2    0.2    0.2   \n",
       "Species      setosa setosa setosa setosa setosa"
      ]
     },
     "metadata": {},
     "output_type": "display_data"
    }
   ],
   "source": [
    "#  행과 열을 뒤집는다.\n",
    "\n",
    "t(irishead)"
   ]
  },
  {
   "cell_type": "code",
   "execution_count": 16,
   "metadata": {
    "vscode": {
     "languageId": "r"
    }
   },
   "outputs": [
    {
     "data": {
      "text/html": [
       "<table>\n",
       "<thead><tr><th></th><th scope=col>Sepal.Length</th><th scope=col>Sepal.Width</th><th scope=col>Petal.Length</th><th scope=col>Petal.Width</th><th scope=col>Species</th></tr></thead>\n",
       "<tbody>\n",
       "\t<tr><th scope=row>10</th><td>4.9       </td><td>3.1       </td><td>1.5       </td><td>0.1       </td><td>setosa    </td></tr>\n",
       "\t<tr><th scope=row>20</th><td>5.1       </td><td>3.8       </td><td>1.5       </td><td>0.3       </td><td>setosa    </td></tr>\n",
       "\t<tr><th scope=row>30</th><td>4.7       </td><td>3.2       </td><td>1.6       </td><td>0.2       </td><td>setosa    </td></tr>\n",
       "\t<tr><th scope=row>40</th><td>5.1       </td><td>3.4       </td><td>1.5       </td><td>0.2       </td><td>setosa    </td></tr>\n",
       "\t<tr><th scope=row>50</th><td>5.0       </td><td>3.3       </td><td>1.4       </td><td>0.2       </td><td>setosa    </td></tr>\n",
       "\t<tr><th scope=row>60</th><td>5.2       </td><td>2.7       </td><td>3.9       </td><td>1.4       </td><td>versicolor</td></tr>\n",
       "\t<tr><th scope=row>70</th><td>5.6       </td><td>2.5       </td><td>3.9       </td><td>1.1       </td><td>versicolor</td></tr>\n",
       "\t<tr><th scope=row>80</th><td>5.7       </td><td>2.6       </td><td>3.5       </td><td>1.0       </td><td>versicolor</td></tr>\n",
       "\t<tr><th scope=row>90</th><td>5.5       </td><td>2.5       </td><td>4.0       </td><td>1.3       </td><td>versicolor</td></tr>\n",
       "\t<tr><th scope=row>100</th><td>5.7       </td><td>2.8       </td><td>4.1       </td><td>1.3       </td><td>versicolor</td></tr>\n",
       "\t<tr><th scope=row>110</th><td>7.2       </td><td>3.6       </td><td>6.1       </td><td>2.5       </td><td>virginica </td></tr>\n",
       "\t<tr><th scope=row>120</th><td>6.0       </td><td>2.2       </td><td>5.0       </td><td>1.5       </td><td>virginica </td></tr>\n",
       "\t<tr><th scope=row>130</th><td>7.2       </td><td>3.0       </td><td>5.8       </td><td>1.6       </td><td>virginica </td></tr>\n",
       "\t<tr><th scope=row>140</th><td>6.9       </td><td>3.1       </td><td>5.4       </td><td>2.1       </td><td>virginica </td></tr>\n",
       "\t<tr><th scope=row>150</th><td>5.9       </td><td>3.0       </td><td>5.1       </td><td>1.8       </td><td>virginica </td></tr>\n",
       "</tbody>\n",
       "</table>\n"
      ],
      "text/latex": [
       "\\begin{tabular}{r|lllll}\n",
       "  & Sepal.Length & Sepal.Width & Petal.Length & Petal.Width & Species\\\\\n",
       "\\hline\n",
       "\t10 & 4.9        & 3.1        & 1.5        & 0.1        & setosa    \\\\\n",
       "\t20 & 5.1        & 3.8        & 1.5        & 0.3        & setosa    \\\\\n",
       "\t30 & 4.7        & 3.2        & 1.6        & 0.2        & setosa    \\\\\n",
       "\t40 & 5.1        & 3.4        & 1.5        & 0.2        & setosa    \\\\\n",
       "\t50 & 5.0        & 3.3        & 1.4        & 0.2        & setosa    \\\\\n",
       "\t60 & 5.2        & 2.7        & 3.9        & 1.4        & versicolor\\\\\n",
       "\t70 & 5.6        & 2.5        & 3.9        & 1.1        & versicolor\\\\\n",
       "\t80 & 5.7        & 2.6        & 3.5        & 1.0        & versicolor\\\\\n",
       "\t90 & 5.5        & 2.5        & 4.0        & 1.3        & versicolor\\\\\n",
       "\t100 & 5.7        & 2.8        & 4.1        & 1.3        & versicolor\\\\\n",
       "\t110 & 7.2        & 3.6        & 6.1        & 2.5        & virginica \\\\\n",
       "\t120 & 6.0        & 2.2        & 5.0        & 1.5        & virginica \\\\\n",
       "\t130 & 7.2        & 3.0        & 5.8        & 1.6        & virginica \\\\\n",
       "\t140 & 6.9        & 3.1        & 5.4        & 2.1        & virginica \\\\\n",
       "\t150 & 5.9        & 3.0        & 5.1        & 1.8        & virginica \\\\\n",
       "\\end{tabular}\n"
      ],
      "text/markdown": [
       "\n",
       "| <!--/--> | Sepal.Length | Sepal.Width | Petal.Length | Petal.Width | Species |\n",
       "|---|---|---|---|---|---|\n",
       "| 10 | 4.9        | 3.1        | 1.5        | 0.1        | setosa     |\n",
       "| 20 | 5.1        | 3.8        | 1.5        | 0.3        | setosa     |\n",
       "| 30 | 4.7        | 3.2        | 1.6        | 0.2        | setosa     |\n",
       "| 40 | 5.1        | 3.4        | 1.5        | 0.2        | setosa     |\n",
       "| 50 | 5.0        | 3.3        | 1.4        | 0.2        | setosa     |\n",
       "| 60 | 5.2        | 2.7        | 3.9        | 1.4        | versicolor |\n",
       "| 70 | 5.6        | 2.5        | 3.9        | 1.1        | versicolor |\n",
       "| 80 | 5.7        | 2.6        | 3.5        | 1.0        | versicolor |\n",
       "| 90 | 5.5        | 2.5        | 4.0        | 1.3        | versicolor |\n",
       "| 100 | 5.7        | 2.8        | 4.1        | 1.3        | versicolor |\n",
       "| 110 | 7.2        | 3.6        | 6.1        | 2.5        | virginica  |\n",
       "| 120 | 6.0        | 2.2        | 5.0        | 1.5        | virginica  |\n",
       "| 130 | 7.2        | 3.0        | 5.8        | 1.6        | virginica  |\n",
       "| 140 | 6.9        | 3.1        | 5.4        | 2.1        | virginica  |\n",
       "| 150 | 5.9        | 3.0        | 5.1        | 1.8        | virginica  |\n",
       "\n"
      ],
      "text/plain": [
       "    Sepal.Length Sepal.Width Petal.Length Petal.Width Species   \n",
       "10  4.9          3.1         1.5          0.1         setosa    \n",
       "20  5.1          3.8         1.5          0.3         setosa    \n",
       "30  4.7          3.2         1.6          0.2         setosa    \n",
       "40  5.1          3.4         1.5          0.2         setosa    \n",
       "50  5.0          3.3         1.4          0.2         setosa    \n",
       "60  5.2          2.7         3.9          1.4         versicolor\n",
       "70  5.6          2.5         3.9          1.1         versicolor\n",
       "80  5.7          2.6         3.5          1.0         versicolor\n",
       "90  5.5          2.5         4.0          1.3         versicolor\n",
       "100 5.7          2.8         4.1          1.3         versicolor\n",
       "110 7.2          3.6         6.1          2.5         virginica \n",
       "120 6.0          2.2         5.0          1.5         virginica \n",
       "130 7.2          3.0         5.8          1.6         virginica \n",
       "140 6.9          3.1         5.4          2.1         virginica \n",
       "150 5.9          3.0         5.1          1.8         virginica "
      ]
     },
     "metadata": {},
     "output_type": "display_data"
    }
   ],
   "source": [
    "# iris에서 150개 데이터 중 10번부터 10씩 증가하여 15개만 Sampling 하기\n",
    "\n",
    "iris[(seq(10,150,10)),]"
   ]
  }
 ],
 "metadata": {
  "kernelspec": {
   "display_name": "R",
   "language": "R",
   "name": "ir"
  },
  "language_info": {
   "codemirror_mode": "r",
   "file_extension": ".r",
   "mimetype": "text/x-r-source",
   "name": "R",
   "pygments_lexer": "r",
   "version": "3.6.1"
  },
  "orig_nbformat": 4
 },
 "nbformat": 4,
 "nbformat_minor": 2
}
