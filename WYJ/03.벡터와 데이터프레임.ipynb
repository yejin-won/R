{
 "cells": [
  {
   "cell_type": "code",
   "execution_count": 1,
   "metadata": {
    "vscode": {
     "languageId": "r"
    }
   },
   "outputs": [
    {
     "name": "stdout",
     "output_type": "stream",
     "text": [
      " [1] \"red\"  \"blue\" \"red\"  \"blue\" \"red\"  \"blue\" \"red\"  \"blue\" \"red\"  \"blue\"\n",
      "[11] \"red\"  \"blue\" \"red\"  \"blue\" \"red\"  \"blue\" \"red\"  \"blue\" \"red\"  \"blue\"\n",
      "[21] \"red\"  \"blue\" \"red\"  \"blue\" \"red\"  \"blue\" \"red\"  \"blue\" \"red\"  \"blue\"\n",
      "[31] \"red\"  \"blue\" \"red\"  \"blue\" \"red\"  \"blue\" \"red\"  \"blue\" \"red\"  \"blue\"\n"
     ]
    }
   ],
   "source": [
    "# red라는 글자와 blue라는 글자를 20개 만들기\n",
    "# red, blue, red, blue, ....\n",
    "\n",
    "print(rep(c(\"red\",\"blue\"),20))"
   ]
  },
  {
   "cell_type": "code",
   "execution_count": 2,
   "metadata": {
    "vscode": {
     "languageId": "r"
    }
   },
   "outputs": [
    {
     "name": "stdout",
     "output_type": "stream",
     "text": [
      " [1]  1  3  5  1  2  3  4  5  6  7  8  9 10  1  3  5  7  9  1  2  3  1  2  3\n",
      " [1]  1  3  5  1  2  3  4  5  6  7  8  9 10  1  3  5  7  9  1  2  3  1  2  3\n"
     ]
    }
   ],
   "source": [
    "# 1 3 5 1 2 3 4 5 6 7 8 9 10 1 3 5 7 9 1 2 3 1 2 3 출력하기\n",
    "\n",
    "print(c(seq(1,5,2),1:10,seq(1,10,2),rep(c(1,2,3),2)))\n",
    "print(c(1,3,5,1:10,seq(1,10,2),rep(c(1,2,3),2))) # 1,3,5 3개밖에 안되니 그냥 써도 됨 "
   ]
  },
  {
   "cell_type": "code",
   "execution_count": 3,
   "metadata": {
    "vscode": {
     "languageId": "r"
    }
   },
   "outputs": [
    {
     "data": {
      "text/html": [
       "<table>\n",
       "<thead><tr><th scope=col>Sepal.Length</th><th scope=col>Sepal.Width</th><th scope=col>Petal.Length</th><th scope=col>Petal.Width</th><th scope=col>Species</th></tr></thead>\n",
       "<tbody>\n",
       "\t<tr><td>5.1   </td><td>3.5   </td><td>1.4   </td><td>0.2   </td><td>setosa</td></tr>\n",
       "\t<tr><td>4.9   </td><td>3.0   </td><td>1.4   </td><td>0.2   </td><td>setosa</td></tr>\n",
       "\t<tr><td>4.7   </td><td>3.2   </td><td>1.3   </td><td>0.2   </td><td>setosa</td></tr>\n",
       "\t<tr><td>4.6   </td><td>3.1   </td><td>1.5   </td><td>0.2   </td><td>setosa</td></tr>\n",
       "\t<tr><td>5.0   </td><td>3.6   </td><td>1.4   </td><td>0.2   </td><td>setosa</td></tr>\n",
       "</tbody>\n",
       "</table>\n"
      ],
      "text/latex": [
       "\\begin{tabular}{r|lllll}\n",
       " Sepal.Length & Sepal.Width & Petal.Length & Petal.Width & Species\\\\\n",
       "\\hline\n",
       "\t 5.1    & 3.5    & 1.4    & 0.2    & setosa\\\\\n",
       "\t 4.9    & 3.0    & 1.4    & 0.2    & setosa\\\\\n",
       "\t 4.7    & 3.2    & 1.3    & 0.2    & setosa\\\\\n",
       "\t 4.6    & 3.1    & 1.5    & 0.2    & setosa\\\\\n",
       "\t 5.0    & 3.6    & 1.4    & 0.2    & setosa\\\\\n",
       "\\end{tabular}\n"
      ],
      "text/markdown": [
       "\n",
       "| Sepal.Length | Sepal.Width | Petal.Length | Petal.Width | Species |\n",
       "|---|---|---|---|---|\n",
       "| 5.1    | 3.5    | 1.4    | 0.2    | setosa |\n",
       "| 4.9    | 3.0    | 1.4    | 0.2    | setosa |\n",
       "| 4.7    | 3.2    | 1.3    | 0.2    | setosa |\n",
       "| 4.6    | 3.1    | 1.5    | 0.2    | setosa |\n",
       "| 5.0    | 3.6    | 1.4    | 0.2    | setosa |\n",
       "\n"
      ],
      "text/plain": [
       "  Sepal.Length Sepal.Width Petal.Length Petal.Width Species\n",
       "1 5.1          3.5         1.4          0.2         setosa \n",
       "2 4.9          3.0         1.4          0.2         setosa \n",
       "3 4.7          3.2         1.3          0.2         setosa \n",
       "4 4.6          3.1         1.5          0.2         setosa \n",
       "5 5.0          3.6         1.4          0.2         setosa "
      ]
     },
     "metadata": {},
     "output_type": "display_data"
    }
   ],
   "source": [
    "# iris의 1~5번째 줄의 데이터만 추출해서 변수(데이터프레임) 만들기\n",
    "head(iris,5) \n",
    "# iris[행(row),열(column)]\n",
    "irishead <- iris[1:5,]"
   ]
  },
  {
   "cell_type": "code",
   "execution_count": 4,
   "metadata": {
    "vscode": {
     "languageId": "r"
    }
   },
   "outputs": [
    {
     "data": {
      "text/html": [
       "<table>\n",
       "<thead><tr><th></th><th scope=col>1</th><th scope=col>2</th><th scope=col>3</th><th scope=col>4</th><th scope=col>5</th></tr></thead>\n",
       "<tbody>\n",
       "\t<tr><th scope=row>Sepal.Length</th><td>5.1   </td><td>4.9   </td><td>4.7   </td><td>4.6   </td><td>5.0   </td></tr>\n",
       "\t<tr><th scope=row>Sepal.Width</th><td>3.5   </td><td>3.0   </td><td>3.2   </td><td>3.1   </td><td>3.6   </td></tr>\n",
       "\t<tr><th scope=row>Petal.Length</th><td>1.4   </td><td>1.4   </td><td>1.3   </td><td>1.5   </td><td>1.4   </td></tr>\n",
       "\t<tr><th scope=row>Petal.Width</th><td>0.2   </td><td>0.2   </td><td>0.2   </td><td>0.2   </td><td>0.2   </td></tr>\n",
       "\t<tr><th scope=row>Species</th><td>setosa</td><td>setosa</td><td>setosa</td><td>setosa</td><td>setosa</td></tr>\n",
       "</tbody>\n",
       "</table>\n"
      ],
      "text/latex": [
       "\\begin{tabular}{r|lllll}\n",
       "  & 1 & 2 & 3 & 4 & 5\\\\\n",
       "\\hline\n",
       "\tSepal.Length & 5.1    & 4.9    & 4.7    & 4.6    & 5.0   \\\\\n",
       "\tSepal.Width & 3.5    & 3.0    & 3.2    & 3.1    & 3.6   \\\\\n",
       "\tPetal.Length & 1.4    & 1.4    & 1.3    & 1.5    & 1.4   \\\\\n",
       "\tPetal.Width & 0.2    & 0.2    & 0.2    & 0.2    & 0.2   \\\\\n",
       "\tSpecies & setosa & setosa & setosa & setosa & setosa\\\\\n",
       "\\end{tabular}\n"
      ],
      "text/markdown": [
       "\n",
       "| <!--/--> | 1 | 2 | 3 | 4 | 5 |\n",
       "|---|---|---|---|---|---|\n",
       "| Sepal.Length | 5.1    | 4.9    | 4.7    | 4.6    | 5.0    |\n",
       "| Sepal.Width | 3.5    | 3.0    | 3.2    | 3.1    | 3.6    |\n",
       "| Petal.Length | 1.4    | 1.4    | 1.3    | 1.5    | 1.4    |\n",
       "| Petal.Width | 0.2    | 0.2    | 0.2    | 0.2    | 0.2    |\n",
       "| Species | setosa | setosa | setosa | setosa | setosa |\n",
       "\n"
      ],
      "text/plain": [
       "             1      2      3      4      5     \n",
       "Sepal.Length 5.1    4.9    4.7    4.6    5.0   \n",
       "Sepal.Width  3.5    3.0    3.2    3.1    3.6   \n",
       "Petal.Length 1.4    1.4    1.3    1.5    1.4   \n",
       "Petal.Width  0.2    0.2    0.2    0.2    0.2   \n",
       "Species      setosa setosa setosa setosa setosa"
      ]
     },
     "metadata": {},
     "output_type": "display_data"
    }
   ],
   "source": [
    "#  행과 열을 뒤집는다.\n",
    "\n",
    "t(irishead)"
   ]
  },
  {
   "cell_type": "code",
   "execution_count": 5,
   "metadata": {
    "vscode": {
     "languageId": "r"
    }
   },
   "outputs": [
    {
     "data": {
      "text/html": [
       "<table>\n",
       "<thead><tr><th></th><th scope=col>Sepal.Length</th><th scope=col>Sepal.Width</th><th scope=col>Petal.Length</th><th scope=col>Petal.Width</th><th scope=col>Species</th></tr></thead>\n",
       "<tbody>\n",
       "\t<tr><th scope=row>10</th><td>4.9       </td><td>3.1       </td><td>1.5       </td><td>0.1       </td><td>setosa    </td></tr>\n",
       "\t<tr><th scope=row>20</th><td>5.1       </td><td>3.8       </td><td>1.5       </td><td>0.3       </td><td>setosa    </td></tr>\n",
       "\t<tr><th scope=row>30</th><td>4.7       </td><td>3.2       </td><td>1.6       </td><td>0.2       </td><td>setosa    </td></tr>\n",
       "\t<tr><th scope=row>40</th><td>5.1       </td><td>3.4       </td><td>1.5       </td><td>0.2       </td><td>setosa    </td></tr>\n",
       "\t<tr><th scope=row>50</th><td>5.0       </td><td>3.3       </td><td>1.4       </td><td>0.2       </td><td>setosa    </td></tr>\n",
       "\t<tr><th scope=row>60</th><td>5.2       </td><td>2.7       </td><td>3.9       </td><td>1.4       </td><td>versicolor</td></tr>\n",
       "\t<tr><th scope=row>70</th><td>5.6       </td><td>2.5       </td><td>3.9       </td><td>1.1       </td><td>versicolor</td></tr>\n",
       "\t<tr><th scope=row>80</th><td>5.7       </td><td>2.6       </td><td>3.5       </td><td>1.0       </td><td>versicolor</td></tr>\n",
       "\t<tr><th scope=row>90</th><td>5.5       </td><td>2.5       </td><td>4.0       </td><td>1.3       </td><td>versicolor</td></tr>\n",
       "\t<tr><th scope=row>100</th><td>5.7       </td><td>2.8       </td><td>4.1       </td><td>1.3       </td><td>versicolor</td></tr>\n",
       "\t<tr><th scope=row>110</th><td>7.2       </td><td>3.6       </td><td>6.1       </td><td>2.5       </td><td>virginica </td></tr>\n",
       "\t<tr><th scope=row>120</th><td>6.0       </td><td>2.2       </td><td>5.0       </td><td>1.5       </td><td>virginica </td></tr>\n",
       "\t<tr><th scope=row>130</th><td>7.2       </td><td>3.0       </td><td>5.8       </td><td>1.6       </td><td>virginica </td></tr>\n",
       "\t<tr><th scope=row>140</th><td>6.9       </td><td>3.1       </td><td>5.4       </td><td>2.1       </td><td>virginica </td></tr>\n",
       "\t<tr><th scope=row>150</th><td>5.9       </td><td>3.0       </td><td>5.1       </td><td>1.8       </td><td>virginica </td></tr>\n",
       "</tbody>\n",
       "</table>\n"
      ],
      "text/latex": [
       "\\begin{tabular}{r|lllll}\n",
       "  & Sepal.Length & Sepal.Width & Petal.Length & Petal.Width & Species\\\\\n",
       "\\hline\n",
       "\t10 & 4.9        & 3.1        & 1.5        & 0.1        & setosa    \\\\\n",
       "\t20 & 5.1        & 3.8        & 1.5        & 0.3        & setosa    \\\\\n",
       "\t30 & 4.7        & 3.2        & 1.6        & 0.2        & setosa    \\\\\n",
       "\t40 & 5.1        & 3.4        & 1.5        & 0.2        & setosa    \\\\\n",
       "\t50 & 5.0        & 3.3        & 1.4        & 0.2        & setosa    \\\\\n",
       "\t60 & 5.2        & 2.7        & 3.9        & 1.4        & versicolor\\\\\n",
       "\t70 & 5.6        & 2.5        & 3.9        & 1.1        & versicolor\\\\\n",
       "\t80 & 5.7        & 2.6        & 3.5        & 1.0        & versicolor\\\\\n",
       "\t90 & 5.5        & 2.5        & 4.0        & 1.3        & versicolor\\\\\n",
       "\t100 & 5.7        & 2.8        & 4.1        & 1.3        & versicolor\\\\\n",
       "\t110 & 7.2        & 3.6        & 6.1        & 2.5        & virginica \\\\\n",
       "\t120 & 6.0        & 2.2        & 5.0        & 1.5        & virginica \\\\\n",
       "\t130 & 7.2        & 3.0        & 5.8        & 1.6        & virginica \\\\\n",
       "\t140 & 6.9        & 3.1        & 5.4        & 2.1        & virginica \\\\\n",
       "\t150 & 5.9        & 3.0        & 5.1        & 1.8        & virginica \\\\\n",
       "\\end{tabular}\n"
      ],
      "text/markdown": [
       "\n",
       "| <!--/--> | Sepal.Length | Sepal.Width | Petal.Length | Petal.Width | Species |\n",
       "|---|---|---|---|---|---|\n",
       "| 10 | 4.9        | 3.1        | 1.5        | 0.1        | setosa     |\n",
       "| 20 | 5.1        | 3.8        | 1.5        | 0.3        | setosa     |\n",
       "| 30 | 4.7        | 3.2        | 1.6        | 0.2        | setosa     |\n",
       "| 40 | 5.1        | 3.4        | 1.5        | 0.2        | setosa     |\n",
       "| 50 | 5.0        | 3.3        | 1.4        | 0.2        | setosa     |\n",
       "| 60 | 5.2        | 2.7        | 3.9        | 1.4        | versicolor |\n",
       "| 70 | 5.6        | 2.5        | 3.9        | 1.1        | versicolor |\n",
       "| 80 | 5.7        | 2.6        | 3.5        | 1.0        | versicolor |\n",
       "| 90 | 5.5        | 2.5        | 4.0        | 1.3        | versicolor |\n",
       "| 100 | 5.7        | 2.8        | 4.1        | 1.3        | versicolor |\n",
       "| 110 | 7.2        | 3.6        | 6.1        | 2.5        | virginica  |\n",
       "| 120 | 6.0        | 2.2        | 5.0        | 1.5        | virginica  |\n",
       "| 130 | 7.2        | 3.0        | 5.8        | 1.6        | virginica  |\n",
       "| 140 | 6.9        | 3.1        | 5.4        | 2.1        | virginica  |\n",
       "| 150 | 5.9        | 3.0        | 5.1        | 1.8        | virginica  |\n",
       "\n"
      ],
      "text/plain": [
       "    Sepal.Length Sepal.Width Petal.Length Petal.Width Species   \n",
       "10  4.9          3.1         1.5          0.1         setosa    \n",
       "20  5.1          3.8         1.5          0.3         setosa    \n",
       "30  4.7          3.2         1.6          0.2         setosa    \n",
       "40  5.1          3.4         1.5          0.2         setosa    \n",
       "50  5.0          3.3         1.4          0.2         setosa    \n",
       "60  5.2          2.7         3.9          1.4         versicolor\n",
       "70  5.6          2.5         3.9          1.1         versicolor\n",
       "80  5.7          2.6         3.5          1.0         versicolor\n",
       "90  5.5          2.5         4.0          1.3         versicolor\n",
       "100 5.7          2.8         4.1          1.3         versicolor\n",
       "110 7.2          3.6         6.1          2.5         virginica \n",
       "120 6.0          2.2         5.0          1.5         virginica \n",
       "130 7.2          3.0         5.8          1.6         virginica \n",
       "140 6.9          3.1         5.4          2.1         virginica \n",
       "150 5.9          3.0         5.1          1.8         virginica "
      ]
     },
     "metadata": {},
     "output_type": "display_data"
    }
   ],
   "source": [
    "# iris에서 150개 데이터 중 10번부터 10씩 증가하여 15개만 Sampling 하기\n",
    "\n",
    "iris[(seq(0,150,10)),] # Species의 s -ver -vi 순으로 됨\n",
    "                       # Feature(특정값 추출)의 1번 값으로 Petal.Length사용\n",
    "                       # 머신러닝에서 타켓을 맞추기 위한 것\n",
    "                       # 머신러닝은 사람(분석가)이 개입하여 지정해줌 딥러닝에 비해 데이터 수가 적어도 됨\n",
    "                       # 딥러닝은 방대한 데이터를 주고, 학습하는 것 (시간이 많이 걸림)/분석가 개입안 함"
   ]
  },
  {
   "cell_type": "code",
   "execution_count": 6,
   "metadata": {
    "vscode": {
     "languageId": "r"
    }
   },
   "outputs": [
    {
     "data": {
      "text/html": [
       "150"
      ],
      "text/latex": [
       "150"
      ],
      "text/markdown": [
       "150"
      ],
      "text/plain": [
       "[1] 150"
      ]
     },
     "metadata": {},
     "output_type": "display_data"
    }
   ],
   "source": [
    "length(iris$Sepal.Length)"
   ]
  },
  {
   "cell_type": "code",
   "execution_count": 7,
   "metadata": {
    "vscode": {
     "languageId": "r"
    }
   },
   "outputs": [
    {
     "data": {
      "text/html": [
       "5"
      ],
      "text/latex": [
       "5"
      ],
      "text/markdown": [
       "5"
      ],
      "text/plain": [
       "[1] 5"
      ]
     },
     "metadata": {},
     "output_type": "display_data"
    }
   ],
   "source": [
    "length(iris) # column 갯수"
   ]
  },
  {
   "cell_type": "code",
   "execution_count": 8,
   "metadata": {
    "vscode": {
     "languageId": "r"
    }
   },
   "outputs": [
    {
     "data": {
      "text/html": [
       "150"
      ],
      "text/latex": [
       "150"
      ],
      "text/markdown": [
       "150"
      ],
      "text/plain": [
       "[1] 150"
      ]
     },
     "metadata": {},
     "output_type": "display_data"
    },
    {
     "data": {
      "text/html": [
       "5"
      ],
      "text/latex": [
       "5"
      ],
      "text/markdown": [
       "5"
      ],
      "text/plain": [
       "[1] 5"
      ]
     },
     "metadata": {},
     "output_type": "display_data"
    }
   ],
   "source": [
    "nrow(iris) # row 수\n",
    "ncol(iris) # column 수"
   ]
  },
  {
   "cell_type": "code",
   "execution_count": 9,
   "metadata": {
    "vscode": {
     "languageId": "r"
    }
   },
   "outputs": [
    {
     "data": {
      "text/html": [
       "7.9"
      ],
      "text/latex": [
       "7.9"
      ],
      "text/markdown": [
       "7.9"
      ],
      "text/plain": [
       "[1] 7.9"
      ]
     },
     "metadata": {},
     "output_type": "display_data"
    },
    {
     "data": {
      "text/html": [
       "4.3"
      ],
      "text/latex": [
       "4.3"
      ],
      "text/markdown": [
       "4.3"
      ],
      "text/plain": [
       "[1] 4.3"
      ]
     },
     "metadata": {},
     "output_type": "display_data"
    },
    {
     "data": {
      "text/html": [
       "5.84333333333333"
      ],
      "text/latex": [
       "5.84333333333333"
      ],
      "text/markdown": [
       "5.84333333333333"
      ],
      "text/plain": [
       "[1] 5.843333"
      ]
     },
     "metadata": {},
     "output_type": "display_data"
    },
    {
     "data": {
      "text/html": [
       "FALSE"
      ],
      "text/latex": [
       "FALSE"
      ],
      "text/markdown": [
       "FALSE"
      ],
      "text/plain": [
       "[1] FALSE"
      ]
     },
     "metadata": {},
     "output_type": "display_data"
    }
   ],
   "source": [
    "# irisdml Sepal.Length의 최대값과 최소값의 차이가 평균보다 큰지 확인\n",
    "s <- iris$Sepal.Length\n",
    "\n",
    "max(s)\n",
    "min(s)\n",
    "mean(s)\n",
    "\n",
    "max(s)-min(s) > mean(s)\n"
   ]
  },
  {
   "cell_type": "code",
   "execution_count": 10,
   "metadata": {
    "vscode": {
     "languageId": "r"
    }
   },
   "outputs": [
    {
     "data": {
      "text/html": [
       "<table>\n",
       "<thead><tr><th scope=col>Sepal.Length</th><th scope=col>Sepal.Width</th></tr></thead>\n",
       "<tbody>\n",
       "\t<tr><td>5.1</td><td>3.5</td></tr>\n",
       "\t<tr><td>4.9</td><td>3.0</td></tr>\n",
       "\t<tr><td>4.7</td><td>3.2</td></tr>\n",
       "\t<tr><td>4.6</td><td>3.1</td></tr>\n",
       "\t<tr><td>5.0</td><td>3.6</td></tr>\n",
       "\t<tr><td>5.4</td><td>3.9</td></tr>\n",
       "\t<tr><td>4.6</td><td>3.4</td></tr>\n",
       "\t<tr><td>5.0</td><td>3.4</td></tr>\n",
       "\t<tr><td>4.4</td><td>2.9</td></tr>\n",
       "\t<tr><td>4.9</td><td>3.1</td></tr>\n",
       "</tbody>\n",
       "</table>\n"
      ],
      "text/latex": [
       "\\begin{tabular}{r|ll}\n",
       " Sepal.Length & Sepal.Width\\\\\n",
       "\\hline\n",
       "\t 5.1 & 3.5\\\\\n",
       "\t 4.9 & 3.0\\\\\n",
       "\t 4.7 & 3.2\\\\\n",
       "\t 4.6 & 3.1\\\\\n",
       "\t 5.0 & 3.6\\\\\n",
       "\t 5.4 & 3.9\\\\\n",
       "\t 4.6 & 3.4\\\\\n",
       "\t 5.0 & 3.4\\\\\n",
       "\t 4.4 & 2.9\\\\\n",
       "\t 4.9 & 3.1\\\\\n",
       "\\end{tabular}\n"
      ],
      "text/markdown": [
       "\n",
       "| Sepal.Length | Sepal.Width |\n",
       "|---|---|\n",
       "| 5.1 | 3.5 |\n",
       "| 4.9 | 3.0 |\n",
       "| 4.7 | 3.2 |\n",
       "| 4.6 | 3.1 |\n",
       "| 5.0 | 3.6 |\n",
       "| 5.4 | 3.9 |\n",
       "| 4.6 | 3.4 |\n",
       "| 5.0 | 3.4 |\n",
       "| 4.4 | 2.9 |\n",
       "| 4.9 | 3.1 |\n",
       "\n"
      ],
      "text/plain": [
       "   Sepal.Length Sepal.Width\n",
       "1  5.1          3.5        \n",
       "2  4.9          3.0        \n",
       "3  4.7          3.2        \n",
       "4  4.6          3.1        \n",
       "5  5.0          3.6        \n",
       "6  5.4          3.9        \n",
       "7  4.6          3.4        \n",
       "8  5.0          3.4        \n",
       "9  4.4          2.9        \n",
       "10 4.9          3.1        "
      ]
     },
     "metadata": {},
     "output_type": "display_data"
    },
    {
     "data": {
      "text/html": [
       "<table>\n",
       "<thead><tr><th scope=col>Sepal.Length</th><th scope=col>Sepal.Width</th></tr></thead>\n",
       "<tbody>\n",
       "\t<tr><td>5.1</td><td>3.5</td></tr>\n",
       "\t<tr><td>4.9</td><td>3.0</td></tr>\n",
       "\t<tr><td>4.7</td><td>3.2</td></tr>\n",
       "\t<tr><td>4.6</td><td>3.1</td></tr>\n",
       "\t<tr><td>5.0</td><td>3.6</td></tr>\n",
       "\t<tr><td>5.4</td><td>3.9</td></tr>\n",
       "\t<tr><td>4.6</td><td>3.4</td></tr>\n",
       "\t<tr><td>5.0</td><td>3.4</td></tr>\n",
       "\t<tr><td>4.4</td><td>2.9</td></tr>\n",
       "\t<tr><td>4.9</td><td>3.1</td></tr>\n",
       "</tbody>\n",
       "</table>\n"
      ],
      "text/latex": [
       "\\begin{tabular}{r|ll}\n",
       " Sepal.Length & Sepal.Width\\\\\n",
       "\\hline\n",
       "\t 5.1 & 3.5\\\\\n",
       "\t 4.9 & 3.0\\\\\n",
       "\t 4.7 & 3.2\\\\\n",
       "\t 4.6 & 3.1\\\\\n",
       "\t 5.0 & 3.6\\\\\n",
       "\t 5.4 & 3.9\\\\\n",
       "\t 4.6 & 3.4\\\\\n",
       "\t 5.0 & 3.4\\\\\n",
       "\t 4.4 & 2.9\\\\\n",
       "\t 4.9 & 3.1\\\\\n",
       "\\end{tabular}\n"
      ],
      "text/markdown": [
       "\n",
       "| Sepal.Length | Sepal.Width |\n",
       "|---|---|\n",
       "| 5.1 | 3.5 |\n",
       "| 4.9 | 3.0 |\n",
       "| 4.7 | 3.2 |\n",
       "| 4.6 | 3.1 |\n",
       "| 5.0 | 3.6 |\n",
       "| 5.4 | 3.9 |\n",
       "| 4.6 | 3.4 |\n",
       "| 5.0 | 3.4 |\n",
       "| 4.4 | 2.9 |\n",
       "| 4.9 | 3.1 |\n",
       "\n"
      ],
      "text/plain": [
       "   Sepal.Length Sepal.Width\n",
       "1  5.1          3.5        \n",
       "2  4.9          3.0        \n",
       "3  4.7          3.2        \n",
       "4  4.6          3.1        \n",
       "5  5.0          3.6        \n",
       "6  5.4          3.9        \n",
       "7  4.6          3.4        \n",
       "8  5.0          3.4        \n",
       "9  4.4          2.9        \n",
       "10 4.9          3.1        "
      ]
     },
     "metadata": {},
     "output_type": "display_data"
    }
   ],
   "source": [
    "# iris에서 1~10까지의 데이터 중 Sepal.Length와 Sepal.Width만 출력\n",
    "\n",
    "iris[1:10,1:2]\n",
    "iris[1:10,c(\"Sepal.Length\",\"Sepal.Width\")] # coulmn의 갯수가 많을 경우 인덱스로 적기 힘드므로 이름으로 기재"
   ]
  },
  {
   "cell_type": "code",
   "execution_count": 11,
   "metadata": {
    "vscode": {
     "languageId": "r"
    }
   },
   "outputs": [
    {
     "name": "stdout",
     "output_type": "stream",
     "text": [
      "  Sepal.Length Sepal.Width Petal.Length Petal.Width Species\n",
      "1          5.1         3.5          1.4         0.2  setosa\n",
      "2          4.9         3.0          1.4         0.2  setosa\n",
      "3          4.7         3.2          1.3         0.2  setosa\n",
      "4          4.6         3.1          1.5         0.2  setosa\n",
      "5          5.0         3.6          1.4         0.2  setosa\n",
      "6          5.4         3.9          1.7         0.4  setosa\n"
     ]
    }
   ],
   "source": [
    "print(head(iris))"
   ]
  },
  {
   "cell_type": "code",
   "execution_count": 12,
   "metadata": {
    "vscode": {
     "languageId": "r"
    }
   },
   "outputs": [
    {
     "name": "stdout",
     "output_type": "stream",
     "text": [
      "    Sepal.Length Sepal.Width Petal.Length Petal.Width   Species\n",
      "145          6.7         3.3          5.7         2.5 virginica\n",
      "146          6.7         3.0          5.2         2.3 virginica\n",
      "147          6.3         2.5          5.0         1.9 virginica\n",
      "148          6.5         3.0          5.2         2.0 virginica\n",
      "149          6.2         3.4          5.4         2.3 virginica\n",
      "150          5.9         3.0          5.1         1.8 virginica\n"
     ]
    }
   ],
   "source": [
    "print(tail(iris))"
   ]
  },
  {
   "cell_type": "code",
   "execution_count": 13,
   "metadata": {
    "vscode": {
     "languageId": "r"
    }
   },
   "outputs": [
    {
     "name": "stdout",
     "output_type": "stream",
     "text": [
      "'data.frame':\t150 obs. of  5 variables:\n",
      " $ Sepal.Length: num  5.1 4.9 4.7 4.6 5 5.4 4.6 5 4.4 4.9 ...\n",
      " $ Sepal.Width : num  3.5 3 3.2 3.1 3.6 3.9 3.4 3.4 2.9 3.1 ...\n",
      " $ Petal.Length: num  1.4 1.4 1.3 1.5 1.4 1.7 1.4 1.5 1.4 1.5 ...\n",
      " $ Petal.Width : num  0.2 0.2 0.2 0.2 0.2 0.4 0.3 0.2 0.2 0.1 ...\n",
      " $ Species     : Factor w/ 3 levels \"setosa\",\"versicolor\",..: 1 1 1 1 1 1 1 1 1 1 ...\n"
     ]
    }
   ],
   "source": [
    "str(iris)"
   ]
  },
  {
   "cell_type": "code",
   "execution_count": 14,
   "metadata": {
    "vscode": {
     "languageId": "r"
    }
   },
   "outputs": [
    {
     "data": {
      "text/plain": [
       "  Sepal.Length    Sepal.Width     Petal.Length    Petal.Width   \n",
       " Min.   :4.300   Min.   :2.000   Min.   :1.000   Min.   :0.100  \n",
       " 1st Qu.:5.100   1st Qu.:2.800   1st Qu.:1.600   1st Qu.:0.300  \n",
       " Median :5.800   Median :3.000   Median :4.350   Median :1.300  \n",
       " Mean   :5.843   Mean   :3.057   Mean   :3.758   Mean   :1.199  \n",
       " 3rd Qu.:6.400   3rd Qu.:3.300   3rd Qu.:5.100   3rd Qu.:1.800  \n",
       " Max.   :7.900   Max.   :4.400   Max.   :6.900   Max.   :2.500  \n",
       "       Species  \n",
       " setosa    :50  \n",
       " versicolor:50  \n",
       " virginica :50  \n",
       "                \n",
       "                \n",
       "                "
      ]
     },
     "metadata": {},
     "output_type": "display_data"
    }
   ],
   "source": [
    "summary(iris) # 데이터는 정규분포를 이뤄야 분석을 할 수 있음 중앙값과 평균의 차이가 큰지/최대.최소차이로 판단\n",
    "              # 해당 내용을 참고하여 정규화를 함"
   ]
  },
  {
   "cell_type": "code",
   "execution_count": 15,
   "metadata": {
    "vscode": {
     "languageId": "r"
    }
   },
   "outputs": [
    {
     "name": "stdout",
     "output_type": "stream",
     "text": [
      "  [1] \"setosa\"     \"setosa\"     \"setosa\"     \"setosa\"     \"setosa\"    \n",
      "  [6] \"setosa\"     \"setosa\"     \"setosa\"     \"setosa\"     \"setosa\"    \n",
      " [11] \"setosa\"     \"setosa\"     \"setosa\"     \"setosa\"     \"setosa\"    \n",
      " [16] \"setosa\"     \"setosa\"     \"setosa\"     \"setosa\"     \"setosa\"    \n",
      " [21] \"setosa\"     \"setosa\"     \"setosa\"     \"setosa\"     \"setosa\"    \n",
      " [26] \"setosa\"     \"setosa\"     \"setosa\"     \"setosa\"     \"setosa\"    \n",
      " [31] \"setosa\"     \"setosa\"     \"setosa\"     \"setosa\"     \"setosa\"    \n",
      " [36] \"setosa\"     \"setosa\"     \"setosa\"     \"setosa\"     \"setosa\"    \n",
      " [41] \"setosa\"     \"setosa\"     \"setosa\"     \"setosa\"     \"setosa\"    \n",
      " [46] \"setosa\"     \"setosa\"     \"setosa\"     \"setosa\"     \"setosa\"    \n",
      " [51] \"versicolor\" \"versicolor\" \"versicolor\" \"versicolor\" \"versicolor\"\n",
      " [56] \"versicolor\" \"versicolor\" \"versicolor\" \"versicolor\" \"versicolor\"\n",
      " [61] \"versicolor\" \"versicolor\" \"versicolor\" \"versicolor\" \"versicolor\"\n",
      " [66] \"versicolor\" \"versicolor\" \"versicolor\" \"versicolor\" \"versicolor\"\n",
      " [71] \"versicolor\" \"versicolor\" \"versicolor\" \"versicolor\" \"versicolor\"\n",
      " [76] \"versicolor\" \"versicolor\" \"versicolor\" \"versicolor\" \"versicolor\"\n",
      " [81] \"versicolor\" \"versicolor\" \"versicolor\" \"versicolor\" \"versicolor\"\n",
      " [86] \"versicolor\" \"versicolor\" \"versicolor\" \"versicolor\" \"versicolor\"\n",
      " [91] \"versicolor\" \"versicolor\" \"versicolor\" \"versicolor\" \"versicolor\"\n",
      " [96] \"versicolor\" \"versicolor\" \"versicolor\" \"versicolor\" \"versicolor\"\n",
      "[101] \"virginica\"  \"virginica\"  \"virginica\"  \"virginica\"  \"virginica\" \n",
      "[106] \"virginica\"  \"virginica\"  \"virginica\"  \"virginica\"  \"virginica\" \n",
      "[111] \"virginica\"  \"virginica\"  \"virginica\"  \"virginica\"  \"virginica\" \n",
      "[116] \"virginica\"  \"virginica\"  \"virginica\"  \"virginica\"  \"virginica\" \n",
      "[121] \"virginica\"  \"virginica\"  \"virginica\"  \"virginica\"  \"virginica\" \n",
      "[126] \"virginica\"  \"virginica\"  \"virginica\"  \"virginica\"  \"virginica\" \n",
      "[131] \"virginica\"  \"virginica\"  \"virginica\"  \"virginica\"  \"virginica\" \n",
      "[136] \"virginica\"  \"virginica\"  \"virginica\"  \"virginica\"  \"virginica\" \n",
      "[141] \"virginica\"  \"virginica\"  \"virginica\"  \"virginica\"  \"virginica\" \n",
      "[146] \"virginica\"  \"virginica\"  \"virginica\"  \"virginica\"  \"virginica\" \n",
      "  [1] 1 1 1 1 1 1 1 1 1 1 1 1 1 1 1 1 1 1 1 1 1 1 1 1 1 1 1 1 1 1 1 1 1 1 1 1 1\n",
      " [38] 1 1 1 1 1 1 1 1 1 1 1 1 1 2 2 2 2 2 2 2 2 2 2 2 2 2 2 2 2 2 2 2 2 2 2 2 2\n",
      " [75] 2 2 2 2 2 2 2 2 2 2 2 2 2 2 2 2 2 2 2 2 2 2 2 2 2 2 3 3 3 3 3 3 3 3 3 3 3\n",
      "[112] 3 3 3 3 3 3 3 3 3 3 3 3 3 3 3 3 3 3 3 3 3 3 3 3 3 3 3 3 3 3 3 3 3 3 3 3 3\n",
      "[149] 3 3\n"
     ]
    }
   ],
   "source": [
    "# factor Type인 Species에서 문자와 숫자로 각각 가져오기\n",
    "\n",
    "print(as.character(iris$Species))\n",
    "print(as.numeric(iris$Species))\n",
    "# 군집화 <--- 비지도 학습(groupping을 통해 학습)  <----> 지도학습(문제와 답을 가지고 학습)"
   ]
  },
  {
   "cell_type": "markdown",
   "metadata": {},
   "source": [
    "---\n",
    "# 벡터 계산"
   ]
  },
  {
   "cell_type": "code",
   "execution_count": 16,
   "metadata": {
    "vscode": {
     "languageId": "r"
    }
   },
   "outputs": [
    {
     "name": "stdout",
     "output_type": "stream",
     "text": [
      "[1]  4  7 10 13 16\n"
     ]
    }
   ],
   "source": [
    "x <- c(3,6,9,12,15)\n",
    "print (x+1) # 동일한 크기만큼 더해지는 것이므로 상관없음"
   ]
  },
  {
   "cell_type": "code",
   "execution_count": 17,
   "metadata": {
    "vscode": {
     "languageId": "r"
    }
   },
   "outputs": [
    {
     "name": "stdout",
     "output_type": "stream",
     "text": [
      "[1]  4  8 12 16 20\n"
     ]
    }
   ],
   "source": [
    "print(x + 1:5)"
   ]
  },
  {
   "cell_type": "code",
   "execution_count": 18,
   "metadata": {
    "vscode": {
     "languageId": "r"
    }
   },
   "outputs": [
    {
     "name": "stderr",
     "output_type": "stream",
     "text": [
      "Warning message in x + 1:2:\n",
      "“두 객체의 길이가 서로 배수관계에 있지 않습니다”"
     ]
    },
    {
     "name": "stdout",
     "output_type": "stream",
     "text": [
      "[1]  4  8 10 14 16\n"
     ]
    }
   ],
   "source": [
    "print(x + 1:2) # 계산하려는 두 벡터의 길이가 동일해야 원하는 결과를 얻을 수 있음 (배수관계(=두 벡터의 길이 동일X)) "
   ]
  },
  {
   "cell_type": "code",
   "execution_count": 19,
   "metadata": {
    "vscode": {
     "languageId": "r"
    }
   },
   "outputs": [
    {
     "data": {
      "text/html": [
       "<ol class=list-inline>\n",
       "\t<li>3</li>\n",
       "\t<li>5</li>\n",
       "\t<li>6</li>\n",
       "\t<li>12</li>\n",
       "\t<li>15</li>\n",
       "\t<li>1</li>\n",
       "\t<li>2</li>\n",
       "\t<li>3</li>\n",
       "\t<li>4</li>\n",
       "\t<li>5</li>\n",
       "</ol>\n"
      ],
      "text/latex": [
       "\\begin{enumerate*}\n",
       "\\item 3\n",
       "\\item 5\n",
       "\\item 6\n",
       "\\item 12\n",
       "\\item 15\n",
       "\\item 1\n",
       "\\item 2\n",
       "\\item 3\n",
       "\\item 4\n",
       "\\item 5\n",
       "\\end{enumerate*}\n"
      ],
      "text/markdown": [
       "1. 3\n",
       "2. 5\n",
       "3. 6\n",
       "4. 12\n",
       "5. 15\n",
       "6. 1\n",
       "7. 2\n",
       "8. 3\n",
       "9. 4\n",
       "10. 5\n",
       "\n",
       "\n"
      ],
      "text/plain": [
       " [1]  3  5  6 12 15  1  2  3  4  5"
      ]
     },
     "metadata": {},
     "output_type": "display_data"
    }
   ],
   "source": [
    "x <- c(3,5,6,12,15)\n",
    "y <- 1:5\n",
    "append(x,y)"
   ]
  },
  {
   "cell_type": "code",
   "execution_count": 20,
   "metadata": {
    "vscode": {
     "languageId": "r"
    }
   },
   "outputs": [
    {
     "data": {
      "text/html": [
       "300"
      ],
      "text/latex": [
       "300"
      ],
      "text/markdown": [
       "300"
      ],
      "text/plain": [
       "[1] 300"
      ]
     },
     "metadata": {},
     "output_type": "display_data"
    }
   ],
   "source": [
    "length(append(iris$Sepal.Length,iris$Sepal.Width))"
   ]
  },
  {
   "cell_type": "code",
   "execution_count": 21,
   "metadata": {
    "vscode": {
     "languageId": "r"
    }
   },
   "outputs": [
    {
     "data": {
      "text/html": [
       "300"
      ],
      "text/latex": [
       "300"
      ],
      "text/markdown": [
       "300"
      ],
      "text/plain": [
       "[1] 300"
      ]
     },
     "metadata": {},
     "output_type": "display_data"
    }
   ],
   "source": [
    "length(c(iris$Sepal.Length,iris$Sepal.Width))"
   ]
  },
  {
   "cell_type": "code",
   "execution_count": 22,
   "metadata": {
    "vscode": {
     "languageId": "r"
    }
   },
   "outputs": [
    {
     "data": {
      "text/html": [
       "35"
      ],
      "text/latex": [
       "35"
      ],
      "text/markdown": [
       "35"
      ],
      "text/plain": [
       "[1] 35"
      ]
     },
     "metadata": {},
     "output_type": "display_data"
    },
    {
     "data": {
      "text/html": [
       "150"
      ],
      "text/latex": [
       "150"
      ],
      "text/markdown": [
       "150"
      ],
      "text/plain": [
       "[1] 150"
      ]
     },
     "metadata": {},
     "output_type": "display_data"
    },
    {
     "data": {
      "text/html": [
       "'23.33 %'"
      ],
      "text/latex": [
       "'23.33 \\%'"
      ],
      "text/markdown": [
       "'23.33 %'"
      ],
      "text/plain": [
       "[1] \"23.33 %\""
      ]
     },
     "metadata": {},
     "output_type": "display_data"
    },
    {
     "data": {
      "text/html": [
       "'76.67 %'"
      ],
      "text/latex": [
       "'76.67 \\%'"
      ],
      "text/markdown": [
       "'76.67 %'"
      ],
      "text/plain": [
       "[1] \"76.67 %\""
      ]
     },
     "metadata": {},
     "output_type": "display_data"
    }
   ],
   "source": [
    "# iris의 Sepal.Length의 중복되지 않은 갯수의 percent 구하기\n",
    "\n",
    "length(unique(iris$Sepal.Length))\n",
    "length(iris$Sepal.Length)\n",
    "\n",
    "paste(round(((length(unique(iris$Sepal.Length)))/length(iris$Sepal.Length))*100,2),\"%\")\n",
    "# iris의 Sepal.Length의 중복된 갯수의 percent 구하기\n",
    "\n",
    "paste(round(((length(iris$Sepal.Length)-length(unique(iris$Sepal.Length)))\n",
    "/ length(iris$Sepal.Length))*100,2),\"%\")\n"
   ]
  },
  {
   "cell_type": "markdown",
   "metadata": {},
   "source": [
    "---\n",
    "# 문자열 관련 함수"
   ]
  },
  {
   "cell_type": "code",
   "execution_count": 23,
   "metadata": {
    "vscode": {
     "languageId": "r"
    }
   },
   "outputs": [
    {
     "name": "stdout",
     "output_type": "stream",
     "text": [
      "[1] \"a\" \"b\" \"c\" \"d\" \"e\"\n",
      "[1] \"a\" \"b\"\n"
     ]
    },
    {
     "data": {
      "text/html": [
       "'a b'"
      ],
      "text/latex": [
       "'a b'"
      ],
      "text/markdown": [
       "'a b'"
      ],
      "text/plain": [
       "[1] \"a b\""
      ]
     },
     "metadata": {},
     "output_type": "display_data"
    }
   ],
   "source": [
    "x <- c('a','b','c','d','e')\n",
    "print(x)\n",
    "print(x[1:2])\n",
    "\n",
    "# 문자열 합치기(한칸 띄우고 합침)\n",
    "# paste 출력용이 아니라 기존의 벡터들을 하나로 합쳐서 새로운 벡터로 만들어주는 것\n",
    "paste(x[1], x[2])"
   ]
  },
  {
   "cell_type": "code",
   "execution_count": 24,
   "metadata": {
    "vscode": {
     "languageId": "r"
    }
   },
   "outputs": [
    {
     "data": {
      "text/html": [
       "'Hello World'"
      ],
      "text/latex": [
       "'Hello World'"
      ],
      "text/markdown": [
       "'Hello World'"
      ],
      "text/plain": [
       "[1] \"Hello World\""
      ]
     },
     "metadata": {},
     "output_type": "display_data"
    }
   ],
   "source": [
    "paste(\"Hello\", \"World\")"
   ]
  },
  {
   "cell_type": "code",
   "execution_count": 25,
   "metadata": {
    "vscode": {
     "languageId": "r"
    }
   },
   "outputs": [
    {
     "data": {
      "text/html": [
       "<span style=white-space:pre-wrap>'setosa  :  versicolor  :  virginica'</span>"
      ],
      "text/latex": [
       "'setosa  :  versicolor  :  virginica'"
      ],
      "text/markdown": [
       "<span style=white-space:pre-wrap>'setosa  :  versicolor  :  virginica'</span>"
      ],
      "text/plain": [
       "[1] \"setosa  :  versicolor  :  virginica\""
      ]
     },
     "metadata": {},
     "output_type": "display_data"
    }
   ],
   "source": [
    "# iris의 1, 51, 101번의 Species만 한꺼번에 출력하기\n",
    "\n",
    "paste(iris$Species[1],\" : \",iris$Species[51],\" : \",iris$Species[101])"
   ]
  },
  {
   "cell_type": "code",
   "execution_count": 26,
   "metadata": {
    "vscode": {
     "languageId": "r"
    }
   },
   "outputs": [
    {
     "name": "stdout",
     "output_type": "stream",
     "text": [
      "Hello \n",
      " World!"
     ]
    }
   ],
   "source": [
    "# 문자열 출력\n",
    "\n",
    "cat(\"Hello\" ,\"\\n\", \"World!\")"
   ]
  },
  {
   "cell_type": "code",
   "execution_count": 27,
   "metadata": {
    "vscode": {
     "languageId": "r"
    }
   },
   "outputs": [
    {
     "name": "stdout",
     "output_type": "stream",
     "text": [
      "Hello\n",
      "World!"
     ]
    }
   ],
   "source": [
    "cat(\"Hello\\nWorld!\")\n"
   ]
  },
  {
   "cell_type": "code",
   "execution_count": 28,
   "metadata": {
    "vscode": {
     "languageId": "r"
    }
   },
   "outputs": [
    {
     "name": "stdout",
     "output_type": "stream",
     "text": [
      "90\t80\t70"
     ]
    }
   ],
   "source": [
    "cat(\"90\\t80\\t70\")"
   ]
  },
  {
   "cell_type": "code",
   "execution_count": 29,
   "metadata": {
    "vscode": {
     "languageId": "r"
    }
   },
   "outputs": [
    {
     "data": {
      "text/html": [
       "'010-1111-2222'"
      ],
      "text/latex": [
       "'010-1111-2222'"
      ],
      "text/markdown": [
       "'010-1111-2222'"
      ],
      "text/plain": [
       "[1] \"010-1111-2222\""
      ]
     },
     "metadata": {},
     "output_type": "display_data"
    },
    {
     "data": {
      "text/html": [
       "'01011112222'"
      ],
      "text/latex": [
       "'01011112222'"
      ],
      "text/markdown": [
       "'01011112222'"
      ],
      "text/plain": [
       "[1] \"01011112222\""
      ]
     },
     "metadata": {},
     "output_type": "display_data"
    }
   ],
   "source": [
    "paste(\"010\",\"1111\",\"2222\",sep=\"-\")\n",
    "paste(\"010\",\"1111\",\"2222\",sep=\"\")"
   ]
  },
  {
   "cell_type": "markdown",
   "metadata": {},
   "source": [
    "# 문자열 추출하기"
   ]
  },
  {
   "cell_type": "code",
   "execution_count": 30,
   "metadata": {
    "vscode": {
     "languageId": "r"
    }
   },
   "outputs": [
    {
     "data": {
      "text/html": [
       "'bcde'"
      ],
      "text/latex": [
       "'bcde'"
      ],
      "text/markdown": [
       "'bcde'"
      ],
      "text/plain": [
       "[1] \"bcde\""
      ]
     },
     "metadata": {},
     "output_type": "display_data"
    },
    {
     "data": {
      "text/html": [
       "'나다라마'"
      ],
      "text/latex": [
       "'나다라마'"
      ],
      "text/markdown": [
       "'나다라마'"
      ],
      "text/plain": [
       "[1] \"나다라마\""
      ]
     },
     "metadata": {},
     "output_type": "display_data"
    }
   ],
   "source": [
    "str01 <- \"abcdefghijklmn\"\n",
    "substring(str01,2,5)\n",
    "str02 <- \"가나다라마바사\"\n",
    "substring(str02,2,5)"
   ]
  },
  {
   "cell_type": "code",
   "execution_count": 31,
   "metadata": {
    "vscode": {
     "languageId": "r"
    }
   },
   "outputs": [
    {
     "name": "stdout",
     "output_type": "stream",
     "text": [
      "[1]  6.463973 15.977798  8.770562 17.777331 18.868878\n"
     ]
    },
    {
     "data": {
      "text/html": [
       "1"
      ],
      "text/latex": [
       "1"
      ],
      "text/markdown": [
       "1"
      ],
      "text/plain": [
       "[1] 1"
      ]
     },
     "metadata": {},
     "output_type": "display_data"
    }
   ],
   "source": [
    "# Ex : 출력되는 x중 4와 7 사이에 있는 것은 몇개 인가?\n",
    "set.seed(123) # 난수 정해줌\n",
    "x <- runif(5,1,20) # 1~20까지 5개의 데이터 나옴\n",
    "print(x)\n",
    "\n",
    "sum(x >= 4 & x <= 7 ) # x에서 4와7사이에 존재하는 수의 개수 구하기 "
   ]
  },
  {
   "cell_type": "markdown",
   "metadata": {},
   "source": [
    "# 행렬(Matrix)"
   ]
  },
  {
   "cell_type": "code",
   "execution_count": 32,
   "metadata": {
    "vscode": {
     "languageId": "r"
    }
   },
   "outputs": [],
   "source": [
    "# 행렬 : 2차원 자료를 저장하는 자료형\n",
    "# 행렬은 데이터 형태가 모두 일치 되어야 구성\n",
    "\n",
    "# Vector로 행렬 만들기\n",
    "vec1 <- c(1,2,3)\n",
    "vec2 <- c(4,5,6)\n",
    "vec3 <- c(7,8,9)\n",
    "\n"
   ]
  },
  {
   "cell_type": "code",
   "execution_count": 33,
   "metadata": {
    "vscode": {
     "languageId": "r"
    }
   },
   "outputs": [
    {
     "data": {
      "text/html": [
       "<table>\n",
       "<tbody>\n",
       "\t<tr><th scope=row>vec1</th><td>1</td><td>2</td><td>3</td></tr>\n",
       "\t<tr><th scope=row>vec2</th><td>4</td><td>5</td><td>6</td></tr>\n",
       "\t<tr><th scope=row>vec3</th><td>7</td><td>8</td><td>9</td></tr>\n",
       "</tbody>\n",
       "</table>\n"
      ],
      "text/latex": [
       "\\begin{tabular}{r|lll}\n",
       "\tvec1 & 1 & 2 & 3\\\\\n",
       "\tvec2 & 4 & 5 & 6\\\\\n",
       "\tvec3 & 7 & 8 & 9\\\\\n",
       "\\end{tabular}\n"
      ],
      "text/markdown": [
       "\n",
       "| vec1 | 1 | 2 | 3 |\n",
       "| vec2 | 4 | 5 | 6 |\n",
       "| vec3 | 7 | 8 | 9 |\n",
       "\n"
      ],
      "text/plain": [
       "     [,1] [,2] [,3]\n",
       "vec1 1    2    3   \n",
       "vec2 4    5    6   \n",
       "vec3 7    8    9   "
      ]
     },
     "metadata": {},
     "output_type": "display_data"
    }
   ],
   "source": [
    "# 행으로 붙이기 : rbind(row binding) => 새로운 데이터 추가\n",
    "rbind(vec1,vec2,vec3)\n",
    "mat1 <- rbind(vec1,vec2,vec3)"
   ]
  },
  {
   "cell_type": "code",
   "execution_count": 34,
   "metadata": {
    "vscode": {
     "languageId": "r"
    }
   },
   "outputs": [
    {
     "data": {
      "text/html": [
       "<table>\n",
       "<thead><tr><th scope=col>vec1</th><th scope=col>vec2</th><th scope=col>vec3</th></tr></thead>\n",
       "<tbody>\n",
       "\t<tr><td>1</td><td>4</td><td>7</td></tr>\n",
       "\t<tr><td>2</td><td>5</td><td>8</td></tr>\n",
       "\t<tr><td>3</td><td>6</td><td>9</td></tr>\n",
       "</tbody>\n",
       "</table>\n"
      ],
      "text/latex": [
       "\\begin{tabular}{lll}\n",
       " vec1 & vec2 & vec3\\\\\n",
       "\\hline\n",
       "\t 1 & 4 & 7\\\\\n",
       "\t 2 & 5 & 8\\\\\n",
       "\t 3 & 6 & 9\\\\\n",
       "\\end{tabular}\n"
      ],
      "text/markdown": [
       "\n",
       "| vec1 | vec2 | vec3 |\n",
       "|---|---|---|\n",
       "| 1 | 4 | 7 |\n",
       "| 2 | 5 | 8 |\n",
       "| 3 | 6 | 9 |\n",
       "\n"
      ],
      "text/plain": [
       "     vec1 vec2 vec3\n",
       "[1,] 1    4    7   \n",
       "[2,] 2    5    8   \n",
       "[3,] 3    6    9   "
      ]
     },
     "metadata": {},
     "output_type": "display_data"
    }
   ],
   "source": [
    "# 열로 붙이기 : cbind(column binding) => 새로운 열 추가\n",
    "cbind(vec1,vec2,vec3)\n",
    "mat2 <- cbind(vec1,vec2,vec3)"
   ]
  },
  {
   "cell_type": "code",
   "execution_count": 35,
   "metadata": {
    "vscode": {
     "languageId": "r"
    }
   },
   "outputs": [
    {
     "data": {
      "text/html": [
       "<table>\n",
       "<thead><tr><th scope=col>Sepal.Length</th><th scope=col>Sepal.Width</th><th scope=col>Petal.Length</th><th scope=col>Petal.Width</th><th scope=col>Species</th></tr></thead>\n",
       "<tbody>\n",
       "\t<tr><td>5.1   </td><td>3.5   </td><td>1.4   </td><td>0.2   </td><td>setosa</td></tr>\n",
       "\t<tr><td>4.9   </td><td>3.0   </td><td>1.4   </td><td>0.2   </td><td>setosa</td></tr>\n",
       "\t<tr><td>4.7   </td><td>3.2   </td><td>1.3   </td><td>0.2   </td><td>setosa</td></tr>\n",
       "\t<tr><td>4.6   </td><td>3.1   </td><td>1.5   </td><td>0.2   </td><td>setosa</td></tr>\n",
       "\t<tr><td>5.0   </td><td>3.6   </td><td>1.4   </td><td>0.2   </td><td>setosa</td></tr>\n",
       "</tbody>\n",
       "</table>\n"
      ],
      "text/latex": [
       "\\begin{tabular}{r|lllll}\n",
       " Sepal.Length & Sepal.Width & Petal.Length & Petal.Width & Species\\\\\n",
       "\\hline\n",
       "\t 5.1    & 3.5    & 1.4    & 0.2    & setosa\\\\\n",
       "\t 4.9    & 3.0    & 1.4    & 0.2    & setosa\\\\\n",
       "\t 4.7    & 3.2    & 1.3    & 0.2    & setosa\\\\\n",
       "\t 4.6    & 3.1    & 1.5    & 0.2    & setosa\\\\\n",
       "\t 5.0    & 3.6    & 1.4    & 0.2    & setosa\\\\\n",
       "\\end{tabular}\n"
      ],
      "text/markdown": [
       "\n",
       "| Sepal.Length | Sepal.Width | Petal.Length | Petal.Width | Species |\n",
       "|---|---|---|---|---|\n",
       "| 5.1    | 3.5    | 1.4    | 0.2    | setosa |\n",
       "| 4.9    | 3.0    | 1.4    | 0.2    | setosa |\n",
       "| 4.7    | 3.2    | 1.3    | 0.2    | setosa |\n",
       "| 4.6    | 3.1    | 1.5    | 0.2    | setosa |\n",
       "| 5.0    | 3.6    | 1.4    | 0.2    | setosa |\n",
       "\n"
      ],
      "text/plain": [
       "  Sepal.Length Sepal.Width Petal.Length Petal.Width Species\n",
       "1 5.1          3.5         1.4          0.2         setosa \n",
       "2 4.9          3.0         1.4          0.2         setosa \n",
       "3 4.7          3.2         1.3          0.2         setosa \n",
       "4 4.6          3.1         1.5          0.2         setosa \n",
       "5 5.0          3.6         1.4          0.2         setosa "
      ]
     },
     "metadata": {},
     "output_type": "display_data"
    }
   ],
   "source": [
    "# iris의 1~5번 데이터만 추출하여 irisHead라는 변수에 넣기\n",
    "\n",
    "irisHead <- head(iris,5)\n",
    "irisHead\n"
   ]
  },
  {
   "cell_type": "code",
   "execution_count": 36,
   "metadata": {
    "vscode": {
     "languageId": "r"
    }
   },
   "outputs": [],
   "source": [
    "# irisHead에 새로운 데이터 1,1,1,1,setosa 추가하기\n",
    "\n",
    "irisHead <- rbind(irisHead,c(1,1,1,1,'setosa'))"
   ]
  },
  {
   "cell_type": "code",
   "execution_count": 37,
   "metadata": {
    "vscode": {
     "languageId": "r"
    }
   },
   "outputs": [],
   "source": [
    "# irisHead에 abc라는 컬럼과 2,2,2,2,2,2의 데이터 추가하기\n",
    "\n",
    "irisHead <- cbind(irisHead, abc=rep(2,6))"
   ]
  },
  {
   "cell_type": "code",
   "execution_count": 38,
   "metadata": {
    "vscode": {
     "languageId": "r"
    }
   },
   "outputs": [
    {
     "data": {
      "text/html": [
       "<table>\n",
       "<thead><tr><th scope=col>Sepal.Length</th><th scope=col>Sepal.Width</th><th scope=col>Petal.Length</th><th scope=col>Petal.Width</th><th scope=col>Species</th><th scope=col>abc</th></tr></thead>\n",
       "<tbody>\n",
       "\t<tr><td>5.1   </td><td>3.5   </td><td>1.4   </td><td>0.2   </td><td>setosa</td><td>2     </td></tr>\n",
       "\t<tr><td>4.9   </td><td>3     </td><td>1.4   </td><td>0.2   </td><td>setosa</td><td>2     </td></tr>\n",
       "\t<tr><td>4.7   </td><td>3.2   </td><td>1.3   </td><td>0.2   </td><td>setosa</td><td>2     </td></tr>\n",
       "\t<tr><td>4.6   </td><td>3.1   </td><td>1.5   </td><td>0.2   </td><td>setosa</td><td>2     </td></tr>\n",
       "\t<tr><td>5     </td><td>3.6   </td><td>1.4   </td><td>0.2   </td><td>setosa</td><td>2     </td></tr>\n",
       "\t<tr><td>1     </td><td>1     </td><td>1     </td><td>1     </td><td>setosa</td><td>2     </td></tr>\n",
       "</tbody>\n",
       "</table>\n"
      ],
      "text/latex": [
       "\\begin{tabular}{r|llllll}\n",
       " Sepal.Length & Sepal.Width & Petal.Length & Petal.Width & Species & abc\\\\\n",
       "\\hline\n",
       "\t 5.1    & 3.5    & 1.4    & 0.2    & setosa & 2     \\\\\n",
       "\t 4.9    & 3      & 1.4    & 0.2    & setosa & 2     \\\\\n",
       "\t 4.7    & 3.2    & 1.3    & 0.2    & setosa & 2     \\\\\n",
       "\t 4.6    & 3.1    & 1.5    & 0.2    & setosa & 2     \\\\\n",
       "\t 5      & 3.6    & 1.4    & 0.2    & setosa & 2     \\\\\n",
       "\t 1      & 1      & 1      & 1      & setosa & 2     \\\\\n",
       "\\end{tabular}\n"
      ],
      "text/markdown": [
       "\n",
       "| Sepal.Length | Sepal.Width | Petal.Length | Petal.Width | Species | abc |\n",
       "|---|---|---|---|---|---|\n",
       "| 5.1    | 3.5    | 1.4    | 0.2    | setosa | 2      |\n",
       "| 4.9    | 3      | 1.4    | 0.2    | setosa | 2      |\n",
       "| 4.7    | 3.2    | 1.3    | 0.2    | setosa | 2      |\n",
       "| 4.6    | 3.1    | 1.5    | 0.2    | setosa | 2      |\n",
       "| 5      | 3.6    | 1.4    | 0.2    | setosa | 2      |\n",
       "| 1      | 1      | 1      | 1      | setosa | 2      |\n",
       "\n"
      ],
      "text/plain": [
       "  Sepal.Length Sepal.Width Petal.Length Petal.Width Species abc\n",
       "1 5.1          3.5         1.4          0.2         setosa  2  \n",
       "2 4.9          3           1.4          0.2         setosa  2  \n",
       "3 4.7          3.2         1.3          0.2         setosa  2  \n",
       "4 4.6          3.1         1.5          0.2         setosa  2  \n",
       "5 5            3.6         1.4          0.2         setosa  2  \n",
       "6 1            1           1            1           setosa  2  "
      ]
     },
     "metadata": {},
     "output_type": "display_data"
    }
   ],
   "source": [
    "irisHead"
   ]
  },
  {
   "cell_type": "code",
   "execution_count": 39,
   "metadata": {
    "vscode": {
     "languageId": "r"
    }
   },
   "outputs": [
    {
     "data": {
      "text/html": [
       "<table>\n",
       "<thead><tr><th scope=col>Sepal.Length</th><th scope=col>Sepal.Width</th><th scope=col>Petal.Length</th><th scope=col>Petal.Width</th><th scope=col>Species</th></tr></thead>\n",
       "<tbody>\n",
       "\t<tr><td>5.1   </td><td>3.5   </td><td>1.4   </td><td>0.2   </td><td>setosa</td></tr>\n",
       "\t<tr><td>4.9   </td><td>3.0   </td><td>1.4   </td><td>0.2   </td><td>setosa</td></tr>\n",
       "\t<tr><td>4.7   </td><td>3.2   </td><td>1.3   </td><td>0.2   </td><td>setosa</td></tr>\n",
       "\t<tr><td>4.6   </td><td>3.1   </td><td>1.5   </td><td>0.2   </td><td>setosa</td></tr>\n",
       "\t<tr><td>5.0   </td><td>3.6   </td><td>1.4   </td><td>0.2   </td><td>setosa</td></tr>\n",
       "</tbody>\n",
       "</table>\n"
      ],
      "text/latex": [
       "\\begin{tabular}{r|lllll}\n",
       " Sepal.Length & Sepal.Width & Petal.Length & Petal.Width & Species\\\\\n",
       "\\hline\n",
       "\t 5.1    & 3.5    & 1.4    & 0.2    & setosa\\\\\n",
       "\t 4.9    & 3.0    & 1.4    & 0.2    & setosa\\\\\n",
       "\t 4.7    & 3.2    & 1.3    & 0.2    & setosa\\\\\n",
       "\t 4.6    & 3.1    & 1.5    & 0.2    & setosa\\\\\n",
       "\t 5.0    & 3.6    & 1.4    & 0.2    & setosa\\\\\n",
       "\\end{tabular}\n"
      ],
      "text/markdown": [
       "\n",
       "| Sepal.Length | Sepal.Width | Petal.Length | Petal.Width | Species |\n",
       "|---|---|---|---|---|\n",
       "| 5.1    | 3.5    | 1.4    | 0.2    | setosa |\n",
       "| 4.9    | 3.0    | 1.4    | 0.2    | setosa |\n",
       "| 4.7    | 3.2    | 1.3    | 0.2    | setosa |\n",
       "| 4.6    | 3.1    | 1.5    | 0.2    | setosa |\n",
       "| 5.0    | 3.6    | 1.4    | 0.2    | setosa |\n",
       "\n"
      ],
      "text/plain": [
       "  Sepal.Length Sepal.Width Petal.Length Petal.Width Species\n",
       "1 5.1          3.5         1.4          0.2         setosa \n",
       "2 4.9          3.0         1.4          0.2         setosa \n",
       "3 4.7          3.2         1.3          0.2         setosa \n",
       "4 4.6          3.1         1.5          0.2         setosa \n",
       "5 5.0          3.6         1.4          0.2         setosa "
      ]
     },
     "metadata": {},
     "output_type": "display_data"
    }
   ],
   "source": [
    "# iris의 1~5번 데이터만 추출하며 irisHead라는 데이터셋 만들기\n",
    "\n",
    "irisHead = iris[1:5,]\n",
    "irisHead"
   ]
  },
  {
   "cell_type": "code",
   "execution_count": 40,
   "metadata": {
    "vscode": {
     "languageId": "r"
    }
   },
   "outputs": [],
   "source": [
    "# irisHead에 Length(.Length의 합)라는 컬럼 추가하기\n",
    "# irisHead <- cbind(irisHead,Length=c(irisHead$Sepal.Length + irisHead$Petal.Length))\n",
    "irisHead$Length <- irisHead$Sepal.Length + irisHead$Petal.Length"
   ]
  },
  {
   "cell_type": "code",
   "execution_count": 41,
   "metadata": {
    "vscode": {
     "languageId": "r"
    }
   },
   "outputs": [],
   "source": [
    "# Matrix와 Dataframe의 차이점\n",
    "# Dataframe은 데이터의 타입에 상관없이 추가할 수 있음 \n",
    "# cbind로 할 경우 실행횟수만큼 열 추가되어 중복데이터 발생 -> 따로 열 이름을 정해주고 하는 게 나음"
   ]
  },
  {
   "cell_type": "code",
   "execution_count": 42,
   "metadata": {
    "vscode": {
     "languageId": "r"
    }
   },
   "outputs": [
    {
     "data": {
      "text/html": [
       "<table>\n",
       "<thead><tr><th scope=col>Sepal.Length</th><th scope=col>Sepal.Width</th><th scope=col>Petal.Length</th><th scope=col>Petal.Width</th><th scope=col>Species</th><th scope=col>Length</th></tr></thead>\n",
       "<tbody>\n",
       "\t<tr><td>5.1   </td><td>3.5   </td><td>1.4   </td><td>0.2   </td><td>setosa</td><td>6.5   </td></tr>\n",
       "\t<tr><td>4.9   </td><td>3.0   </td><td>1.4   </td><td>0.2   </td><td>setosa</td><td>6.3   </td></tr>\n",
       "\t<tr><td>4.7   </td><td>3.2   </td><td>1.3   </td><td>0.2   </td><td>setosa</td><td>6.0   </td></tr>\n",
       "\t<tr><td>4.6   </td><td>3.1   </td><td>1.5   </td><td>0.2   </td><td>setosa</td><td>6.1   </td></tr>\n",
       "\t<tr><td>5.0   </td><td>3.6   </td><td>1.4   </td><td>0.2   </td><td>setosa</td><td>6.4   </td></tr>\n",
       "</tbody>\n",
       "</table>\n"
      ],
      "text/latex": [
       "\\begin{tabular}{r|llllll}\n",
       " Sepal.Length & Sepal.Width & Petal.Length & Petal.Width & Species & Length\\\\\n",
       "\\hline\n",
       "\t 5.1    & 3.5    & 1.4    & 0.2    & setosa & 6.5   \\\\\n",
       "\t 4.9    & 3.0    & 1.4    & 0.2    & setosa & 6.3   \\\\\n",
       "\t 4.7    & 3.2    & 1.3    & 0.2    & setosa & 6.0   \\\\\n",
       "\t 4.6    & 3.1    & 1.5    & 0.2    & setosa & 6.1   \\\\\n",
       "\t 5.0    & 3.6    & 1.4    & 0.2    & setosa & 6.4   \\\\\n",
       "\\end{tabular}\n"
      ],
      "text/markdown": [
       "\n",
       "| Sepal.Length | Sepal.Width | Petal.Length | Petal.Width | Species | Length |\n",
       "|---|---|---|---|---|---|\n",
       "| 5.1    | 3.5    | 1.4    | 0.2    | setosa | 6.5    |\n",
       "| 4.9    | 3.0    | 1.4    | 0.2    | setosa | 6.3    |\n",
       "| 4.7    | 3.2    | 1.3    | 0.2    | setosa | 6.0    |\n",
       "| 4.6    | 3.1    | 1.5    | 0.2    | setosa | 6.1    |\n",
       "| 5.0    | 3.6    | 1.4    | 0.2    | setosa | 6.4    |\n",
       "\n"
      ],
      "text/plain": [
       "  Sepal.Length Sepal.Width Petal.Length Petal.Width Species Length\n",
       "1 5.1          3.5         1.4          0.2         setosa  6.5   \n",
       "2 4.9          3.0         1.4          0.2         setosa  6.3   \n",
       "3 4.7          3.2         1.3          0.2         setosa  6.0   \n",
       "4 4.6          3.1         1.5          0.2         setosa  6.1   \n",
       "5 5.0          3.6         1.4          0.2         setosa  6.4   "
      ]
     },
     "metadata": {},
     "output_type": "display_data"
    }
   ],
   "source": [
    "irisHead"
   ]
  },
  {
   "cell_type": "code",
   "execution_count": 43,
   "metadata": {
    "vscode": {
     "languageId": "r"
    }
   },
   "outputs": [
    {
     "data": {
      "text/html": [
       "<table>\n",
       "<thead><tr><th scope=col>sl</th><th scope=col>sw</th></tr></thead>\n",
       "<tbody>\n",
       "\t<tr><td>5.1</td><td>3.5</td></tr>\n",
       "\t<tr><td>4.9</td><td>3.0</td></tr>\n",
       "\t<tr><td>4.7</td><td>3.2</td></tr>\n",
       "\t<tr><td>4.6</td><td>3.1</td></tr>\n",
       "\t<tr><td>5.0</td><td>3.6</td></tr>\n",
       "\t<tr><td>5.4</td><td>3.9</td></tr>\n",
       "</tbody>\n",
       "</table>\n"
      ],
      "text/latex": [
       "\\begin{tabular}{ll}\n",
       " sl & sw\\\\\n",
       "\\hline\n",
       "\t 5.1 & 3.5\\\\\n",
       "\t 4.9 & 3.0\\\\\n",
       "\t 4.7 & 3.2\\\\\n",
       "\t 4.6 & 3.1\\\\\n",
       "\t 5.0 & 3.6\\\\\n",
       "\t 5.4 & 3.9\\\\\n",
       "\\end{tabular}\n"
      ],
      "text/markdown": [
       "\n",
       "| sl | sw |\n",
       "|---|---|\n",
       "| 5.1 | 3.5 |\n",
       "| 4.9 | 3.0 |\n",
       "| 4.7 | 3.2 |\n",
       "| 4.6 | 3.1 |\n",
       "| 5.0 | 3.6 |\n",
       "| 5.4 | 3.9 |\n",
       "\n"
      ],
      "text/plain": [
       "     sl  sw \n",
       "[1,] 5.1 3.5\n",
       "[2,] 4.9 3.0\n",
       "[3,] 4.7 3.2\n",
       "[4,] 4.6 3.1\n",
       "[5,] 5.0 3.6\n",
       "[6,] 5.4 3.9"
      ]
     },
     "metadata": {},
     "output_type": "display_data"
    }
   ],
   "source": [
    "# iris에서 Sepal.Length와 Sepal.Width만 추출하여 irisM이라는 데이터프레임 만들기\n",
    "sl <- iris$Sepal.Length\n",
    "sw <- iris$Sepal.Width\n",
    "\n",
    "irisM <-cbind(sl,sw)\n",
    "head(irisM)"
   ]
  },
  {
   "cell_type": "code",
   "execution_count": 44,
   "metadata": {
    "vscode": {
     "languageId": "r"
    }
   },
   "outputs": [
    {
     "data": {
      "text/html": [
       "'matrix'"
      ],
      "text/latex": [
       "'matrix'"
      ],
      "text/markdown": [
       "'matrix'"
      ],
      "text/plain": [
       "[1] \"matrix\""
      ]
     },
     "metadata": {},
     "output_type": "display_data"
    },
    {
     "data": {
      "text/html": [
       "'data.frame'"
      ],
      "text/latex": [
       "'data.frame'"
      ],
      "text/markdown": [
       "'data.frame'"
      ],
      "text/plain": [
       "[1] \"data.frame\""
      ]
     },
     "metadata": {},
     "output_type": "display_data"
    }
   ],
   "source": [
    "class(irisM)\n",
    "irisM <- as.data.frame(irisM)\n",
    "class(irisM)"
   ]
  },
  {
   "cell_type": "code",
   "execution_count": 45,
   "metadata": {
    "vscode": {
     "languageId": "r"
    }
   },
   "outputs": [
    {
     "data": {
      "text/html": [
       "<table>\n",
       "<tbody>\n",
       "\t<tr><th scope=row>vec1</th><td>1</td><td>2</td><td>3</td></tr>\n",
       "\t<tr><th scope=row>vec2</th><td>4</td><td>5</td><td>6</td></tr>\n",
       "\t<tr><th scope=row>vec3</th><td>7</td><td>8</td><td>9</td></tr>\n",
       "</tbody>\n",
       "</table>\n"
      ],
      "text/latex": [
       "\\begin{tabular}{r|lll}\n",
       "\tvec1 & 1 & 2 & 3\\\\\n",
       "\tvec2 & 4 & 5 & 6\\\\\n",
       "\tvec3 & 7 & 8 & 9\\\\\n",
       "\\end{tabular}\n"
      ],
      "text/markdown": [
       "\n",
       "| vec1 | 1 | 2 | 3 |\n",
       "| vec2 | 4 | 5 | 6 |\n",
       "| vec3 | 7 | 8 | 9 |\n",
       "\n"
      ],
      "text/plain": [
       "     [,1] [,2] [,3]\n",
       "vec1 1    2    3   \n",
       "vec2 4    5    6   \n",
       "vec3 7    8    9   "
      ]
     },
     "metadata": {},
     "output_type": "display_data"
    },
    {
     "data": {
      "text/html": [
       "<table>\n",
       "<thead><tr><th></th><th scope=col>A</th><th scope=col>B</th><th scope=col>C</th></tr></thead>\n",
       "<tbody>\n",
       "\t<tr><th scope=row>vec1</th><td>1</td><td>2</td><td>3</td></tr>\n",
       "\t<tr><th scope=row>vec2</th><td>4</td><td>5</td><td>6</td></tr>\n",
       "\t<tr><th scope=row>vec3</th><td>7</td><td>8</td><td>9</td></tr>\n",
       "</tbody>\n",
       "</table>\n"
      ],
      "text/latex": [
       "\\begin{tabular}{r|lll}\n",
       "  & A & B & C\\\\\n",
       "\\hline\n",
       "\tvec1 & 1 & 2 & 3\\\\\n",
       "\tvec2 & 4 & 5 & 6\\\\\n",
       "\tvec3 & 7 & 8 & 9\\\\\n",
       "\\end{tabular}\n"
      ],
      "text/markdown": [
       "\n",
       "| <!--/--> | A | B | C |\n",
       "|---|---|---|---|\n",
       "| vec1 | 1 | 2 | 3 |\n",
       "| vec2 | 4 | 5 | 6 |\n",
       "| vec3 | 7 | 8 | 9 |\n",
       "\n"
      ],
      "text/plain": [
       "     A B C\n",
       "vec1 1 2 3\n",
       "vec2 4 5 6\n",
       "vec3 7 8 9"
      ]
     },
     "metadata": {},
     "output_type": "display_data"
    }
   ],
   "source": [
    "# mat1의 컬럼 이름 추가\n",
    "\n",
    "mat1\n",
    "colnames(mat1) <- c(\"A\",\"B\",\"C\")\n",
    "mat1"
   ]
  },
  {
   "cell_type": "code",
   "execution_count": 46,
   "metadata": {
    "vscode": {
     "languageId": "r"
    }
   },
   "outputs": [
    {
     "data": {
      "text/html": [
       "'data.frame'"
      ],
      "text/latex": [
       "'data.frame'"
      ],
      "text/markdown": [
       "'data.frame'"
      ],
      "text/plain": [
       "[1] \"data.frame\""
      ]
     },
     "metadata": {},
     "output_type": "display_data"
    }
   ],
   "source": [
    "mat1D <- as.data.frame(mat1)\n",
    "class(mat1D) # vector로 cbind, rbind하면 모두 matrix => dataframe으로 나오게 하려면 포맷을 해야함"
   ]
  },
  {
   "cell_type": "code",
   "execution_count": 47,
   "metadata": {
    "vscode": {
     "languageId": "r"
    }
   },
   "outputs": [
    {
     "data": {
      "text/html": [
       "<table>\n",
       "<thead><tr><th scope=col>vec1</th><th scope=col>vec2</th><th scope=col>vec3</th></tr></thead>\n",
       "<tbody>\n",
       "\t<tr><td>1</td><td>4</td><td>7</td></tr>\n",
       "\t<tr><td>2</td><td>5</td><td>8</td></tr>\n",
       "\t<tr><td>3</td><td>6</td><td>9</td></tr>\n",
       "</tbody>\n",
       "</table>\n"
      ],
      "text/latex": [
       "\\begin{tabular}{lll}\n",
       " vec1 & vec2 & vec3\\\\\n",
       "\\hline\n",
       "\t 1 & 4 & 7\\\\\n",
       "\t 2 & 5 & 8\\\\\n",
       "\t 3 & 6 & 9\\\\\n",
       "\\end{tabular}\n"
      ],
      "text/markdown": [
       "\n",
       "| vec1 | vec2 | vec3 |\n",
       "|---|---|---|\n",
       "| 1 | 4 | 7 |\n",
       "| 2 | 5 | 8 |\n",
       "| 3 | 6 | 9 |\n",
       "\n"
      ],
      "text/plain": [
       "     vec1 vec2 vec3\n",
       "[1,] 1    4    7   \n",
       "[2,] 2    5    8   \n",
       "[3,] 3    6    9   "
      ]
     },
     "metadata": {},
     "output_type": "display_data"
    },
    {
     "name": "stdout",
     "output_type": "stream",
     "text": [
      "  vec1 vec2 vec3\n",
      "1    1    4    7\n",
      "2    2    5    8\n",
      "3    3    6    9\n"
     ]
    },
    {
     "data": {
      "text/html": [
       "'data.frame'"
      ],
      "text/latex": [
       "'data.frame'"
      ],
      "text/markdown": [
       "'data.frame'"
      ],
      "text/plain": [
       "[1] \"data.frame\""
      ]
     },
     "metadata": {},
     "output_type": "display_data"
    }
   ],
   "source": [
    "# mat2에 로우이름 추가\n",
    "\n",
    "mat2\n",
    "rownames(mat2) <- 1:3\n",
    "print(mat2)\n",
    "mat2D <- as.data.frame(mat2)\n",
    "class(mat2D)"
   ]
  },
  {
   "cell_type": "code",
   "execution_count": 48,
   "metadata": {
    "vscode": {
     "languageId": "r"
    }
   },
   "outputs": [
    {
     "name": "stdout",
     "output_type": "stream",
     "text": [
      "     A B C\n",
      "vec1 1 2 3\n",
      "vec2 4 5 6\n",
      "vec3 7 8 9\n",
      "  vec1 vec2 vec3\n",
      "1    1    4    7\n",
      "2    2    5    8\n",
      "3    3    6    9\n"
     ]
    },
    {
     "data": {
      "text/html": [
       "<table>\n",
       "<thead><tr><th></th><th scope=col>A</th><th scope=col>B</th><th scope=col>C</th></tr></thead>\n",
       "<tbody>\n",
       "\t<tr><th scope=row>vec1</th><td>1</td><td>2</td><td>3</td></tr>\n",
       "\t<tr><th scope=row>vec2</th><td>4</td><td>5</td><td>6</td></tr>\n",
       "\t<tr><th scope=row>vec3</th><td>7</td><td>8</td><td>9</td></tr>\n",
       "\t<tr><th scope=row>1</th><td>1</td><td>4</td><td>7</td></tr>\n",
       "\t<tr><th scope=row>2</th><td>2</td><td>5</td><td>8</td></tr>\n",
       "\t<tr><th scope=row>3</th><td>3</td><td>6</td><td>9</td></tr>\n",
       "</tbody>\n",
       "</table>\n"
      ],
      "text/latex": [
       "\\begin{tabular}{r|lll}\n",
       "  & A & B & C\\\\\n",
       "\\hline\n",
       "\tvec1 & 1 & 2 & 3\\\\\n",
       "\tvec2 & 4 & 5 & 6\\\\\n",
       "\tvec3 & 7 & 8 & 9\\\\\n",
       "\t1 & 1 & 4 & 7\\\\\n",
       "\t2 & 2 & 5 & 8\\\\\n",
       "\t3 & 3 & 6 & 9\\\\\n",
       "\\end{tabular}\n"
      ],
      "text/markdown": [
       "\n",
       "| <!--/--> | A | B | C |\n",
       "|---|---|---|---|\n",
       "| vec1 | 1 | 2 | 3 |\n",
       "| vec2 | 4 | 5 | 6 |\n",
       "| vec3 | 7 | 8 | 9 |\n",
       "| 1 | 1 | 4 | 7 |\n",
       "| 2 | 2 | 5 | 8 |\n",
       "| 3 | 3 | 6 | 9 |\n",
       "\n"
      ],
      "text/plain": [
       "     A B C\n",
       "vec1 1 2 3\n",
       "vec2 4 5 6\n",
       "vec3 7 8 9\n",
       "1    1 4 7\n",
       "2    2 5 8\n",
       "3    3 6 9"
      ]
     },
     "metadata": {},
     "output_type": "display_data"
    }
   ],
   "source": [
    "# mat1D와 mat2D를 하나의 DataSet으로 만들기\n",
    "print(mat1D)\n",
    "print(mat2D)\n",
    "colnames(mat2D) <- colnames(mat1D)\n",
    "rbind(mat1D,mat2D)"
   ]
  },
  {
   "cell_type": "markdown",
   "metadata": {},
   "source": [
    "---\n",
    "# DataFrame\n",
    "- 다양한 자료형으로 구성된 2차원 형태의 데이터 구조"
   ]
  },
  {
   "cell_type": "code",
   "execution_count": 49,
   "metadata": {
    "vscode": {
     "languageId": "r"
    }
   },
   "outputs": [],
   "source": [
    "# 벡터로 데이터 프레임 만들기\n",
    "\n",
    "no <- 1:4\n",
    "name <- c('Apple','Banana','Peach','Berry')\n",
    "price <- c(500,400,300,200)\n",
    "qty <- c(5,2,7,9)"
   ]
  },
  {
   "cell_type": "code",
   "execution_count": 50,
   "metadata": {
    "vscode": {
     "languageId": "r"
    }
   },
   "outputs": [
    {
     "data": {
      "text/html": [
       "<table>\n",
       "<thead><tr><th scope=col>번호</th><th scope=col>상품명</th><th scope=col>금액</th><th scope=col>재고량</th></tr></thead>\n",
       "<tbody>\n",
       "\t<tr><td>1     </td><td>Apple </td><td>500   </td><td>5     </td></tr>\n",
       "\t<tr><td>2     </td><td>Banana</td><td>400   </td><td>2     </td></tr>\n",
       "\t<tr><td>3     </td><td>Peach </td><td>300   </td><td>7     </td></tr>\n",
       "\t<tr><td>4     </td><td>Berry </td><td>200   </td><td>9     </td></tr>\n",
       "</tbody>\n",
       "</table>\n"
      ],
      "text/latex": [
       "\\begin{tabular}{r|llll}\n",
       " 번호 & 상품명 & 금액 & 재고량\\\\\n",
       "\\hline\n",
       "\t 1      & Apple  & 500    & 5     \\\\\n",
       "\t 2      & Banana & 400    & 2     \\\\\n",
       "\t 3      & Peach  & 300    & 7     \\\\\n",
       "\t 4      & Berry  & 200    & 9     \\\\\n",
       "\\end{tabular}\n"
      ],
      "text/markdown": [
       "\n",
       "| 번호 | 상품명 | 금액 | 재고량 |\n",
       "|---|---|---|---|\n",
       "| 1      | Apple  | 500    | 5      |\n",
       "| 2      | Banana | 400    | 2      |\n",
       "| 3      | Peach  | 300    | 7      |\n",
       "| 4      | Berry  | 200    | 9      |\n",
       "\n"
      ],
      "text/plain": [
       "  번호 상품명 금액 재고량\n",
       "1 1    Apple  500  5     \n",
       "2 2    Banana 400  2     \n",
       "3 3    Peach  300  7     \n",
       "4 4    Berry  200  9     "
      ]
     },
     "metadata": {},
     "output_type": "display_data"
    }
   ],
   "source": [
    "fruit <- data.frame(번호=no,상품명=name,금액=price,재고량=qty,stringsAsFactors=F)\n",
    "fruit"
   ]
  },
  {
   "cell_type": "code",
   "execution_count": 51,
   "metadata": {
    "vscode": {
     "languageId": "r"
    }
   },
   "outputs": [
    {
     "name": "stdout",
     "output_type": "stream",
     "text": [
      "'data.frame':\t4 obs. of  4 variables:\n",
      " $ 번호  : int  1 2 3 4\n",
      " $ 상품명: chr  \"Apple\" \"Banana\" \"Peach\" \"Berry\"\n",
      " $ 금액  : num  500 400 300 200\n",
      " $ 재고량: num  5 2 7 9\n"
     ]
    }
   ],
   "source": [
    "str(fruit) # 상품명을 굳이 factor로 사용하지 않는 경우, stringsAsFactors=F 추가하면 됨 \n",
    "           # 숫자나 글자 둘다 factor로 가능하지만 굳이 필요없는데 사용하면 메모리 차지만 많이 하게 됨. "
   ]
  },
  {
   "cell_type": "code",
   "execution_count": 52,
   "metadata": {
    "vscode": {
     "languageId": "r"
    }
   },
   "outputs": [
    {
     "data": {
      "text/plain": [
       "      번호         상품명               금액         재고량    \n",
       " Min.   :1.00   Length:4           Min.   :200   Min.   :2.00  \n",
       " 1st Qu.:1.75   Class :character   1st Qu.:275   1st Qu.:4.25  \n",
       " Median :2.50   Mode  :character   Median :350   Median :6.00  \n",
       " Mean   :2.50                      Mean   :350   Mean   :5.75  \n",
       " 3rd Qu.:3.25                      3rd Qu.:425   3rd Qu.:7.50  \n",
       " Max.   :4.00                      Max.   :500   Max.   :9.00  "
      ]
     },
     "metadata": {},
     "output_type": "display_data"
    }
   ],
   "source": [
    "summary(fruit)"
   ]
  },
  {
   "cell_type": "markdown",
   "metadata": {
    "vscode": {
     "languageId": "r"
    }
   },
   "source": [
    "---"
   ]
  },
  {
   "cell_type": "code",
   "execution_count": 55,
   "metadata": {
    "vscode": {
     "languageId": "r"
    }
   },
   "outputs": [],
   "source": [
    "x <- 1:5\n",
    "y <- seq(2,10,2)\n",
    "z <- c(\"a\",\"b\",\"c\",\"d\",\"e\")\n",
    "\n",
    "df <- data.frame(x,y,z)"
   ]
  },
  {
   "cell_type": "code",
   "execution_count": 57,
   "metadata": {
    "vscode": {
     "languageId": "r"
    }
   },
   "outputs": [
    {
     "data": {
      "text/html": [
       "<table>\n",
       "<thead><tr><th scope=col>x</th><th scope=col>y</th><th scope=col>z</th></tr></thead>\n",
       "<tbody>\n",
       "\t<tr><td>1 </td><td> 2</td><td>a </td></tr>\n",
       "\t<tr><td>2 </td><td> 4</td><td>b </td></tr>\n",
       "\t<tr><td>3 </td><td> 6</td><td>c </td></tr>\n",
       "\t<tr><td>4 </td><td> 8</td><td>d </td></tr>\n",
       "\t<tr><td>5 </td><td>10</td><td>e </td></tr>\n",
       "</tbody>\n",
       "</table>\n"
      ],
      "text/latex": [
       "\\begin{tabular}{r|lll}\n",
       " x & y & z\\\\\n",
       "\\hline\n",
       "\t 1  &  2 & a \\\\\n",
       "\t 2  &  4 & b \\\\\n",
       "\t 3  &  6 & c \\\\\n",
       "\t 4  &  8 & d \\\\\n",
       "\t 5  & 10 & e \\\\\n",
       "\\end{tabular}\n"
      ],
      "text/markdown": [
       "\n",
       "| x | y | z |\n",
       "|---|---|---|\n",
       "| 1  |  2 | a  |\n",
       "| 2  |  4 | b  |\n",
       "| 3  |  6 | c  |\n",
       "| 4  |  8 | d  |\n",
       "| 5  | 10 | e  |\n",
       "\n"
      ],
      "text/plain": [
       "  x y  z\n",
       "1 1  2 a\n",
       "2 2  4 b\n",
       "3 3  6 c\n",
       "4 4  8 d\n",
       "5 5 10 e"
      ]
     },
     "metadata": {},
     "output_type": "display_data"
    }
   ],
   "source": [
    "df"
   ]
  },
  {
   "cell_type": "code",
   "execution_count": 64,
   "metadata": {
    "vscode": {
     "languageId": "r"
    }
   },
   "outputs": [
    {
     "name": "stdout",
     "output_type": "stream",
     "text": [
      "x컬럼의 합계는 15 이고, y컬럼의 합계는 30 입니다"
     ]
    }
   ],
   "source": [
    "# 출력 : x컬럼의 합계는 15이고 y컬럼의 합계는 30입니다.\n",
    "\n",
    "cat(\"x컬럼의 합계는\",sum(df$x),\"이고,\",\"y컬럼의 합계는\",sum(df$y),\"입니다\")"
   ]
  },
  {
   "cell_type": "markdown",
   "metadata": {},
   "source": [
    "### 함수를 부르는 함수"
   ]
  },
  {
   "cell_type": "code",
   "execution_count": 70,
   "metadata": {
    "vscode": {
     "languageId": "r"
    }
   },
   "outputs": [
    {
     "data": {
      "text/html": [
       "<dl class=dl-horizontal>\n",
       "\t<dt>x</dt>\n",
       "\t\t<dd>15</dd>\n",
       "\t<dt>y</dt>\n",
       "\t\t<dd>30</dd>\n",
       "</dl>\n"
      ],
      "text/latex": [
       "\\begin{description*}\n",
       "\\item[x] 15\n",
       "\\item[y] 30\n",
       "\\end{description*}\n"
      ],
      "text/markdown": [
       "x\n",
       ":   15y\n",
       ":   30\n",
       "\n"
      ],
      "text/plain": [
       " x  y \n",
       "15 30 "
      ]
     },
     "metadata": {},
     "output_type": "display_data"
    },
    {
     "data": {
      "text/html": [
       "<dl class=dl-horizontal>\n",
       "\t<dt>x</dt>\n",
       "\t\t<dd>3</dd>\n",
       "\t<dt>y</dt>\n",
       "\t\t<dd>6</dd>\n",
       "</dl>\n"
      ],
      "text/latex": [
       "\\begin{description*}\n",
       "\\item[x] 3\n",
       "\\item[y] 6\n",
       "\\end{description*}\n"
      ],
      "text/markdown": [
       "x\n",
       ":   3y\n",
       ":   6\n",
       "\n"
      ],
      "text/plain": [
       "x y \n",
       "3 6 "
      ]
     },
     "metadata": {},
     "output_type": "display_data"
    },
    {
     "data": {
      "text/html": [
       "<dl class=dl-horizontal>\n",
       "\t<dt>x</dt>\n",
       "\t\t<dd>1.58113883008419</dd>\n",
       "\t<dt>y</dt>\n",
       "\t\t<dd>3.16227766016838</dd>\n",
       "</dl>\n"
      ],
      "text/latex": [
       "\\begin{description*}\n",
       "\\item[x] 1.58113883008419\n",
       "\\item[y] 3.16227766016838\n",
       "\\end{description*}\n"
      ],
      "text/markdown": [
       "x\n",
       ":   1.58113883008419y\n",
       ":   3.16227766016838\n",
       "\n"
      ],
      "text/plain": [
       "       x        y \n",
       "1.581139 3.162278 "
      ]
     },
     "metadata": {},
     "output_type": "display_data"
    }
   ],
   "source": [
    "# 예) x컬럼의 1과 y컬럼의 2를 더해 새로운 컬럼으로 생성하고 싶을 때 sum()에게 그 방향을 알려주는 것\n",
    "\n",
    "# 데이터 프레임에 함수 적용 (열방향) : apply(df[행범위,열범위],계산방향(1(행방향),2(열방향)),계산할함수)\n",
    "apply(df[,1:2],2,sum)\n",
    "apply(df[,1:2],2,mean)\n",
    "apply(df[,1:2],2,sd)\n"
   ]
  },
  {
   "cell_type": "code",
   "execution_count": 74,
   "metadata": {
    "vscode": {
     "languageId": "r"
    }
   },
   "outputs": [
    {
     "data": {
      "text/html": [
       "<ol class=list-inline>\n",
       "\t<li>3</li>\n",
       "\t<li>6</li>\n",
       "\t<li>9</li>\n",
       "\t<li>12</li>\n",
       "\t<li>15</li>\n",
       "</ol>\n"
      ],
      "text/latex": [
       "\\begin{enumerate*}\n",
       "\\item 3\n",
       "\\item 6\n",
       "\\item 9\n",
       "\\item 12\n",
       "\\item 15\n",
       "\\end{enumerate*}\n"
      ],
      "text/markdown": [
       "1. 3\n",
       "2. 6\n",
       "3. 9\n",
       "4. 12\n",
       "5. 15\n",
       "\n",
       "\n"
      ],
      "text/plain": [
       "[1]  3  6  9 12 15"
      ]
     },
     "metadata": {},
     "output_type": "display_data"
    },
    {
     "data": {
      "text/html": [
       "<ol class=list-inline>\n",
       "\t<li>1.5</li>\n",
       "\t<li>3</li>\n",
       "\t<li>4.5</li>\n",
       "\t<li>6</li>\n",
       "\t<li>7.5</li>\n",
       "</ol>\n"
      ],
      "text/latex": [
       "\\begin{enumerate*}\n",
       "\\item 1.5\n",
       "\\item 3\n",
       "\\item 4.5\n",
       "\\item 6\n",
       "\\item 7.5\n",
       "\\end{enumerate*}\n"
      ],
      "text/markdown": [
       "1. 1.5\n",
       "2. 3\n",
       "3. 4.5\n",
       "4. 6\n",
       "5. 7.5\n",
       "\n",
       "\n"
      ],
      "text/plain": [
       "[1] 1.5 3.0 4.5 6.0 7.5"
      ]
     },
     "metadata": {},
     "output_type": "display_data"
    },
    {
     "data": {
      "text/html": [
       "<ol class=list-inline>\n",
       "\t<li>0.707106781186548</li>\n",
       "\t<li>1.4142135623731</li>\n",
       "\t<li>2.12132034355964</li>\n",
       "\t<li>2.82842712474619</li>\n",
       "\t<li>3.53553390593274</li>\n",
       "</ol>\n"
      ],
      "text/latex": [
       "\\begin{enumerate*}\n",
       "\\item 0.707106781186548\n",
       "\\item 1.4142135623731\n",
       "\\item 2.12132034355964\n",
       "\\item 2.82842712474619\n",
       "\\item 3.53553390593274\n",
       "\\end{enumerate*}\n"
      ],
      "text/markdown": [
       "1. 0.707106781186548\n",
       "2. 1.4142135623731\n",
       "3. 2.12132034355964\n",
       "4. 2.82842712474619\n",
       "5. 3.53553390593274\n",
       "\n",
       "\n"
      ],
      "text/plain": [
       "[1] 0.7071068 1.4142136 2.1213203 2.8284271 3.5355339"
      ]
     },
     "metadata": {},
     "output_type": "display_data"
    }
   ],
   "source": [
    "# 데이터 프레임에 함수 적용(행방향) : apply(df[행범위,열범위],계산방향(1(행방향),2(열방향)),계산할함수)\n",
    "apply(df[,1:2],1,sum)\n",
    "apply(df[,1:2],1,mean)\n",
    "apply(df[,1:2],1,sd)"
   ]
  },
  {
   "cell_type": "code",
   "execution_count": 72,
   "metadata": {
    "vscode": {
     "languageId": "r"
    }
   },
   "outputs": [
    {
     "data": {
      "text/html": [
       "<table>\n",
       "<thead><tr><th scope=col>x</th><th scope=col>y</th><th scope=col>z</th></tr></thead>\n",
       "<tbody>\n",
       "\t<tr><td>1 </td><td> 2</td><td>a </td></tr>\n",
       "\t<tr><td>2 </td><td> 4</td><td>b </td></tr>\n",
       "\t<tr><td>3 </td><td> 6</td><td>c </td></tr>\n",
       "\t<tr><td>4 </td><td> 8</td><td>d </td></tr>\n",
       "\t<tr><td>5 </td><td>10</td><td>e </td></tr>\n",
       "</tbody>\n",
       "</table>\n"
      ],
      "text/latex": [
       "\\begin{tabular}{r|lll}\n",
       " x & y & z\\\\\n",
       "\\hline\n",
       "\t 1  &  2 & a \\\\\n",
       "\t 2  &  4 & b \\\\\n",
       "\t 3  &  6 & c \\\\\n",
       "\t 4  &  8 & d \\\\\n",
       "\t 5  & 10 & e \\\\\n",
       "\\end{tabular}\n"
      ],
      "text/markdown": [
       "\n",
       "| x | y | z |\n",
       "|---|---|---|\n",
       "| 1  |  2 | a  |\n",
       "| 2  |  4 | b  |\n",
       "| 3  |  6 | c  |\n",
       "| 4  |  8 | d  |\n",
       "| 5  | 10 | e  |\n",
       "\n"
      ],
      "text/plain": [
       "  x y  z\n",
       "1 1  2 a\n",
       "2 2  4 b\n",
       "3 3  6 c\n",
       "4 4  8 d\n",
       "5 5 10 e"
      ]
     },
     "metadata": {},
     "output_type": "display_data"
    }
   ],
   "source": [
    "df"
   ]
  },
  {
   "cell_type": "code",
   "execution_count": 75,
   "metadata": {
    "vscode": {
     "languageId": "r"
    }
   },
   "outputs": [
    {
     "data": {
      "text/html": [
       "<table>\n",
       "<thead><tr><th scope=col>x</th><th scope=col>y</th><th scope=col>z</th><th scope=col>Hap</th></tr></thead>\n",
       "<tbody>\n",
       "\t<tr><td>1 </td><td> 2</td><td>a </td><td> 3</td></tr>\n",
       "\t<tr><td>2 </td><td> 4</td><td>b </td><td> 6</td></tr>\n",
       "\t<tr><td>3 </td><td> 6</td><td>c </td><td> 9</td></tr>\n",
       "\t<tr><td>4 </td><td> 8</td><td>d </td><td>12</td></tr>\n",
       "\t<tr><td>5 </td><td>10</td><td>e </td><td>15</td></tr>\n",
       "</tbody>\n",
       "</table>\n"
      ],
      "text/latex": [
       "\\begin{tabular}{r|llll}\n",
       " x & y & z & Hap\\\\\n",
       "\\hline\n",
       "\t 1  &  2 & a  &  3\\\\\n",
       "\t 2  &  4 & b  &  6\\\\\n",
       "\t 3  &  6 & c  &  9\\\\\n",
       "\t 4  &  8 & d  & 12\\\\\n",
       "\t 5  & 10 & e  & 15\\\\\n",
       "\\end{tabular}\n"
      ],
      "text/markdown": [
       "\n",
       "| x | y | z | Hap |\n",
       "|---|---|---|---|\n",
       "| 1  |  2 | a  |  3 |\n",
       "| 2  |  4 | b  |  6 |\n",
       "| 3  |  6 | c  |  9 |\n",
       "| 4  |  8 | d  | 12 |\n",
       "| 5  | 10 | e  | 15 |\n",
       "\n"
      ],
      "text/plain": [
       "  x y  z Hap\n",
       "1 1  2 a  3 \n",
       "2 2  4 b  6 \n",
       "3 3  6 c  9 \n",
       "4 4  8 d 12 \n",
       "5 5 10 e 15 "
      ]
     },
     "metadata": {},
     "output_type": "display_data"
    }
   ],
   "source": [
    "# df에 Hap이라는 컬럼을 만들어서 행방향의 합계 구하기\n",
    "\n",
    "df$Hap <- apply(df[,1:2],1,sum)\n",
    "df"
   ]
  },
  {
   "cell_type": "code",
   "execution_count": 78,
   "metadata": {
    "vscode": {
     "languageId": "r"
    }
   },
   "outputs": [
    {
     "data": {
      "text/html": [
       "<table>\n",
       "<thead><tr><th scope=col>x</th><th scope=col>y</th><th scope=col>z</th><th scope=col>Hap</th></tr></thead>\n",
       "<tbody>\n",
       "\t<tr><td>1 </td><td> 2</td><td>a </td><td> 3</td></tr>\n",
       "\t<tr><td>2 </td><td> 4</td><td>b </td><td> 6</td></tr>\n",
       "\t<tr><td>3 </td><td> 6</td><td>c </td><td> 9</td></tr>\n",
       "\t<tr><td>4 </td><td> 8</td><td>d </td><td>12</td></tr>\n",
       "\t<tr><td>5 </td><td>10</td><td>e </td><td>15</td></tr>\n",
       "</tbody>\n",
       "</table>\n"
      ],
      "text/latex": [
       "\\begin{tabular}{r|llll}\n",
       " x & y & z & Hap\\\\\n",
       "\\hline\n",
       "\t 1  &  2 & a  &  3\\\\\n",
       "\t 2  &  4 & b  &  6\\\\\n",
       "\t 3  &  6 & c  &  9\\\\\n",
       "\t 4  &  8 & d  & 12\\\\\n",
       "\t 5  & 10 & e  & 15\\\\\n",
       "\\end{tabular}\n"
      ],
      "text/markdown": [
       "\n",
       "| x | y | z | Hap |\n",
       "|---|---|---|---|\n",
       "| 1  |  2 | a  |  3 |\n",
       "| 2  |  4 | b  |  6 |\n",
       "| 3  |  6 | c  |  9 |\n",
       "| 4  |  8 | d  | 12 |\n",
       "| 5  | 10 | e  | 15 |\n",
       "\n"
      ],
      "text/plain": [
       "  x y  z Hap\n",
       "1 1  2 a  3 \n",
       "2 2  4 b  6 \n",
       "3 3  6 c  9 \n",
       "4 4  8 d 12 \n",
       "5 5 10 e 15 "
      ]
     },
     "metadata": {},
     "output_type": "display_data"
    },
    {
     "data": {
      "text/html": [
       "<table>\n",
       "<thead><tr><th></th><th scope=col>x</th><th scope=col>y</th><th scope=col>z</th><th scope=col>Hap</th></tr></thead>\n",
       "<tbody>\n",
       "\t<tr><th scope=row>3</th><td>3 </td><td> 6</td><td>c </td><td> 9</td></tr>\n",
       "\t<tr><th scope=row>4</th><td>4 </td><td> 8</td><td>d </td><td>12</td></tr>\n",
       "\t<tr><th scope=row>5</th><td>5 </td><td>10</td><td>e </td><td>15</td></tr>\n",
       "</tbody>\n",
       "</table>\n"
      ],
      "text/latex": [
       "\\begin{tabular}{r|llll}\n",
       "  & x & y & z & Hap\\\\\n",
       "\\hline\n",
       "\t3 & 3  &  6 & c  &  9\\\\\n",
       "\t4 & 4  &  8 & d  & 12\\\\\n",
       "\t5 & 5  & 10 & e  & 15\\\\\n",
       "\\end{tabular}\n"
      ],
      "text/markdown": [
       "\n",
       "| <!--/--> | x | y | z | Hap |\n",
       "|---|---|---|---|---|\n",
       "| 3 | 3  |  6 | c  |  9 |\n",
       "| 4 | 4  |  8 | d  | 12 |\n",
       "| 5 | 5  | 10 | e  | 15 |\n",
       "\n"
      ],
      "text/plain": [
       "  x y  z Hap\n",
       "3 3  6 c  9 \n",
       "4 4  8 d 12 \n",
       "5 5 10 e 15 "
      ]
     },
     "metadata": {},
     "output_type": "display_data"
    },
    {
     "data": {
      "text/html": [
       "<table>\n",
       "<thead><tr><th></th><th scope=col>x</th><th scope=col>y</th><th scope=col>z</th><th scope=col>Hap</th></tr></thead>\n",
       "<tbody>\n",
       "\t<tr><th scope=row>4</th><td>4 </td><td> 8</td><td>d </td><td>12</td></tr>\n",
       "\t<tr><th scope=row>5</th><td>5 </td><td>10</td><td>e </td><td>15</td></tr>\n",
       "</tbody>\n",
       "</table>\n"
      ],
      "text/latex": [
       "\\begin{tabular}{r|llll}\n",
       "  & x & y & z & Hap\\\\\n",
       "\\hline\n",
       "\t4 & 4  &  8 & d  & 12\\\\\n",
       "\t5 & 5  & 10 & e  & 15\\\\\n",
       "\\end{tabular}\n"
      ],
      "text/markdown": [
       "\n",
       "| <!--/--> | x | y | z | Hap |\n",
       "|---|---|---|---|---|\n",
       "| 4 | 4  |  8 | d  | 12 |\n",
       "| 5 | 5  | 10 | e  | 15 |\n",
       "\n"
      ],
      "text/plain": [
       "  x y  z Hap\n",
       "4 4  8 d 12 \n",
       "5 5 10 e 15 "
      ]
     },
     "metadata": {},
     "output_type": "display_data"
    }
   ],
   "source": [
    "# 부분집합\n",
    "\n",
    "df\n",
    "subset(df,x>=3) # x가 3이상인것만 보겠다\n",
    "subset(df,x>=3 & y>=8)"
   ]
  },
  {
   "cell_type": "code",
   "execution_count": 92,
   "metadata": {
    "vscode": {
     "languageId": "r"
    }
   },
   "outputs": [
    {
     "data": {
      "text/html": [
       "<table>\n",
       "<thead><tr><th></th><th scope=col>x</th><th scope=col>y</th><th scope=col>z</th><th scope=col>Hap</th></tr></thead>\n",
       "<tbody>\n",
       "\t<tr><th scope=row>4</th><td>4 </td><td> 8</td><td>d </td><td>12</td></tr>\n",
       "\t<tr><th scope=row>5</th><td>5 </td><td>10</td><td>e </td><td>15</td></tr>\n",
       "</tbody>\n",
       "</table>\n"
      ],
      "text/latex": [
       "\\begin{tabular}{r|llll}\n",
       "  & x & y & z & Hap\\\\\n",
       "\\hline\n",
       "\t4 & 4  &  8 & d  & 12\\\\\n",
       "\t5 & 5  & 10 & e  & 15\\\\\n",
       "\\end{tabular}\n"
      ],
      "text/markdown": [
       "\n",
       "| <!--/--> | x | y | z | Hap |\n",
       "|---|---|---|---|---|\n",
       "| 4 | 4  |  8 | d  | 12 |\n",
       "| 5 | 5  | 10 | e  | 15 |\n",
       "\n"
      ],
      "text/plain": [
       "  x y  z Hap\n",
       "4 4  8 d 12 \n",
       "5 5 10 e 15 "
      ]
     },
     "metadata": {},
     "output_type": "display_data"
    },
    {
     "data": {
      "text/html": [
       "<dl class=dl-horizontal>\n",
       "\t<dt>x</dt>\n",
       "\t\t<dd>9</dd>\n",
       "\t<dt>y</dt>\n",
       "\t\t<dd>18</dd>\n",
       "</dl>\n"
      ],
      "text/latex": [
       "\\begin{description*}\n",
       "\\item[x] 9\n",
       "\\item[y] 18\n",
       "\\end{description*}\n"
      ],
      "text/markdown": [
       "x\n",
       ":   9y\n",
       ":   18\n",
       "\n"
      ],
      "text/plain": [
       " x  y \n",
       " 9 18 "
      ]
     },
     "metadata": {},
     "output_type": "display_data"
    }
   ],
   "source": [
    "# 4번 행과 5번 행의 x컬럼과 y컬럼의 합계 구하기\n",
    "subset(df,x>=3 & y>=8)\n",
    "apply(subset(df,x>=3 & y>=8)[,1:2],2,sum)"
   ]
  },
  {
   "cell_type": "code",
   "execution_count": null,
   "metadata": {
    "vscode": {
     "languageId": "r"
    }
   },
   "outputs": [],
   "source": []
  }
 ],
 "metadata": {
  "kernelspec": {
   "display_name": "R",
   "language": "R",
   "name": "ir"
  },
  "language_info": {
   "codemirror_mode": "r",
   "file_extension": ".r",
   "mimetype": "text/x-r-source",
   "name": "R",
   "pygments_lexer": "r",
   "version": "3.6.1"
  },
  "orig_nbformat": 4
 },
 "nbformat": 4,
 "nbformat_minor": 2
}
