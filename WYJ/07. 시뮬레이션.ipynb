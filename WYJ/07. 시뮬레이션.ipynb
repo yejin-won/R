{
 "cells": [
  {
   "cell_type": "markdown",
   "id": "1d3c9f47",
   "metadata": {},
   "source": [
    "# 몬테카를로 시물레이션(분석) \n",
    "\n",
    "- simmulation => 분석을 하고 싶은데 데이터가 없을 경우 사용 (데이터는 난수 값으로)\n",
    "- runif data => 정규분포 데이터\n"
   ]
  },
  {
   "cell_type": "markdown",
   "id": "6ac271bd",
   "metadata": {},
   "source": [
    "### 동전의 앞면과 뒷면 시물레이션"
   ]
  },
  {
   "cell_type": "code",
   "execution_count": 15,
   "id": "a9f4f49b",
   "metadata": {},
   "outputs": [
    {
     "name": "stdout",
     "output_type": "stream",
     "text": [
      "[1] 0\n"
     ]
    }
   ],
   "source": [
    "x <- runif(1) # 0< x < 1\n",
    "if(x<=1/2){\n",
    "    result = 0 # 앞면\n",
    "}else{\n",
    "    result = 1 # 뒷면\n",
    "}\n",
    "\n",
    "print(result)"
   ]
  },
  {
   "cell_type": "code",
   "execution_count": 20,
   "id": "d5fddc99",
   "metadata": {},
   "outputs": [],
   "source": [
    "coin <- function(n){\n",
    "    count1 =0 # 앞면 데이터 누적\n",
    "    count2= 0 # 뒷면 데이터 누적\n",
    "    for(i in 1:n){\n",
    "        if(runif(1) <=1/2){\n",
    "            count1 = count1 +1\n",
    "        }else{\n",
    "            count2 = count2 +1\n",
    "        }\n",
    "    }\n",
    "    cat(\"앞면 :\",count1,\"\\n\")\n",
    "    cat(\"뒷면 :\",count2,\"\\n\")\n",
    "    cat(\"----------------\\n\")\n",
    "}"
   ]
  },
  {
   "cell_type": "code",
   "execution_count": 21,
   "id": "6de9f82b",
   "metadata": {},
   "outputs": [
    {
     "name": "stdout",
     "output_type": "stream",
     "text": [
      "앞면 : 5 \n",
      "뒷면 : 5 \n",
      "----------------\n",
      "앞면 : 44 \n",
      "뒷면 : 56 \n",
      "----------------\n",
      "앞면 : 518 \n",
      "뒷면 : 482 \n",
      "----------------\n",
      "앞면 : 4995 \n",
      "뒷면 : 5005 \n",
      "----------------\n",
      "앞면 : 50180 \n",
      "뒷면 : 49820 \n",
      "----------------\n",
      "앞면 : 499594 \n",
      "뒷면 : 500406 \n",
      "----------------\n"
     ]
    }
   ],
   "source": [
    "coin(10)\n",
    "coin(100)\n",
    "coin(1000)\n",
    "coin(10000)\n",
    "coin(100000)\n",
    "coin(1000000)"
   ]
  },
  {
   "cell_type": "markdown",
   "id": "97c9bd18",
   "metadata": {},
   "source": [
    "### 가위, 바위, 보 시물레이션"
   ]
  },
  {
   "cell_type": "code",
   "execution_count": 35,
   "id": "806e7273",
   "metadata": {},
   "outputs": [],
   "source": [
    "rock <- function(n){\n",
    "    rockSum = 0\n",
    "    scisSum = 0\n",
    "    papSum = 0\n",
    "    \n",
    "    for(i in 1:n){\n",
    "    x <- runif(1)\n",
    "        if(x <= 1/3 ){\n",
    "            rockSum = rockSum +1\n",
    "        }else if(x <= 2/3 ){\n",
    "            scisSum = scisSum +1\n",
    "        }else{\n",
    "            papSum = papSum + 1\n",
    "        }\n",
    "    }\n",
    "    cat(\"가위 :\",rockSum,\"\\n\")\n",
    "    cat(\"바위 :\",scisSum,\"\\n\")\n",
    "    cat(\"보 :\",papSum,\"\\n\")\n",
    "    cat(\"----------------\\n\")\n",
    "}"
   ]
  },
  {
   "cell_type": "code",
   "execution_count": 36,
   "id": "ab3d2f7d",
   "metadata": {},
   "outputs": [
    {
     "name": "stdout",
     "output_type": "stream",
     "text": [
      "가위 : 3 \n",
      "바위 : 4 \n",
      "보 : 3 \n",
      "----------------\n",
      "가위 : 35 \n",
      "바위 : 28 \n",
      "보 : 37 \n",
      "----------------\n",
      "가위 : 327 \n",
      "바위 : 345 \n",
      "보 : 328 \n",
      "----------------\n",
      "가위 : 3334 \n",
      "바위 : 3353 \n",
      "보 : 3313 \n",
      "----------------\n",
      "가위 : 33101 \n",
      "바위 : 33293 \n",
      "보 : 33606 \n",
      "----------------\n",
      "가위 : 333147 \n",
      "바위 : 334373 \n",
      "보 : 332480 \n",
      "----------------\n"
     ]
    }
   ],
   "source": [
    "rock(10)\n",
    "rock(100)\n",
    "rock(1000)\n",
    "rock(10000)\n",
    "rock(100000)\n",
    "rock(1000000)"
   ]
  },
  {
   "cell_type": "code",
   "execution_count": 59,
   "id": "9a45739f",
   "metadata": {},
   "outputs": [],
   "source": [
    "options(scipen = 100) # 지수표시 안나오게 하기 예) 1e+3 = 1000 = 10^3 "
   ]
  },
  {
   "cell_type": "markdown",
   "id": "270035a5",
   "metadata": {},
   "source": [
    "### 주사위 시뮬레이션"
   ]
  },
  {
   "cell_type": "code",
   "execution_count": 62,
   "id": "ebaaa027",
   "metadata": {},
   "outputs": [],
   "source": [
    "dice <- function(n){\n",
    "    \n",
    "    diceFace <- rep(0,6)\n",
    "    \n",
    "    cat(\"Throw : \",n,\"\\n\")\n",
    "    for(i in 1:n){\n",
    "        x <- trunc(runif(1)*6)+1\n",
    "        diceFace[x] =diceFace[x] + 1\n",
    "    }\n",
    "    for(i in 1:length(diceFace)){\n",
    "        cat(\"No\",i,\"=>\",diceFace[i],\"\\n\")  \n",
    "    } \n",
    "    cat(\"----------------\\n\")\n",
    "}"
   ]
  },
  {
   "cell_type": "code",
   "execution_count": 63,
   "id": "fdd3e4b4",
   "metadata": {},
   "outputs": [
    {
     "name": "stdout",
     "output_type": "stream",
     "text": [
      "Throw :  10 \n",
      "No 1 => 1 \n",
      "No 2 => 3 \n",
      "No 3 => 3 \n",
      "No 4 => 2 \n",
      "No 5 => 0 \n",
      "No 6 => 1 \n",
      "----------------\n",
      "Throw :  100 \n",
      "No 1 => 19 \n",
      "No 2 => 19 \n",
      "No 3 => 18 \n",
      "No 4 => 16 \n",
      "No 5 => 16 \n",
      "No 6 => 12 \n",
      "----------------\n",
      "Throw :  1000 \n",
      "No 1 => 188 \n",
      "No 2 => 178 \n",
      "No 3 => 156 \n",
      "No 4 => 167 \n",
      "No 5 => 171 \n",
      "No 6 => 140 \n",
      "----------------\n",
      "Throw :  10000 \n",
      "No 1 => 1683 \n",
      "No 2 => 1627 \n",
      "No 3 => 1665 \n",
      "No 4 => 1707 \n",
      "No 5 => 1672 \n",
      "No 6 => 1646 \n",
      "----------------\n",
      "Throw :  100000 \n",
      "No 1 => 16676 \n",
      "No 2 => 16594 \n",
      "No 3 => 16797 \n",
      "No 4 => 16603 \n",
      "No 5 => 16816 \n",
      "No 6 => 16514 \n",
      "----------------\n",
      "Throw :  1000000 \n",
      "No 1 => 167476 \n",
      "No 2 => 166868 \n",
      "No 3 => 165868 \n",
      "No 4 => 166732 \n",
      "No 5 => 166269 \n",
      "No 6 => 166787 \n",
      "----------------\n"
     ]
    }
   ],
   "source": [
    "dice(10)\n",
    "dice(100)\n",
    "dice(1000)\n",
    "dice(10000)\n",
    "dice(100000)\n",
    "dice(1000000)"
   ]
  },
  {
   "cell_type": "code",
   "execution_count": null,
   "id": "793806a8",
   "metadata": {},
   "outputs": [],
   "source": []
  },
  {
   "cell_type": "code",
   "execution_count": null,
   "id": "34b9a82f",
   "metadata": {},
   "outputs": [],
   "source": []
  },
  {
   "cell_type": "code",
   "execution_count": null,
   "id": "63722e64",
   "metadata": {},
   "outputs": [],
   "source": []
  }
 ],
 "metadata": {
  "kernelspec": {
   "display_name": "R",
   "language": "R",
   "name": "ir"
  },
  "language_info": {
   "codemirror_mode": "r",
   "file_extension": ".r",
   "mimetype": "text/x-r-source",
   "name": "R",
   "pygments_lexer": "r",
   "version": "3.6.1"
  }
 },
 "nbformat": 4,
 "nbformat_minor": 5
}
