{
 "cells": [
  {
   "cell_type": "markdown",
   "id": "27c150ed",
   "metadata": {},
   "source": [
    "# Database Name : RSQL\n",
    "# Table Nmae :score\n",
    "- id, korean, english, mathematics"
   ]
  },
  {
   "cell_type": "markdown",
   "id": "e1c06a67",
   "metadata": {},
   "source": [
    "- Anaconda Navigator\n",
    "- rJava, RMySQL설치하기"
   ]
  },
  {
   "cell_type": "code",
   "execution_count": 9,
   "id": "8a5dac40",
   "metadata": {},
   "outputs": [],
   "source": [
    "library(RMySQL)"
   ]
  },
  {
   "cell_type": "code",
   "execution_count": 47,
   "id": "10dd19b5",
   "metadata": {},
   "outputs": [],
   "source": [
    "# DB Connection\n",
    "\n",
    "conn <- dbConnect(MySQL(),\n",
    "                  dbname = \"RSQL\",\n",
    "                  user = \"root\",\n",
    "                  password = \"qwer1234\",\n",
    "                  host = \"127.0.0.1\"\n",
    "                 )"
   ]
  },
  {
   "cell_type": "code",
   "execution_count": 21,
   "id": "de155d54",
   "metadata": {},
   "outputs": [
    {
     "data": {
      "text/html": [
       "'score'"
      ],
      "text/latex": [
       "'score'"
      ],
      "text/markdown": [
       "'score'"
      ],
      "text/plain": [
       "[1] \"score\""
      ]
     },
     "metadata": {},
     "output_type": "display_data"
    }
   ],
   "source": [
    "# 테이블 목록\n",
    "\n",
    "dbListTables(conn)"
   ]
  },
  {
   "cell_type": "code",
   "execution_count": 22,
   "id": "9b85fc42",
   "metadata": {},
   "outputs": [
    {
     "data": {
      "text/html": [
       "<ol class=list-inline>\n",
       "\t<li>'id'</li>\n",
       "\t<li>'korean'</li>\n",
       "\t<li>'english'</li>\n",
       "\t<li>'mathematics'</li>\n",
       "</ol>\n"
      ],
      "text/latex": [
       "\\begin{enumerate*}\n",
       "\\item 'id'\n",
       "\\item 'korean'\n",
       "\\item 'english'\n",
       "\\item 'mathematics'\n",
       "\\end{enumerate*}\n"
      ],
      "text/markdown": [
       "1. 'id'\n",
       "2. 'korean'\n",
       "3. 'english'\n",
       "4. 'mathematics'\n",
       "\n",
       "\n"
      ],
      "text/plain": [
       "[1] \"id\"          \"korean\"      \"english\"     \"mathematics\""
      ]
     },
     "metadata": {},
     "output_type": "display_data"
    }
   ],
   "source": [
    "# table의 컬럼 목록\n",
    "\n",
    "dbListFields(conn,'score')"
   ]
  },
  {
   "cell_type": "code",
   "execution_count": 23,
   "id": "67ac0968",
   "metadata": {},
   "outputs": [
    {
     "data": {
      "text/html": [
       "<table>\n",
       "<thead><tr><th scope=col>count(*)</th></tr></thead>\n",
       "<tbody>\n",
       "\t<tr><td>0</td></tr>\n",
       "</tbody>\n",
       "</table>\n"
      ],
      "text/latex": [
       "\\begin{tabular}{r|l}\n",
       " count(*)\\\\\n",
       "\\hline\n",
       "\t 0\\\\\n",
       "\\end{tabular}\n"
      ],
      "text/markdown": [
       "\n",
       "| count(*) |\n",
       "|---|\n",
       "| 0 |\n",
       "\n"
      ],
      "text/plain": [
       "  count(*)\n",
       "1 0       "
      ]
     },
     "metadata": {},
     "output_type": "display_data"
    }
   ],
   "source": [
    "# Select\n",
    "\n",
    "dbGetQuery(conn,'select count(*) from score')"
   ]
  },
  {
   "cell_type": "code",
   "execution_count": 24,
   "id": "b5e74e67",
   "metadata": {},
   "outputs": [
    {
     "data": {
      "text/html": [
       "<table>\n",
       "<thead><tr><th scope=col>id</th><th scope=col>korean</th><th scope=col>english</th><th scope=col>mathematics</th></tr></thead>\n",
       "<tbody>\n",
       "</tbody>\n",
       "</table>\n"
      ],
      "text/latex": [
       "\\begin{tabular}{r|llll}\n",
       " id & korean & english & mathematics\\\\\n",
       "\\hline\n",
       "\\end{tabular}\n"
      ],
      "text/markdown": [
       "\n",
       "| id | korean | english | mathematics |\n",
       "|---|---|---|---|\n",
       "\n"
      ],
      "text/plain": [
       "     id korean english mathematics"
      ]
     },
     "metadata": {},
     "output_type": "display_data"
    }
   ],
   "source": [
    "dbGetQuery(conn,\"select * from score\")"
   ]
  },
  {
   "cell_type": "code",
   "execution_count": 25,
   "id": "5aaa073f",
   "metadata": {},
   "outputs": [
    {
     "data": {
      "text/plain": [
       "<MySQLResult:1918986339,2,4>"
      ]
     },
     "metadata": {},
     "output_type": "display_data"
    },
    {
     "data": {
      "text/html": [
       "<table>\n",
       "<thead><tr><th scope=col>id</th><th scope=col>korean</th><th scope=col>english</th><th scope=col>mathematics</th></tr></thead>\n",
       "<tbody>\n",
       "\t<tr><td>1  </td><td>100</td><td>100</td><td>100</td></tr>\n",
       "</tbody>\n",
       "</table>\n"
      ],
      "text/latex": [
       "\\begin{tabular}{r|llll}\n",
       " id & korean & english & mathematics\\\\\n",
       "\\hline\n",
       "\t 1   & 100 & 100 & 100\\\\\n",
       "\\end{tabular}\n"
      ],
      "text/markdown": [
       "\n",
       "| id | korean | english | mathematics |\n",
       "|---|---|---|---|\n",
       "| 1   | 100 | 100 | 100 |\n",
       "\n"
      ],
      "text/plain": [
       "  id korean english mathematics\n",
       "1 1  100    100     100        "
      ]
     },
     "metadata": {},
     "output_type": "display_data"
    }
   ],
   "source": [
    "# insert\n",
    "\n",
    "dbSendQuery(conn,'insert into score values(1,100,100,100)')\n",
    "\n",
    "result = dbGetQuery(conn,'select * from score')\n",
    "result"
   ]
  },
  {
   "cell_type": "code",
   "execution_count": 26,
   "id": "9ceab3e0",
   "metadata": {},
   "outputs": [
    {
     "data": {
      "text/plain": [
       "<MySQLResult:3,2,6>"
      ]
     },
     "metadata": {},
     "output_type": "display_data"
    },
    {
     "data": {
      "text/html": [
       "<table>\n",
       "<thead><tr><th scope=col>id</th><th scope=col>korean</th><th scope=col>english</th><th scope=col>mathematics</th></tr></thead>\n",
       "<tbody>\n",
       "\t<tr><td>1  </td><td>100</td><td>100</td><td>100</td></tr>\n",
       "\t<tr><td>2  </td><td> 90</td><td> 90</td><td> 90</td></tr>\n",
       "</tbody>\n",
       "</table>\n"
      ],
      "text/latex": [
       "\\begin{tabular}{r|llll}\n",
       " id & korean & english & mathematics\\\\\n",
       "\\hline\n",
       "\t 1   & 100 & 100 & 100\\\\\n",
       "\t 2   &  90 &  90 &  90\\\\\n",
       "\\end{tabular}\n"
      ],
      "text/markdown": [
       "\n",
       "| id | korean | english | mathematics |\n",
       "|---|---|---|---|\n",
       "| 1   | 100 | 100 | 100 |\n",
       "| 2   |  90 |  90 |  90 |\n",
       "\n"
      ],
      "text/plain": [
       "  id korean english mathematics\n",
       "1 1  100    100     100        \n",
       "2 2   90     90      90        "
      ]
     },
     "metadata": {},
     "output_type": "display_data"
    }
   ],
   "source": [
    "dbSendQuery(conn,'insert into score values(2,90,90,90)')\n",
    "\n",
    "result = dbGetQuery(conn,'select * from score')\n",
    "result"
   ]
  },
  {
   "cell_type": "code",
   "execution_count": 27,
   "id": "5d90fce1",
   "metadata": {},
   "outputs": [
    {
     "data": {
      "text/plain": [
       "<MySQLResult:-1249845024,2,8>"
      ]
     },
     "metadata": {},
     "output_type": "display_data"
    },
    {
     "data": {
      "text/html": [
       "<table>\n",
       "<thead><tr><th scope=col>id</th><th scope=col>korean</th><th scope=col>english</th><th scope=col>mathematics</th></tr></thead>\n",
       "<tbody>\n",
       "\t<tr><td>1  </td><td>100</td><td>100</td><td>100</td></tr>\n",
       "\t<tr><td>2  </td><td> 90</td><td> 80</td><td> 70</td></tr>\n",
       "</tbody>\n",
       "</table>\n"
      ],
      "text/latex": [
       "\\begin{tabular}{r|llll}\n",
       " id & korean & english & mathematics\\\\\n",
       "\\hline\n",
       "\t 1   & 100 & 100 & 100\\\\\n",
       "\t 2   &  90 &  80 &  70\\\\\n",
       "\\end{tabular}\n"
      ],
      "text/markdown": [
       "\n",
       "| id | korean | english | mathematics |\n",
       "|---|---|---|---|\n",
       "| 1   | 100 | 100 | 100 |\n",
       "| 2   |  90 |  80 |  70 |\n",
       "\n"
      ],
      "text/plain": [
       "  id korean english mathematics\n",
       "1 1  100    100     100        \n",
       "2 2   90     80      70        "
      ]
     },
     "metadata": {},
     "output_type": "display_data"
    }
   ],
   "source": [
    "# Update\n",
    "\n",
    "dbSendQuery(conn,'update score set korean=90,english=80,mathematics=70 where id =2')\n",
    "\n",
    "result = dbGetQuery(conn,'select * from score')\n",
    "result"
   ]
  },
  {
   "cell_type": "code",
   "execution_count": 48,
   "id": "e05423db",
   "metadata": {},
   "outputs": [
    {
     "data": {
      "text/plain": [
       "<MySQLResult:-1207377120,4,0>"
      ]
     },
     "metadata": {},
     "output_type": "display_data"
    },
    {
     "data": {
      "text/html": [
       "<table>\n",
       "<thead><tr><th scope=col>id</th><th scope=col>korean</th><th scope=col>english</th><th scope=col>mathematics</th></tr></thead>\n",
       "<tbody>\n",
       "</tbody>\n",
       "</table>\n"
      ],
      "text/latex": [
       "\\begin{tabular}{r|llll}\n",
       " id & korean & english & mathematics\\\\\n",
       "\\hline\n",
       "\\end{tabular}\n"
      ],
      "text/markdown": [
       "\n",
       "| id | korean | english | mathematics |\n",
       "|---|---|---|---|\n",
       "\n"
      ],
      "text/plain": [
       "     id korean english mathematics"
      ]
     },
     "metadata": {},
     "output_type": "display_data"
    }
   ],
   "source": [
    "# delete\n",
    "\n",
    "dbSendQuery(conn,'delete from score')\n",
    "\n",
    "result = dbGetQuery(conn,'select * from score')\n",
    "result"
   ]
  },
  {
   "cell_type": "markdown",
   "id": "63989594",
   "metadata": {},
   "source": [
    "SHOW VARIABLES LIKE 'local_infile';   \n",
    "SET GLOBAL local_infile = 1;\n",
    "- 해당 문장을 sql에서 실행함으로 한번에 파일을 올릴수 있음"
   ]
  },
  {
   "cell_type": "code",
   "execution_count": 49,
   "id": "a0b75199",
   "metadata": {},
   "outputs": [
    {
     "data": {
      "text/html": [
       "<table>\n",
       "<thead><tr><th scope=col>id</th><th scope=col>korean</th><th scope=col>english</th><th scope=col>mathematics</th></tr></thead>\n",
       "<tbody>\n",
       "\t<tr><td> 1 </td><td> 90</td><td> 80</td><td> 70</td></tr>\n",
       "\t<tr><td> 2 </td><td> 90</td><td> 88</td><td> 70</td></tr>\n",
       "\t<tr><td> 3 </td><td> 90</td><td> 89</td><td> 70</td></tr>\n",
       "\t<tr><td> 4 </td><td> 90</td><td> 87</td><td> 70</td></tr>\n",
       "\t<tr><td> 5 </td><td> 90</td><td> 60</td><td> 70</td></tr>\n",
       "\t<tr><td> 6 </td><td>100</td><td>100</td><td>100</td></tr>\n",
       "\t<tr><td> 7 </td><td>100</td><td>100</td><td>100</td></tr>\n",
       "\t<tr><td> 8 </td><td>100</td><td>100</td><td>100</td></tr>\n",
       "\t<tr><td> 9 </td><td>100</td><td>100</td><td>100</td></tr>\n",
       "\t<tr><td>10 </td><td>100</td><td>100</td><td>100</td></tr>\n",
       "</tbody>\n",
       "</table>\n"
      ],
      "text/latex": [
       "\\begin{tabular}{r|llll}\n",
       " id & korean & english & mathematics\\\\\n",
       "\\hline\n",
       "\t  1  &  90 &  80 &  70\\\\\n",
       "\t  2  &  90 &  88 &  70\\\\\n",
       "\t  3  &  90 &  89 &  70\\\\\n",
       "\t  4  &  90 &  87 &  70\\\\\n",
       "\t  5  &  90 &  60 &  70\\\\\n",
       "\t  6  & 100 & 100 & 100\\\\\n",
       "\t  7  & 100 & 100 & 100\\\\\n",
       "\t  8  & 100 & 100 & 100\\\\\n",
       "\t  9  & 100 & 100 & 100\\\\\n",
       "\t 10  & 100 & 100 & 100\\\\\n",
       "\\end{tabular}\n"
      ],
      "text/markdown": [
       "\n",
       "| id | korean | english | mathematics |\n",
       "|---|---|---|---|\n",
       "|  1  |  90 |  80 |  70 |\n",
       "|  2  |  90 |  88 |  70 |\n",
       "|  3  |  90 |  89 |  70 |\n",
       "|  4  |  90 |  87 |  70 |\n",
       "|  5  |  90 |  60 |  70 |\n",
       "|  6  | 100 | 100 | 100 |\n",
       "|  7  | 100 | 100 | 100 |\n",
       "|  8  | 100 | 100 | 100 |\n",
       "|  9  | 100 | 100 | 100 |\n",
       "| 10  | 100 | 100 | 100 |\n",
       "\n"
      ],
      "text/plain": [
       "   id korean english mathematics\n",
       "1   1  90     80      70        \n",
       "2   2  90     88      70        \n",
       "3   3  90     89      70        \n",
       "4   4  90     87      70        \n",
       "5   5  90     60      70        \n",
       "6   6 100    100     100        \n",
       "7   7 100    100     100        \n",
       "8   8 100    100     100        \n",
       "9   9 100    100     100        \n",
       "10 10 100    100     100        "
      ]
     },
     "metadata": {},
     "output_type": "display_data"
    }
   ],
   "source": [
    "# csv file을 읽어서 MySQL에 넣기 \n",
    "\n",
    "data <- read.csv(\"./Data/score.csv\",header=F)\n",
    "colnames(data) <- c('id','korean','english','mathematics')\n",
    "data"
   ]
  },
  {
   "cell_type": "code",
   "execution_count": 50,
   "id": "aed23d57",
   "metadata": {},
   "outputs": [
    {
     "data": {
      "text/html": [
       "TRUE"
      ],
      "text/latex": [
       "TRUE"
      ],
      "text/markdown": [
       "TRUE"
      ],
      "text/plain": [
       "[1] TRUE"
      ]
     },
     "metadata": {},
     "output_type": "display_data"
    }
   ],
   "source": [
    "dbWriteTable(conn,\"score\",data,overwrite=T,row.names=F) # append = T"
   ]
  },
  {
   "cell_type": "code",
   "execution_count": 51,
   "id": "1ac0307c",
   "metadata": {},
   "outputs": [
    {
     "data": {
      "text/html": [
       "<table>\n",
       "<thead><tr><th scope=col>id</th><th scope=col>korean</th><th scope=col>english</th><th scope=col>mathematics</th></tr></thead>\n",
       "<tbody>\n",
       "\t<tr><td> 1 </td><td> 90</td><td> 80</td><td> 70</td></tr>\n",
       "\t<tr><td> 2 </td><td> 90</td><td> 88</td><td> 70</td></tr>\n",
       "\t<tr><td> 3 </td><td> 90</td><td> 89</td><td> 70</td></tr>\n",
       "\t<tr><td> 4 </td><td> 90</td><td> 87</td><td> 70</td></tr>\n",
       "\t<tr><td> 5 </td><td> 90</td><td> 60</td><td> 70</td></tr>\n",
       "\t<tr><td> 6 </td><td>100</td><td>100</td><td>100</td></tr>\n",
       "\t<tr><td> 7 </td><td>100</td><td>100</td><td>100</td></tr>\n",
       "\t<tr><td> 8 </td><td>100</td><td>100</td><td>100</td></tr>\n",
       "\t<tr><td> 9 </td><td>100</td><td>100</td><td>100</td></tr>\n",
       "\t<tr><td>10 </td><td>100</td><td>100</td><td>100</td></tr>\n",
       "</tbody>\n",
       "</table>\n"
      ],
      "text/latex": [
       "\\begin{tabular}{r|llll}\n",
       " id & korean & english & mathematics\\\\\n",
       "\\hline\n",
       "\t  1  &  90 &  80 &  70\\\\\n",
       "\t  2  &  90 &  88 &  70\\\\\n",
       "\t  3  &  90 &  89 &  70\\\\\n",
       "\t  4  &  90 &  87 &  70\\\\\n",
       "\t  5  &  90 &  60 &  70\\\\\n",
       "\t  6  & 100 & 100 & 100\\\\\n",
       "\t  7  & 100 & 100 & 100\\\\\n",
       "\t  8  & 100 & 100 & 100\\\\\n",
       "\t  9  & 100 & 100 & 100\\\\\n",
       "\t 10  & 100 & 100 & 100\\\\\n",
       "\\end{tabular}\n"
      ],
      "text/markdown": [
       "\n",
       "| id | korean | english | mathematics |\n",
       "|---|---|---|---|\n",
       "|  1  |  90 |  80 |  70 |\n",
       "|  2  |  90 |  88 |  70 |\n",
       "|  3  |  90 |  89 |  70 |\n",
       "|  4  |  90 |  87 |  70 |\n",
       "|  5  |  90 |  60 |  70 |\n",
       "|  6  | 100 | 100 | 100 |\n",
       "|  7  | 100 | 100 | 100 |\n",
       "|  8  | 100 | 100 | 100 |\n",
       "|  9  | 100 | 100 | 100 |\n",
       "| 10  | 100 | 100 | 100 |\n",
       "\n"
      ],
      "text/plain": [
       "   id korean english mathematics\n",
       "1   1  90     80      70        \n",
       "2   2  90     88      70        \n",
       "3   3  90     89      70        \n",
       "4   4  90     87      70        \n",
       "5   5  90     60      70        \n",
       "6   6 100    100     100        \n",
       "7   7 100    100     100        \n",
       "8   8 100    100     100        \n",
       "9   9 100    100     100        \n",
       "10 10 100    100     100        "
      ]
     },
     "metadata": {},
     "output_type": "display_data"
    }
   ],
   "source": [
    "result = dbGetQuery(conn,'select * from score')\n",
    "result"
   ]
  },
  {
   "cell_type": "code",
   "execution_count": 33,
   "id": "51579f32",
   "metadata": {},
   "outputs": [
    {
     "name": "stdout",
     "output_type": "stream",
     "text": [
      "'data.frame':\t10 obs. of  4 variables:\n",
      " $ id         : int  1 2 3 4 5 6 7 8 9 10\n",
      " $ korean     : int  90 90 90 90 90 100 100 100 100 100\n",
      " $ english    : int  80 88 89 87 60 100 100 100 100 100\n",
      " $ mathematics: int  70 70 70 70 70 100 100 100 100 100\n"
     ]
    }
   ],
   "source": [
    "str(data)"
   ]
  },
  {
   "cell_type": "code",
   "execution_count": 52,
   "id": "b5968228",
   "metadata": {},
   "outputs": [
    {
     "data": {
      "text/html": [
       "<table>\n",
       "<thead><tr><th scope=col>id</th><th scope=col>korean</th><th scope=col>english</th><th scope=col>mathematics</th></tr></thead>\n",
       "<tbody>\n",
       "\t<tr><td>11</td><td>90</td><td>80</td><td>70</td></tr>\n",
       "\t<tr><td>12</td><td>90</td><td>88</td><td>70</td></tr>\n",
       "</tbody>\n",
       "</table>\n"
      ],
      "text/latex": [
       "\\begin{tabular}{r|llll}\n",
       " id & korean & english & mathematics\\\\\n",
       "\\hline\n",
       "\t 11 & 90 & 80 & 70\\\\\n",
       "\t 12 & 90 & 88 & 70\\\\\n",
       "\\end{tabular}\n"
      ],
      "text/markdown": [
       "\n",
       "| id | korean | english | mathematics |\n",
       "|---|---|---|---|\n",
       "| 11 | 90 | 80 | 70 |\n",
       "| 12 | 90 | 88 | 70 |\n",
       "\n"
      ],
      "text/plain": [
       "  id korean english mathematics\n",
       "1 11 90     80      70         \n",
       "2 12 90     88      70         "
      ]
     },
     "metadata": {},
     "output_type": "display_data"
    }
   ],
   "source": [
    "data2 <- read.csv(\"./Data/score2.csv\",header = F)\n",
    "colnames(data2) <- c('id','korean','english','mathematics')\n",
    "data2"
   ]
  },
  {
   "cell_type": "code",
   "execution_count": 53,
   "id": "81dae229",
   "metadata": {},
   "outputs": [
    {
     "data": {
      "text/html": [
       "TRUE"
      ],
      "text/latex": [
       "TRUE"
      ],
      "text/markdown": [
       "TRUE"
      ],
      "text/plain": [
       "[1] TRUE"
      ]
     },
     "metadata": {},
     "output_type": "display_data"
    }
   ],
   "source": [
    "dbWriteTable(conn,\"score\",data2,overwrite=F,row.names=F,append=T)"
   ]
  },
  {
   "cell_type": "code",
   "execution_count": 54,
   "id": "49501136",
   "metadata": {},
   "outputs": [
    {
     "data": {
      "text/html": [
       "<table>\n",
       "<thead><tr><th scope=col>id</th><th scope=col>korean</th><th scope=col>english</th><th scope=col>mathematics</th></tr></thead>\n",
       "<tbody>\n",
       "\t<tr><td> 1 </td><td> 90</td><td> 80</td><td> 70</td></tr>\n",
       "\t<tr><td> 2 </td><td> 90</td><td> 88</td><td> 70</td></tr>\n",
       "\t<tr><td> 3 </td><td> 90</td><td> 89</td><td> 70</td></tr>\n",
       "\t<tr><td> 4 </td><td> 90</td><td> 87</td><td> 70</td></tr>\n",
       "\t<tr><td> 5 </td><td> 90</td><td> 60</td><td> 70</td></tr>\n",
       "\t<tr><td> 6 </td><td>100</td><td>100</td><td>100</td></tr>\n",
       "\t<tr><td> 7 </td><td>100</td><td>100</td><td>100</td></tr>\n",
       "\t<tr><td> 8 </td><td>100</td><td>100</td><td>100</td></tr>\n",
       "\t<tr><td> 9 </td><td>100</td><td>100</td><td>100</td></tr>\n",
       "\t<tr><td>10 </td><td>100</td><td>100</td><td>100</td></tr>\n",
       "\t<tr><td>11 </td><td> 90</td><td> 80</td><td> 70</td></tr>\n",
       "\t<tr><td>12 </td><td> 90</td><td> 88</td><td> 70</td></tr>\n",
       "</tbody>\n",
       "</table>\n"
      ],
      "text/latex": [
       "\\begin{tabular}{r|llll}\n",
       " id & korean & english & mathematics\\\\\n",
       "\\hline\n",
       "\t  1  &  90 &  80 &  70\\\\\n",
       "\t  2  &  90 &  88 &  70\\\\\n",
       "\t  3  &  90 &  89 &  70\\\\\n",
       "\t  4  &  90 &  87 &  70\\\\\n",
       "\t  5  &  90 &  60 &  70\\\\\n",
       "\t  6  & 100 & 100 & 100\\\\\n",
       "\t  7  & 100 & 100 & 100\\\\\n",
       "\t  8  & 100 & 100 & 100\\\\\n",
       "\t  9  & 100 & 100 & 100\\\\\n",
       "\t 10  & 100 & 100 & 100\\\\\n",
       "\t 11  &  90 &  80 &  70\\\\\n",
       "\t 12  &  90 &  88 &  70\\\\\n",
       "\\end{tabular}\n"
      ],
      "text/markdown": [
       "\n",
       "| id | korean | english | mathematics |\n",
       "|---|---|---|---|\n",
       "|  1  |  90 |  80 |  70 |\n",
       "|  2  |  90 |  88 |  70 |\n",
       "|  3  |  90 |  89 |  70 |\n",
       "|  4  |  90 |  87 |  70 |\n",
       "|  5  |  90 |  60 |  70 |\n",
       "|  6  | 100 | 100 | 100 |\n",
       "|  7  | 100 | 100 | 100 |\n",
       "|  8  | 100 | 100 | 100 |\n",
       "|  9  | 100 | 100 | 100 |\n",
       "| 10  | 100 | 100 | 100 |\n",
       "| 11  |  90 |  80 |  70 |\n",
       "| 12  |  90 |  88 |  70 |\n",
       "\n"
      ],
      "text/plain": [
       "   id korean english mathematics\n",
       "1   1  90     80      70        \n",
       "2   2  90     88      70        \n",
       "3   3  90     89      70        \n",
       "4   4  90     87      70        \n",
       "5   5  90     60      70        \n",
       "6   6 100    100     100        \n",
       "7   7 100    100     100        \n",
       "8   8 100    100     100        \n",
       "9   9 100    100     100        \n",
       "10 10 100    100     100        \n",
       "11 11  90     80      70        \n",
       "12 12  90     88      70        "
      ]
     },
     "metadata": {},
     "output_type": "display_data"
    }
   ],
   "source": [
    "result = dbGetQuery(conn,'select * from score')\n",
    "result"
   ]
  },
  {
   "cell_type": "code",
   "execution_count": 55,
   "id": "8b15a816",
   "metadata": {},
   "outputs": [
    {
     "data": {
      "text/html": [
       "TRUE"
      ],
      "text/latex": [
       "TRUE"
      ],
      "text/markdown": [
       "TRUE"
      ],
      "text/plain": [
       "[1] TRUE"
      ]
     },
     "metadata": {},
     "output_type": "display_data"
    }
   ],
   "source": [
    "# Disconnect\n",
    "\n",
    "dbDisconnect(conn)"
   ]
  },
  {
   "cell_type": "code",
   "execution_count": null,
   "id": "bab68d9f",
   "metadata": {},
   "outputs": [],
   "source": []
  },
  {
   "cell_type": "code",
   "execution_count": null,
   "id": "ed4a4b91",
   "metadata": {},
   "outputs": [],
   "source": []
  }
 ],
 "metadata": {
  "kernelspec": {
   "display_name": "R",
   "language": "R",
   "name": "ir"
  },
  "language_info": {
   "codemirror_mode": "r",
   "file_extension": ".r",
   "mimetype": "text/x-r-source",
   "name": "R",
   "pygments_lexer": "r",
   "version": "3.6.1"
  }
 },
 "nbformat": 4,
 "nbformat_minor": 5
}
