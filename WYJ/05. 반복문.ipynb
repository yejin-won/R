{
 "cells": [
  {
   "cell_type": "markdown",
   "id": "566b2bbf",
   "metadata": {},
   "source": [
    "### for문"
   ]
  },
  {
   "cell_type": "code",
   "execution_count": 1,
   "id": "670eee36",
   "metadata": {},
   "outputs": [
    {
     "name": "stdout",
     "output_type": "stream",
     "text": [
      "[1] 1\n",
      "[1] 2\n",
      "[1] 3\n",
      "[1] 4\n",
      "[1] 5\n",
      "[1] 6\n",
      "[1] 7\n",
      "[1] 8\n",
      "[1] 9\n",
      "[1] 10\n"
     ]
    }
   ],
   "source": [
    "# 1~10까지의 숫자출력\n",
    "\n",
    "for(i in 1:10){\n",
    "    print(i)\n",
    "}"
   ]
  },
  {
   "cell_type": "code",
   "execution_count": 2,
   "id": "69f76984",
   "metadata": {},
   "outputs": [
    {
     "name": "stdout",
     "output_type": "stream",
     "text": [
      "[1] 1\n",
      "[1] 3\n",
      "[1] 5\n"
     ]
    }
   ],
   "source": [
    "for(i in c(1,3,5)){\n",
    "    print(i)\n",
    "}"
   ]
  },
  {
   "cell_type": "code",
   "execution_count": 3,
   "id": "5dca1b29",
   "metadata": {},
   "outputs": [
    {
     "name": "stdout",
     "output_type": "stream",
     "text": [
      "[1] 1\n",
      "[1] 3\n",
      "[1] 5\n",
      "[1] 7\n",
      "[1] 9\n"
     ]
    }
   ],
   "source": [
    "for(i in seq(1,10,2)){\n",
    "    print(i)\n",
    "}"
   ]
  },
  {
   "cell_type": "code",
   "execution_count": 4,
   "id": "2c7d1db4",
   "metadata": {},
   "outputs": [
    {
     "name": "stdout",
     "output_type": "stream",
     "text": [
      "[1] 1\n",
      "[1] 1.414214\n",
      "[1] 1.732051\n"
     ]
    }
   ],
   "source": [
    "# 1~10까지의 제곱근 후가기\n",
    "\n",
    "print(sqrt(1))\n",
    "print(sqrt(2))\n",
    "print(sqrt(3))"
   ]
  },
  {
   "cell_type": "code",
   "execution_count": 5,
   "id": "06c416ee",
   "metadata": {},
   "outputs": [
    {
     "name": "stdout",
     "output_type": "stream",
     "text": [
      "[1] 1\n",
      "[1] 1.414214\n",
      "[1] 1.732051\n",
      "[1] 2\n",
      "[1] 2.236068\n",
      "[1] 2.44949\n",
      "[1] 2.645751\n",
      "[1] 2.828427\n",
      "[1] 3\n",
      "[1] 3.162278\n"
     ]
    }
   ],
   "source": [
    "for(i in 1:10){\n",
    "    print(sqrt(i))\n",
    "}\n",
    "    "
   ]
  },
  {
   "cell_type": "code",
   "execution_count": 6,
   "id": "4927b7f7",
   "metadata": {},
   "outputs": [
    {
     "name": "stdout",
     "output_type": "stream",
     "text": [
      "1 => 1 \n",
      "2 => 1.4142135623731 \n",
      "3 => 1.73205080756888 \n",
      "4 => 2 \n",
      "5 => 2.23606797749979 \n",
      "6 => 2.44948974278318 \n",
      "7 => 2.64575131106459 \n",
      "8 => 2.82842712474619 \n",
      "9 => 3 \n",
      "10 => 3.16227766016838 \n"
     ]
    }
   ],
   "source": [
    "for(i in 1:10){\n",
    "    cat(i, \"=>\",paste(sqrt(i)),\"\\n\")\n",
    "}\n",
    "    "
   ]
  },
  {
   "cell_type": "code",
   "execution_count": 7,
   "id": "70af1f45",
   "metadata": {},
   "outputs": [
    {
     "name": "stdout",
     "output_type": "stream",
     "text": [
      "홀수의 합은 604 이고 짝수의 합은 852 입니다."
     ]
    }
   ],
   "source": [
    "# excel에서 q3 컬럼 데이터의 홀수의 합과 짝수의 합 구하기\n",
    "\n",
    "excel <- read.csv(\"./Data/excel.csv\")\n",
    "# 홀수의 합은 604이고 짝수의 합은 852입니다.\n",
    "\n",
    "sumEven <- 0; sumOdd <- 0\n",
    "\n",
    "for(i in excel$q3){\n",
    "   if(i %% 2 == 0){\n",
    "       sumEven= sumEven + i\n",
    "   }else{\n",
    "       sumOdd = sumOdd + i\n",
    "   }\n",
    "}\n",
    "cat(\"홀수의 합은\",sumOdd,\"이고 짝수의 합은\",sumEven,\"입니다.\")"
   ]
  },
  {
   "cell_type": "code",
   "execution_count": 8,
   "id": "6d4d3c4a",
   "metadata": {},
   "outputs": [
    {
     "name": "stdout",
     "output_type": "stream",
     "text": [
      "3의 배수의 합은 216 입니다."
     ]
    }
   ],
   "source": [
    "# excel에서 q3 컬럼 데이터 중 3의배수의 합계 구하기\n",
    "\n",
    "sum = 0\n",
    "\n",
    "for(i in excel$q3){\n",
    "    if(i %% 3 == 0){\n",
    "        sum = sum+i\n",
    "    }\n",
    "}\n",
    "cat(\"3의 배수의 합은\",sum,\"입니다.\")"
   ]
  },
  {
   "cell_type": "code",
   "execution_count": 9,
   "id": "4ddc6adb",
   "metadata": {},
   "outputs": [
    {
     "name": "stdout",
     "output_type": "stream",
     "text": [
      "3의 배수도 되고, 4의 배수도 되는 수들의 합은 0 입니다."
     ]
    }
   ],
   "source": [
    "# excel에서 q3 컬럼 데이터중 3의 배수도 되고, 4의 배수도 되는 수의 합계를 구하시오.\n",
    "\n",
    "sum1 =0\n",
    "\n",
    "for(i in excel$q3){\n",
    "    if((i %% 3 == 0) & (i %% 4 ==0)){\n",
    "        sum1 = sum1 + i\n",
    "    }\n",
    "}\n",
    "cat(\"3의 배수도 되고, 4의 배수도 되는 수들의 합은\",sum1,\"입니다.\")"
   ]
  },
  {
   "cell_type": "code",
   "execution_count": 10,
   "id": "5193d60d",
   "metadata": {},
   "outputs": [
    {
     "name": "stdout",
     "output_type": "stream",
     "text": [
      "2  X  1  =  2 \n",
      "2  X  2  =  4 \n",
      "2  X  3  =  6 \n",
      "2  X  4  =  8 \n",
      "2  X  5  =  10 \n",
      "2  X  6  =  12 \n",
      "2  X  7  =  14 \n",
      "2  X  8  =  16 \n",
      "2  X  9  =  18 \n"
     ]
    }
   ],
   "source": [
    "# 구구단 2단 출력하기\n",
    "\n",
    "for(i in 2){\n",
    "    for(j in 1:9){\n",
    "        cat(i,\" X \",j,\" = \",(i*j),\"\\n\")\n",
    "    }\n",
    "} "
   ]
  },
  {
   "cell_type": "code",
   "execution_count": 11,
   "id": "853a8cc9",
   "metadata": {},
   "outputs": [
    {
     "name": "stdout",
     "output_type": "stream",
     "text": [
      "단을 입력하세요! 5\n",
      "5  X  1  =  5 \n",
      "5  X  2  =  10 \n",
      "5  X  3  =  15 \n",
      "5  X  4  =  20 \n",
      "5  X  5  =  25 \n",
      "5  X  6  =  30 \n",
      "5  X  7  =  35 \n",
      "5  X  8  =  40 \n",
      "5  X  9  =  45 \n"
     ]
    }
   ],
   "source": [
    "# 사용자로부터 몇 단을 출력할지 단수를 입력받아 구구단 출력하기\n",
    "\n",
    "dan <- as.integer(readline(\"단을 입력하세요! \"))\n",
    "for(i in 1:9){\n",
    "    cat(dan,\" X \",i,\" = \",(dan*i),\"\\n\")\n",
    "}"
   ]
  },
  {
   "cell_type": "code",
   "execution_count": 12,
   "id": "5cdc3576",
   "metadata": {},
   "outputs": [],
   "source": [
    "# 구구단 함수 만들기 - 1\n",
    "\n",
    "gugu <- function(){\n",
    "    dan <- as.integer(readline(\"단을 입력하세요! \"))\n",
    "    for(i in 1:9){\n",
    "    cat(dan,\" X \",i,\" = \",(dan*i),\"\\n\")\n",
    "    }\n",
    "}    "
   ]
  },
  {
   "cell_type": "code",
   "execution_count": 13,
   "id": "f6aa0aeb",
   "metadata": {},
   "outputs": [
    {
     "name": "stdout",
     "output_type": "stream",
     "text": [
      "단을 입력하세요! 5\n",
      "5  X  1  =  5 \n",
      "5  X  2  =  10 \n",
      "5  X  3  =  15 \n",
      "5  X  4  =  20 \n",
      "5  X  5  =  25 \n",
      "5  X  6  =  30 \n",
      "5  X  7  =  35 \n",
      "5  X  8  =  40 \n",
      "5  X  9  =  45 \n"
     ]
    }
   ],
   "source": [
    "gugu()"
   ]
  },
  {
   "cell_type": "code",
   "execution_count": 14,
   "id": "c831828d",
   "metadata": {},
   "outputs": [],
   "source": [
    "# 구구단 함수 만들기 - 2\n",
    "\n",
    "gugu <- function(x){\n",
    "    for(i in 1:9){\n",
    "        cat(x,\"X\",i,\"=\",(x*i),\"\\n\")\n",
    "    }\n",
    "}"
   ]
  },
  {
   "cell_type": "code",
   "execution_count": 15,
   "id": "8321b2df",
   "metadata": {},
   "outputs": [
    {
     "name": "stdout",
     "output_type": "stream",
     "text": [
      "5 X 1 = 5 \n",
      "5 X 2 = 10 \n",
      "5 X 3 = 15 \n",
      "5 X 4 = 20 \n",
      "5 X 5 = 25 \n",
      "5 X 6 = 30 \n",
      "5 X 7 = 35 \n",
      "5 X 8 = 40 \n",
      "5 X 9 = 45 \n"
     ]
    }
   ],
   "source": [
    "gugu(5)"
   ]
  },
  {
   "cell_type": "code",
   "execution_count": 16,
   "id": "fe13f8dd",
   "metadata": {},
   "outputs": [],
   "source": [
    "# 구구단 함수 만들기 - 3\n",
    "\n",
    "gugu <- function(x,y){\n",
    "    for(i in 1:y){\n",
    "        cat(x,\"X\",i,\"=\",x*i,\"\\n\")\n",
    "    }\n",
    "}"
   ]
  },
  {
   "cell_type": "code",
   "execution_count": 17,
   "id": "e2397bc0",
   "metadata": {},
   "outputs": [
    {
     "name": "stdout",
     "output_type": "stream",
     "text": [
      "2 X 1 = 2 \n",
      "2 X 2 = 4 \n",
      "2 X 3 = 6 \n",
      "2 X 4 = 8 \n",
      "2 X 5 = 10 \n",
      "2 X 6 = 12 \n",
      "2 X 7 = 14 \n",
      "2 X 8 = 16 \n",
      "2 X 9 = 18 \n",
      "2 X 10 = 20 \n",
      "2 X 11 = 22 \n",
      "2 X 12 = 24 \n"
     ]
    }
   ],
   "source": [
    "gugu(2,12)"
   ]
  },
  {
   "cell_type": "code",
   "execution_count": 18,
   "id": "5fa6ae20",
   "metadata": {},
   "outputs": [
    {
     "name": "stdout",
     "output_type": "stream",
     "text": [
      "2  X  1  =  2 \n",
      "2  X  2  =  4 \n",
      "2  X  3  =  6 \n",
      "2  X  4  =  8 \n",
      "2  X  5  =  10 \n",
      "2  X  6  =  12 \n",
      "2  X  7  =  14 \n",
      "2  X  8  =  16 \n",
      "2  X  9  =  18 \n",
      "---------------------\n",
      "3  X  1  =  3 \n",
      "3  X  2  =  6 \n",
      "3  X  3  =  9 \n",
      "3  X  4  =  12 \n",
      "3  X  5  =  15 \n",
      "3  X  6  =  18 \n",
      "3  X  7  =  21 \n",
      "3  X  8  =  24 \n",
      "3  X  9  =  27 \n",
      "---------------------\n",
      "4  X  1  =  4 \n",
      "4  X  2  =  8 \n",
      "4  X  3  =  12 \n",
      "4  X  4  =  16 \n",
      "4  X  5  =  20 \n",
      "4  X  6  =  24 \n",
      "4  X  7  =  28 \n",
      "4  X  8  =  32 \n",
      "4  X  9  =  36 \n",
      "---------------------\n",
      "5  X  1  =  5 \n",
      "5  X  2  =  10 \n",
      "5  X  3  =  15 \n",
      "5  X  4  =  20 \n",
      "5  X  5  =  25 \n",
      "5  X  6  =  30 \n",
      "5  X  7  =  35 \n",
      "5  X  8  =  40 \n",
      "5  X  9  =  45 \n",
      "---------------------\n",
      "6  X  1  =  6 \n",
      "6  X  2  =  12 \n",
      "6  X  3  =  18 \n",
      "6  X  4  =  24 \n",
      "6  X  5  =  30 \n",
      "6  X  6  =  36 \n",
      "6  X  7  =  42 \n",
      "6  X  8  =  48 \n",
      "6  X  9  =  54 \n",
      "---------------------\n",
      "7  X  1  =  7 \n",
      "7  X  2  =  14 \n",
      "7  X  3  =  21 \n",
      "7  X  4  =  28 \n",
      "7  X  5  =  35 \n",
      "7  X  6  =  42 \n",
      "7  X  7  =  49 \n",
      "7  X  8  =  56 \n",
      "7  X  9  =  63 \n",
      "---------------------\n",
      "8  X  1  =  8 \n",
      "8  X  2  =  16 \n",
      "8  X  3  =  24 \n",
      "8  X  4  =  32 \n",
      "8  X  5  =  40 \n",
      "8  X  6  =  48 \n",
      "8  X  7  =  56 \n",
      "8  X  8  =  64 \n",
      "8  X  9  =  72 \n",
      "---------------------\n",
      "9  X  1  =  9 \n",
      "9  X  2  =  18 \n",
      "9  X  3  =  27 \n",
      "9  X  4  =  36 \n",
      "9  X  5  =  45 \n",
      "9  X  6  =  54 \n",
      "9  X  7  =  63 \n",
      "9  X  8  =  72 \n",
      "9  X  9  =  81 \n",
      "---------------------\n"
     ]
    }
   ],
   "source": [
    "# 구구단 전체 출력하기\n",
    "\n",
    "for(i in 2:9){\n",
    "    for(j in 1:9){\n",
    "        cat(i,\" X \",j,\" = \",i*j,\"\\n\")\n",
    "    }\n",
    "    cat(\"---------------------\\n\")\n",
    "}"
   ]
  },
  {
   "cell_type": "code",
   "execution_count": 19,
   "id": "a3fa4ca2",
   "metadata": {},
   "outputs": [
    {
     "name": "stdout",
     "output_type": "stream",
     "text": [
      "2  X  2  =  4 \n",
      "2  X  4  =  8 \n",
      "2  X  6  =  12 \n",
      "2  X  8  =  16 \n",
      "---------------------\n",
      "4  X  2  =  8 \n",
      "4  X  4  =  16 \n",
      "4  X  6  =  24 \n",
      "4  X  8  =  32 \n",
      "---------------------\n",
      "6  X  2  =  12 \n",
      "6  X  4  =  24 \n",
      "6  X  6  =  36 \n",
      "6  X  8  =  48 \n",
      "---------------------\n",
      "8  X  2  =  16 \n",
      "8  X  4  =  32 \n",
      "8  X  6  =  48 \n",
      "8  X  8  =  64 \n",
      "---------------------\n"
     ]
    }
   ],
   "source": [
    "# 구구단 전체 중 짝수데이터로 나온 결과만 출력하기\n",
    "\n",
    "for(i in seq(2,9,2)){\n",
    "    for(j in seq(2,9,2)){\n",
    "            cat(i,\" X \",j,\" = \",i*j,\"\\n\")\n",
    "    }\n",
    "    cat(\"---------------------\\n\")\n",
    "}"
   ]
  },
  {
   "cell_type": "code",
   "execution_count": 28,
   "id": "0871d72e",
   "metadata": {},
   "outputs": [
    {
     "name": "stdout",
     "output_type": "stream",
     "text": [
      "유비 : 85 \n",
      "관우 : 95 \n",
      "장비 : 89 \n"
     ]
    }
   ],
   "source": [
    "# 2개의 벡터 자료를 함께 출력하기\n",
    "\n",
    "score <- c(85,95,89)\n",
    "name <- c(\"유비\",\"관우\",\"장비\")\n",
    "\n",
    "a <- paste(name,\":\",score)\n",
    "\n",
    "for(i in 1:3){\n",
    "    cat(a[i],\"\\n\")\n",
    "}\n"
   ]
  },
  {
   "cell_type": "code",
   "execution_count": 21,
   "id": "c73ee572",
   "metadata": {},
   "outputs": [
    {
     "name": "stdout",
     "output_type": "stream",
     "text": [
      "유비 : 85 \n",
      "관우 : 95 \n",
      "장비 : 89 \n"
     ]
    }
   ],
   "source": [
    "# 2개의 벡터 자료를 함께 출력하기\n",
    "\n",
    "score <- c(85,95,89)\n",
    "name <- c(\"유비\",\"관우\",\"장비\")\n",
    "\n",
    "j <- 1\n",
    "for(i in score){\n",
    "  cat(name[j],\":\",i,\"\\n\")\n",
    "  j = j+1\n",
    "}"
   ]
  },
  {
   "cell_type": "code",
   "execution_count": 22,
   "id": "d457ad2f",
   "metadata": {},
   "outputs": [
    {
     "name": "stdout",
     "output_type": "stream",
     "text": [
      "유비 : 85 \n",
      "관우 : 95 \n",
      "장비 : 89 \n"
     ]
    }
   ],
   "source": [
    "cat(paste(name,\":\",score,\"\\n\"),sep=\"\")"
   ]
  },
  {
   "cell_type": "markdown",
   "id": "26d87f1f",
   "metadata": {},
   "source": [
    "# while"
   ]
  },
  {
   "cell_type": "code",
   "execution_count": 23,
   "id": "6442b267",
   "metadata": {},
   "outputs": [
    {
     "name": "stdout",
     "output_type": "stream",
     "text": [
      "[1] 1\n",
      "[1] 2\n",
      "[1] 3\n",
      "[1] 4\n",
      "[1] 5\n",
      "[1] 6\n",
      "[1] 7\n",
      "[1] 8\n",
      "[1] 9\n",
      "[1] 10\n"
     ]
    }
   ],
   "source": [
    "i <- 0\n",
    "while(i<10){\n",
    "    i=i+1\n",
    "    print(i)\n",
    "}"
   ]
  },
  {
   "cell_type": "markdown",
   "id": "c3fd2aa4",
   "metadata": {},
   "source": [
    "### repeat"
   ]
  },
  {
   "cell_type": "code",
   "execution_count": 24,
   "id": "2321e9ec",
   "metadata": {},
   "outputs": [
    {
     "name": "stdout",
     "output_type": "stream",
     "text": [
      "[1] 1\n",
      "[1] 2\n",
      "[1] 3\n",
      "[1] 4\n",
      "[1] 5\n",
      "[1] 6\n",
      "[1] 7\n",
      "[1] 8\n",
      "[1] 9\n",
      "[1] 10\n"
     ]
    }
   ],
   "source": [
    "i <- 0\n",
    "repeat{\n",
    "    i= i + 1\n",
    "    if(i > 10){\n",
    "        break\n",
    "    }\n",
    "    print(i)\n",
    "}"
   ]
  },
  {
   "cell_type": "code",
   "execution_count": null,
   "id": "22f4fcf1",
   "metadata": {},
   "outputs": [],
   "source": []
  },
  {
   "cell_type": "code",
   "execution_count": null,
   "id": "acf276dc",
   "metadata": {},
   "outputs": [],
   "source": []
  },
  {
   "cell_type": "code",
   "execution_count": null,
   "id": "9128bc70",
   "metadata": {},
   "outputs": [],
   "source": []
  },
  {
   "cell_type": "code",
   "execution_count": null,
   "id": "755c4304",
   "metadata": {},
   "outputs": [],
   "source": []
  },
  {
   "cell_type": "code",
   "execution_count": null,
   "id": "700b405b",
   "metadata": {},
   "outputs": [],
   "source": []
  },
  {
   "cell_type": "code",
   "execution_count": null,
   "id": "b768d188",
   "metadata": {},
   "outputs": [],
   "source": []
  },
  {
   "cell_type": "code",
   "execution_count": null,
   "id": "1666dfda",
   "metadata": {},
   "outputs": [],
   "source": []
  }
 ],
 "metadata": {
  "kernelspec": {
   "display_name": "R",
   "language": "R",
   "name": "ir"
  },
  "language_info": {
   "codemirror_mode": "r",
   "file_extension": ".r",
   "mimetype": "text/x-r-source",
   "name": "R",
   "pygments_lexer": "r",
   "version": "3.6.1"
  }
 },
 "nbformat": 4,
 "nbformat_minor": 5
}
