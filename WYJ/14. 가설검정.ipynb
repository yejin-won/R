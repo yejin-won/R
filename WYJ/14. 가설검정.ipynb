{
 "cells": [
  {
   "cell_type": "markdown",
   "id": "4d42ec00",
   "metadata": {},
   "source": [
    "# 가설검정 : 내가 생각한 시나리오를 테스트하는 것\n",
    "\n",
    "# 카이제곱 검정(데이터 많을 때 사용)\n",
    ": 두 범주형 변수가 서로 상관이 있는지 판단하는 통계적 검정 방법.\n",
    "예) 학력, 성별, 직업의 만족도\n",
    "\n",
    "### 아동별 장난감 보유 현황\n",
    "- 귀무가설 : child1과 child2dml 장난감 보유수에 대한 만족도는 차이가 없다. \n",
    "- 대립가설 : child1과 child2dml 장난감 보유수에 대한 만족도는 차이가 있다."
   ]
  },
  {
   "cell_type": "code",
   "execution_count": 1,
   "id": "8500b616",
   "metadata": {},
   "outputs": [],
   "source": [
    "# child별 장난감 보유 현황\n",
    "\n",
    "child1 <- c(5,11,1)\n",
    "child2 <- c(4,7,3)"
   ]
  },
  {
   "cell_type": "code",
   "execution_count": 2,
   "id": "2bfe043d",
   "metadata": {},
   "outputs": [
    {
     "data": {
      "text/html": [
       "<table>\n",
       "<thead><tr><th scope=col>child1</th><th scope=col>child2</th></tr></thead>\n",
       "<tbody>\n",
       "\t<tr><td> 5</td><td>4 </td></tr>\n",
       "\t<tr><td>11</td><td>7 </td></tr>\n",
       "\t<tr><td> 1</td><td>3 </td></tr>\n",
       "</tbody>\n",
       "</table>\n"
      ],
      "text/latex": [
       "\\begin{tabular}{ll}\n",
       " child1 & child2\\\\\n",
       "\\hline\n",
       "\t  5 & 4 \\\\\n",
       "\t 11 & 7 \\\\\n",
       "\t  1 & 3 \\\\\n",
       "\\end{tabular}\n"
      ],
      "text/markdown": [
       "\n",
       "| child1 | child2 |\n",
       "|---|---|\n",
       "|  5 | 4  |\n",
       "| 11 | 7  |\n",
       "|  1 | 3  |\n",
       "\n"
      ],
      "text/plain": [
       "     child1 child2\n",
       "[1,]  5     4     \n",
       "[2,] 11     7     \n",
       "[3,]  1     3     "
      ]
     },
     "metadata": {},
     "output_type": "display_data"
    }
   ],
   "source": [
    "# 분석을 위해 데이터 합치기\n",
    "\n",
    "Toy <- cbind(child1,child2)\n",
    "Toy"
   ]
  },
  {
   "cell_type": "code",
   "execution_count": 3,
   "id": "aa04b1ab",
   "metadata": {},
   "outputs": [
    {
     "data": {
      "text/html": [
       "<table>\n",
       "<thead><tr><th></th><th scope=col>child1</th><th scope=col>child2</th></tr></thead>\n",
       "<tbody>\n",
       "\t<tr><th scope=row>car</th><td> 5</td><td>4 </td></tr>\n",
       "\t<tr><th scope=row>truck</th><td>11</td><td>7 </td></tr>\n",
       "\t<tr><th scope=row>doll</th><td> 1</td><td>3 </td></tr>\n",
       "</tbody>\n",
       "</table>\n"
      ],
      "text/latex": [
       "\\begin{tabular}{r|ll}\n",
       "  & child1 & child2\\\\\n",
       "\\hline\n",
       "\tcar &  5 & 4 \\\\\n",
       "\ttruck & 11 & 7 \\\\\n",
       "\tdoll &  1 & 3 \\\\\n",
       "\\end{tabular}\n"
      ],
      "text/markdown": [
       "\n",
       "| <!--/--> | child1 | child2 |\n",
       "|---|---|---|\n",
       "| car |  5 | 4  |\n",
       "| truck | 11 | 7  |\n",
       "| doll |  1 | 3  |\n",
       "\n"
      ],
      "text/plain": [
       "      child1 child2\n",
       "car    5     4     \n",
       "truck 11     7     \n",
       "doll   1     3     "
      ]
     },
     "metadata": {},
     "output_type": "display_data"
    }
   ],
   "source": [
    "# 장난감 종류\n",
    "rownames(Toy) <- c(\"car\",\"truck\",\"doll\")\n",
    "Toy"
   ]
  },
  {
   "cell_type": "code",
   "execution_count": 4,
   "id": "2620f4b1",
   "metadata": {},
   "outputs": [
    {
     "name": "stderr",
     "output_type": "stream",
     "text": [
      "Warning message in chisq.test(Toy):\n",
      "“Chi-squared approximation may be incorrect”"
     ]
    },
    {
     "data": {
      "text/plain": [
       "\n",
       "\tPearson's Chi-squared test\n",
       "\n",
       "data:  Toy\n",
       "X-squared = 1.7258, df = 2, p-value = 0.4219\n"
      ]
     },
     "metadata": {},
     "output_type": "display_data"
    }
   ],
   "source": [
    "# 카이제곱 검정 실시\n",
    "\n",
    "chisq.test(Toy) "
   ]
  },
  {
   "cell_type": "markdown",
   "id": "1c285023",
   "metadata": {},
   "source": [
    "### 결론\n",
    "\n",
    "p-value = 0.4219 >0.05(95% 신뢰구간) -> 귀무가설 채택\n",
    ">child1과 child2의 데이터는 통계적으로 큰 차이가 없다.   \n",
    "p-values는 0 에 가까울수록 좋다. 미리 정해진 유의수준(일반적으로 0.05)보다 작으면 대립가설을 채택하고 유의수준보다 크면 귀무가설을 채택"
   ]
  },
  {
   "cell_type": "code",
   "execution_count": 5,
   "id": "6368d089",
   "metadata": {},
   "outputs": [
    {
     "data": {
      "text/html": [
       "0.986241382612456"
      ],
      "text/latex": [
       "0.986241382612456"
      ],
      "text/markdown": [
       "0.986241382612456"
      ],
      "text/plain": [
       "[1] 0.9862414"
      ]
     },
     "metadata": {},
     "output_type": "display_data"
    }
   ],
   "source": [
    "cor(child1,child2)"
   ]
  },
  {
   "cell_type": "markdown",
   "id": "3e0ff18b",
   "metadata": {},
   "source": [
    "### 메세지 : 카이제곱의 근사값이 정확하지 않을수도 있다.\n",
    "- 데이터량이 적은 경우 발생"
   ]
  },
  {
   "cell_type": "markdown",
   "id": "5da44113",
   "metadata": {},
   "source": [
    "### 피셔검정 (데이터 적을 때 사용)"
   ]
  },
  {
   "cell_type": "code",
   "execution_count": 6,
   "id": "ad8c3f1d",
   "metadata": {},
   "outputs": [
    {
     "data": {
      "text/plain": [
       "\n",
       "\tFisher's Exact Test for Count Data\n",
       "\n",
       "data:  Toy\n",
       "p-value = 0.5165\n",
       "alternative hypothesis: two.sided\n"
      ]
     },
     "metadata": {},
     "output_type": "display_data"
    }
   ],
   "source": [
    "fisher.test(Toy)"
   ]
  },
  {
   "cell_type": "markdown",
   "id": "e928a35e",
   "metadata": {},
   "source": [
    "p-value = 0.5165 > 0.05 ---> 귀무가설"
   ]
  },
  {
   "cell_type": "markdown",
   "id": "52054613",
   "metadata": {},
   "source": [
    "---\n",
    "## t-검정\n"
   ]
  },
  {
   "cell_type": "code",
   "execution_count": 7,
   "id": "03f0a4c2",
   "metadata": {},
   "outputs": [],
   "source": [
    "# 귀무가설 : 건전지의 수명은 1000시간이다.\n",
    "# 대립가설 : 건전지의 수명은 1000시간이 아니다. "
   ]
  },
  {
   "cell_type": "code",
   "execution_count": 8,
   "id": "8e0ffbf4",
   "metadata": {},
   "outputs": [],
   "source": [
    "bat <- c(980,1008,968,1032,1012,1002,996,1017)"
   ]
  },
  {
   "cell_type": "code",
   "execution_count": 9,
   "id": "b63a27c0",
   "metadata": {},
   "outputs": [],
   "source": [
    "# 데이터의 분포가 정규분포인지 확인 --->Shapiro-Wilk 검정을 실시\n",
    "# 귀무가설 : 자료가 정규분포를 따른다.\n",
    "# 대립가설 : 자료가 정규분포를 따르지 않는다."
   ]
  },
  {
   "cell_type": "code",
   "execution_count": 10,
   "id": "ca46dbe3",
   "metadata": {},
   "outputs": [
    {
     "data": {
      "text/plain": [
       "\n",
       "\tShapiro-Wilk normality test\n",
       "\n",
       "data:  bat\n",
       "W = 0.97706, p-value = 0.9469\n"
      ]
     },
     "metadata": {},
     "output_type": "display_data"
    }
   ],
   "source": [
    "shapiro.test(bat)"
   ]
  },
  {
   "cell_type": "markdown",
   "id": "0680cbb4",
   "metadata": {},
   "source": [
    "p-value = 0.9469 > 0.05 ---> 귀무가설 ... 데이터는 정규분포를 이룬다"
   ]
  },
  {
   "cell_type": "code",
   "execution_count": 11,
   "id": "cfd77765",
   "metadata": {},
   "outputs": [
    {
     "data": {
      "text/plain": [
       "\n",
       "\tOne Sample t-test\n",
       "\n",
       "data:  bat\n",
       "t = 0.25891, df = 7, p-value = 0.8032\n",
       "alternative hypothesis: true mean is not equal to 1000\n",
       "95 percent confidence interval:\n",
       "  984.7508 1018.9992\n",
       "sample estimates:\n",
       "mean of x \n",
       " 1001.875 \n"
      ]
     },
     "metadata": {},
     "output_type": "display_data"
    }
   ],
   "source": [
    "# t-검정 실시\n",
    "t.test(bat,mu=1000,alternative = \"two.sided\")\n",
    "\n",
    "# mu : 비교하는 대상의 평균\n",
    "# alternative \n",
    "# - two.sided : 데이터가 평균과 다르다\n",
    "# - greater : 데이터가 평균보다 크다\n",
    "# - less : 데이터가 평균보다 적다"
   ]
  },
  {
   "cell_type": "markdown",
   "id": "3bc78ba2",
   "metadata": {},
   "source": [
    "p-value = 0.8032 > 0.05 ---> 귀무가설 : 건전지의 수명은 1000시간이다"
   ]
  },
  {
   "cell_type": "markdown",
   "id": "08251869",
   "metadata": {},
   "source": [
    "---"
   ]
  },
  {
   "cell_type": "code",
   "execution_count": 16,
   "id": "a8d0eff2",
   "metadata": {},
   "outputs": [
    {
     "data": {
      "text/html": [
       "<table>\n",
       "<thead><tr><th scope=col>no</th><th scope=col>score</th></tr></thead>\n",
       "<tbody>\n",
       "\t<tr><td>1 </td><td>58</td></tr>\n",
       "\t<tr><td>2 </td><td>49</td></tr>\n",
       "\t<tr><td>3 </td><td>39</td></tr>\n",
       "\t<tr><td>4 </td><td>99</td></tr>\n",
       "\t<tr><td>5 </td><td>32</td></tr>\n",
       "\t<tr><td>6 </td><td>88</td></tr>\n",
       "</tbody>\n",
       "</table>\n"
      ],
      "text/latex": [
       "\\begin{tabular}{r|ll}\n",
       " no & score\\\\\n",
       "\\hline\n",
       "\t 1  & 58\\\\\n",
       "\t 2  & 49\\\\\n",
       "\t 3  & 39\\\\\n",
       "\t 4  & 99\\\\\n",
       "\t 5  & 32\\\\\n",
       "\t 6  & 88\\\\\n",
       "\\end{tabular}\n"
      ],
      "text/markdown": [
       "\n",
       "| no | score |\n",
       "|---|---|\n",
       "| 1  | 58 |\n",
       "| 2  | 49 |\n",
       "| 3  | 39 |\n",
       "| 4  | 99 |\n",
       "| 5  | 32 |\n",
       "| 6  | 88 |\n",
       "\n"
      ],
      "text/plain": [
       "  no score\n",
       "1 1  58   \n",
       "2 2  49   \n",
       "3 3  39   \n",
       "4 4  99   \n",
       "5 5  32   \n",
       "6 6  88   "
      ]
     },
     "metadata": {},
     "output_type": "display_data"
    },
    {
     "data": {
      "text/html": [
       "56.1764705882353"
      ],
      "text/latex": [
       "56.1764705882353"
      ],
      "text/markdown": [
       "56.1764705882353"
      ],
      "text/plain": [
       "[1] 56.17647"
      ]
     },
     "metadata": {},
     "output_type": "display_data"
    }
   ],
   "source": [
    "exam <- read.csv(\"./Data/exam.csv\")\n",
    "head(exam)"
   ]
  },
  {
   "cell_type": "code",
   "execution_count": 19,
   "id": "1acd6618",
   "metadata": {},
   "outputs": [
    {
     "data": {
      "text/plain": [
       "\n",
       "\tShapiro-Wilk normality test\n",
       "\n",
       "data:  exam$score\n",
       "W = 0.91143, p-value = 0.1058\n"
      ]
     },
     "metadata": {},
     "output_type": "display_data"
    }
   ],
   "source": [
    "# 어떤 학급의 수학 점수 평균 : 55점\n",
    "# 0교시 수업을 한 후에 학생들의 성적이 올랐을까?\n",
    "# 귀무가설 : 성적이 오르지 않았다.\n",
    "# 대립가설 : 성적이 올랐다.\n",
    "\n",
    "# 정규 분포 확인\n",
    "shapiro.test(exam$score)"
   ]
  },
  {
   "cell_type": "markdown",
   "id": "42f2c6ab",
   "metadata": {},
   "source": [
    "p-value = 0.1058 > 0.05 ---> 정규분포"
   ]
  },
  {
   "cell_type": "code",
   "execution_count": 21,
   "id": "0eb045cb",
   "metadata": {},
   "outputs": [
    {
     "data": {
      "text/plain": [
       "   Min. 1st Qu.  Median    Mean 3rd Qu.    Max. \n",
       "  30.00   42.00   55.00   56.18   62.00   99.00 "
      ]
     },
     "metadata": {},
     "output_type": "display_data"
    }
   ],
   "source": [
    "summary(exam$score)"
   ]
  },
  {
   "cell_type": "code",
   "execution_count": 22,
   "id": "03d845de",
   "metadata": {},
   "outputs": [
    {
     "data": {
      "text/plain": [
       "\n",
       "\tOne Sample t-test\n",
       "\n",
       "data:  exam$score\n",
       "t = 0.24546, df = 16, p-value = 0.4046\n",
       "alternative hypothesis: true mean is greater than 55\n",
       "95 percent confidence interval:\n",
       " 47.80855      Inf\n",
       "sample estimates:\n",
       "mean of x \n",
       " 56.17647 \n"
      ]
     },
     "metadata": {},
     "output_type": "display_data"
    }
   ],
   "source": [
    "t.test(exam$score,mu=55,alternative = \"greater\")"
   ]
  },
  {
   "cell_type": "markdown",
   "id": "919467f7",
   "metadata": {},
   "source": [
    "p-value = 0.4046 > 0.05 --> 귀무가설 ---> 성적이 오르지 않았다"
   ]
  },
  {
   "cell_type": "code",
   "execution_count": 23,
   "id": "20657b44",
   "metadata": {},
   "outputs": [
    {
     "data": {
      "image/png": "[encoded data removed]",
      "text/plain": [
       "plot without title"
      ]
     },
     "metadata": {},
     "output_type": "display_data"
    }
   ],
   "source": [
    "boxplot(exam$score)"
   ]
  },
  {
   "cell_type": "markdown",
   "id": "1f82c19b",
   "metadata": {},
   "source": [
    "---"
   ]
  },
  {
   "cell_type": "code",
   "execution_count": 24,
   "id": "b90d6c72",
   "metadata": {},
   "outputs": [],
   "source": [
    "# 표본이 2개인 t검정\n",
    "# 신약개발했는데 복용 전후 차이가 있는지 분석하기\n",
    "# 귀무가설 : 복용 전후의 차이가 없다.\n",
    "# 대립가설 : 복용 전후의 차이가 있다."
   ]
  },
  {
   "cell_type": "code",
   "execution_count": 25,
   "id": "2adfb254",
   "metadata": {},
   "outputs": [],
   "source": [
    "preMedicine <- read.csv(\"./Data/preMedicine.csv\")\n",
    "postMedicine <- read.csv(\"./Data/postMedicine.csv\")"
   ]
  },
  {
   "cell_type": "code",
   "execution_count": 26,
   "id": "b50b5973",
   "metadata": {},
   "outputs": [],
   "source": [
    "pre <- preMedicine$data\n",
    "post <- postMedicine$data"
   ]
  },
  {
   "cell_type": "code",
   "execution_count": 27,
   "id": "8e15f052",
   "metadata": {},
   "outputs": [
    {
     "data": {
      "text/plain": [
       "\n",
       "\tWelch Two Sample t-test\n",
       "\n",
       "data:  pre and post\n",
       "t = -0.36891, df = 17.987, p-value = 0.7165\n",
       "alternative hypothesis: true difference in means is not equal to 0\n",
       "95 percent confidence interval:\n",
       " -2.745046  1.925046\n",
       "sample estimates:\n",
       "mean of x mean of y \n",
       "    10.63     11.04 \n"
      ]
     },
     "metadata": {},
     "output_type": "display_data"
    }
   ],
   "source": [
    "t.test(pre,post,alternative = \"two.sided\")"
   ]
  },
  {
   "cell_type": "code",
   "execution_count": null,
   "id": "4f9b53b6",
   "metadata": {},
   "outputs": [],
   "source": [
    "p-value = 0.7165 > 0.05 ---> 귀무가설 : 약효가 없다\n",
    "# 통계로 쓰이는 데이터는 절대로 순서를 바꾸면 안됨\n",
    "# 평균을 보면 복용 전후 평균값이 증가하여 약효가 있는 것처럼 보이지만\n",
    "# t-검정에 의한 p-value를 보면 약효가 없는걸 알수있음"
   ]
  },
  {
   "cell_type": "markdown",
   "id": "1f814c42",
   "metadata": {},
   "source": [
    "---\n",
    "# 상관계수"
   ]
  },
  {
   "cell_type": "code",
   "execution_count": 30,
   "id": "f571d8f6",
   "metadata": {},
   "outputs": [
    {
     "data": {
      "text/html": [
       "0.835657838081095"
      ],
      "text/latex": [
       "0.835657838081095"
      ],
      "text/markdown": [
       "0.835657838081095"
      ],
      "text/plain": [
       "[1] 0.8356578"
      ]
     },
     "metadata": {},
     "output_type": "display_data"
    }
   ],
   "source": [
    "y <- c(1,2,3,4)\n",
    "z <- c(0,7,5,9)\n",
    "\n",
    "cor(y,z)"
   ]
  },
  {
   "cell_type": "code",
   "execution_count": 31,
   "id": "3cd1dfaa",
   "metadata": {},
   "outputs": [
    {
     "data": {
      "text/html": [
       "0.835657838081095"
      ],
      "text/latex": [
       "0.835657838081095"
      ],
      "text/markdown": [
       "0.835657838081095"
      ],
      "text/plain": [
       "[1] 0.8356578"
      ]
     },
     "metadata": {},
     "output_type": "display_data"
    }
   ],
   "source": [
    "# 피어슨 상관계수\n",
    "# cor() method의 기본설정\n",
    "\n",
    "cor(y,z,method = \"pearson\")"
   ]
  },
  {
   "cell_type": "code",
   "execution_count": 32,
   "id": "4a0cc78a",
   "metadata": {},
   "outputs": [
    {
     "data": {
      "text/html": [
       "0.8"
      ],
      "text/latex": [
       "0.8"
      ],
      "text/markdown": [
       "0.8"
      ],
      "text/plain": [
       "[1] 0.8"
      ]
     },
     "metadata": {},
     "output_type": "display_data"
    }
   ],
   "source": [
    "# 스피어맨 상관계수\n",
    "# 데이터가 5개를 넘지않을 경우, spearman으로 하는게 맞음\n",
    "\n",
    "cor(y,z,method = \"spearman\")"
   ]
  },
  {
   "cell_type": "markdown",
   "id": "fa38c11b",
   "metadata": {},
   "source": [
    "---"
   ]
  },
  {
   "cell_type": "markdown",
   "id": "6b26ef41",
   "metadata": {},
   "source": [
    " ## 콜모고로프-스미노프 검정(KS Test)\n",
    ": 주어진 2개의 데이터가 같은 분포를 이루는지 검정하는 것."
   ]
  },
  {
   "cell_type": "code",
   "execution_count": 35,
   "id": "3544a8ba",
   "metadata": {},
   "outputs": [],
   "source": [
    "# 귀무가설 :두개의 데이터의 분포가 다르다\n",
    "# 대립가설 : 두개의 데이터의 분포가 같다"
   ]
  },
  {
   "cell_type": "code",
   "execution_count": 36,
   "id": "b8eaea0b",
   "metadata": {},
   "outputs": [
    {
     "data": {
      "text/plain": [
       "\n",
       "\tTwo-sample Kolmogorov-Smirnov test\n",
       "\n",
       "data:  x and y\n",
       "D = 0.52, p-value = 1.581e-06\n",
       "alternative hypothesis: two-sided\n"
      ]
     },
     "metadata": {},
     "output_type": "display_data"
    }
   ],
   "source": [
    "x <- rnorm(50) # rnorm() 정규분포 만드는 함수\n",
    "y <- runif(50)\n",
    "\n",
    "ks.test(x,y)"
   ]
  },
  {
   "cell_type": "markdown",
   "id": "d8f31d3a",
   "metadata": {},
   "source": [
    "p-value = 1.581e-06 < 0.05 ---> 대립가설"
   ]
  },
  {
   "cell_type": "markdown",
   "id": "e34da582",
   "metadata": {},
   "source": [
    "---"
   ]
  },
  {
   "cell_type": "markdown",
   "id": "1af33120",
   "metadata": {},
   "source": [
    "## 부호검정\n",
    ": 2개의 데이터 사이에 차이가 있는지 검정하는것"
   ]
  },
  {
   "cell_type": "code",
   "execution_count": 40,
   "id": "3dbf971c",
   "metadata": {},
   "outputs": [],
   "source": [
    "# 식사 전과 식사 후의 음료수 맛에 대한 평가\n",
    "\n",
    "x <- c(4,1,1,4,3,3,2,5,3,3) # 식사 전의 음료수 맛에 대한 평가점수\n",
    "y <- c(1,1,3,2,5,1,4,4,3,1) # 식사 후의 음료수 맛에 대한 평가점수"
   ]
  },
  {
   "cell_type": "code",
   "execution_count": 41,
   "id": "fe9f6aa9",
   "metadata": {},
   "outputs": [],
   "source": [
    "# 귀무가설 :유의한 차이가 없다.\n",
    "# 대립가설 :유의한 차이가 있다."
   ]
  },
  {
   "cell_type": "code",
   "execution_count": 46,
   "id": "4c1e0fa4",
   "metadata": {},
   "outputs": [
    {
     "data": {
      "text/plain": [
       "\n",
       "\tExact binomial test\n",
       "\n",
       "data:  c(length(x[x > y]), length(x[x < y]))\n",
       "number of successes = 5, number of trials = 8, p-value = 0.7266\n",
       "alternative hypothesis: true probability of success is not equal to 0.5\n",
       "95 percent confidence interval:\n",
       " 0.2448632 0.9147666\n",
       "sample estimates:\n",
       "probability of success \n",
       "                 0.625 \n"
      ]
     },
     "metadata": {},
     "output_type": "display_data"
    }
   ],
   "source": [
    "binom.test(c(length(x[x>y]),length(x[x<y])))"
   ]
  },
  {
   "cell_type": "markdown",
   "id": "e0fdefc2",
   "metadata": {},
   "source": [
    "p-value = 0.7266 > 0.05 ---> 귀무가설"
   ]
  },
  {
   "cell_type": "markdown",
   "id": "9700660f",
   "metadata": {},
   "source": [
    "---\n",
    "## 비율 검정\n",
    ": 2개의 데이터 사이에 비율이 차이가 있는지에 대한 것을 검정"
   ]
  },
  {
   "cell_type": "code",
   "execution_count": 48,
   "id": "a4570245",
   "metadata": {},
   "outputs": [
    {
     "data": {
      "text/plain": [
       "\n",
       "\t2-sample test for equality of proportions with continuity correction\n",
       "\n",
       "data:  hite out of sample\n",
       "X-squared = 43.515, df = 1, p-value = 4.207e-11\n",
       "alternative hypothesis: two.sided\n",
       "95 percent confidence interval:\n",
       " 0.14523 0.29477\n",
       "sample estimates:\n",
       "prop 1 prop 2 \n",
       "  0.90   0.68 \n"
      ]
     },
     "metadata": {},
     "output_type": "display_data"
    }
   ],
   "source": [
    "# 맥주를 좋아하시나요? 라는 질문에 서울에서는 400명 중 360명, 부산에서는 200명 중 136명이 좋아한다고 답했다며\n",
    "# 둘의 비율 차이가 있다고 할 수 있는가?\n",
    "\n",
    "# 귀무가설 : 유의한 차이가 없다.\n",
    "# 대립가설 : 유의한 차이가 있다.\n",
    "\n",
    "hite <- c(360,136)\n",
    "sample <- c(400,200)\n",
    "\n",
    "prop.test(hite,sample)"
   ]
  },
  {
   "cell_type": "markdown",
   "id": "0995f491",
   "metadata": {},
   "source": [
    "p-value = 4.207e-11 < 0.05 ---> 대립가설 : 유의한 차이가 있다. *p-value : 유의수준"
   ]
  },
  {
   "cell_type": "code",
   "execution_count": null,
   "id": "888d9179",
   "metadata": {},
   "outputs": [],
   "source": []
  },
  {
   "cell_type": "code",
   "execution_count": null,
   "id": "83adf22a",
   "metadata": {},
   "outputs": [],
   "source": []
  },
  {
   "cell_type": "code",
   "execution_count": null,
   "id": "475bd90f",
   "metadata": {},
   "outputs": [],
   "source": []
  },
  {
   "cell_type": "code",
   "execution_count": null,
   "id": "9609c39f",
   "metadata": {},
   "outputs": [],
   "source": []
  },
  {
   "cell_type": "code",
   "execution_count": null,
   "id": "6018965d",
   "metadata": {},
   "outputs": [],
   "source": []
  },
  {
   "cell_type": "code",
   "execution_count": null,
   "id": "aaeca892",
   "metadata": {},
   "outputs": [],
   "source": []
  },
  {
   "cell_type": "code",
   "execution_count": null,
   "id": "6accfec8",
   "metadata": {},
   "outputs": [],
   "source": []
  },
  {
   "cell_type": "code",
   "execution_count": null,
   "id": "f5b93e07",
   "metadata": {},
   "outputs": [],
   "source": []
  }
 ],
 "metadata": {
  "kernelspec": {
   "display_name": "R",
   "language": "R",
   "name": "ir"
  },
  "language_info": {
   "codemirror_mode": "r",
   "file_extension": ".r",
   "mimetype": "text/x-r-source",
   "name": "R",
   "pygments_lexer": "r",
   "version": "3.6.1"
  }
 },
 "nbformat": 4,
 "nbformat_minor": 5
}
