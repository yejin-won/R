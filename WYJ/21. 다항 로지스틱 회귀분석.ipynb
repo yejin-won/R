{
 "cells": [
  {
   "cell_type": "code",
   "execution_count": 1,
   "id": "12544ec4",
   "metadata": {},
   "outputs": [
    {
     "name": "stderr",
     "output_type": "stream",
     "text": [
      "Loading required package: lattice\n",
      "Loading required package: ggplot2\n",
      "Registered S3 methods overwritten by 'ggplot2':\n",
      "  method         from \n",
      "  [.quosures     rlang\n",
      "  c.quosures     rlang\n",
      "  print.quosures rlang\n"
     ]
    }
   ],
   "source": [
    "set.seed(1234)\n",
    "library(caret)\n",
    "# Sampling, 학습용, 검증용 만들기(표준화 X)\n",
    "\n",
    "samp <- createDataPartition(iris$Species,p=0.7,list=F)\n",
    "data.tr <- iris[samp,]\n",
    "data.test<- iris[-samp,]"
   ]
  },
  {
   "cell_type": "code",
   "execution_count": 2,
   "id": "0a986fa7",
   "metadata": {},
   "outputs": [],
   "source": [
    "set.seed(1234)\n",
    "library(caret)\n",
    "\n",
    "# 표준화하기 \n",
    "\n",
    "iris.sc <- as.data.frame(scale(iris[,1:4]))\n",
    "iris.sc$Species <- iris$Species\n",
    "\n",
    "# Sampling, 학습용, 검증용 만들기(표준화 O)\n",
    "\n",
    "#set.seed(1234)\n",
    "samp1 <- createDataPartition(iris.sc$Species, p=0.7, list=F)\n",
    "data.tr1 <- iris.sc[samp1,]\n",
    "data.test1 <- iris.sc[-samp1,]"
   ]
  },
  {
   "cell_type": "code",
   "execution_count": 3,
   "id": "643041f4",
   "metadata": {},
   "outputs": [],
   "source": [
    "# 문제와 정답만들기 (표준화 X)\n",
    "\n",
    "x <- subset(data.test,select=-Species)\n",
    "y <- data.test$Species"
   ]
  },
  {
   "cell_type": "code",
   "execution_count": 4,
   "id": "9249da3a",
   "metadata": {},
   "outputs": [],
   "source": [
    "# 문제와 정답만들기 (표준화 O)\n",
    "\n",
    "x1 <- subset(data.test1,select=-Species)\n",
    "y1 <- data.test1$Species"
   ]
  },
  {
   "cell_type": "code",
   "execution_count": 5,
   "id": "d27878b6",
   "metadata": {},
   "outputs": [],
   "source": [
    "library(nnet)"
   ]
  },
  {
   "cell_type": "code",
   "execution_count": 6,
   "id": "a362235c",
   "metadata": {},
   "outputs": [
    {
     "name": "stdout",
     "output_type": "stream",
     "text": [
      "# weights:  18 (10 variable)\n",
      "initial  value 115.354290 \n",
      "iter  10 value 10.451001\n",
      "iter  20 value 0.395906\n",
      "iter  30 value 0.063643\n",
      "iter  40 value 0.032814\n",
      "iter  50 value 0.023376\n",
      "iter  60 value 0.021200\n",
      "iter  70 value 0.019040\n",
      "iter  80 value 0.017101\n",
      "iter  90 value 0.012218\n",
      "iter 100 value 0.011383\n",
      "final  value 0.011383 \n",
      "stopped after 100 iterations\n"
     ]
    }
   ],
   "source": [
    "# 모델 만들어 학습시키기 (표준화 X)\n",
    "\n",
    "model <- multinom(Species~.,data=data.tr)"
   ]
  },
  {
   "cell_type": "code",
   "execution_count": 7,
   "id": "408421de",
   "metadata": {},
   "outputs": [
    {
     "name": "stdout",
     "output_type": "stream",
     "text": [
      "# weights:  18 (10 variable)\n",
      "initial  value 115.354290 \n",
      "iter  10 value 7.556637\n",
      "iter  20 value 0.042347\n",
      "iter  30 value 0.009210\n",
      "iter  40 value 0.006761\n",
      "iter  50 value 0.003904\n",
      "iter  60 value 0.003512\n",
      "iter  70 value 0.003095\n",
      "iter  80 value 0.002826\n",
      "iter  90 value 0.002781\n",
      "iter 100 value 0.002705\n",
      "final  value 0.002705 \n",
      "stopped after 100 iterations\n"
     ]
    }
   ],
   "source": [
    "# 모델 만들어 학습시키기 (표준화 O)\n",
    "\n",
    "model1 <- multinom(Species~.,data=data.tr1)"
   ]
  },
  {
   "cell_type": "code",
   "execution_count": 8,
   "id": "b37279dc",
   "metadata": {},
   "outputs": [],
   "source": [
    "# 검증하기 (표준화 X)\n",
    "\n",
    "pred <- predict(model,x)"
   ]
  },
  {
   "cell_type": "code",
   "execution_count": 9,
   "id": "116b700c",
   "metadata": {},
   "outputs": [],
   "source": [
    "# 검증하기 (표준화 O)\n",
    "\n",
    "pred1 <- predict(model1,x1)"
   ]
  },
  {
   "cell_type": "code",
   "execution_count": 10,
   "id": "25df209d",
   "metadata": {},
   "outputs": [
    {
     "data": {
      "text/html": [
       "0.933333333333333"
      ],
      "text/latex": [
       "0.933333333333333"
      ],
      "text/markdown": [
       "0.933333333333333"
      ],
      "text/plain": [
       "[1] 0.9333333"
      ]
     },
     "metadata": {},
     "output_type": "display_data"
    }
   ],
   "source": [
    "# 예측률과 오분류표 (표준화 X)\n",
    "\n",
    "mean(pred == y)"
   ]
  },
  {
   "cell_type": "code",
   "execution_count": 11,
   "id": "c17be448",
   "metadata": {},
   "outputs": [
    {
     "data": {
      "text/html": [
       "0.933333333333333"
      ],
      "text/latex": [
       "0.933333333333333"
      ],
      "text/markdown": [
       "0.933333333333333"
      ],
      "text/plain": [
       "[1] 0.9333333"
      ]
     },
     "metadata": {},
     "output_type": "display_data"
    }
   ],
   "source": [
    "# 예측률과 오분류표 (표준화 O)\n",
    "\n",
    "mean(pred1 == y1)"
   ]
  },
  {
   "cell_type": "code",
   "execution_count": null,
   "id": "6618fd2e",
   "metadata": {},
   "outputs": [],
   "source": []
  },
  {
   "cell_type": "code",
   "execution_count": null,
   "id": "76d8ba69",
   "metadata": {},
   "outputs": [],
   "source": []
  },
  {
   "cell_type": "code",
   "execution_count": null,
   "id": "a4b7a17a",
   "metadata": {},
   "outputs": [],
   "source": []
  },
  {
   "cell_type": "code",
   "execution_count": null,
   "id": "82d4de6b",
   "metadata": {},
   "outputs": [],
   "source": []
  }
 ],
 "metadata": {
  "kernelspec": {
   "display_name": "R",
   "language": "R",
   "name": "ir"
  },
  "language_info": {
   "codemirror_mode": "r",
   "file_extension": ".r",
   "mimetype": "text/x-r-source",
   "name": "R",
   "pygments_lexer": "r",
   "version": "3.6.1"
  }
 },
 "nbformat": 4,
 "nbformat_minor": 5
}
